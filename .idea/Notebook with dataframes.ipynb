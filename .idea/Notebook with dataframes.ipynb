{
 "cells": [
  {
   "cell_type": "code",
   "execution_count": 176,
   "metadata": {},
   "outputs": [
    {
     "name": "stdout",
     "output_type": "stream",
     "text": [
      "Collecting dash\n",
      "  Downloading dash-1.9.0.tar.gz (64 kB)\n",
      "Collecting dash-renderer\n",
      "  Downloading dash_renderer-1.2.4.tar.gz (1.1 MB)\n",
      "Collecting dash-html-components\n",
      "  Downloading dash_html_components-1.0.2.tar.gz (187 kB)\n",
      "Collecting dash-core-components\n",
      "  Downloading dash_core_components-1.8.0.tar.gz (3.3 MB)\n",
      "Collecting plotly\n",
      "  Downloading plotly-4.5.2-py2.py3-none-any.whl (7.1 MB)\n",
      "Collecting Flask>=1.0.2\n",
      "  Downloading Flask-1.1.1-py2.py3-none-any.whl (94 kB)\n",
      "Collecting flask-compress\n",
      "  Downloading Flask-Compress-1.4.0.tar.gz (6.0 kB)\n",
      "Collecting dash-table==4.6.0\n",
      "  Downloading dash_table-4.6.0.tar.gz (1.8 MB)\n",
      "Collecting future\n",
      "  Downloading future-0.18.2.tar.gz (829 kB)\n",
      "Collecting retrying>=1.3.3\n",
      "  Downloading retrying-1.3.3.tar.gz (10 kB)\n",
      "Requirement already satisfied: six in c:\\users\\trive\\appdata\\local\\conda\\conda\\envs\\tensorflowenv\\lib\\site-packages (from plotly) (1.14.0)\n",
      "Requirement already satisfied: Werkzeug>=0.15 in c:\\users\\trive\\appdata\\local\\conda\\conda\\envs\\tensorflowenv\\lib\\site-packages (from Flask>=1.0.2->dash) (0.16.1)\n",
      "Requirement already satisfied: Jinja2>=2.10.1 in c:\\users\\trive\\appdata\\local\\conda\\conda\\envs\\tensorflowenv\\lib\\site-packages (from Flask>=1.0.2->dash) (2.11.1)\n",
      "Requirement already satisfied: click>=5.1 in c:\\users\\trive\\appdata\\local\\conda\\conda\\envs\\tensorflowenv\\lib\\site-packages (from Flask>=1.0.2->dash) (7.0)\n",
      "Collecting itsdangerous>=0.24\n",
      "  Downloading itsdangerous-1.1.0-py2.py3-none-any.whl (16 kB)\n",
      "Requirement already satisfied: MarkupSafe>=0.23 in c:\\users\\trive\\appdata\\local\\conda\\conda\\envs\\tensorflowenv\\lib\\site-packages (from Jinja2>=2.10.1->Flask>=1.0.2->dash) (1.1.1)\n",
      "Building wheels for collected packages: dash, dash-renderer, dash-html-components, dash-core-components, flask-compress, dash-table, future, retrying\n",
      "  Building wheel for dash (setup.py): started\n",
      "  Building wheel for dash (setup.py): finished with status 'done'\n",
      "  Created wheel for dash: filename=dash-1.9.0-py3-none-any.whl size=71498 sha256=bb6010efe3385bdac3fa9bf33a7aea973778f0d0a8c6a8da7eca567353095e36\n",
      "  Stored in directory: c:\\users\\trive\\appdata\\local\\pip\\cache\\wheels\\39\\23\\57\\e2cbc7df1ebc88f7d856484e67d686e7bb2802f789629e71bf\n",
      "  Building wheel for dash-renderer (setup.py): started\n",
      "  Building wheel for dash-renderer (setup.py): finished with status 'done'\n",
      "  Created wheel for dash-renderer: filename=dash_renderer-1.2.4-py3-none-any.whl size=1146890 sha256=62b15d6ebc3b2aac8a0192dee8508206ae13dfe84695e490a60c0e8d18b8d377\n",
      "  Stored in directory: c:\\users\\trive\\appdata\\local\\pip\\cache\\wheels\\5a\\12\\e8\\9920d4d2ceeb46831c85b42a1ffd58f4ed59e0178bc031e7f0\n",
      "  Building wheel for dash-html-components (setup.py): started\n",
      "  Building wheel for dash-html-components (setup.py): finished with status 'done'\n",
      "  Created wheel for dash-html-components: filename=dash_html_components-1.0.2-py3-none-any.whl size=427909 sha256=decd3dcf76903e153014785479401fc0244cd3caa8e41417288cf9f9635e30ce\n",
      "  Stored in directory: c:\\users\\trive\\appdata\\local\\pip\\cache\\wheels\\a6\\d8\\ef\\32c8d935a11ddd862853d296a0963e7326fa10e7a14fe51343\n",
      "  Building wheel for dash-core-components (setup.py): started\n",
      "  Building wheel for dash-core-components (setup.py): finished with status 'done'\n",
      "  Created wheel for dash-core-components: filename=dash_core_components-1.8.0-py3-none-any.whl size=3395772 sha256=9b12560358038a8d14ffea2cd1ded968392e3e3722e9ddb517e7439e32b89981\n",
      "  Stored in directory: c:\\users\\trive\\appdata\\local\\pip\\cache\\wheels\\66\\b2\\28\\9d63b13e75f25fa3c608df468b2ae69925097fde4b46780cd0\n",
      "  Building wheel for flask-compress (setup.py): started\n",
      "  Building wheel for flask-compress (setup.py): finished with status 'done'\n",
      "  Created wheel for flask-compress: filename=Flask_Compress-1.4.0-py3-none-any.whl size=3716 sha256=ecb428aafdb5961e740ffc020fad842a56f15aaa11fe277a0dcc10c33b17c3b7\n",
      "  Stored in directory: c:\\users\\trive\\appdata\\local\\pip\\cache\\wheels\\1f\\42\\7e\\72241359a71f5f9d4e97f55e6d4ac99939efaec4e1fa7b23b8\n",
      "  Building wheel for dash-table (setup.py): started\n",
      "  Building wheel for dash-table (setup.py): finished with status 'done'\n",
      "  Created wheel for dash-table: filename=dash_table-4.6.0-py3-none-any.whl size=1774483 sha256=9031231f3281f5c325469459f30228a87a0346cf079a922a3ae12b83d4c5061a\n",
      "  Stored in directory: c:\\users\\trive\\appdata\\local\\pip\\cache\\wheels\\ad\\0d\\82\\015c7dcc01512ff5c1e7c54aef5745e362a93434c4a5342d82\n",
      "  Building wheel for future (setup.py): started\n",
      "  Building wheel for future (setup.py): finished with status 'done'\n",
      "  Created wheel for future: filename=future-0.18.2-py3-none-any.whl size=491062 sha256=a2fa3cecaab0320c55200c7b429ce73b7271f5aa40c87dce67d1b7ec41945632\n",
      "  Stored in directory: c:\\users\\trive\\appdata\\local\\pip\\cache\\wheels\\56\\b0\\fe\\4410d17b32f1f0c3cf54cdfb2bc04d7b4b8f4ae377e2229ba0\n",
      "  Building wheel for retrying (setup.py): started\n",
      "  Building wheel for retrying (setup.py): finished with status 'done'\n",
      "  Created wheel for retrying: filename=retrying-1.3.3-py3-none-any.whl size=11435 sha256=b00244a375d48c0adf029ae565b161864a9ea2f166d62016586246421af5923f\n",
      "  Stored in directory: c:\\users\\trive\\appdata\\local\\pip\\cache\\wheels\\f9\\8d\\8d\\f6af3f7f9eea3553bc2fe6d53e4b287dad18b06a861ac56ddf\n",
      "Successfully built dash dash-renderer dash-html-components dash-core-components flask-compress dash-table future retrying\n",
      "Installing collected packages: itsdangerous, Flask, flask-compress, retrying, plotly, dash-renderer, dash-core-components, dash-html-components, dash-table, future, dash\n",
      "Successfully installed Flask-1.1.1 dash-1.9.0 dash-core-components-1.8.0 dash-html-components-1.0.2 dash-renderer-1.2.4 dash-table-4.6.0 flask-compress-1.4.0 future-0.18.2 itsdangerous-1.1.0 plotly-4.5.2 retrying-1.3.3\n"
     ]
    }
   ],
   "source": [
    "!pip install dash dash-renderer dash-html-components dash-core-components plotly"
   ]
  },
  {
   "cell_type": "code",
   "execution_count": 1082,
   "metadata": {},
   "outputs": [
    {
     "name": "stdout",
     "output_type": "stream",
     "text": [
      "Requirement already satisfied: mapbox in c:\\users\\trive\\appdata\\local\\conda\\conda\\envs\\tensorflowenv\\lib\\site-packages (0.18.0)\n",
      "Requirement already satisfied: boto3>=1.4 in c:\\users\\trive\\appdata\\local\\conda\\conda\\envs\\tensorflowenv\\lib\\site-packages (from mapbox) (1.12.11)\n",
      "Requirement already satisfied: requests in c:\\users\\trive\\appdata\\local\\conda\\conda\\envs\\tensorflowenv\\lib\\site-packages (from mapbox) (2.22.0)\n",
      "Requirement already satisfied: iso3166 in c:\\users\\trive\\appdata\\local\\conda\\conda\\envs\\tensorflowenv\\lib\\site-packages (from mapbox) (1.0.1)\n",
      "Requirement already satisfied: uritemplate>=2.0 in c:\\users\\trive\\appdata\\local\\conda\\conda\\envs\\tensorflowenv\\lib\\site-packages (from mapbox) (3.0.1)\n",
      "Requirement already satisfied: polyline>=1.3.1 in c:\\users\\trive\\appdata\\local\\conda\\conda\\envs\\tensorflowenv\\lib\\site-packages (from mapbox) (1.4.0)\n",
      "Requirement already satisfied: cachecontrol in c:\\users\\trive\\appdata\\local\\conda\\conda\\envs\\tensorflowenv\\lib\\site-packages (from mapbox) (0.12.6)\n",
      "Requirement already satisfied: python-dateutil>=2.5.0 in c:\\users\\trive\\appdata\\local\\conda\\conda\\envs\\tensorflowenv\\lib\\site-packages (from mapbox) (2.8.1)\n",
      "Requirement already satisfied: s3transfer<0.4.0,>=0.3.0 in c:\\users\\trive\\appdata\\local\\conda\\conda\\envs\\tensorflowenv\\lib\\site-packages (from boto3>=1.4->mapbox) (0.3.3)\n",
      "Requirement already satisfied: jmespath<1.0.0,>=0.7.1 in c:\\users\\trive\\appdata\\local\\conda\\conda\\envs\\tensorflowenv\\lib\\site-packages (from boto3>=1.4->mapbox) (0.9.5)\n",
      "Requirement already satisfied: botocore<1.16.0,>=1.15.11 in c:\\users\\trive\\appdata\\local\\conda\\conda\\envs\\tensorflowenv\\lib\\site-packages (from boto3>=1.4->mapbox) (1.15.11)\n",
      "Requirement already satisfied: certifi>=2017.4.17 in c:\\users\\trive\\appdata\\local\\conda\\conda\\envs\\tensorflowenv\\lib\\site-packages (from requests->mapbox) (2019.11.28)\n",
      "Requirement already satisfied: urllib3!=1.25.0,!=1.25.1,<1.26,>=1.21.1 in c:\\users\\trive\\appdata\\local\\conda\\conda\\envs\\tensorflowenv\\lib\\site-packages (from requests->mapbox) (1.25.8)\n",
      "Requirement already satisfied: chardet<3.1.0,>=3.0.2 in c:\\users\\trive\\appdata\\local\\conda\\conda\\envs\\tensorflowenv\\lib\\site-packages (from requests->mapbox) (3.0.4)\n",
      "Requirement already satisfied: idna<2.9,>=2.5 in c:\\users\\trive\\appdata\\local\\conda\\conda\\envs\\tensorflowenv\\lib\\site-packages (from requests->mapbox) (2.8)\n",
      "Requirement already satisfied: six>=1.8.0 in c:\\users\\trive\\appdata\\local\\conda\\conda\\envs\\tensorflowenv\\lib\\site-packages (from polyline>=1.3.1->mapbox) (1.14.0)\n",
      "Requirement already satisfied: msgpack>=0.5.2 in c:\\users\\trive\\appdata\\local\\conda\\conda\\envs\\tensorflowenv\\lib\\site-packages (from cachecontrol->mapbox) (1.0.0)\n",
      "Requirement already satisfied: docutils<0.16,>=0.10 in c:\\users\\trive\\appdata\\local\\conda\\conda\\envs\\tensorflowenv\\lib\\site-packages (from botocore<1.16.0,>=1.15.11->boto3>=1.4->mapbox) (0.15.2)\n"
     ]
    }
   ],
   "source": [
    "!pip install mapbox"
   ]
  },
  {
   "cell_type": "code",
   "execution_count": 69,
   "metadata": {
    "scrolled": false
   },
   "outputs": [
    {
     "name": "stdout",
     "output_type": "stream",
     "text": [
      "Requirement already satisfied: bokeh in c:\\users\\trive\\appdata\\local\\conda\\conda\\envs\\tensorflowenv\\lib\\site-packages (1.4.0)\n",
      "Requirement already satisfied: PyYAML>=3.10 in c:\\users\\trive\\appdata\\local\\conda\\conda\\envs\\tensorflowenv\\lib\\site-packages (from bokeh) (5.3)\n",
      "Requirement already satisfied: Jinja2>=2.7 in c:\\users\\trive\\appdata\\local\\conda\\conda\\envs\\tensorflowenv\\lib\\site-packages (from bokeh) (2.11.1)\n",
      "Requirement already satisfied: pillow>=4.0 in c:\\users\\trive\\appdata\\local\\conda\\conda\\envs\\tensorflowenv\\lib\\site-packages (from bokeh) (7.0.0)\n",
      "Requirement already satisfied: tornado>=4.3 in c:\\users\\trive\\appdata\\local\\conda\\conda\\envs\\tensorflowenv\\lib\\site-packages (from bokeh) (6.0.3)\n",
      "Requirement already satisfied: packaging>=16.8 in c:\\users\\trive\\appdata\\local\\conda\\conda\\envs\\tensorflowenv\\lib\\site-packages (from bokeh) (20.1)\n",
      "Requirement already satisfied: six>=1.5.2 in c:\\users\\trive\\appdata\\local\\conda\\conda\\envs\\tensorflowenv\\lib\\site-packages (from bokeh) (1.14.0)\n",
      "Requirement already satisfied: python-dateutil>=2.1 in c:\\users\\trive\\appdata\\local\\conda\\conda\\envs\\tensorflowenv\\lib\\site-packages (from bokeh) (2.8.1)\n",
      "Requirement already satisfied: numpy>=1.7.1 in c:\\users\\trive\\appdata\\local\\conda\\conda\\envs\\tensorflowenv\\lib\\site-packages (from bokeh) (1.18.1)\n",
      "Requirement already satisfied: MarkupSafe>=0.23 in c:\\users\\trive\\appdata\\local\\conda\\conda\\envs\\tensorflowenv\\lib\\site-packages (from Jinja2>=2.7->bokeh) (1.1.1)\n",
      "Requirement already satisfied: pyparsing>=2.0.2 in c:\\users\\trive\\appdata\\local\\conda\\conda\\envs\\tensorflowenv\\lib\\site-packages (from packaging>=16.8->bokeh) (2.4.6)\n"
     ]
    }
   ],
   "source": [
    "!pip install bokeh\n",
    "import pandas as pd\n",
    "import numpy as np\n",
    "import matplotlib.pyplot as plt"
   ]
  },
  {
   "cell_type": "code",
   "execution_count": 874,
   "metadata": {},
   "outputs": [],
   "source": [
    "import dash \n",
    "import dash_core_components as dcc\n",
    "import dash_html_components as html\n",
    "\n",
    "\n"
   ]
  },
  {
   "cell_type": "code",
   "execution_count": 956,
   "metadata": {
    "scrolled": true
   },
   "outputs": [
    {
     "data": {
      "text/html": [
       "<div>\n",
       "<style scoped>\n",
       "    .dataframe tbody tr th:only-of-type {\n",
       "        vertical-align: middle;\n",
       "    }\n",
       "\n",
       "    .dataframe tbody tr th {\n",
       "        vertical-align: top;\n",
       "    }\n",
       "\n",
       "    .dataframe thead th {\n",
       "        text-align: right;\n",
       "    }\n",
       "</style>\n",
       "<table border=\"1\" class=\"dataframe\">\n",
       "  <thead>\n",
       "    <tr style=\"text-align: right;\">\n",
       "      <th></th>\n",
       "      <th>Province/State</th>\n",
       "      <th>Country/Region</th>\n",
       "      <th>Last Update</th>\n",
       "      <th>Confirmed</th>\n",
       "      <th>Deaths</th>\n",
       "      <th>Recovered</th>\n",
       "    </tr>\n",
       "  </thead>\n",
       "  <tbody>\n",
       "    <tr>\n",
       "      <th>0</th>\n",
       "      <td>Hubei</td>\n",
       "      <td>Mainland China</td>\n",
       "      <td>2020-02-29T12:13:10</td>\n",
       "      <td>66337</td>\n",
       "      <td>2727</td>\n",
       "      <td>28993</td>\n",
       "    </tr>\n",
       "    <tr>\n",
       "      <th>1</th>\n",
       "      <td>NaN</td>\n",
       "      <td>South Korea</td>\n",
       "      <td>2020-02-29T18:13:07</td>\n",
       "      <td>3150</td>\n",
       "      <td>16</td>\n",
       "      <td>27</td>\n",
       "    </tr>\n",
       "    <tr>\n",
       "      <th>2</th>\n",
       "      <td>Guangdong</td>\n",
       "      <td>Mainland China</td>\n",
       "      <td>2020-02-29T15:33:03</td>\n",
       "      <td>1349</td>\n",
       "      <td>7</td>\n",
       "      <td>983</td>\n",
       "    </tr>\n",
       "    <tr>\n",
       "      <th>3</th>\n",
       "      <td>Henan</td>\n",
       "      <td>Mainland China</td>\n",
       "      <td>2020-02-29T12:43:05</td>\n",
       "      <td>1272</td>\n",
       "      <td>21</td>\n",
       "      <td>1170</td>\n",
       "    </tr>\n",
       "    <tr>\n",
       "      <th>4</th>\n",
       "      <td>Zhejiang</td>\n",
       "      <td>Mainland China</td>\n",
       "      <td>2020-02-29T09:13:10</td>\n",
       "      <td>1205</td>\n",
       "      <td>1</td>\n",
       "      <td>1016</td>\n",
       "    </tr>\n",
       "  </tbody>\n",
       "</table>\n",
       "</div>"
      ],
      "text/plain": [
       "  Province/State  Country/Region          Last Update  Confirmed  Deaths  \\\n",
       "0          Hubei  Mainland China  2020-02-29T12:13:10      66337    2727   \n",
       "1            NaN     South Korea  2020-02-29T18:13:07       3150      16   \n",
       "2      Guangdong  Mainland China  2020-02-29T15:33:03       1349       7   \n",
       "3          Henan  Mainland China  2020-02-29T12:43:05       1272      21   \n",
       "4       Zhejiang  Mainland China  2020-02-29T09:13:10       1205       1   \n",
       "\n",
       "   Recovered  \n",
       "0      28993  \n",
       "1         27  \n",
       "2        983  \n",
       "3       1170  \n",
       "4       1016  "
      ]
     },
     "execution_count": 956,
     "metadata": {},
     "output_type": "execute_result"
    }
   ],
   "source": [
    "url='https://raw.githubusercontent.com/CSSEGISandData/COVID-19/master/csse_covid_19_data/csse_covid_19_daily_reports/02-29-2020.csv'\n",
    "daily_df=pd.read_csv(url)\n",
    "daily_df.head()\n"
   ]
  },
  {
   "cell_type": "code",
   "execution_count": 957,
   "metadata": {},
   "outputs": [
    {
     "data": {
      "text/html": [
       "<div>\n",
       "<style scoped>\n",
       "    .dataframe tbody tr th:only-of-type {\n",
       "        vertical-align: middle;\n",
       "    }\n",
       "\n",
       "    .dataframe tbody tr th {\n",
       "        vertical-align: top;\n",
       "    }\n",
       "\n",
       "    .dataframe thead th {\n",
       "        text-align: right;\n",
       "    }\n",
       "</style>\n",
       "<table border=\"1\" class=\"dataframe\">\n",
       "  <thead>\n",
       "    <tr style=\"text-align: right;\">\n",
       "      <th></th>\n",
       "      <th>Country/Region</th>\n",
       "      <th>Confirmed</th>\n",
       "      <th>Deaths</th>\n",
       "      <th>Recovered</th>\n",
       "    </tr>\n",
       "  </thead>\n",
       "  <tbody>\n",
       "    <tr>\n",
       "      <th>0</th>\n",
       "      <td>Mainland China</td>\n",
       "      <td>66337</td>\n",
       "      <td>2727</td>\n",
       "      <td>28993</td>\n",
       "    </tr>\n",
       "    <tr>\n",
       "      <th>1</th>\n",
       "      <td>South Korea</td>\n",
       "      <td>3150</td>\n",
       "      <td>16</td>\n",
       "      <td>27</td>\n",
       "    </tr>\n",
       "    <tr>\n",
       "      <th>2</th>\n",
       "      <td>Mainland China</td>\n",
       "      <td>1349</td>\n",
       "      <td>7</td>\n",
       "      <td>983</td>\n",
       "    </tr>\n",
       "    <tr>\n",
       "      <th>3</th>\n",
       "      <td>Mainland China</td>\n",
       "      <td>1272</td>\n",
       "      <td>21</td>\n",
       "      <td>1170</td>\n",
       "    </tr>\n",
       "    <tr>\n",
       "      <th>4</th>\n",
       "      <td>Mainland China</td>\n",
       "      <td>1205</td>\n",
       "      <td>1</td>\n",
       "      <td>1016</td>\n",
       "    </tr>\n",
       "    <tr>\n",
       "      <th>...</th>\n",
       "      <td>...</td>\n",
       "      <td>...</td>\n",
       "      <td>...</td>\n",
       "      <td>...</td>\n",
       "    </tr>\n",
       "    <tr>\n",
       "      <th>114</th>\n",
       "      <td>US</td>\n",
       "      <td>1</td>\n",
       "      <td>0</td>\n",
       "      <td>1</td>\n",
       "    </tr>\n",
       "    <tr>\n",
       "      <th>115</th>\n",
       "      <td>Australia</td>\n",
       "      <td>0</td>\n",
       "      <td>0</td>\n",
       "      <td>0</td>\n",
       "    </tr>\n",
       "    <tr>\n",
       "      <th>116</th>\n",
       "      <td>US</td>\n",
       "      <td>0</td>\n",
       "      <td>0</td>\n",
       "      <td>0</td>\n",
       "    </tr>\n",
       "    <tr>\n",
       "      <th>117</th>\n",
       "      <td>US</td>\n",
       "      <td>0</td>\n",
       "      <td>0</td>\n",
       "      <td>0</td>\n",
       "    </tr>\n",
       "    <tr>\n",
       "      <th>118</th>\n",
       "      <td>US</td>\n",
       "      <td>0</td>\n",
       "      <td>0</td>\n",
       "      <td>0</td>\n",
       "    </tr>\n",
       "  </tbody>\n",
       "</table>\n",
       "<p>119 rows × 4 columns</p>\n",
       "</div>"
      ],
      "text/plain": [
       "     Country/Region  Confirmed  Deaths  Recovered\n",
       "0    Mainland China      66337    2727      28993\n",
       "1       South Korea       3150      16         27\n",
       "2    Mainland China       1349       7        983\n",
       "3    Mainland China       1272      21       1170\n",
       "4    Mainland China       1205       1       1016\n",
       "..              ...        ...     ...        ...\n",
       "114              US          1       0          1\n",
       "115       Australia          0       0          0\n",
       "116              US          0       0          0\n",
       "117              US          0       0          0\n",
       "118              US          0       0          0\n",
       "\n",
       "[119 rows x 4 columns]"
      ]
     },
     "execution_count": 957,
     "metadata": {},
     "output_type": "execute_result"
    }
   ],
   "source": [
    "new_daily_df=daily_df.drop([\"Province/State\",\"Last Update\"], axis=1)\n",
    "new_daily_df"
   ]
  },
  {
   "cell_type": "code",
   "execution_count": 958,
   "metadata": {},
   "outputs": [
    {
     "data": {
      "text/html": [
       "<div>\n",
       "<style scoped>\n",
       "    .dataframe tbody tr th:only-of-type {\n",
       "        vertical-align: middle;\n",
       "    }\n",
       "\n",
       "    .dataframe tbody tr th {\n",
       "        vertical-align: top;\n",
       "    }\n",
       "\n",
       "    .dataframe thead th {\n",
       "        text-align: right;\n",
       "    }\n",
       "</style>\n",
       "<table border=\"1\" class=\"dataframe\">\n",
       "  <thead>\n",
       "    <tr style=\"text-align: right;\">\n",
       "      <th></th>\n",
       "      <th>Confirmed</th>\n",
       "      <th>Deaths</th>\n",
       "      <th>Recovered</th>\n",
       "    </tr>\n",
       "    <tr>\n",
       "      <th>Country/Region</th>\n",
       "      <th></th>\n",
       "      <th></th>\n",
       "      <th></th>\n",
       "    </tr>\n",
       "  </thead>\n",
       "  <tbody>\n",
       "    <tr>\n",
       "      <th>Afghanistan</th>\n",
       "      <td>1</td>\n",
       "      <td>0</td>\n",
       "      <td>0</td>\n",
       "    </tr>\n",
       "    <tr>\n",
       "      <th>Algeria</th>\n",
       "      <td>1</td>\n",
       "      <td>0</td>\n",
       "      <td>0</td>\n",
       "    </tr>\n",
       "    <tr>\n",
       "      <th>Australia</th>\n",
       "      <td>22</td>\n",
       "      <td>0</td>\n",
       "      <td>11</td>\n",
       "    </tr>\n",
       "    <tr>\n",
       "      <th>Austria</th>\n",
       "      <td>2</td>\n",
       "      <td>0</td>\n",
       "      <td>0</td>\n",
       "    </tr>\n",
       "    <tr>\n",
       "      <th>Bahrain</th>\n",
       "      <td>33</td>\n",
       "      <td>0</td>\n",
       "      <td>0</td>\n",
       "    </tr>\n",
       "    <tr>\n",
       "      <th>Belgium</th>\n",
       "      <td>1</td>\n",
       "      <td>0</td>\n",
       "      <td>1</td>\n",
       "    </tr>\n",
       "    <tr>\n",
       "      <th>Brazil</th>\n",
       "      <td>1</td>\n",
       "      <td>0</td>\n",
       "      <td>0</td>\n",
       "    </tr>\n",
       "    <tr>\n",
       "      <th>Cambodia</th>\n",
       "      <td>1</td>\n",
       "      <td>0</td>\n",
       "      <td>1</td>\n",
       "    </tr>\n",
       "    <tr>\n",
       "      <th>Canada</th>\n",
       "      <td>11</td>\n",
       "      <td>0</td>\n",
       "      <td>3</td>\n",
       "    </tr>\n",
       "    <tr>\n",
       "      <th>Croatia</th>\n",
       "      <td>3</td>\n",
       "      <td>0</td>\n",
       "      <td>0</td>\n",
       "    </tr>\n",
       "    <tr>\n",
       "      <th>Egypt</th>\n",
       "      <td>1</td>\n",
       "      <td>0</td>\n",
       "      <td>0</td>\n",
       "    </tr>\n",
       "    <tr>\n",
       "      <th>Finland</th>\n",
       "      <td>2</td>\n",
       "      <td>0</td>\n",
       "      <td>1</td>\n",
       "    </tr>\n",
       "    <tr>\n",
       "      <th>France</th>\n",
       "      <td>18</td>\n",
       "      <td>2</td>\n",
       "      <td>11</td>\n",
       "    </tr>\n",
       "    <tr>\n",
       "      <th>Georgia</th>\n",
       "      <td>1</td>\n",
       "      <td>0</td>\n",
       "      <td>0</td>\n",
       "    </tr>\n",
       "    <tr>\n",
       "      <th>Germany</th>\n",
       "      <td>27</td>\n",
       "      <td>0</td>\n",
       "      <td>15</td>\n",
       "    </tr>\n",
       "    <tr>\n",
       "      <th>Greece</th>\n",
       "      <td>1</td>\n",
       "      <td>0</td>\n",
       "      <td>0</td>\n",
       "    </tr>\n",
       "    <tr>\n",
       "      <th>Hong Kong</th>\n",
       "      <td>91</td>\n",
       "      <td>2</td>\n",
       "      <td>24</td>\n",
       "    </tr>\n",
       "    <tr>\n",
       "      <th>India</th>\n",
       "      <td>3</td>\n",
       "      <td>0</td>\n",
       "      <td>3</td>\n",
       "    </tr>\n",
       "    <tr>\n",
       "      <th>Iran</th>\n",
       "      <td>139</td>\n",
       "      <td>19</td>\n",
       "      <td>49</td>\n",
       "    </tr>\n",
       "    <tr>\n",
       "      <th>Iraq</th>\n",
       "      <td>5</td>\n",
       "      <td>0</td>\n",
       "      <td>0</td>\n",
       "    </tr>\n",
       "    <tr>\n",
       "      <th>Israel</th>\n",
       "      <td>2</td>\n",
       "      <td>0</td>\n",
       "      <td>0</td>\n",
       "    </tr>\n",
       "    <tr>\n",
       "      <th>Italy</th>\n",
       "      <td>453</td>\n",
       "      <td>12</td>\n",
       "      <td>3</td>\n",
       "    </tr>\n",
       "    <tr>\n",
       "      <th>Japan</th>\n",
       "      <td>189</td>\n",
       "      <td>2</td>\n",
       "      <td>22</td>\n",
       "    </tr>\n",
       "    <tr>\n",
       "      <th>Kuwait</th>\n",
       "      <td>26</td>\n",
       "      <td>0</td>\n",
       "      <td>0</td>\n",
       "    </tr>\n",
       "    <tr>\n",
       "      <th>Lebanon</th>\n",
       "      <td>2</td>\n",
       "      <td>0</td>\n",
       "      <td>0</td>\n",
       "    </tr>\n",
       "    <tr>\n",
       "      <th>Macau</th>\n",
       "      <td>10</td>\n",
       "      <td>0</td>\n",
       "      <td>7</td>\n",
       "    </tr>\n",
       "    <tr>\n",
       "      <th>Mainland China</th>\n",
       "      <td>78065</td>\n",
       "      <td>2715</td>\n",
       "      <td>30053</td>\n",
       "    </tr>\n",
       "    <tr>\n",
       "      <th>Malaysia</th>\n",
       "      <td>22</td>\n",
       "      <td>0</td>\n",
       "      <td>18</td>\n",
       "    </tr>\n",
       "    <tr>\n",
       "      <th>Nepal</th>\n",
       "      <td>1</td>\n",
       "      <td>0</td>\n",
       "      <td>1</td>\n",
       "    </tr>\n",
       "    <tr>\n",
       "      <th>North Macedonia</th>\n",
       "      <td>1</td>\n",
       "      <td>0</td>\n",
       "      <td>0</td>\n",
       "    </tr>\n",
       "    <tr>\n",
       "      <th>Norway</th>\n",
       "      <td>1</td>\n",
       "      <td>0</td>\n",
       "      <td>0</td>\n",
       "    </tr>\n",
       "    <tr>\n",
       "      <th>Oman</th>\n",
       "      <td>4</td>\n",
       "      <td>0</td>\n",
       "      <td>0</td>\n",
       "    </tr>\n",
       "    <tr>\n",
       "      <th>Others</th>\n",
       "      <td>705</td>\n",
       "      <td>4</td>\n",
       "      <td>10</td>\n",
       "    </tr>\n",
       "    <tr>\n",
       "      <th>Pakistan</th>\n",
       "      <td>2</td>\n",
       "      <td>0</td>\n",
       "      <td>0</td>\n",
       "    </tr>\n",
       "    <tr>\n",
       "      <th>Philippines</th>\n",
       "      <td>3</td>\n",
       "      <td>1</td>\n",
       "      <td>1</td>\n",
       "    </tr>\n",
       "    <tr>\n",
       "      <th>Romania</th>\n",
       "      <td>1</td>\n",
       "      <td>0</td>\n",
       "      <td>0</td>\n",
       "    </tr>\n",
       "    <tr>\n",
       "      <th>Russia</th>\n",
       "      <td>2</td>\n",
       "      <td>0</td>\n",
       "      <td>2</td>\n",
       "    </tr>\n",
       "    <tr>\n",
       "      <th>Singapore</th>\n",
       "      <td>93</td>\n",
       "      <td>0</td>\n",
       "      <td>62</td>\n",
       "    </tr>\n",
       "    <tr>\n",
       "      <th>South Korea</th>\n",
       "      <td>1261</td>\n",
       "      <td>12</td>\n",
       "      <td>22</td>\n",
       "    </tr>\n",
       "    <tr>\n",
       "      <th>Spain</th>\n",
       "      <td>13</td>\n",
       "      <td>0</td>\n",
       "      <td>2</td>\n",
       "    </tr>\n",
       "    <tr>\n",
       "      <th>Sri Lanka</th>\n",
       "      <td>1</td>\n",
       "      <td>0</td>\n",
       "      <td>1</td>\n",
       "    </tr>\n",
       "    <tr>\n",
       "      <th>Sweden</th>\n",
       "      <td>2</td>\n",
       "      <td>0</td>\n",
       "      <td>0</td>\n",
       "    </tr>\n",
       "    <tr>\n",
       "      <th>Switzerland</th>\n",
       "      <td>1</td>\n",
       "      <td>0</td>\n",
       "      <td>0</td>\n",
       "    </tr>\n",
       "    <tr>\n",
       "      <th>Taiwan</th>\n",
       "      <td>32</td>\n",
       "      <td>1</td>\n",
       "      <td>5</td>\n",
       "    </tr>\n",
       "    <tr>\n",
       "      <th>Thailand</th>\n",
       "      <td>40</td>\n",
       "      <td>0</td>\n",
       "      <td>22</td>\n",
       "    </tr>\n",
       "    <tr>\n",
       "      <th>UK</th>\n",
       "      <td>13</td>\n",
       "      <td>0</td>\n",
       "      <td>8</td>\n",
       "    </tr>\n",
       "    <tr>\n",
       "      <th>US</th>\n",
       "      <td>59</td>\n",
       "      <td>0</td>\n",
       "      <td>6</td>\n",
       "    </tr>\n",
       "    <tr>\n",
       "      <th>United Arab Emirates</th>\n",
       "      <td>13</td>\n",
       "      <td>0</td>\n",
       "      <td>4</td>\n",
       "    </tr>\n",
       "    <tr>\n",
       "      <th>Vietnam</th>\n",
       "      <td>16</td>\n",
       "      <td>0</td>\n",
       "      <td>16</td>\n",
       "    </tr>\n",
       "  </tbody>\n",
       "</table>\n",
       "</div>"
      ],
      "text/plain": [
       "                      Confirmed  Deaths  Recovered\n",
       "Country/Region                                    \n",
       "Afghanistan                   1       0          0\n",
       "Algeria                       1       0          0\n",
       "Australia                    22       0         11\n",
       "Austria                       2       0          0\n",
       "Bahrain                      33       0          0\n",
       "Belgium                       1       0          1\n",
       "Brazil                        1       0          0\n",
       "Cambodia                      1       0          1\n",
       "Canada                       11       0          3\n",
       "Croatia                       3       0          0\n",
       "Egypt                         1       0          0\n",
       "Finland                       2       0          1\n",
       "France                       18       2         11\n",
       "Georgia                       1       0          0\n",
       "Germany                      27       0         15\n",
       "Greece                        1       0          0\n",
       "Hong Kong                    91       2         24\n",
       "India                         3       0          3\n",
       "Iran                        139      19         49\n",
       "Iraq                          5       0          0\n",
       "Israel                        2       0          0\n",
       "Italy                       453      12          3\n",
       "Japan                       189       2         22\n",
       "Kuwait                       26       0          0\n",
       "Lebanon                       2       0          0\n",
       "Macau                        10       0          7\n",
       "Mainland China            78065    2715      30053\n",
       "Malaysia                     22       0         18\n",
       "Nepal                         1       0          1\n",
       "North Macedonia               1       0          0\n",
       "Norway                        1       0          0\n",
       "Oman                          4       0          0\n",
       "Others                      705       4         10\n",
       "Pakistan                      2       0          0\n",
       "Philippines                   3       1          1\n",
       "Romania                       1       0          0\n",
       "Russia                        2       0          2\n",
       "Singapore                    93       0         62\n",
       "South Korea                1261      12         22\n",
       "Spain                        13       0          2\n",
       "Sri Lanka                     1       0          1\n",
       "Sweden                        2       0          0\n",
       "Switzerland                   1       0          0\n",
       "Taiwan                       32       1          5\n",
       "Thailand                     40       0         22\n",
       "UK                           13       0          8\n",
       "US                           59       0          6\n",
       "United Arab Emirates         13       0          4\n",
       "Vietnam                      16       0         16"
      ]
     },
     "execution_count": 958,
     "metadata": {},
     "output_type": "execute_result"
    }
   ],
   "source": [
    "new_daily_df2 = newdf.groupby(['Country/Region']).agg('sum')\n",
    "new_daily_df2\n"
   ]
  },
  {
   "cell_type": "code",
   "execution_count": 959,
   "metadata": {
    "scrolled": false
   },
   "outputs": [
    {
     "data": {
      "image/png": "[encoded data removed]",
      "text/plain": [
       "<Figure size 432x288 with 1 Axes>"
      ]
     },
     "metadata": {
      "needs_background": "light"
     },
     "output_type": "display_data"
    }
   ],
   "source": [
    "x=new_daily_df2.sum(axis=0)\n",
    "myarray=np.array(x)\n",
    "\n",
    "labels=np.array(['Confirmed','Deaths','Recovered'])\n",
    "#y_pos = np.arange(len(labels))\n",
    "color=['#F0AFE1','#69ADE3','#3D9740']\n",
    "\n",
    "plt.bar(labels, myarray, alpha=0.75,color=color)\n",
    "\n",
    "plt.xlabel('Cases')\n",
    "plt.title('Corona Virus info')\n",
    "\n",
    "plt.ylabel('Count')\n",
    "plt.show()"
   ]
  },
  {
   "cell_type": "raw",
   "metadata": {},
   "source": [
    "CELL BELOW GETS THE FATALITY RATE"
   ]
  },
  {
   "cell_type": "code",
   "execution_count": 960,
   "metadata": {
    "scrolled": true
   },
   "outputs": [
    {
     "name": "stdout",
     "output_type": "stream",
     "text": [
      "Fatality rate= 3.4030738233595836 %\n"
     ]
    }
   ],
   "source": [
    "fatality_rate=myarray[1]/myarray[0]*100;\n",
    "print(\"Fatality rate=\",fatality_rate,\"%\")"
   ]
  },
  {
   "cell_type": "raw",
   "metadata": {},
   "source": [
    "Here the timeseries data will be uploaded and since in github it gets updated daily so no need to change the URL.\n",
    "Basically 3 datas will be uploaded and then visualization of them will be done after cleaning.\n",
    "3 datasets which will be uploaded will be of confirmed cases, deaths and recovered.\n"
   ]
  },
  {
   "cell_type": "code",
   "execution_count": 925,
   "metadata": {},
   "outputs": [],
   "source": [
    "confirmed_timeseries_url='https://raw.githubusercontent.com/CSSEGISandData/COVID-19/master/csse_covid_19_data/csse_covid_19_time_series/time_series_19-covid-Confirmed.csv'\n",
    "deaths_timeseries_url='https://raw.githubusercontent.com/CSSEGISandData/COVID-19/master/csse_covid_19_data/csse_covid_19_time_series/time_series_19-covid-Deaths.csv'\n",
    "recovered_timeseries_url='https://raw.githubusercontent.com/CSSEGISandData/COVID-19/master/csse_covid_19_data/csse_covid_19_time_series/time_series_19-covid-Recovered.csv'\n",
    "\n",
    "\n"
   ]
  },
  {
   "cell_type": "code",
   "execution_count": 935,
   "metadata": {},
   "outputs": [],
   "source": [
    "timeseries_confirmed_df=pd.read_csv(confirmed_timeseries_url)\n",
    "#making this bigpicture stuff\n",
    "Bigpicture=timeseries_confirmed_df\n",
    "timeseries_deaths_df=pd.read_csv(deaths_timeseries_url)\n",
    "timeseries_recovered_df=pd.read_csv(recovered_timeseries_url)"
   ]
  },
  {
   "cell_type": "code",
   "execution_count": 939,
   "metadata": {},
   "outputs": [],
   "source": [
    "new_timeseries_confirmed_df=timeseries_confirmed_df.drop(['Province/State','Lat','Long'],axis=1)\n",
    "new_timeseries_deaths_df=timeseries_deaths_df.drop(['Province/State','Lat','Long'],axis=1)\n",
    "new_timeseries_recovered_df=timeseries_recovered_df.drop(['Province/State','Lat','Long'],axis=1)\n",
    "\n"
   ]
  },
  {
   "cell_type": "code",
   "execution_count": 1208,
   "metadata": {},
   "outputs": [],
   "source": [
    "new_timeseries_confirmed_df=new_timeseries_confirmed_df.groupby(['Country/Region'],as_index=False).agg('sum')\n",
    "xc=new_timeseries_confirmed_df\n",
    "select_country_1 = xc[xc['Country/Region'] == 'Mainland China']\n",
    "select_country_1=select_country_1.loc[:,select_country_1.columns!='Country/Region']\n",
    "xc=select_country_1.T\n",
    "mapping={xc.columns[0]:'Confirmed cases in Main Land China'}\n",
    "zc=xc.rename(columns=mapping)\n",
    "zc=zc.rename_axis('Date').reset_index()\n"
   ]
  },
  {
   "cell_type": "code",
   "execution_count": 1209,
   "metadata": {
    "scrolled": false
   },
   "outputs": [],
   "source": [
    "new_timeseries_deaths_df=new_timeseries_deaths_df.groupby(['Country/Region'],as_index=False).agg('sum')\n",
    "xd=new_timeseries_deaths_df\n",
    "select_country_2 = xd[xd['Country/Region'] == 'Mainland China']\n",
    "select_country_2=select_country_2.loc[:,select_country_2.columns!='Country/Region']\n",
    "xd=select_country_2.T\n",
    "mapping={xd.columns[0]:'Deaths in Main Land China'}\n",
    "zd=xd.rename(columns=mapping)\n",
    "zd=zd.rename_axis('Date').reset_index()\n"
   ]
  },
  {
   "cell_type": "code",
   "execution_count": 1210,
   "metadata": {
    "scrolled": true
   },
   "outputs": [],
   "source": [
    "new_timeseries_recovered_df=new_timeseries_recovered_df.groupby(['Country/Region'],as_index=False).agg('sum')\n",
    "xr=new_timeseries_recovered_df\n",
    "select_country_3 = xr[xr['Country/Region'] == 'Mainland China']\n",
    "select_country_3=select_country_3.loc[:,select_country_3.columns!='Country/Region']\n",
    "xr=select_country_3.T\n",
    "mapping={xr.columns[0]:'Recovered in Main Land China'}\n",
    "zr=xr.rename(columns=mapping)\n",
    "zr=zr.rename_axis('Date').reset_index()\n"
   ]
  },
  {
   "cell_type": "code",
   "execution_count": 1213,
   "metadata": {},
   "outputs": [
    {
     "data": {
      "text/html": [
       "<div>\n",
       "<style scoped>\n",
       "    .dataframe tbody tr th:only-of-type {\n",
       "        vertical-align: middle;\n",
       "    }\n",
       "\n",
       "    .dataframe tbody tr th {\n",
       "        vertical-align: top;\n",
       "    }\n",
       "\n",
       "    .dataframe thead th {\n",
       "        text-align: right;\n",
       "    }\n",
       "</style>\n",
       "<table border=\"1\" class=\"dataframe\">\n",
       "  <thead>\n",
       "    <tr style=\"text-align: right;\">\n",
       "      <th></th>\n",
       "      <th>Date</th>\n",
       "      <th>Confirmed cases in Main Land China</th>\n",
       "      <th>Deaths in MainLand China</th>\n",
       "      <th>Recovered in MainLand China</th>\n",
       "      <th>Fatality Rate</th>\n",
       "    </tr>\n",
       "  </thead>\n",
       "  <tbody>\n",
       "    <tr>\n",
       "      <th>0</th>\n",
       "      <td>1/22/20</td>\n",
       "      <td>547</td>\n",
       "      <td>17</td>\n",
       "      <td>28</td>\n",
       "      <td>3.107861</td>\n",
       "    </tr>\n",
       "    <tr>\n",
       "      <th>1</th>\n",
       "      <td>1/23/20</td>\n",
       "      <td>639</td>\n",
       "      <td>18</td>\n",
       "      <td>30</td>\n",
       "      <td>2.816901</td>\n",
       "    </tr>\n",
       "    <tr>\n",
       "      <th>2</th>\n",
       "      <td>1/24/20</td>\n",
       "      <td>916</td>\n",
       "      <td>26</td>\n",
       "      <td>36</td>\n",
       "      <td>2.838428</td>\n",
       "    </tr>\n",
       "    <tr>\n",
       "      <th>3</th>\n",
       "      <td>1/25/20</td>\n",
       "      <td>1399</td>\n",
       "      <td>42</td>\n",
       "      <td>39</td>\n",
       "      <td>3.002144</td>\n",
       "    </tr>\n",
       "    <tr>\n",
       "      <th>4</th>\n",
       "      <td>1/26/20</td>\n",
       "      <td>2062</td>\n",
       "      <td>56</td>\n",
       "      <td>49</td>\n",
       "      <td>2.715810</td>\n",
       "    </tr>\n",
       "    <tr>\n",
       "      <th>5</th>\n",
       "      <td>1/27/20</td>\n",
       "      <td>2863</td>\n",
       "      <td>82</td>\n",
       "      <td>58</td>\n",
       "      <td>2.864129</td>\n",
       "    </tr>\n",
       "    <tr>\n",
       "      <th>6</th>\n",
       "      <td>1/28/20</td>\n",
       "      <td>5494</td>\n",
       "      <td>131</td>\n",
       "      <td>101</td>\n",
       "      <td>2.384419</td>\n",
       "    </tr>\n",
       "    <tr>\n",
       "      <th>7</th>\n",
       "      <td>1/29/20</td>\n",
       "      <td>6070</td>\n",
       "      <td>133</td>\n",
       "      <td>120</td>\n",
       "      <td>2.191104</td>\n",
       "    </tr>\n",
       "    <tr>\n",
       "      <th>8</th>\n",
       "      <td>1/30/20</td>\n",
       "      <td>8124</td>\n",
       "      <td>171</td>\n",
       "      <td>135</td>\n",
       "      <td>2.104874</td>\n",
       "    </tr>\n",
       "    <tr>\n",
       "      <th>9</th>\n",
       "      <td>1/31/20</td>\n",
       "      <td>9783</td>\n",
       "      <td>213</td>\n",
       "      <td>214</td>\n",
       "      <td>2.177246</td>\n",
       "    </tr>\n",
       "    <tr>\n",
       "      <th>10</th>\n",
       "      <td>2/1/20</td>\n",
       "      <td>11871</td>\n",
       "      <td>259</td>\n",
       "      <td>275</td>\n",
       "      <td>2.181788</td>\n",
       "    </tr>\n",
       "    <tr>\n",
       "      <th>11</th>\n",
       "      <td>2/2/20</td>\n",
       "      <td>16607</td>\n",
       "      <td>361</td>\n",
       "      <td>463</td>\n",
       "      <td>2.173782</td>\n",
       "    </tr>\n",
       "    <tr>\n",
       "      <th>12</th>\n",
       "      <td>2/3/20</td>\n",
       "      <td>19693</td>\n",
       "      <td>425</td>\n",
       "      <td>614</td>\n",
       "      <td>2.158127</td>\n",
       "    </tr>\n",
       "    <tr>\n",
       "      <th>13</th>\n",
       "      <td>2/4/20</td>\n",
       "      <td>23680</td>\n",
       "      <td>490</td>\n",
       "      <td>843</td>\n",
       "      <td>2.069257</td>\n",
       "    </tr>\n",
       "    <tr>\n",
       "      <th>14</th>\n",
       "      <td>2/5/20</td>\n",
       "      <td>27409</td>\n",
       "      <td>562</td>\n",
       "      <td>1115</td>\n",
       "      <td>2.050421</td>\n",
       "    </tr>\n",
       "    <tr>\n",
       "      <th>15</th>\n",
       "      <td>2/6/20</td>\n",
       "      <td>30553</td>\n",
       "      <td>632</td>\n",
       "      <td>1476</td>\n",
       "      <td>2.068537</td>\n",
       "    </tr>\n",
       "    <tr>\n",
       "      <th>16</th>\n",
       "      <td>2/7/20</td>\n",
       "      <td>34075</td>\n",
       "      <td>717</td>\n",
       "      <td>1998</td>\n",
       "      <td>2.104182</td>\n",
       "    </tr>\n",
       "    <tr>\n",
       "      <th>17</th>\n",
       "      <td>2/8/20</td>\n",
       "      <td>36778</td>\n",
       "      <td>804</td>\n",
       "      <td>2595</td>\n",
       "      <td>2.186090</td>\n",
       "    </tr>\n",
       "    <tr>\n",
       "      <th>18</th>\n",
       "      <td>2/9/20</td>\n",
       "      <td>39790</td>\n",
       "      <td>904</td>\n",
       "      <td>3218</td>\n",
       "      <td>2.271928</td>\n",
       "    </tr>\n",
       "    <tr>\n",
       "      <th>19</th>\n",
       "      <td>2/10/20</td>\n",
       "      <td>42306</td>\n",
       "      <td>1011</td>\n",
       "      <td>3917</td>\n",
       "      <td>2.389732</td>\n",
       "    </tr>\n",
       "    <tr>\n",
       "      <th>20</th>\n",
       "      <td>2/11/20</td>\n",
       "      <td>44327</td>\n",
       "      <td>1111</td>\n",
       "      <td>4635</td>\n",
       "      <td>2.506373</td>\n",
       "    </tr>\n",
       "    <tr>\n",
       "      <th>21</th>\n",
       "      <td>2/12/20</td>\n",
       "      <td>44699</td>\n",
       "      <td>1116</td>\n",
       "      <td>5079</td>\n",
       "      <td>2.496700</td>\n",
       "    </tr>\n",
       "    <tr>\n",
       "      <th>22</th>\n",
       "      <td>2/13/20</td>\n",
       "      <td>59832</td>\n",
       "      <td>1368</td>\n",
       "      <td>6213</td>\n",
       "      <td>2.286402</td>\n",
       "    </tr>\n",
       "    <tr>\n",
       "      <th>23</th>\n",
       "      <td>2/14/20</td>\n",
       "      <td>66292</td>\n",
       "      <td>1520</td>\n",
       "      <td>7973</td>\n",
       "      <td>2.292886</td>\n",
       "    </tr>\n",
       "    <tr>\n",
       "      <th>24</th>\n",
       "      <td>2/15/20</td>\n",
       "      <td>68347</td>\n",
       "      <td>1662</td>\n",
       "      <td>9294</td>\n",
       "      <td>2.431709</td>\n",
       "    </tr>\n",
       "    <tr>\n",
       "      <th>25</th>\n",
       "      <td>2/16/20</td>\n",
       "      <td>70446</td>\n",
       "      <td>1765</td>\n",
       "      <td>10748</td>\n",
       "      <td>2.505465</td>\n",
       "    </tr>\n",
       "    <tr>\n",
       "      <th>26</th>\n",
       "      <td>2/17/20</td>\n",
       "      <td>72364</td>\n",
       "      <td>1863</td>\n",
       "      <td>12455</td>\n",
       "      <td>2.574485</td>\n",
       "    </tr>\n",
       "    <tr>\n",
       "      <th>27</th>\n",
       "      <td>2/18/20</td>\n",
       "      <td>74139</td>\n",
       "      <td>2002</td>\n",
       "      <td>14199</td>\n",
       "      <td>2.700333</td>\n",
       "    </tr>\n",
       "    <tr>\n",
       "      <th>28</th>\n",
       "      <td>2/19/20</td>\n",
       "      <td>74546</td>\n",
       "      <td>2114</td>\n",
       "      <td>15952</td>\n",
       "      <td>2.835833</td>\n",
       "    </tr>\n",
       "    <tr>\n",
       "      <th>29</th>\n",
       "      <td>2/20/20</td>\n",
       "      <td>74999</td>\n",
       "      <td>2236</td>\n",
       "      <td>18002</td>\n",
       "      <td>2.981373</td>\n",
       "    </tr>\n",
       "    <tr>\n",
       "      <th>30</th>\n",
       "      <td>2/21/20</td>\n",
       "      <td>75472</td>\n",
       "      <td>2236</td>\n",
       "      <td>18693</td>\n",
       "      <td>2.962688</td>\n",
       "    </tr>\n",
       "    <tr>\n",
       "      <th>31</th>\n",
       "      <td>2/22/20</td>\n",
       "      <td>76922</td>\n",
       "      <td>2441</td>\n",
       "      <td>22687</td>\n",
       "      <td>3.173344</td>\n",
       "    </tr>\n",
       "    <tr>\n",
       "      <th>32</th>\n",
       "      <td>2/23/20</td>\n",
       "      <td>76938</td>\n",
       "      <td>2443</td>\n",
       "      <td>23170</td>\n",
       "      <td>3.175284</td>\n",
       "    </tr>\n",
       "    <tr>\n",
       "      <th>33</th>\n",
       "      <td>2/24/20</td>\n",
       "      <td>77152</td>\n",
       "      <td>2593</td>\n",
       "      <td>24990</td>\n",
       "      <td>3.360898</td>\n",
       "    </tr>\n",
       "    <tr>\n",
       "      <th>34</th>\n",
       "      <td>2/25/20</td>\n",
       "      <td>77660</td>\n",
       "      <td>2663</td>\n",
       "      <td>27650</td>\n",
       "      <td>3.429050</td>\n",
       "    </tr>\n",
       "    <tr>\n",
       "      <th>35</th>\n",
       "      <td>2/26/20</td>\n",
       "      <td>78065</td>\n",
       "      <td>2715</td>\n",
       "      <td>30053</td>\n",
       "      <td>3.477871</td>\n",
       "    </tr>\n",
       "    <tr>\n",
       "      <th>36</th>\n",
       "      <td>2/27/20</td>\n",
       "      <td>78498</td>\n",
       "      <td>2744</td>\n",
       "      <td>32898</td>\n",
       "      <td>3.495630</td>\n",
       "    </tr>\n",
       "    <tr>\n",
       "      <th>37</th>\n",
       "      <td>2/28/20</td>\n",
       "      <td>78824</td>\n",
       "      <td>2788</td>\n",
       "      <td>36291</td>\n",
       "      <td>3.536994</td>\n",
       "    </tr>\n",
       "    <tr>\n",
       "      <th>38</th>\n",
       "      <td>2/29/20</td>\n",
       "      <td>79251</td>\n",
       "      <td>2835</td>\n",
       "      <td>39279</td>\n",
       "      <td>3.577242</td>\n",
       "    </tr>\n",
       "  </tbody>\n",
       "</table>\n",
       "</div>"
      ],
      "text/plain": [
       "       Date  Confirmed cases in Main Land China  Deaths in MainLand China  \\\n",
       "0   1/22/20                                 547                        17   \n",
       "1   1/23/20                                 639                        18   \n",
       "2   1/24/20                                 916                        26   \n",
       "3   1/25/20                                1399                        42   \n",
       "4   1/26/20                                2062                        56   \n",
       "5   1/27/20                                2863                        82   \n",
       "6   1/28/20                                5494                       131   \n",
       "7   1/29/20                                6070                       133   \n",
       "8   1/30/20                                8124                       171   \n",
       "9   1/31/20                                9783                       213   \n",
       "10   2/1/20                               11871                       259   \n",
       "11   2/2/20                               16607                       361   \n",
       "12   2/3/20                               19693                       425   \n",
       "13   2/4/20                               23680                       490   \n",
       "14   2/5/20                               27409                       562   \n",
       "15   2/6/20                               30553                       632   \n",
       "16   2/7/20                               34075                       717   \n",
       "17   2/8/20                               36778                       804   \n",
       "18   2/9/20                               39790                       904   \n",
       "19  2/10/20                               42306                      1011   \n",
       "20  2/11/20                               44327                      1111   \n",
       "21  2/12/20                               44699                      1116   \n",
       "22  2/13/20                               59832                      1368   \n",
       "23  2/14/20                               66292                      1520   \n",
       "24  2/15/20                               68347                      1662   \n",
       "25  2/16/20                               70446                      1765   \n",
       "26  2/17/20                               72364                      1863   \n",
       "27  2/18/20                               74139                      2002   \n",
       "28  2/19/20                               74546                      2114   \n",
       "29  2/20/20                               74999                      2236   \n",
       "30  2/21/20                               75472                      2236   \n",
       "31  2/22/20                               76922                      2441   \n",
       "32  2/23/20                               76938                      2443   \n",
       "33  2/24/20                               77152                      2593   \n",
       "34  2/25/20                               77660                      2663   \n",
       "35  2/26/20                               78065                      2715   \n",
       "36  2/27/20                               78498                      2744   \n",
       "37  2/28/20                               78824                      2788   \n",
       "38  2/29/20                               79251                      2835   \n",
       "\n",
       "    Recovered in MainLand China  Fatality Rate  \n",
       "0                            28       3.107861  \n",
       "1                            30       2.816901  \n",
       "2                            36       2.838428  \n",
       "3                            39       3.002144  \n",
       "4                            49       2.715810  \n",
       "5                            58       2.864129  \n",
       "6                           101       2.384419  \n",
       "7                           120       2.191104  \n",
       "8                           135       2.104874  \n",
       "9                           214       2.177246  \n",
       "10                          275       2.181788  \n",
       "11                          463       2.173782  \n",
       "12                          614       2.158127  \n",
       "13                          843       2.069257  \n",
       "14                         1115       2.050421  \n",
       "15                         1476       2.068537  \n",
       "16                         1998       2.104182  \n",
       "17                         2595       2.186090  \n",
       "18                         3218       2.271928  \n",
       "19                         3917       2.389732  \n",
       "20                         4635       2.506373  \n",
       "21                         5079       2.496700  \n",
       "22                         6213       2.286402  \n",
       "23                         7973       2.292886  \n",
       "24                         9294       2.431709  \n",
       "25                        10748       2.505465  \n",
       "26                        12455       2.574485  \n",
       "27                        14199       2.700333  \n",
       "28                        15952       2.835833  \n",
       "29                        18002       2.981373  \n",
       "30                        18693       2.962688  \n",
       "31                        22687       3.173344  \n",
       "32                        23170       3.175284  \n",
       "33                        24990       3.360898  \n",
       "34                        27650       3.429050  \n",
       "35                        30053       3.477871  \n",
       "36                        32898       3.495630  \n",
       "37                        36291       3.536994  \n",
       "38                        39279       3.577242  "
      ]
     },
     "execution_count": 1213,
     "metadata": {},
     "output_type": "execute_result"
    }
   ],
   "source": [
    "CHINA_MAIN_FRAME = zc.iloc[:,0:2]\n",
    "CHINA_MAIN_FRAME['Deaths in MainLand China'] = zd.iloc[:,1:2]\n",
    "CHINA_MAIN_FRAME['Recovered in MainLand China']  = zr.iloc[:,1:2]\n",
    "CHINA_MAIN_FRAME['Fatality Rate'] =CHINA_MAIN_FRAME['Deaths in MainLand China']/CHINA_MAIN_FRAME['Confirmed cases in Main Land China']*100\n",
    "CHINA_MAIN_FRAME"
   ]
  },
  {
   "cell_type": "code",
   "execution_count": 1207,
   "metadata": {},
   "outputs": [
    {
     "data": {
      "application/vnd.plotly.v1+json": {
       "config": {
        "plotlyServerURL": "https://plot.ly"
       },
       "data": [
        {
         "line": {
          "color": "#9970AB"
         },
         "mode": "lines+markers",
         "name": "Confirmed",
         "type": "scatter",
         "x": [
          "1/22/20",
          "1/23/20",
          "1/24/20",
          "1/25/20",
          "1/26/20",
          "1/27/20",
          "1/28/20",
          "1/29/20",
          "1/30/20",
          "1/31/20",
          "2/1/20",
          "2/2/20",
          "2/3/20",
          "2/4/20",
          "2/5/20",
          "2/6/20",
          "2/7/20",
          "2/8/20",
          "2/9/20",
          "2/10/20",
          "2/11/20",
          "2/12/20",
          "2/13/20",
          "2/14/20",
          "2/15/20",
          "2/16/20",
          "2/17/20",
          "2/18/20",
          "2/19/20",
          "2/20/20",
          "2/21/20",
          "2/22/20",
          "2/23/20",
          "2/24/20",
          "2/25/20",
          "2/26/20",
          "2/27/20",
          "2/28/20",
          "2/29/20"
         ],
         "y": [
          547,
          639,
          916,
          1399,
          2062,
          2863,
          5494,
          6070,
          8124,
          9783,
          11871,
          16607,
          19693,
          23680,
          27409,
          30553,
          34075,
          36778,
          39790,
          42306,
          44327,
          44699,
          59832,
          66292,
          68347,
          70446,
          72364,
          74139,
          74546,
          74999,
          75472,
          76922,
          76938,
          77152,
          77660,
          78065,
          78498,
          78824,
          79251
         ]
        }
       ],
       "layout": {
        "showlegend": true,
        "template": {
         "data": {
          "bar": [
           {
            "error_x": {
             "color": "#f2f5fa"
            },
            "error_y": {
             "color": "#f2f5fa"
            },
            "marker": {
             "line": {
              "color": "rgb(17,17,17)",
              "width": 0.5
             }
            },
            "type": "bar"
           }
          ],
          "barpolar": [
           {
            "marker": {
             "line": {
              "color": "rgb(17,17,17)",
              "width": 0.5
             }
            },
            "type": "barpolar"
           }
          ],
          "carpet": [
           {
            "aaxis": {
             "endlinecolor": "#A2B1C6",
             "gridcolor": "#506784",
             "linecolor": "#506784",
             "minorgridcolor": "#506784",
             "startlinecolor": "#A2B1C6"
            },
            "baxis": {
             "endlinecolor": "#A2B1C6",
             "gridcolor": "#506784",
             "linecolor": "#506784",
             "minorgridcolor": "#506784",
             "startlinecolor": "#A2B1C6"
            },
            "type": "carpet"
           }
          ],
          "choropleth": [
           {
            "colorbar": {
             "outlinewidth": 0,
             "ticks": ""
            },
            "type": "choropleth"
           }
          ],
          "contour": [
           {
            "colorbar": {
             "outlinewidth": 0,
             "ticks": ""
            },
            "colorscale": [
             [
              0,
              "#0d0887"
             ],
             [
              0.1111111111111111,
              "#46039f"
             ],
             [
              0.2222222222222222,
              "#7201a8"
             ],
             [
              0.3333333333333333,
              "#9c179e"
             ],
             [
              0.4444444444444444,
              "#bd3786"
             ],
             [
              0.5555555555555556,
              "#d8576b"
             ],
             [
              0.6666666666666666,
              "#ed7953"
             ],
             [
              0.7777777777777778,
              "#fb9f3a"
             ],
             [
              0.8888888888888888,
              "#fdca26"
             ],
             [
              1,
              "#f0f921"
             ]
            ],
            "type": "contour"
           }
          ],
          "contourcarpet": [
           {
            "colorbar": {
             "outlinewidth": 0,
             "ticks": ""
            },
            "type": "contourcarpet"
           }
          ],
          "heatmap": [
           {
            "colorbar": {
             "outlinewidth": 0,
             "ticks": ""
            },
            "colorscale": [
             [
              0,
              "#0d0887"
             ],
             [
              0.1111111111111111,
              "#46039f"
             ],
             [
              0.2222222222222222,
              "#7201a8"
             ],
             [
              0.3333333333333333,
              "#9c179e"
             ],
             [
              0.4444444444444444,
              "#bd3786"
             ],
             [
              0.5555555555555556,
              "#d8576b"
             ],
             [
              0.6666666666666666,
              "#ed7953"
             ],
             [
              0.7777777777777778,
              "#fb9f3a"
             ],
             [
              0.8888888888888888,
              "#fdca26"
             ],
             [
              1,
              "#f0f921"
             ]
            ],
            "type": "heatmap"
           }
          ],
          "heatmapgl": [
           {
            "colorbar": {
             "outlinewidth": 0,
             "ticks": ""
            },
            "colorscale": [
             [
              0,
              "#0d0887"
             ],
             [
              0.1111111111111111,
              "#46039f"
             ],
             [
              0.2222222222222222,
              "#7201a8"
             ],
             [
              0.3333333333333333,
              "#9c179e"
             ],
             [
              0.4444444444444444,
              "#bd3786"
             ],
             [
              0.5555555555555556,
              "#d8576b"
             ],
             [
              0.6666666666666666,
              "#ed7953"
             ],
             [
              0.7777777777777778,
              "#fb9f3a"
             ],
             [
              0.8888888888888888,
              "#fdca26"
             ],
             [
              1,
              "#f0f921"
             ]
            ],
            "type": "heatmapgl"
           }
          ],
          "histogram": [
           {
            "marker": {
             "colorbar": {
              "outlinewidth": 0,
              "ticks": ""
             }
            },
            "type": "histogram"
           }
          ],
          "histogram2d": [
           {
            "colorbar": {
             "outlinewidth": 0,
             "ticks": ""
            },
            "colorscale": [
             [
              0,
              "#0d0887"
             ],
             [
              0.1111111111111111,
              "#46039f"
             ],
             [
              0.2222222222222222,
              "#7201a8"
             ],
             [
              0.3333333333333333,
              "#9c179e"
             ],
             [
              0.4444444444444444,
              "#bd3786"
             ],
             [
              0.5555555555555556,
              "#d8576b"
             ],
             [
              0.6666666666666666,
              "#ed7953"
             ],
             [
              0.7777777777777778,
              "#fb9f3a"
             ],
             [
              0.8888888888888888,
              "#fdca26"
             ],
             [
              1,
              "#f0f921"
             ]
            ],
            "type": "histogram2d"
           }
          ],
          "histogram2dcontour": [
           {
            "colorbar": {
             "outlinewidth": 0,
             "ticks": ""
            },
            "colorscale": [
             [
              0,
              "#0d0887"
             ],
             [
              0.1111111111111111,
              "#46039f"
             ],
             [
              0.2222222222222222,
              "#7201a8"
             ],
             [
              0.3333333333333333,
              "#9c179e"
             ],
             [
              0.4444444444444444,
              "#bd3786"
             ],
             [
              0.5555555555555556,
              "#d8576b"
             ],
             [
              0.6666666666666666,
              "#ed7953"
             ],
             [
              0.7777777777777778,
              "#fb9f3a"
             ],
             [
              0.8888888888888888,
              "#fdca26"
             ],
             [
              1,
              "#f0f921"
             ]
            ],
            "type": "histogram2dcontour"
           }
          ],
          "mesh3d": [
           {
            "colorbar": {
             "outlinewidth": 0,
             "ticks": ""
            },
            "type": "mesh3d"
           }
          ],
          "parcoords": [
           {
            "line": {
             "colorbar": {
              "outlinewidth": 0,
              "ticks": ""
             }
            },
            "type": "parcoords"
           }
          ],
          "pie": [
           {
            "automargin": true,
            "type": "pie"
           }
          ],
          "scatter": [
           {
            "marker": {
             "line": {
              "color": "#283442"
             }
            },
            "type": "scatter"
           }
          ],
          "scatter3d": [
           {
            "line": {
             "colorbar": {
              "outlinewidth": 0,
              "ticks": ""
             }
            },
            "marker": {
             "colorbar": {
              "outlinewidth": 0,
              "ticks": ""
             }
            },
            "type": "scatter3d"
           }
          ],
          "scattercarpet": [
           {
            "marker": {
             "colorbar": {
              "outlinewidth": 0,
              "ticks": ""
             }
            },
            "type": "scattercarpet"
           }
          ],
          "scattergeo": [
           {
            "marker": {
             "colorbar": {
              "outlinewidth": 0,
              "ticks": ""
             }
            },
            "type": "scattergeo"
           }
          ],
          "scattergl": [
           {
            "marker": {
             "line": {
              "color": "#283442"
             }
            },
            "type": "scattergl"
           }
          ],
          "scattermapbox": [
           {
            "marker": {
             "colorbar": {
              "outlinewidth": 0,
              "ticks": ""
             }
            },
            "type": "scattermapbox"
           }
          ],
          "scatterpolar": [
           {
            "marker": {
             "colorbar": {
              "outlinewidth": 0,
              "ticks": ""
             }
            },
            "type": "scatterpolar"
           }
          ],
          "scatterpolargl": [
           {
            "marker": {
             "colorbar": {
              "outlinewidth": 0,
              "ticks": ""
             }
            },
            "type": "scatterpolargl"
           }
          ],
          "scatterternary": [
           {
            "marker": {
             "colorbar": {
              "outlinewidth": 0,
              "ticks": ""
             }
            },
            "type": "scatterternary"
           }
          ],
          "surface": [
           {
            "colorbar": {
             "outlinewidth": 0,
             "ticks": ""
            },
            "colorscale": [
             [
              0,
              "#0d0887"
             ],
             [
              0.1111111111111111,
              "#46039f"
             ],
             [
              0.2222222222222222,
              "#7201a8"
             ],
             [
              0.3333333333333333,
              "#9c179e"
             ],
             [
              0.4444444444444444,
              "#bd3786"
             ],
             [
              0.5555555555555556,
              "#d8576b"
             ],
             [
              0.6666666666666666,
              "#ed7953"
             ],
             [
              0.7777777777777778,
              "#fb9f3a"
             ],
             [
              0.8888888888888888,
              "#fdca26"
             ],
             [
              1,
              "#f0f921"
             ]
            ],
            "type": "surface"
           }
          ],
          "table": [
           {
            "cells": {
             "fill": {
              "color": "#506784"
             },
             "line": {
              "color": "rgb(17,17,17)"
             }
            },
            "header": {
             "fill": {
              "color": "#2a3f5f"
             },
             "line": {
              "color": "rgb(17,17,17)"
             }
            },
            "type": "table"
           }
          ]
         },
         "layout": {
          "annotationdefaults": {
           "arrowcolor": "#f2f5fa",
           "arrowhead": 0,
           "arrowwidth": 1
          },
          "coloraxis": {
           "colorbar": {
            "outlinewidth": 0,
            "ticks": ""
           }
          },
          "colorscale": {
           "diverging": [
            [
             0,
             "#8e0152"
            ],
            [
             0.1,
             "#c51b7d"
            ],
            [
             0.2,
             "#de77ae"
            ],
            [
             0.3,
             "#f1b6da"
            ],
            [
             0.4,
             "#fde0ef"
            ],
            [
             0.5,
             "#f7f7f7"
            ],
            [
             0.6,
             "#e6f5d0"
            ],
            [
             0.7,
             "#b8e186"
            ],
            [
             0.8,
             "#7fbc41"
            ],
            [
             0.9,
             "#4d9221"
            ],
            [
             1,
             "#276419"
            ]
           ],
           "sequential": [
            [
             0,
             "#0d0887"
            ],
            [
             0.1111111111111111,
             "#46039f"
            ],
            [
             0.2222222222222222,
             "#7201a8"
            ],
            [
             0.3333333333333333,
             "#9c179e"
            ],
            [
             0.4444444444444444,
             "#bd3786"
            ],
            [
             0.5555555555555556,
             "#d8576b"
            ],
            [
             0.6666666666666666,
             "#ed7953"
            ],
            [
             0.7777777777777778,
             "#fb9f3a"
            ],
            [
             0.8888888888888888,
             "#fdca26"
            ],
            [
             1,
             "#f0f921"
            ]
           ],
           "sequentialminus": [
            [
             0,
             "#0d0887"
            ],
            [
             0.1111111111111111,
             "#46039f"
            ],
            [
             0.2222222222222222,
             "#7201a8"
            ],
            [
             0.3333333333333333,
             "#9c179e"
            ],
            [
             0.4444444444444444,
             "#bd3786"
            ],
            [
             0.5555555555555556,
             "#d8576b"
            ],
            [
             0.6666666666666666,
             "#ed7953"
            ],
            [
             0.7777777777777778,
             "#fb9f3a"
            ],
            [
             0.8888888888888888,
             "#fdca26"
            ],
            [
             1,
             "#f0f921"
            ]
           ]
          },
          "colorway": [
           "#636efa",
           "#EF553B",
           "#00cc96",
           "#ab63fa",
           "#FFA15A",
           "#19d3f3",
           "#FF6692",
           "#B6E880",
           "#FF97FF",
           "#FECB52"
          ],
          "font": {
           "color": "#f2f5fa"
          },
          "geo": {
           "bgcolor": "rgb(17,17,17)",
           "lakecolor": "rgb(17,17,17)",
           "landcolor": "rgb(17,17,17)",
           "showlakes": true,
           "showland": true,
           "subunitcolor": "#506784"
          },
          "hoverlabel": {
           "align": "left"
          },
          "hovermode": "closest",
          "mapbox": {
           "style": "dark"
          },
          "paper_bgcolor": "rgb(17,17,17)",
          "plot_bgcolor": "rgb(17,17,17)",
          "polar": {
           "angularaxis": {
            "gridcolor": "#506784",
            "linecolor": "#506784",
            "ticks": ""
           },
           "bgcolor": "rgb(17,17,17)",
           "radialaxis": {
            "gridcolor": "#506784",
            "linecolor": "#506784",
            "ticks": ""
           }
          },
          "scene": {
           "xaxis": {
            "backgroundcolor": "rgb(17,17,17)",
            "gridcolor": "#506784",
            "gridwidth": 2,
            "linecolor": "#506784",
            "showbackground": true,
            "ticks": "",
            "zerolinecolor": "#C8D4E3"
           },
           "yaxis": {
            "backgroundcolor": "rgb(17,17,17)",
            "gridcolor": "#506784",
            "gridwidth": 2,
            "linecolor": "#506784",
            "showbackground": true,
            "ticks": "",
            "zerolinecolor": "#C8D4E3"
           },
           "zaxis": {
            "backgroundcolor": "rgb(17,17,17)",
            "gridcolor": "#506784",
            "gridwidth": 2,
            "linecolor": "#506784",
            "showbackground": true,
            "ticks": "",
            "zerolinecolor": "#C8D4E3"
           }
          },
          "shapedefaults": {
           "line": {
            "color": "#f2f5fa"
           }
          },
          "sliderdefaults": {
           "bgcolor": "#C8D4E3",
           "bordercolor": "rgb(17,17,17)",
           "borderwidth": 1,
           "tickwidth": 0
          },
          "ternary": {
           "aaxis": {
            "gridcolor": "#506784",
            "linecolor": "#506784",
            "ticks": ""
           },
           "baxis": {
            "gridcolor": "#506784",
            "linecolor": "#506784",
            "ticks": ""
           },
           "bgcolor": "rgb(17,17,17)",
           "caxis": {
            "gridcolor": "#506784",
            "linecolor": "#506784",
            "ticks": ""
           }
          },
          "title": {
           "x": 0.05
          },
          "updatemenudefaults": {
           "bgcolor": "#506784",
           "borderwidth": 0
          },
          "xaxis": {
           "automargin": true,
           "gridcolor": "#283442",
           "linecolor": "#506784",
           "ticks": "",
           "title": {
            "standoff": 15
           },
           "zerolinecolor": "#283442",
           "zerolinewidth": 2
          },
          "yaxis": {
           "automargin": true,
           "gridcolor": "#283442",
           "linecolor": "#506784",
           "ticks": "",
           "title": {
            "standoff": 15
           },
           "zerolinecolor": "#283442",
           "zerolinewidth": 2
          }
         }
        },
        "title": {
         "text": "Confirmed cases timeseries in china"
        },
        "xaxis": {
         "title": {
          "text": "Dates in mm/dd/yy"
         }
        },
        "yaxis": {
         "title": {
          "text": "Confirmed Count"
         }
        }
       }
      },
      "text/html": [
       "<div>\n",
       "        \n",
       "        \n",
       "            <div id=\"8136e227-fab8-491c-91ef-aa80bb34918e\" class=\"plotly-graph-div\" style=\"height:525px; width:100%;\"></div>\n",
       "            <script type=\"text/javascript\">\n",
       "                require([\"plotly\"], function(Plotly) {\n",
       "                    window.PLOTLYENV=window.PLOTLYENV || {};\n",
       "                    \n",
       "                if (document.getElementById(\"8136e227-fab8-491c-91ef-aa80bb34918e\")) {\n",
       "                    Plotly.newPlot(\n",
       "                        '8136e227-fab8-491c-91ef-aa80bb34918e',\n",
       "                        [{\"line\": {\"color\": \"#9970AB\"}, \"mode\": \"lines+markers\", \"name\": \"Confirmed\", \"type\": \"scatter\", \"x\": [\"1/22/20\", \"1/23/20\", \"1/24/20\", \"1/25/20\", \"1/26/20\", \"1/27/20\", \"1/28/20\", \"1/29/20\", \"1/30/20\", \"1/31/20\", \"2/1/20\", \"2/2/20\", \"2/3/20\", \"2/4/20\", \"2/5/20\", \"2/6/20\", \"2/7/20\", \"2/8/20\", \"2/9/20\", \"2/10/20\", \"2/11/20\", \"2/12/20\", \"2/13/20\", \"2/14/20\", \"2/15/20\", \"2/16/20\", \"2/17/20\", \"2/18/20\", \"2/19/20\", \"2/20/20\", \"2/21/20\", \"2/22/20\", \"2/23/20\", \"2/24/20\", \"2/25/20\", \"2/26/20\", \"2/27/20\", \"2/28/20\", \"2/29/20\"], \"y\": [547, 639, 916, 1399, 2062, 2863, 5494, 6070, 8124, 9783, 11871, 16607, 19693, 23680, 27409, 30553, 34075, 36778, 39790, 42306, 44327, 44699, 59832, 66292, 68347, 70446, 72364, 74139, 74546, 74999, 75472, 76922, 76938, 77152, 77660, 78065, 78498, 78824, 79251]}],\n",
       "                        {\"showlegend\": true, \"template\": {\"data\": {\"bar\": [{\"error_x\": {\"color\": \"#f2f5fa\"}, \"error_y\": {\"color\": \"#f2f5fa\"}, \"marker\": {\"line\": {\"color\": \"rgb(17,17,17)\", \"width\": 0.5}}, \"type\": \"bar\"}], \"barpolar\": [{\"marker\": {\"line\": {\"color\": \"rgb(17,17,17)\", \"width\": 0.5}}, \"type\": \"barpolar\"}], \"carpet\": [{\"aaxis\": {\"endlinecolor\": \"#A2B1C6\", \"gridcolor\": \"#506784\", \"linecolor\": \"#506784\", \"minorgridcolor\": \"#506784\", \"startlinecolor\": \"#A2B1C6\"}, \"baxis\": {\"endlinecolor\": \"#A2B1C6\", \"gridcolor\": \"#506784\", \"linecolor\": \"#506784\", \"minorgridcolor\": \"#506784\", \"startlinecolor\": \"#A2B1C6\"}, \"type\": \"carpet\"}], \"choropleth\": [{\"colorbar\": {\"outlinewidth\": 0, \"ticks\": \"\"}, \"type\": \"choropleth\"}], \"contour\": [{\"colorbar\": {\"outlinewidth\": 0, \"ticks\": \"\"}, \"colorscale\": [[0.0, \"#0d0887\"], [0.1111111111111111, \"#46039f\"], [0.2222222222222222, \"#7201a8\"], [0.3333333333333333, \"#9c179e\"], [0.4444444444444444, \"#bd3786\"], [0.5555555555555556, \"#d8576b\"], [0.6666666666666666, \"#ed7953\"], [0.7777777777777778, \"#fb9f3a\"], [0.8888888888888888, \"#fdca26\"], [1.0, \"#f0f921\"]], \"type\": \"contour\"}], \"contourcarpet\": [{\"colorbar\": {\"outlinewidth\": 0, \"ticks\": \"\"}, \"type\": \"contourcarpet\"}], \"heatmap\": [{\"colorbar\": {\"outlinewidth\": 0, \"ticks\": \"\"}, \"colorscale\": [[0.0, \"#0d0887\"], [0.1111111111111111, \"#46039f\"], [0.2222222222222222, \"#7201a8\"], [0.3333333333333333, \"#9c179e\"], [0.4444444444444444, \"#bd3786\"], [0.5555555555555556, \"#d8576b\"], [0.6666666666666666, \"#ed7953\"], [0.7777777777777778, \"#fb9f3a\"], [0.8888888888888888, \"#fdca26\"], [1.0, \"#f0f921\"]], \"type\": \"heatmap\"}], \"heatmapgl\": [{\"colorbar\": {\"outlinewidth\": 0, \"ticks\": \"\"}, \"colorscale\": [[0.0, \"#0d0887\"], [0.1111111111111111, \"#46039f\"], [0.2222222222222222, \"#7201a8\"], [0.3333333333333333, \"#9c179e\"], [0.4444444444444444, \"#bd3786\"], [0.5555555555555556, \"#d8576b\"], [0.6666666666666666, \"#ed7953\"], [0.7777777777777778, \"#fb9f3a\"], [0.8888888888888888, \"#fdca26\"], [1.0, \"#f0f921\"]], \"type\": \"heatmapgl\"}], \"histogram\": [{\"marker\": {\"colorbar\": {\"outlinewidth\": 0, \"ticks\": \"\"}}, \"type\": \"histogram\"}], \"histogram2d\": [{\"colorbar\": {\"outlinewidth\": 0, \"ticks\": \"\"}, \"colorscale\": [[0.0, \"#0d0887\"], [0.1111111111111111, \"#46039f\"], [0.2222222222222222, \"#7201a8\"], [0.3333333333333333, \"#9c179e\"], [0.4444444444444444, \"#bd3786\"], [0.5555555555555556, \"#d8576b\"], [0.6666666666666666, \"#ed7953\"], [0.7777777777777778, \"#fb9f3a\"], [0.8888888888888888, \"#fdca26\"], [1.0, \"#f0f921\"]], \"type\": \"histogram2d\"}], \"histogram2dcontour\": [{\"colorbar\": {\"outlinewidth\": 0, \"ticks\": \"\"}, \"colorscale\": [[0.0, \"#0d0887\"], [0.1111111111111111, \"#46039f\"], [0.2222222222222222, \"#7201a8\"], [0.3333333333333333, \"#9c179e\"], [0.4444444444444444, \"#bd3786\"], [0.5555555555555556, \"#d8576b\"], [0.6666666666666666, \"#ed7953\"], [0.7777777777777778, \"#fb9f3a\"], [0.8888888888888888, \"#fdca26\"], [1.0, \"#f0f921\"]], \"type\": \"histogram2dcontour\"}], \"mesh3d\": [{\"colorbar\": {\"outlinewidth\": 0, \"ticks\": \"\"}, \"type\": \"mesh3d\"}], \"parcoords\": [{\"line\": {\"colorbar\": {\"outlinewidth\": 0, \"ticks\": \"\"}}, \"type\": \"parcoords\"}], \"pie\": [{\"automargin\": true, \"type\": \"pie\"}], \"scatter\": [{\"marker\": {\"line\": {\"color\": \"#283442\"}}, \"type\": \"scatter\"}], \"scatter3d\": [{\"line\": {\"colorbar\": {\"outlinewidth\": 0, \"ticks\": \"\"}}, \"marker\": {\"colorbar\": {\"outlinewidth\": 0, \"ticks\": \"\"}}, \"type\": \"scatter3d\"}], \"scattercarpet\": [{\"marker\": {\"colorbar\": {\"outlinewidth\": 0, \"ticks\": \"\"}}, \"type\": \"scattercarpet\"}], \"scattergeo\": [{\"marker\": {\"colorbar\": {\"outlinewidth\": 0, \"ticks\": \"\"}}, \"type\": \"scattergeo\"}], \"scattergl\": [{\"marker\": {\"line\": {\"color\": \"#283442\"}}, \"type\": \"scattergl\"}], \"scattermapbox\": [{\"marker\": {\"colorbar\": {\"outlinewidth\": 0, \"ticks\": \"\"}}, \"type\": \"scattermapbox\"}], \"scatterpolar\": [{\"marker\": {\"colorbar\": {\"outlinewidth\": 0, \"ticks\": \"\"}}, \"type\": \"scatterpolar\"}], \"scatterpolargl\": [{\"marker\": {\"colorbar\": {\"outlinewidth\": 0, \"ticks\": \"\"}}, \"type\": \"scatterpolargl\"}], \"scatterternary\": [{\"marker\": {\"colorbar\": {\"outlinewidth\": 0, \"ticks\": \"\"}}, \"type\": \"scatterternary\"}], \"surface\": [{\"colorbar\": {\"outlinewidth\": 0, \"ticks\": \"\"}, \"colorscale\": [[0.0, \"#0d0887\"], [0.1111111111111111, \"#46039f\"], [0.2222222222222222, \"#7201a8\"], [0.3333333333333333, \"#9c179e\"], [0.4444444444444444, \"#bd3786\"], [0.5555555555555556, \"#d8576b\"], [0.6666666666666666, \"#ed7953\"], [0.7777777777777778, \"#fb9f3a\"], [0.8888888888888888, \"#fdca26\"], [1.0, \"#f0f921\"]], \"type\": \"surface\"}], \"table\": [{\"cells\": {\"fill\": {\"color\": \"#506784\"}, \"line\": {\"color\": \"rgb(17,17,17)\"}}, \"header\": {\"fill\": {\"color\": \"#2a3f5f\"}, \"line\": {\"color\": \"rgb(17,17,17)\"}}, \"type\": \"table\"}]}, \"layout\": {\"annotationdefaults\": {\"arrowcolor\": \"#f2f5fa\", \"arrowhead\": 0, \"arrowwidth\": 1}, \"coloraxis\": {\"colorbar\": {\"outlinewidth\": 0, \"ticks\": \"\"}}, \"colorscale\": {\"diverging\": [[0, \"#8e0152\"], [0.1, \"#c51b7d\"], [0.2, \"#de77ae\"], [0.3, \"#f1b6da\"], [0.4, \"#fde0ef\"], [0.5, \"#f7f7f7\"], [0.6, \"#e6f5d0\"], [0.7, \"#b8e186\"], [0.8, \"#7fbc41\"], [0.9, \"#4d9221\"], [1, \"#276419\"]], \"sequential\": [[0.0, \"#0d0887\"], [0.1111111111111111, \"#46039f\"], [0.2222222222222222, \"#7201a8\"], [0.3333333333333333, \"#9c179e\"], [0.4444444444444444, \"#bd3786\"], [0.5555555555555556, \"#d8576b\"], [0.6666666666666666, \"#ed7953\"], [0.7777777777777778, \"#fb9f3a\"], [0.8888888888888888, \"#fdca26\"], [1.0, \"#f0f921\"]], \"sequentialminus\": [[0.0, \"#0d0887\"], [0.1111111111111111, \"#46039f\"], [0.2222222222222222, \"#7201a8\"], [0.3333333333333333, \"#9c179e\"], [0.4444444444444444, \"#bd3786\"], [0.5555555555555556, \"#d8576b\"], [0.6666666666666666, \"#ed7953\"], [0.7777777777777778, \"#fb9f3a\"], [0.8888888888888888, \"#fdca26\"], [1.0, \"#f0f921\"]]}, \"colorway\": [\"#636efa\", \"#EF553B\", \"#00cc96\", \"#ab63fa\", \"#FFA15A\", \"#19d3f3\", \"#FF6692\", \"#B6E880\", \"#FF97FF\", \"#FECB52\"], \"font\": {\"color\": \"#f2f5fa\"}, \"geo\": {\"bgcolor\": \"rgb(17,17,17)\", \"lakecolor\": \"rgb(17,17,17)\", \"landcolor\": \"rgb(17,17,17)\", \"showlakes\": true, \"showland\": true, \"subunitcolor\": \"#506784\"}, \"hoverlabel\": {\"align\": \"left\"}, \"hovermode\": \"closest\", \"mapbox\": {\"style\": \"dark\"}, \"paper_bgcolor\": \"rgb(17,17,17)\", \"plot_bgcolor\": \"rgb(17,17,17)\", \"polar\": {\"angularaxis\": {\"gridcolor\": \"#506784\", \"linecolor\": \"#506784\", \"ticks\": \"\"}, \"bgcolor\": \"rgb(17,17,17)\", \"radialaxis\": {\"gridcolor\": \"#506784\", \"linecolor\": \"#506784\", \"ticks\": \"\"}}, \"scene\": {\"xaxis\": {\"backgroundcolor\": \"rgb(17,17,17)\", \"gridcolor\": \"#506784\", \"gridwidth\": 2, \"linecolor\": \"#506784\", \"showbackground\": true, \"ticks\": \"\", \"zerolinecolor\": \"#C8D4E3\"}, \"yaxis\": {\"backgroundcolor\": \"rgb(17,17,17)\", \"gridcolor\": \"#506784\", \"gridwidth\": 2, \"linecolor\": \"#506784\", \"showbackground\": true, \"ticks\": \"\", \"zerolinecolor\": \"#C8D4E3\"}, \"zaxis\": {\"backgroundcolor\": \"rgb(17,17,17)\", \"gridcolor\": \"#506784\", \"gridwidth\": 2, \"linecolor\": \"#506784\", \"showbackground\": true, \"ticks\": \"\", \"zerolinecolor\": \"#C8D4E3\"}}, \"shapedefaults\": {\"line\": {\"color\": \"#f2f5fa\"}}, \"sliderdefaults\": {\"bgcolor\": \"#C8D4E3\", \"bordercolor\": \"rgb(17,17,17)\", \"borderwidth\": 1, \"tickwidth\": 0}, \"ternary\": {\"aaxis\": {\"gridcolor\": \"#506784\", \"linecolor\": \"#506784\", \"ticks\": \"\"}, \"baxis\": {\"gridcolor\": \"#506784\", \"linecolor\": \"#506784\", \"ticks\": \"\"}, \"bgcolor\": \"rgb(17,17,17)\", \"caxis\": {\"gridcolor\": \"#506784\", \"linecolor\": \"#506784\", \"ticks\": \"\"}}, \"title\": {\"x\": 0.05}, \"updatemenudefaults\": {\"bgcolor\": \"#506784\", \"borderwidth\": 0}, \"xaxis\": {\"automargin\": true, \"gridcolor\": \"#283442\", \"linecolor\": \"#506784\", \"ticks\": \"\", \"title\": {\"standoff\": 15}, \"zerolinecolor\": \"#283442\", \"zerolinewidth\": 2}, \"yaxis\": {\"automargin\": true, \"gridcolor\": \"#283442\", \"linecolor\": \"#506784\", \"ticks\": \"\", \"title\": {\"standoff\": 15}, \"zerolinecolor\": \"#283442\", \"zerolinewidth\": 2}}}, \"title\": {\"text\": \"Confirmed cases timeseries in china\"}, \"xaxis\": {\"title\": {\"text\": \"Dates in mm/dd/yy\"}}, \"yaxis\": {\"title\": {\"text\": \"Confirmed Count\"}}},\n",
       "                        {\"responsive\": true}\n",
       "                    ).then(function(){\n",
       "                            \n",
       "var gd = document.getElementById('8136e227-fab8-491c-91ef-aa80bb34918e');\n",
       "var x = new MutationObserver(function (mutations, observer) {{\n",
       "        var display = window.getComputedStyle(gd).display;\n",
       "        if (!display || display === 'none') {{\n",
       "            console.log([gd, 'removed!']);\n",
       "            Plotly.purge(gd);\n",
       "            observer.disconnect();\n",
       "        }}\n",
       "}});\n",
       "\n",
       "// Listen for the removal of the full notebook cells\n",
       "var notebookContainer = gd.closest('#notebook-container');\n",
       "if (notebookContainer) {{\n",
       "    x.observe(notebookContainer, {childList: true});\n",
       "}}\n",
       "\n",
       "// Listen for the clearing of the current output cell\n",
       "var outputEl = gd.closest('.output');\n",
       "if (outputEl) {{\n",
       "    x.observe(outputEl, {childList: true});\n",
       "}}\n",
       "\n",
       "                        })\n",
       "                };\n",
       "                });\n",
       "            </script>\n",
       "        </div>"
      ]
     },
     "metadata": {},
     "output_type": "display_data"
    }
   ],
   "source": [
    "#CHINA CONFIRMED CASES\n",
    "fig_china_confirmed = go.Figure()\n",
    "fig_china_confirmed.add_trace(go.Scatter(x=CHINA_MAIN_FRAME['Date'], y=CHINA_MAIN_FRAME['Confirmed cases in Main Land China'], name=\"Confirmed\",\n",
    "                         line_color='#9970AB',mode='lines+markers'))\n",
    "fig_china_confirmed.update_layout(title=\"Confirmed cases timeseries in china\",template=\"plotly_dark\",xaxis_title=\"Dates in mm/dd/yy\",\n",
    "    yaxis_title=\"Confirmed Count\",showlegend=True)\n",
    "\n",
    "fig_china_confirmed.show()"
   ]
  },
  {
   "cell_type": "code",
   "execution_count": 1206,
   "metadata": {
    "scrolled": true
   },
   "outputs": [
    {
     "data": {
      "application/vnd.plotly.v1+json": {
       "config": {
        "plotlyServerURL": "https://plot.ly"
       },
       "data": [
        {
         "line": {
          "color": "#FC4E2A"
         },
         "mode": "lines+markers",
         "name": "Deaths",
         "type": "scatter",
         "x": [
          "1/22/20",
          "1/23/20",
          "1/24/20",
          "1/25/20",
          "1/26/20",
          "1/27/20",
          "1/28/20",
          "1/29/20",
          "1/30/20",
          "1/31/20",
          "2/1/20",
          "2/2/20",
          "2/3/20",
          "2/4/20",
          "2/5/20",
          "2/6/20",
          "2/7/20",
          "2/8/20",
          "2/9/20",
          "2/10/20",
          "2/11/20",
          "2/12/20",
          "2/13/20",
          "2/14/20",
          "2/15/20",
          "2/16/20",
          "2/17/20",
          "2/18/20",
          "2/19/20",
          "2/20/20",
          "2/21/20",
          "2/22/20",
          "2/23/20",
          "2/24/20",
          "2/25/20",
          "2/26/20",
          "2/27/20",
          "2/28/20",
          "2/29/20"
         ],
         "y": [
          17,
          18,
          26,
          42,
          56,
          82,
          131,
          133,
          171,
          213,
          259,
          361,
          425,
          490,
          562,
          632,
          717,
          804,
          904,
          1011,
          1111,
          1116,
          1368,
          1520,
          1662,
          1765,
          1863,
          2002,
          2114,
          2236,
          2236,
          2441,
          2443,
          2593,
          2663,
          2715,
          2744,
          2788,
          2835
         ]
        }
       ],
       "layout": {
        "showlegend": true,
        "template": {
         "data": {
          "bar": [
           {
            "error_x": {
             "color": "#f2f5fa"
            },
            "error_y": {
             "color": "#f2f5fa"
            },
            "marker": {
             "line": {
              "color": "rgb(17,17,17)",
              "width": 0.5
             }
            },
            "type": "bar"
           }
          ],
          "barpolar": [
           {
            "marker": {
             "line": {
              "color": "rgb(17,17,17)",
              "width": 0.5
             }
            },
            "type": "barpolar"
           }
          ],
          "carpet": [
           {
            "aaxis": {
             "endlinecolor": "#A2B1C6",
             "gridcolor": "#506784",
             "linecolor": "#506784",
             "minorgridcolor": "#506784",
             "startlinecolor": "#A2B1C6"
            },
            "baxis": {
             "endlinecolor": "#A2B1C6",
             "gridcolor": "#506784",
             "linecolor": "#506784",
             "minorgridcolor": "#506784",
             "startlinecolor": "#A2B1C6"
            },
            "type": "carpet"
           }
          ],
          "choropleth": [
           {
            "colorbar": {
             "outlinewidth": 0,
             "ticks": ""
            },
            "type": "choropleth"
           }
          ],
          "contour": [
           {
            "colorbar": {
             "outlinewidth": 0,
             "ticks": ""
            },
            "colorscale": [
             [
              0,
              "#0d0887"
             ],
             [
              0.1111111111111111,
              "#46039f"
             ],
             [
              0.2222222222222222,
              "#7201a8"
             ],
             [
              0.3333333333333333,
              "#9c179e"
             ],
             [
              0.4444444444444444,
              "#bd3786"
             ],
             [
              0.5555555555555556,
              "#d8576b"
             ],
             [
              0.6666666666666666,
              "#ed7953"
             ],
             [
              0.7777777777777778,
              "#fb9f3a"
             ],
             [
              0.8888888888888888,
              "#fdca26"
             ],
             [
              1,
              "#f0f921"
             ]
            ],
            "type": "contour"
           }
          ],
          "contourcarpet": [
           {
            "colorbar": {
             "outlinewidth": 0,
             "ticks": ""
            },
            "type": "contourcarpet"
           }
          ],
          "heatmap": [
           {
            "colorbar": {
             "outlinewidth": 0,
             "ticks": ""
            },
            "colorscale": [
             [
              0,
              "#0d0887"
             ],
             [
              0.1111111111111111,
              "#46039f"
             ],
             [
              0.2222222222222222,
              "#7201a8"
             ],
             [
              0.3333333333333333,
              "#9c179e"
             ],
             [
              0.4444444444444444,
              "#bd3786"
             ],
             [
              0.5555555555555556,
              "#d8576b"
             ],
             [
              0.6666666666666666,
              "#ed7953"
             ],
             [
              0.7777777777777778,
              "#fb9f3a"
             ],
             [
              0.8888888888888888,
              "#fdca26"
             ],
             [
              1,
              "#f0f921"
             ]
            ],
            "type": "heatmap"
           }
          ],
          "heatmapgl": [
           {
            "colorbar": {
             "outlinewidth": 0,
             "ticks": ""
            },
            "colorscale": [
             [
              0,
              "#0d0887"
             ],
             [
              0.1111111111111111,
              "#46039f"
             ],
             [
              0.2222222222222222,
              "#7201a8"
             ],
             [
              0.3333333333333333,
              "#9c179e"
             ],
             [
              0.4444444444444444,
              "#bd3786"
             ],
             [
              0.5555555555555556,
              "#d8576b"
             ],
             [
              0.6666666666666666,
              "#ed7953"
             ],
             [
              0.7777777777777778,
              "#fb9f3a"
             ],
             [
              0.8888888888888888,
              "#fdca26"
             ],
             [
              1,
              "#f0f921"
             ]
            ],
            "type": "heatmapgl"
           }
          ],
          "histogram": [
           {
            "marker": {
             "colorbar": {
              "outlinewidth": 0,
              "ticks": ""
             }
            },
            "type": "histogram"
           }
          ],
          "histogram2d": [
           {
            "colorbar": {
             "outlinewidth": 0,
             "ticks": ""
            },
            "colorscale": [
             [
              0,
              "#0d0887"
             ],
             [
              0.1111111111111111,
              "#46039f"
             ],
             [
              0.2222222222222222,
              "#7201a8"
             ],
             [
              0.3333333333333333,
              "#9c179e"
             ],
             [
              0.4444444444444444,
              "#bd3786"
             ],
             [
              0.5555555555555556,
              "#d8576b"
             ],
             [
              0.6666666666666666,
              "#ed7953"
             ],
             [
              0.7777777777777778,
              "#fb9f3a"
             ],
             [
              0.8888888888888888,
              "#fdca26"
             ],
             [
              1,
              "#f0f921"
             ]
            ],
            "type": "histogram2d"
           }
          ],
          "histogram2dcontour": [
           {
            "colorbar": {
             "outlinewidth": 0,
             "ticks": ""
            },
            "colorscale": [
             [
              0,
              "#0d0887"
             ],
             [
              0.1111111111111111,
              "#46039f"
             ],
             [
              0.2222222222222222,
              "#7201a8"
             ],
             [
              0.3333333333333333,
              "#9c179e"
             ],
             [
              0.4444444444444444,
              "#bd3786"
             ],
             [
              0.5555555555555556,
              "#d8576b"
             ],
             [
              0.6666666666666666,
              "#ed7953"
             ],
             [
              0.7777777777777778,
              "#fb9f3a"
             ],
             [
              0.8888888888888888,
              "#fdca26"
             ],
             [
              1,
              "#f0f921"
             ]
            ],
            "type": "histogram2dcontour"
           }
          ],
          "mesh3d": [
           {
            "colorbar": {
             "outlinewidth": 0,
             "ticks": ""
            },
            "type": "mesh3d"
           }
          ],
          "parcoords": [
           {
            "line": {
             "colorbar": {
              "outlinewidth": 0,
              "ticks": ""
             }
            },
            "type": "parcoords"
           }
          ],
          "pie": [
           {
            "automargin": true,
            "type": "pie"
           }
          ],
          "scatter": [
           {
            "marker": {
             "line": {
              "color": "#283442"
             }
            },
            "type": "scatter"
           }
          ],
          "scatter3d": [
           {
            "line": {
             "colorbar": {
              "outlinewidth": 0,
              "ticks": ""
             }
            },
            "marker": {
             "colorbar": {
              "outlinewidth": 0,
              "ticks": ""
             }
            },
            "type": "scatter3d"
           }
          ],
          "scattercarpet": [
           {
            "marker": {
             "colorbar": {
              "outlinewidth": 0,
              "ticks": ""
             }
            },
            "type": "scattercarpet"
           }
          ],
          "scattergeo": [
           {
            "marker": {
             "colorbar": {
              "outlinewidth": 0,
              "ticks": ""
             }
            },
            "type": "scattergeo"
           }
          ],
          "scattergl": [
           {
            "marker": {
             "line": {
              "color": "#283442"
             }
            },
            "type": "scattergl"
           }
          ],
          "scattermapbox": [
           {
            "marker": {
             "colorbar": {
              "outlinewidth": 0,
              "ticks": ""
             }
            },
            "type": "scattermapbox"
           }
          ],
          "scatterpolar": [
           {
            "marker": {
             "colorbar": {
              "outlinewidth": 0,
              "ticks": ""
             }
            },
            "type": "scatterpolar"
           }
          ],
          "scatterpolargl": [
           {
            "marker": {
             "colorbar": {
              "outlinewidth": 0,
              "ticks": ""
             }
            },
            "type": "scatterpolargl"
           }
          ],
          "scatterternary": [
           {
            "marker": {
             "colorbar": {
              "outlinewidth": 0,
              "ticks": ""
             }
            },
            "type": "scatterternary"
           }
          ],
          "surface": [
           {
            "colorbar": {
             "outlinewidth": 0,
             "ticks": ""
            },
            "colorscale": [
             [
              0,
              "#0d0887"
             ],
             [
              0.1111111111111111,
              "#46039f"
             ],
             [
              0.2222222222222222,
              "#7201a8"
             ],
             [
              0.3333333333333333,
              "#9c179e"
             ],
             [
              0.4444444444444444,
              "#bd3786"
             ],
             [
              0.5555555555555556,
              "#d8576b"
             ],
             [
              0.6666666666666666,
              "#ed7953"
             ],
             [
              0.7777777777777778,
              "#fb9f3a"
             ],
             [
              0.8888888888888888,
              "#fdca26"
             ],
             [
              1,
              "#f0f921"
             ]
            ],
            "type": "surface"
           }
          ],
          "table": [
           {
            "cells": {
             "fill": {
              "color": "#506784"
             },
             "line": {
              "color": "rgb(17,17,17)"
             }
            },
            "header": {
             "fill": {
              "color": "#2a3f5f"
             },
             "line": {
              "color": "rgb(17,17,17)"
             }
            },
            "type": "table"
           }
          ]
         },
         "layout": {
          "annotationdefaults": {
           "arrowcolor": "#f2f5fa",
           "arrowhead": 0,
           "arrowwidth": 1
          },
          "coloraxis": {
           "colorbar": {
            "outlinewidth": 0,
            "ticks": ""
           }
          },
          "colorscale": {
           "diverging": [
            [
             0,
             "#8e0152"
            ],
            [
             0.1,
             "#c51b7d"
            ],
            [
             0.2,
             "#de77ae"
            ],
            [
             0.3,
             "#f1b6da"
            ],
            [
             0.4,
             "#fde0ef"
            ],
            [
             0.5,
             "#f7f7f7"
            ],
            [
             0.6,
             "#e6f5d0"
            ],
            [
             0.7,
             "#b8e186"
            ],
            [
             0.8,
             "#7fbc41"
            ],
            [
             0.9,
             "#4d9221"
            ],
            [
             1,
             "#276419"
            ]
           ],
           "sequential": [
            [
             0,
             "#0d0887"
            ],
            [
             0.1111111111111111,
             "#46039f"
            ],
            [
             0.2222222222222222,
             "#7201a8"
            ],
            [
             0.3333333333333333,
             "#9c179e"
            ],
            [
             0.4444444444444444,
             "#bd3786"
            ],
            [
             0.5555555555555556,
             "#d8576b"
            ],
            [
             0.6666666666666666,
             "#ed7953"
            ],
            [
             0.7777777777777778,
             "#fb9f3a"
            ],
            [
             0.8888888888888888,
             "#fdca26"
            ],
            [
             1,
             "#f0f921"
            ]
           ],
           "sequentialminus": [
            [
             0,
             "#0d0887"
            ],
            [
             0.1111111111111111,
             "#46039f"
            ],
            [
             0.2222222222222222,
             "#7201a8"
            ],
            [
             0.3333333333333333,
             "#9c179e"
            ],
            [
             0.4444444444444444,
             "#bd3786"
            ],
            [
             0.5555555555555556,
             "#d8576b"
            ],
            [
             0.6666666666666666,
             "#ed7953"
            ],
            [
             0.7777777777777778,
             "#fb9f3a"
            ],
            [
             0.8888888888888888,
             "#fdca26"
            ],
            [
             1,
             "#f0f921"
            ]
           ]
          },
          "colorway": [
           "#636efa",
           "#EF553B",
           "#00cc96",
           "#ab63fa",
           "#FFA15A",
           "#19d3f3",
           "#FF6692",
           "#B6E880",
           "#FF97FF",
           "#FECB52"
          ],
          "font": {
           "color": "#f2f5fa"
          },
          "geo": {
           "bgcolor": "rgb(17,17,17)",
           "lakecolor": "rgb(17,17,17)",
           "landcolor": "rgb(17,17,17)",
           "showlakes": true,
           "showland": true,
           "subunitcolor": "#506784"
          },
          "hoverlabel": {
           "align": "left"
          },
          "hovermode": "closest",
          "mapbox": {
           "style": "dark"
          },
          "paper_bgcolor": "rgb(17,17,17)",
          "plot_bgcolor": "rgb(17,17,17)",
          "polar": {
           "angularaxis": {
            "gridcolor": "#506784",
            "linecolor": "#506784",
            "ticks": ""
           },
           "bgcolor": "rgb(17,17,17)",
           "radialaxis": {
            "gridcolor": "#506784",
            "linecolor": "#506784",
            "ticks": ""
           }
          },
          "scene": {
           "xaxis": {
            "backgroundcolor": "rgb(17,17,17)",
            "gridcolor": "#506784",
            "gridwidth": 2,
            "linecolor": "#506784",
            "showbackground": true,
            "ticks": "",
            "zerolinecolor": "#C8D4E3"
           },
           "yaxis": {
            "backgroundcolor": "rgb(17,17,17)",
            "gridcolor": "#506784",
            "gridwidth": 2,
            "linecolor": "#506784",
            "showbackground": true,
            "ticks": "",
            "zerolinecolor": "#C8D4E3"
           },
           "zaxis": {
            "backgroundcolor": "rgb(17,17,17)",
            "gridcolor": "#506784",
            "gridwidth": 2,
            "linecolor": "#506784",
            "showbackground": true,
            "ticks": "",
            "zerolinecolor": "#C8D4E3"
           }
          },
          "shapedefaults": {
           "line": {
            "color": "#f2f5fa"
           }
          },
          "sliderdefaults": {
           "bgcolor": "#C8D4E3",
           "bordercolor": "rgb(17,17,17)",
           "borderwidth": 1,
           "tickwidth": 0
          },
          "ternary": {
           "aaxis": {
            "gridcolor": "#506784",
            "linecolor": "#506784",
            "ticks": ""
           },
           "baxis": {
            "gridcolor": "#506784",
            "linecolor": "#506784",
            "ticks": ""
           },
           "bgcolor": "rgb(17,17,17)",
           "caxis": {
            "gridcolor": "#506784",
            "linecolor": "#506784",
            "ticks": ""
           }
          },
          "title": {
           "x": 0.05
          },
          "updatemenudefaults": {
           "bgcolor": "#506784",
           "borderwidth": 0
          },
          "xaxis": {
           "automargin": true,
           "gridcolor": "#283442",
           "linecolor": "#506784",
           "ticks": "",
           "title": {
            "standoff": 15
           },
           "zerolinecolor": "#283442",
           "zerolinewidth": 2
          },
          "yaxis": {
           "automargin": true,
           "gridcolor": "#283442",
           "linecolor": "#506784",
           "ticks": "",
           "title": {
            "standoff": 15
           },
           "zerolinecolor": "#283442",
           "zerolinewidth": 2
          }
         }
        },
        "title": {
         "text": "Deaths timeseries in china"
        },
        "xaxis": {
         "title": {
          "text": "Dates in mm/dd/yy"
         }
        },
        "yaxis": {
         "title": {
          "text": "Death count"
         }
        }
       }
      },
      "text/html": [
       "<div>\n",
       "        \n",
       "        \n",
       "            <div id=\"37aa8ad8-b18d-49fb-be24-62135c9a7b91\" class=\"plotly-graph-div\" style=\"height:525px; width:100%;\"></div>\n",
       "            <script type=\"text/javascript\">\n",
       "                require([\"plotly\"], function(Plotly) {\n",
       "                    window.PLOTLYENV=window.PLOTLYENV || {};\n",
       "                    \n",
       "                if (document.getElementById(\"37aa8ad8-b18d-49fb-be24-62135c9a7b91\")) {\n",
       "                    Plotly.newPlot(\n",
       "                        '37aa8ad8-b18d-49fb-be24-62135c9a7b91',\n",
       "                        [{\"line\": {\"color\": \"#FC4E2A\"}, \"mode\": \"lines+markers\", \"name\": \"Deaths\", \"type\": \"scatter\", \"x\": [\"1/22/20\", \"1/23/20\", \"1/24/20\", \"1/25/20\", \"1/26/20\", \"1/27/20\", \"1/28/20\", \"1/29/20\", \"1/30/20\", \"1/31/20\", \"2/1/20\", \"2/2/20\", \"2/3/20\", \"2/4/20\", \"2/5/20\", \"2/6/20\", \"2/7/20\", \"2/8/20\", \"2/9/20\", \"2/10/20\", \"2/11/20\", \"2/12/20\", \"2/13/20\", \"2/14/20\", \"2/15/20\", \"2/16/20\", \"2/17/20\", \"2/18/20\", \"2/19/20\", \"2/20/20\", \"2/21/20\", \"2/22/20\", \"2/23/20\", \"2/24/20\", \"2/25/20\", \"2/26/20\", \"2/27/20\", \"2/28/20\", \"2/29/20\"], \"y\": [17, 18, 26, 42, 56, 82, 131, 133, 171, 213, 259, 361, 425, 490, 562, 632, 717, 804, 904, 1011, 1111, 1116, 1368, 1520, 1662, 1765, 1863, 2002, 2114, 2236, 2236, 2441, 2443, 2593, 2663, 2715, 2744, 2788, 2835]}],\n",
       "                        {\"showlegend\": true, \"template\": {\"data\": {\"bar\": [{\"error_x\": {\"color\": \"#f2f5fa\"}, \"error_y\": {\"color\": \"#f2f5fa\"}, \"marker\": {\"line\": {\"color\": \"rgb(17,17,17)\", \"width\": 0.5}}, \"type\": \"bar\"}], \"barpolar\": [{\"marker\": {\"line\": {\"color\": \"rgb(17,17,17)\", \"width\": 0.5}}, \"type\": \"barpolar\"}], \"carpet\": [{\"aaxis\": {\"endlinecolor\": \"#A2B1C6\", \"gridcolor\": \"#506784\", \"linecolor\": \"#506784\", \"minorgridcolor\": \"#506784\", \"startlinecolor\": \"#A2B1C6\"}, \"baxis\": {\"endlinecolor\": \"#A2B1C6\", \"gridcolor\": \"#506784\", \"linecolor\": \"#506784\", \"minorgridcolor\": \"#506784\", \"startlinecolor\": \"#A2B1C6\"}, \"type\": \"carpet\"}], \"choropleth\": [{\"colorbar\": {\"outlinewidth\": 0, \"ticks\": \"\"}, \"type\": \"choropleth\"}], \"contour\": [{\"colorbar\": {\"outlinewidth\": 0, \"ticks\": \"\"}, \"colorscale\": [[0.0, \"#0d0887\"], [0.1111111111111111, \"#46039f\"], [0.2222222222222222, \"#7201a8\"], [0.3333333333333333, \"#9c179e\"], [0.4444444444444444, \"#bd3786\"], [0.5555555555555556, \"#d8576b\"], [0.6666666666666666, \"#ed7953\"], [0.7777777777777778, \"#fb9f3a\"], [0.8888888888888888, \"#fdca26\"], [1.0, \"#f0f921\"]], \"type\": \"contour\"}], \"contourcarpet\": [{\"colorbar\": {\"outlinewidth\": 0, \"ticks\": \"\"}, \"type\": \"contourcarpet\"}], \"heatmap\": [{\"colorbar\": {\"outlinewidth\": 0, \"ticks\": \"\"}, \"colorscale\": [[0.0, \"#0d0887\"], [0.1111111111111111, \"#46039f\"], [0.2222222222222222, \"#7201a8\"], [0.3333333333333333, \"#9c179e\"], [0.4444444444444444, \"#bd3786\"], [0.5555555555555556, \"#d8576b\"], [0.6666666666666666, \"#ed7953\"], [0.7777777777777778, \"#fb9f3a\"], [0.8888888888888888, \"#fdca26\"], [1.0, \"#f0f921\"]], \"type\": \"heatmap\"}], \"heatmapgl\": [{\"colorbar\": {\"outlinewidth\": 0, \"ticks\": \"\"}, \"colorscale\": [[0.0, \"#0d0887\"], [0.1111111111111111, \"#46039f\"], [0.2222222222222222, \"#7201a8\"], [0.3333333333333333, \"#9c179e\"], [0.4444444444444444, \"#bd3786\"], [0.5555555555555556, \"#d8576b\"], [0.6666666666666666, \"#ed7953\"], [0.7777777777777778, \"#fb9f3a\"], [0.8888888888888888, \"#fdca26\"], [1.0, \"#f0f921\"]], \"type\": \"heatmapgl\"}], \"histogram\": [{\"marker\": {\"colorbar\": {\"outlinewidth\": 0, \"ticks\": \"\"}}, \"type\": \"histogram\"}], \"histogram2d\": [{\"colorbar\": {\"outlinewidth\": 0, \"ticks\": \"\"}, \"colorscale\": [[0.0, \"#0d0887\"], [0.1111111111111111, \"#46039f\"], [0.2222222222222222, \"#7201a8\"], [0.3333333333333333, \"#9c179e\"], [0.4444444444444444, \"#bd3786\"], [0.5555555555555556, \"#d8576b\"], [0.6666666666666666, \"#ed7953\"], [0.7777777777777778, \"#fb9f3a\"], [0.8888888888888888, \"#fdca26\"], [1.0, \"#f0f921\"]], \"type\": \"histogram2d\"}], \"histogram2dcontour\": [{\"colorbar\": {\"outlinewidth\": 0, \"ticks\": \"\"}, \"colorscale\": [[0.0, \"#0d0887\"], [0.1111111111111111, \"#46039f\"], [0.2222222222222222, \"#7201a8\"], [0.3333333333333333, \"#9c179e\"], [0.4444444444444444, \"#bd3786\"], [0.5555555555555556, \"#d8576b\"], [0.6666666666666666, \"#ed7953\"], [0.7777777777777778, \"#fb9f3a\"], [0.8888888888888888, \"#fdca26\"], [1.0, \"#f0f921\"]], \"type\": \"histogram2dcontour\"}], \"mesh3d\": [{\"colorbar\": {\"outlinewidth\": 0, \"ticks\": \"\"}, \"type\": \"mesh3d\"}], \"parcoords\": [{\"line\": {\"colorbar\": {\"outlinewidth\": 0, \"ticks\": \"\"}}, \"type\": \"parcoords\"}], \"pie\": [{\"automargin\": true, \"type\": \"pie\"}], \"scatter\": [{\"marker\": {\"line\": {\"color\": \"#283442\"}}, \"type\": \"scatter\"}], \"scatter3d\": [{\"line\": {\"colorbar\": {\"outlinewidth\": 0, \"ticks\": \"\"}}, \"marker\": {\"colorbar\": {\"outlinewidth\": 0, \"ticks\": \"\"}}, \"type\": \"scatter3d\"}], \"scattercarpet\": [{\"marker\": {\"colorbar\": {\"outlinewidth\": 0, \"ticks\": \"\"}}, \"type\": \"scattercarpet\"}], \"scattergeo\": [{\"marker\": {\"colorbar\": {\"outlinewidth\": 0, \"ticks\": \"\"}}, \"type\": \"scattergeo\"}], \"scattergl\": [{\"marker\": {\"line\": {\"color\": \"#283442\"}}, \"type\": \"scattergl\"}], \"scattermapbox\": [{\"marker\": {\"colorbar\": {\"outlinewidth\": 0, \"ticks\": \"\"}}, \"type\": \"scattermapbox\"}], \"scatterpolar\": [{\"marker\": {\"colorbar\": {\"outlinewidth\": 0, \"ticks\": \"\"}}, \"type\": \"scatterpolar\"}], \"scatterpolargl\": [{\"marker\": {\"colorbar\": {\"outlinewidth\": 0, \"ticks\": \"\"}}, \"type\": \"scatterpolargl\"}], \"scatterternary\": [{\"marker\": {\"colorbar\": {\"outlinewidth\": 0, \"ticks\": \"\"}}, \"type\": \"scatterternary\"}], \"surface\": [{\"colorbar\": {\"outlinewidth\": 0, \"ticks\": \"\"}, \"colorscale\": [[0.0, \"#0d0887\"], [0.1111111111111111, \"#46039f\"], [0.2222222222222222, \"#7201a8\"], [0.3333333333333333, \"#9c179e\"], [0.4444444444444444, \"#bd3786\"], [0.5555555555555556, \"#d8576b\"], [0.6666666666666666, \"#ed7953\"], [0.7777777777777778, \"#fb9f3a\"], [0.8888888888888888, \"#fdca26\"], [1.0, \"#f0f921\"]], \"type\": \"surface\"}], \"table\": [{\"cells\": {\"fill\": {\"color\": \"#506784\"}, \"line\": {\"color\": \"rgb(17,17,17)\"}}, \"header\": {\"fill\": {\"color\": \"#2a3f5f\"}, \"line\": {\"color\": \"rgb(17,17,17)\"}}, \"type\": \"table\"}]}, \"layout\": {\"annotationdefaults\": {\"arrowcolor\": \"#f2f5fa\", \"arrowhead\": 0, \"arrowwidth\": 1}, \"coloraxis\": {\"colorbar\": {\"outlinewidth\": 0, \"ticks\": \"\"}}, \"colorscale\": {\"diverging\": [[0, \"#8e0152\"], [0.1, \"#c51b7d\"], [0.2, \"#de77ae\"], [0.3, \"#f1b6da\"], [0.4, \"#fde0ef\"], [0.5, \"#f7f7f7\"], [0.6, \"#e6f5d0\"], [0.7, \"#b8e186\"], [0.8, \"#7fbc41\"], [0.9, \"#4d9221\"], [1, \"#276419\"]], \"sequential\": [[0.0, \"#0d0887\"], [0.1111111111111111, \"#46039f\"], [0.2222222222222222, \"#7201a8\"], [0.3333333333333333, \"#9c179e\"], [0.4444444444444444, \"#bd3786\"], [0.5555555555555556, \"#d8576b\"], [0.6666666666666666, \"#ed7953\"], [0.7777777777777778, \"#fb9f3a\"], [0.8888888888888888, \"#fdca26\"], [1.0, \"#f0f921\"]], \"sequentialminus\": [[0.0, \"#0d0887\"], [0.1111111111111111, \"#46039f\"], [0.2222222222222222, \"#7201a8\"], [0.3333333333333333, \"#9c179e\"], [0.4444444444444444, \"#bd3786\"], [0.5555555555555556, \"#d8576b\"], [0.6666666666666666, \"#ed7953\"], [0.7777777777777778, \"#fb9f3a\"], [0.8888888888888888, \"#fdca26\"], [1.0, \"#f0f921\"]]}, \"colorway\": [\"#636efa\", \"#EF553B\", \"#00cc96\", \"#ab63fa\", \"#FFA15A\", \"#19d3f3\", \"#FF6692\", \"#B6E880\", \"#FF97FF\", \"#FECB52\"], \"font\": {\"color\": \"#f2f5fa\"}, \"geo\": {\"bgcolor\": \"rgb(17,17,17)\", \"lakecolor\": \"rgb(17,17,17)\", \"landcolor\": \"rgb(17,17,17)\", \"showlakes\": true, \"showland\": true, \"subunitcolor\": \"#506784\"}, \"hoverlabel\": {\"align\": \"left\"}, \"hovermode\": \"closest\", \"mapbox\": {\"style\": \"dark\"}, \"paper_bgcolor\": \"rgb(17,17,17)\", \"plot_bgcolor\": \"rgb(17,17,17)\", \"polar\": {\"angularaxis\": {\"gridcolor\": \"#506784\", \"linecolor\": \"#506784\", \"ticks\": \"\"}, \"bgcolor\": \"rgb(17,17,17)\", \"radialaxis\": {\"gridcolor\": \"#506784\", \"linecolor\": \"#506784\", \"ticks\": \"\"}}, \"scene\": {\"xaxis\": {\"backgroundcolor\": \"rgb(17,17,17)\", \"gridcolor\": \"#506784\", \"gridwidth\": 2, \"linecolor\": \"#506784\", \"showbackground\": true, \"ticks\": \"\", \"zerolinecolor\": \"#C8D4E3\"}, \"yaxis\": {\"backgroundcolor\": \"rgb(17,17,17)\", \"gridcolor\": \"#506784\", \"gridwidth\": 2, \"linecolor\": \"#506784\", \"showbackground\": true, \"ticks\": \"\", \"zerolinecolor\": \"#C8D4E3\"}, \"zaxis\": {\"backgroundcolor\": \"rgb(17,17,17)\", \"gridcolor\": \"#506784\", \"gridwidth\": 2, \"linecolor\": \"#506784\", \"showbackground\": true, \"ticks\": \"\", \"zerolinecolor\": \"#C8D4E3\"}}, \"shapedefaults\": {\"line\": {\"color\": \"#f2f5fa\"}}, \"sliderdefaults\": {\"bgcolor\": \"#C8D4E3\", \"bordercolor\": \"rgb(17,17,17)\", \"borderwidth\": 1, \"tickwidth\": 0}, \"ternary\": {\"aaxis\": {\"gridcolor\": \"#506784\", \"linecolor\": \"#506784\", \"ticks\": \"\"}, \"baxis\": {\"gridcolor\": \"#506784\", \"linecolor\": \"#506784\", \"ticks\": \"\"}, \"bgcolor\": \"rgb(17,17,17)\", \"caxis\": {\"gridcolor\": \"#506784\", \"linecolor\": \"#506784\", \"ticks\": \"\"}}, \"title\": {\"x\": 0.05}, \"updatemenudefaults\": {\"bgcolor\": \"#506784\", \"borderwidth\": 0}, \"xaxis\": {\"automargin\": true, \"gridcolor\": \"#283442\", \"linecolor\": \"#506784\", \"ticks\": \"\", \"title\": {\"standoff\": 15}, \"zerolinecolor\": \"#283442\", \"zerolinewidth\": 2}, \"yaxis\": {\"automargin\": true, \"gridcolor\": \"#283442\", \"linecolor\": \"#506784\", \"ticks\": \"\", \"title\": {\"standoff\": 15}, \"zerolinecolor\": \"#283442\", \"zerolinewidth\": 2}}}, \"title\": {\"text\": \"Deaths timeseries in china\"}, \"xaxis\": {\"title\": {\"text\": \"Dates in mm/dd/yy\"}}, \"yaxis\": {\"title\": {\"text\": \"Death count\"}}},\n",
       "                        {\"responsive\": true}\n",
       "                    ).then(function(){\n",
       "                            \n",
       "var gd = document.getElementById('37aa8ad8-b18d-49fb-be24-62135c9a7b91');\n",
       "var x = new MutationObserver(function (mutations, observer) {{\n",
       "        var display = window.getComputedStyle(gd).display;\n",
       "        if (!display || display === 'none') {{\n",
       "            console.log([gd, 'removed!']);\n",
       "            Plotly.purge(gd);\n",
       "            observer.disconnect();\n",
       "        }}\n",
       "}});\n",
       "\n",
       "// Listen for the removal of the full notebook cells\n",
       "var notebookContainer = gd.closest('#notebook-container');\n",
       "if (notebookContainer) {{\n",
       "    x.observe(notebookContainer, {childList: true});\n",
       "}}\n",
       "\n",
       "// Listen for the clearing of the current output cell\n",
       "var outputEl = gd.closest('.output');\n",
       "if (outputEl) {{\n",
       "    x.observe(outputEl, {childList: true});\n",
       "}}\n",
       "\n",
       "                        })\n",
       "                };\n",
       "                });\n",
       "            </script>\n",
       "        </div>"
      ]
     },
     "metadata": {},
     "output_type": "display_data"
    }
   ],
   "source": [
    "fig_china_deaths = go.Figure()\n",
    "\n",
    "fig_china_deaths.add_trace(go.Scatter(x=CHINA_MAIN_FRAME['Date'], y=CHINA_MAIN_FRAME['Deaths in MainLand China'], name=\"Deaths\",\n",
    "                         line_color='#FC4E2A',mode='lines+markers'))\n",
    "fig_china_deaths.update_layout(title=\"Deaths timeseries in china\",template=\"plotly_dark\",xaxis_title=\"Dates in mm/dd/yy\",\n",
    "    yaxis_title=\"Death count\",showlegend=True)\n",
    "\n",
    "\n",
    "fig_china_deaths.show()"
   ]
  },
  {
   "cell_type": "code",
   "execution_count": 1205,
   "metadata": {
    "scrolled": true
   },
   "outputs": [
    {
     "data": {
      "application/vnd.plotly.v1+json": {
       "config": {
        "plotlyServerURL": "https://plot.ly"
       },
       "data": [
        {
         "line": {
          "color": "#B8E186"
         },
         "mode": "lines+markers",
         "name": "Recovered",
         "type": "scatter",
         "x": [
          "1/22/20",
          "1/23/20",
          "1/24/20",
          "1/25/20",
          "1/26/20",
          "1/27/20",
          "1/28/20",
          "1/29/20",
          "1/30/20",
          "1/31/20",
          "2/1/20",
          "2/2/20",
          "2/3/20",
          "2/4/20",
          "2/5/20",
          "2/6/20",
          "2/7/20",
          "2/8/20",
          "2/9/20",
          "2/10/20",
          "2/11/20",
          "2/12/20",
          "2/13/20",
          "2/14/20",
          "2/15/20",
          "2/16/20",
          "2/17/20",
          "2/18/20",
          "2/19/20",
          "2/20/20",
          "2/21/20",
          "2/22/20",
          "2/23/20",
          "2/24/20",
          "2/25/20",
          "2/26/20",
          "2/27/20",
          "2/28/20",
          "2/29/20"
         ],
         "y": [
          28,
          30,
          36,
          39,
          49,
          58,
          101,
          120,
          135,
          214,
          275,
          463,
          614,
          843,
          1115,
          1476,
          1998,
          2595,
          3218,
          3917,
          4635,
          5079,
          6213,
          7973,
          9294,
          10748,
          12455,
          14199,
          15952,
          18002,
          18693,
          22687,
          23170,
          24990,
          27650,
          30053,
          32898,
          36291,
          39279
         ]
        }
       ],
       "layout": {
        "showlegend": true,
        "template": {
         "data": {
          "bar": [
           {
            "error_x": {
             "color": "#f2f5fa"
            },
            "error_y": {
             "color": "#f2f5fa"
            },
            "marker": {
             "line": {
              "color": "rgb(17,17,17)",
              "width": 0.5
             }
            },
            "type": "bar"
           }
          ],
          "barpolar": [
           {
            "marker": {
             "line": {
              "color": "rgb(17,17,17)",
              "width": 0.5
             }
            },
            "type": "barpolar"
           }
          ],
          "carpet": [
           {
            "aaxis": {
             "endlinecolor": "#A2B1C6",
             "gridcolor": "#506784",
             "linecolor": "#506784",
             "minorgridcolor": "#506784",
             "startlinecolor": "#A2B1C6"
            },
            "baxis": {
             "endlinecolor": "#A2B1C6",
             "gridcolor": "#506784",
             "linecolor": "#506784",
             "minorgridcolor": "#506784",
             "startlinecolor": "#A2B1C6"
            },
            "type": "carpet"
           }
          ],
          "choropleth": [
           {
            "colorbar": {
             "outlinewidth": 0,
             "ticks": ""
            },
            "type": "choropleth"
           }
          ],
          "contour": [
           {
            "colorbar": {
             "outlinewidth": 0,
             "ticks": ""
            },
            "colorscale": [
             [
              0,
              "#0d0887"
             ],
             [
              0.1111111111111111,
              "#46039f"
             ],
             [
              0.2222222222222222,
              "#7201a8"
             ],
             [
              0.3333333333333333,
              "#9c179e"
             ],
             [
              0.4444444444444444,
              "#bd3786"
             ],
             [
              0.5555555555555556,
              "#d8576b"
             ],
             [
              0.6666666666666666,
              "#ed7953"
             ],
             [
              0.7777777777777778,
              "#fb9f3a"
             ],
             [
              0.8888888888888888,
              "#fdca26"
             ],
             [
              1,
              "#f0f921"
             ]
            ],
            "type": "contour"
           }
          ],
          "contourcarpet": [
           {
            "colorbar": {
             "outlinewidth": 0,
             "ticks": ""
            },
            "type": "contourcarpet"
           }
          ],
          "heatmap": [
           {
            "colorbar": {
             "outlinewidth": 0,
             "ticks": ""
            },
            "colorscale": [
             [
              0,
              "#0d0887"
             ],
             [
              0.1111111111111111,
              "#46039f"
             ],
             [
              0.2222222222222222,
              "#7201a8"
             ],
             [
              0.3333333333333333,
              "#9c179e"
             ],
             [
              0.4444444444444444,
              "#bd3786"
             ],
             [
              0.5555555555555556,
              "#d8576b"
             ],
             [
              0.6666666666666666,
              "#ed7953"
             ],
             [
              0.7777777777777778,
              "#fb9f3a"
             ],
             [
              0.8888888888888888,
              "#fdca26"
             ],
             [
              1,
              "#f0f921"
             ]
            ],
            "type": "heatmap"
           }
          ],
          "heatmapgl": [
           {
            "colorbar": {
             "outlinewidth": 0,
             "ticks": ""
            },
            "colorscale": [
             [
              0,
              "#0d0887"
             ],
             [
              0.1111111111111111,
              "#46039f"
             ],
             [
              0.2222222222222222,
              "#7201a8"
             ],
             [
              0.3333333333333333,
              "#9c179e"
             ],
             [
              0.4444444444444444,
              "#bd3786"
             ],
             [
              0.5555555555555556,
              "#d8576b"
             ],
             [
              0.6666666666666666,
              "#ed7953"
             ],
             [
              0.7777777777777778,
              "#fb9f3a"
             ],
             [
              0.8888888888888888,
              "#fdca26"
             ],
             [
              1,
              "#f0f921"
             ]
            ],
            "type": "heatmapgl"
           }
          ],
          "histogram": [
           {
            "marker": {
             "colorbar": {
              "outlinewidth": 0,
              "ticks": ""
             }
            },
            "type": "histogram"
           }
          ],
          "histogram2d": [
           {
            "colorbar": {
             "outlinewidth": 0,
             "ticks": ""
            },
            "colorscale": [
             [
              0,
              "#0d0887"
             ],
             [
              0.1111111111111111,
              "#46039f"
             ],
             [
              0.2222222222222222,
              "#7201a8"
             ],
             [
              0.3333333333333333,
              "#9c179e"
             ],
             [
              0.4444444444444444,
              "#bd3786"
             ],
             [
              0.5555555555555556,
              "#d8576b"
             ],
             [
              0.6666666666666666,
              "#ed7953"
             ],
             [
              0.7777777777777778,
              "#fb9f3a"
             ],
             [
              0.8888888888888888,
              "#fdca26"
             ],
             [
              1,
              "#f0f921"
             ]
            ],
            "type": "histogram2d"
           }
          ],
          "histogram2dcontour": [
           {
            "colorbar": {
             "outlinewidth": 0,
             "ticks": ""
            },
            "colorscale": [
             [
              0,
              "#0d0887"
             ],
             [
              0.1111111111111111,
              "#46039f"
             ],
             [
              0.2222222222222222,
              "#7201a8"
             ],
             [
              0.3333333333333333,
              "#9c179e"
             ],
             [
              0.4444444444444444,
              "#bd3786"
             ],
             [
              0.5555555555555556,
              "#d8576b"
             ],
             [
              0.6666666666666666,
              "#ed7953"
             ],
             [
              0.7777777777777778,
              "#fb9f3a"
             ],
             [
              0.8888888888888888,
              "#fdca26"
             ],
             [
              1,
              "#f0f921"
             ]
            ],
            "type": "histogram2dcontour"
           }
          ],
          "mesh3d": [
           {
            "colorbar": {
             "outlinewidth": 0,
             "ticks": ""
            },
            "type": "mesh3d"
           }
          ],
          "parcoords": [
           {
            "line": {
             "colorbar": {
              "outlinewidth": 0,
              "ticks": ""
             }
            },
            "type": "parcoords"
           }
          ],
          "pie": [
           {
            "automargin": true,
            "type": "pie"
           }
          ],
          "scatter": [
           {
            "marker": {
             "line": {
              "color": "#283442"
             }
            },
            "type": "scatter"
           }
          ],
          "scatter3d": [
           {
            "line": {
             "colorbar": {
              "outlinewidth": 0,
              "ticks": ""
             }
            },
            "marker": {
             "colorbar": {
              "outlinewidth": 0,
              "ticks": ""
             }
            },
            "type": "scatter3d"
           }
          ],
          "scattercarpet": [
           {
            "marker": {
             "colorbar": {
              "outlinewidth": 0,
              "ticks": ""
             }
            },
            "type": "scattercarpet"
           }
          ],
          "scattergeo": [
           {
            "marker": {
             "colorbar": {
              "outlinewidth": 0,
              "ticks": ""
             }
            },
            "type": "scattergeo"
           }
          ],
          "scattergl": [
           {
            "marker": {
             "line": {
              "color": "#283442"
             }
            },
            "type": "scattergl"
           }
          ],
          "scattermapbox": [
           {
            "marker": {
             "colorbar": {
              "outlinewidth": 0,
              "ticks": ""
             }
            },
            "type": "scattermapbox"
           }
          ],
          "scatterpolar": [
           {
            "marker": {
             "colorbar": {
              "outlinewidth": 0,
              "ticks": ""
             }
            },
            "type": "scatterpolar"
           }
          ],
          "scatterpolargl": [
           {
            "marker": {
             "colorbar": {
              "outlinewidth": 0,
              "ticks": ""
             }
            },
            "type": "scatterpolargl"
           }
          ],
          "scatterternary": [
           {
            "marker": {
             "colorbar": {
              "outlinewidth": 0,
              "ticks": ""
             }
            },
            "type": "scatterternary"
           }
          ],
          "surface": [
           {
            "colorbar": {
             "outlinewidth": 0,
             "ticks": ""
            },
            "colorscale": [
             [
              0,
              "#0d0887"
             ],
             [
              0.1111111111111111,
              "#46039f"
             ],
             [
              0.2222222222222222,
              "#7201a8"
             ],
             [
              0.3333333333333333,
              "#9c179e"
             ],
             [
              0.4444444444444444,
              "#bd3786"
             ],
             [
              0.5555555555555556,
              "#d8576b"
             ],
             [
              0.6666666666666666,
              "#ed7953"
             ],
             [
              0.7777777777777778,
              "#fb9f3a"
             ],
             [
              0.8888888888888888,
              "#fdca26"
             ],
             [
              1,
              "#f0f921"
             ]
            ],
            "type": "surface"
           }
          ],
          "table": [
           {
            "cells": {
             "fill": {
              "color": "#506784"
             },
             "line": {
              "color": "rgb(17,17,17)"
             }
            },
            "header": {
             "fill": {
              "color": "#2a3f5f"
             },
             "line": {
              "color": "rgb(17,17,17)"
             }
            },
            "type": "table"
           }
          ]
         },
         "layout": {
          "annotationdefaults": {
           "arrowcolor": "#f2f5fa",
           "arrowhead": 0,
           "arrowwidth": 1
          },
          "coloraxis": {
           "colorbar": {
            "outlinewidth": 0,
            "ticks": ""
           }
          },
          "colorscale": {
           "diverging": [
            [
             0,
             "#8e0152"
            ],
            [
             0.1,
             "#c51b7d"
            ],
            [
             0.2,
             "#de77ae"
            ],
            [
             0.3,
             "#f1b6da"
            ],
            [
             0.4,
             "#fde0ef"
            ],
            [
             0.5,
             "#f7f7f7"
            ],
            [
             0.6,
             "#e6f5d0"
            ],
            [
             0.7,
             "#b8e186"
            ],
            [
             0.8,
             "#7fbc41"
            ],
            [
             0.9,
             "#4d9221"
            ],
            [
             1,
             "#276419"
            ]
           ],
           "sequential": [
            [
             0,
             "#0d0887"
            ],
            [
             0.1111111111111111,
             "#46039f"
            ],
            [
             0.2222222222222222,
             "#7201a8"
            ],
            [
             0.3333333333333333,
             "#9c179e"
            ],
            [
             0.4444444444444444,
             "#bd3786"
            ],
            [
             0.5555555555555556,
             "#d8576b"
            ],
            [
             0.6666666666666666,
             "#ed7953"
            ],
            [
             0.7777777777777778,
             "#fb9f3a"
            ],
            [
             0.8888888888888888,
             "#fdca26"
            ],
            [
             1,
             "#f0f921"
            ]
           ],
           "sequentialminus": [
            [
             0,
             "#0d0887"
            ],
            [
             0.1111111111111111,
             "#46039f"
            ],
            [
             0.2222222222222222,
             "#7201a8"
            ],
            [
             0.3333333333333333,
             "#9c179e"
            ],
            [
             0.4444444444444444,
             "#bd3786"
            ],
            [
             0.5555555555555556,
             "#d8576b"
            ],
            [
             0.6666666666666666,
             "#ed7953"
            ],
            [
             0.7777777777777778,
             "#fb9f3a"
            ],
            [
             0.8888888888888888,
             "#fdca26"
            ],
            [
             1,
             "#f0f921"
            ]
           ]
          },
          "colorway": [
           "#636efa",
           "#EF553B",
           "#00cc96",
           "#ab63fa",
           "#FFA15A",
           "#19d3f3",
           "#FF6692",
           "#B6E880",
           "#FF97FF",
           "#FECB52"
          ],
          "font": {
           "color": "#f2f5fa"
          },
          "geo": {
           "bgcolor": "rgb(17,17,17)",
           "lakecolor": "rgb(17,17,17)",
           "landcolor": "rgb(17,17,17)",
           "showlakes": true,
           "showland": true,
           "subunitcolor": "#506784"
          },
          "hoverlabel": {
           "align": "left"
          },
          "hovermode": "closest",
          "mapbox": {
           "style": "dark"
          },
          "paper_bgcolor": "rgb(17,17,17)",
          "plot_bgcolor": "rgb(17,17,17)",
          "polar": {
           "angularaxis": {
            "gridcolor": "#506784",
            "linecolor": "#506784",
            "ticks": ""
           },
           "bgcolor": "rgb(17,17,17)",
           "radialaxis": {
            "gridcolor": "#506784",
            "linecolor": "#506784",
            "ticks": ""
           }
          },
          "scene": {
           "xaxis": {
            "backgroundcolor": "rgb(17,17,17)",
            "gridcolor": "#506784",
            "gridwidth": 2,
            "linecolor": "#506784",
            "showbackground": true,
            "ticks": "",
            "zerolinecolor": "#C8D4E3"
           },
           "yaxis": {
            "backgroundcolor": "rgb(17,17,17)",
            "gridcolor": "#506784",
            "gridwidth": 2,
            "linecolor": "#506784",
            "showbackground": true,
            "ticks": "",
            "zerolinecolor": "#C8D4E3"
           },
           "zaxis": {
            "backgroundcolor": "rgb(17,17,17)",
            "gridcolor": "#506784",
            "gridwidth": 2,
            "linecolor": "#506784",
            "showbackground": true,
            "ticks": "",
            "zerolinecolor": "#C8D4E3"
           }
          },
          "shapedefaults": {
           "line": {
            "color": "#f2f5fa"
           }
          },
          "sliderdefaults": {
           "bgcolor": "#C8D4E3",
           "bordercolor": "rgb(17,17,17)",
           "borderwidth": 1,
           "tickwidth": 0
          },
          "ternary": {
           "aaxis": {
            "gridcolor": "#506784",
            "linecolor": "#506784",
            "ticks": ""
           },
           "baxis": {
            "gridcolor": "#506784",
            "linecolor": "#506784",
            "ticks": ""
           },
           "bgcolor": "rgb(17,17,17)",
           "caxis": {
            "gridcolor": "#506784",
            "linecolor": "#506784",
            "ticks": ""
           }
          },
          "title": {
           "x": 0.05
          },
          "updatemenudefaults": {
           "bgcolor": "#506784",
           "borderwidth": 0
          },
          "xaxis": {
           "automargin": true,
           "gridcolor": "#283442",
           "linecolor": "#506784",
           "ticks": "",
           "title": {
            "standoff": 15
           },
           "zerolinecolor": "#283442",
           "zerolinewidth": 2
          },
          "yaxis": {
           "automargin": true,
           "gridcolor": "#283442",
           "linecolor": "#506784",
           "ticks": "",
           "title": {
            "standoff": 15
           },
           "zerolinecolor": "#283442",
           "zerolinewidth": 2
          }
         }
        },
        "title": {
         "text": "Recovered timeseries in china"
        },
        "xaxis": {
         "title": {
          "text": "Dates in mm/dd/yy"
         }
        },
        "yaxis": {
         "title": {
          "text": "Recovered count"
         }
        }
       }
      },
      "text/html": [
       "<div>\n",
       "        \n",
       "        \n",
       "            <div id=\"15c18f0c-1495-4a53-94a9-96df37ae8d41\" class=\"plotly-graph-div\" style=\"height:525px; width:100%;\"></div>\n",
       "            <script type=\"text/javascript\">\n",
       "                require([\"plotly\"], function(Plotly) {\n",
       "                    window.PLOTLYENV=window.PLOTLYENV || {};\n",
       "                    \n",
       "                if (document.getElementById(\"15c18f0c-1495-4a53-94a9-96df37ae8d41\")) {\n",
       "                    Plotly.newPlot(\n",
       "                        '15c18f0c-1495-4a53-94a9-96df37ae8d41',\n",
       "                        [{\"line\": {\"color\": \"#B8E186\"}, \"mode\": \"lines+markers\", \"name\": \"Recovered\", \"type\": \"scatter\", \"x\": [\"1/22/20\", \"1/23/20\", \"1/24/20\", \"1/25/20\", \"1/26/20\", \"1/27/20\", \"1/28/20\", \"1/29/20\", \"1/30/20\", \"1/31/20\", \"2/1/20\", \"2/2/20\", \"2/3/20\", \"2/4/20\", \"2/5/20\", \"2/6/20\", \"2/7/20\", \"2/8/20\", \"2/9/20\", \"2/10/20\", \"2/11/20\", \"2/12/20\", \"2/13/20\", \"2/14/20\", \"2/15/20\", \"2/16/20\", \"2/17/20\", \"2/18/20\", \"2/19/20\", \"2/20/20\", \"2/21/20\", \"2/22/20\", \"2/23/20\", \"2/24/20\", \"2/25/20\", \"2/26/20\", \"2/27/20\", \"2/28/20\", \"2/29/20\"], \"y\": [28, 30, 36, 39, 49, 58, 101, 120, 135, 214, 275, 463, 614, 843, 1115, 1476, 1998, 2595, 3218, 3917, 4635, 5079, 6213, 7973, 9294, 10748, 12455, 14199, 15952, 18002, 18693, 22687, 23170, 24990, 27650, 30053, 32898, 36291, 39279]}],\n",
       "                        {\"showlegend\": true, \"template\": {\"data\": {\"bar\": [{\"error_x\": {\"color\": \"#f2f5fa\"}, \"error_y\": {\"color\": \"#f2f5fa\"}, \"marker\": {\"line\": {\"color\": \"rgb(17,17,17)\", \"width\": 0.5}}, \"type\": \"bar\"}], \"barpolar\": [{\"marker\": {\"line\": {\"color\": \"rgb(17,17,17)\", \"width\": 0.5}}, \"type\": \"barpolar\"}], \"carpet\": [{\"aaxis\": {\"endlinecolor\": \"#A2B1C6\", \"gridcolor\": \"#506784\", \"linecolor\": \"#506784\", \"minorgridcolor\": \"#506784\", \"startlinecolor\": \"#A2B1C6\"}, \"baxis\": {\"endlinecolor\": \"#A2B1C6\", \"gridcolor\": \"#506784\", \"linecolor\": \"#506784\", \"minorgridcolor\": \"#506784\", \"startlinecolor\": \"#A2B1C6\"}, \"type\": \"carpet\"}], \"choropleth\": [{\"colorbar\": {\"outlinewidth\": 0, \"ticks\": \"\"}, \"type\": \"choropleth\"}], \"contour\": [{\"colorbar\": {\"outlinewidth\": 0, \"ticks\": \"\"}, \"colorscale\": [[0.0, \"#0d0887\"], [0.1111111111111111, \"#46039f\"], [0.2222222222222222, \"#7201a8\"], [0.3333333333333333, \"#9c179e\"], [0.4444444444444444, \"#bd3786\"], [0.5555555555555556, \"#d8576b\"], [0.6666666666666666, \"#ed7953\"], [0.7777777777777778, \"#fb9f3a\"], [0.8888888888888888, \"#fdca26\"], [1.0, \"#f0f921\"]], \"type\": \"contour\"}], \"contourcarpet\": [{\"colorbar\": {\"outlinewidth\": 0, \"ticks\": \"\"}, \"type\": \"contourcarpet\"}], \"heatmap\": [{\"colorbar\": {\"outlinewidth\": 0, \"ticks\": \"\"}, \"colorscale\": [[0.0, \"#0d0887\"], [0.1111111111111111, \"#46039f\"], [0.2222222222222222, \"#7201a8\"], [0.3333333333333333, \"#9c179e\"], [0.4444444444444444, \"#bd3786\"], [0.5555555555555556, \"#d8576b\"], [0.6666666666666666, \"#ed7953\"], [0.7777777777777778, \"#fb9f3a\"], [0.8888888888888888, \"#fdca26\"], [1.0, \"#f0f921\"]], \"type\": \"heatmap\"}], \"heatmapgl\": [{\"colorbar\": {\"outlinewidth\": 0, \"ticks\": \"\"}, \"colorscale\": [[0.0, \"#0d0887\"], [0.1111111111111111, \"#46039f\"], [0.2222222222222222, \"#7201a8\"], [0.3333333333333333, \"#9c179e\"], [0.4444444444444444, \"#bd3786\"], [0.5555555555555556, \"#d8576b\"], [0.6666666666666666, \"#ed7953\"], [0.7777777777777778, \"#fb9f3a\"], [0.8888888888888888, \"#fdca26\"], [1.0, \"#f0f921\"]], \"type\": \"heatmapgl\"}], \"histogram\": [{\"marker\": {\"colorbar\": {\"outlinewidth\": 0, \"ticks\": \"\"}}, \"type\": \"histogram\"}], \"histogram2d\": [{\"colorbar\": {\"outlinewidth\": 0, \"ticks\": \"\"}, \"colorscale\": [[0.0, \"#0d0887\"], [0.1111111111111111, \"#46039f\"], [0.2222222222222222, \"#7201a8\"], [0.3333333333333333, \"#9c179e\"], [0.4444444444444444, \"#bd3786\"], [0.5555555555555556, \"#d8576b\"], [0.6666666666666666, \"#ed7953\"], [0.7777777777777778, \"#fb9f3a\"], [0.8888888888888888, \"#fdca26\"], [1.0, \"#f0f921\"]], \"type\": \"histogram2d\"}], \"histogram2dcontour\": [{\"colorbar\": {\"outlinewidth\": 0, \"ticks\": \"\"}, \"colorscale\": [[0.0, \"#0d0887\"], [0.1111111111111111, \"#46039f\"], [0.2222222222222222, \"#7201a8\"], [0.3333333333333333, \"#9c179e\"], [0.4444444444444444, \"#bd3786\"], [0.5555555555555556, \"#d8576b\"], [0.6666666666666666, \"#ed7953\"], [0.7777777777777778, \"#fb9f3a\"], [0.8888888888888888, \"#fdca26\"], [1.0, \"#f0f921\"]], \"type\": \"histogram2dcontour\"}], \"mesh3d\": [{\"colorbar\": {\"outlinewidth\": 0, \"ticks\": \"\"}, \"type\": \"mesh3d\"}], \"parcoords\": [{\"line\": {\"colorbar\": {\"outlinewidth\": 0, \"ticks\": \"\"}}, \"type\": \"parcoords\"}], \"pie\": [{\"automargin\": true, \"type\": \"pie\"}], \"scatter\": [{\"marker\": {\"line\": {\"color\": \"#283442\"}}, \"type\": \"scatter\"}], \"scatter3d\": [{\"line\": {\"colorbar\": {\"outlinewidth\": 0, \"ticks\": \"\"}}, \"marker\": {\"colorbar\": {\"outlinewidth\": 0, \"ticks\": \"\"}}, \"type\": \"scatter3d\"}], \"scattercarpet\": [{\"marker\": {\"colorbar\": {\"outlinewidth\": 0, \"ticks\": \"\"}}, \"type\": \"scattercarpet\"}], \"scattergeo\": [{\"marker\": {\"colorbar\": {\"outlinewidth\": 0, \"ticks\": \"\"}}, \"type\": \"scattergeo\"}], \"scattergl\": [{\"marker\": {\"line\": {\"color\": \"#283442\"}}, \"type\": \"scattergl\"}], \"scattermapbox\": [{\"marker\": {\"colorbar\": {\"outlinewidth\": 0, \"ticks\": \"\"}}, \"type\": \"scattermapbox\"}], \"scatterpolar\": [{\"marker\": {\"colorbar\": {\"outlinewidth\": 0, \"ticks\": \"\"}}, \"type\": \"scatterpolar\"}], \"scatterpolargl\": [{\"marker\": {\"colorbar\": {\"outlinewidth\": 0, \"ticks\": \"\"}}, \"type\": \"scatterpolargl\"}], \"scatterternary\": [{\"marker\": {\"colorbar\": {\"outlinewidth\": 0, \"ticks\": \"\"}}, \"type\": \"scatterternary\"}], \"surface\": [{\"colorbar\": {\"outlinewidth\": 0, \"ticks\": \"\"}, \"colorscale\": [[0.0, \"#0d0887\"], [0.1111111111111111, \"#46039f\"], [0.2222222222222222, \"#7201a8\"], [0.3333333333333333, \"#9c179e\"], [0.4444444444444444, \"#bd3786\"], [0.5555555555555556, \"#d8576b\"], [0.6666666666666666, \"#ed7953\"], [0.7777777777777778, \"#fb9f3a\"], [0.8888888888888888, \"#fdca26\"], [1.0, \"#f0f921\"]], \"type\": \"surface\"}], \"table\": [{\"cells\": {\"fill\": {\"color\": \"#506784\"}, \"line\": {\"color\": \"rgb(17,17,17)\"}}, \"header\": {\"fill\": {\"color\": \"#2a3f5f\"}, \"line\": {\"color\": \"rgb(17,17,17)\"}}, \"type\": \"table\"}]}, \"layout\": {\"annotationdefaults\": {\"arrowcolor\": \"#f2f5fa\", \"arrowhead\": 0, \"arrowwidth\": 1}, \"coloraxis\": {\"colorbar\": {\"outlinewidth\": 0, \"ticks\": \"\"}}, \"colorscale\": {\"diverging\": [[0, \"#8e0152\"], [0.1, \"#c51b7d\"], [0.2, \"#de77ae\"], [0.3, \"#f1b6da\"], [0.4, \"#fde0ef\"], [0.5, \"#f7f7f7\"], [0.6, \"#e6f5d0\"], [0.7, \"#b8e186\"], [0.8, \"#7fbc41\"], [0.9, \"#4d9221\"], [1, \"#276419\"]], \"sequential\": [[0.0, \"#0d0887\"], [0.1111111111111111, \"#46039f\"], [0.2222222222222222, \"#7201a8\"], [0.3333333333333333, \"#9c179e\"], [0.4444444444444444, \"#bd3786\"], [0.5555555555555556, \"#d8576b\"], [0.6666666666666666, \"#ed7953\"], [0.7777777777777778, \"#fb9f3a\"], [0.8888888888888888, \"#fdca26\"], [1.0, \"#f0f921\"]], \"sequentialminus\": [[0.0, \"#0d0887\"], [0.1111111111111111, \"#46039f\"], [0.2222222222222222, \"#7201a8\"], [0.3333333333333333, \"#9c179e\"], [0.4444444444444444, \"#bd3786\"], [0.5555555555555556, \"#d8576b\"], [0.6666666666666666, \"#ed7953\"], [0.7777777777777778, \"#fb9f3a\"], [0.8888888888888888, \"#fdca26\"], [1.0, \"#f0f921\"]]}, \"colorway\": [\"#636efa\", \"#EF553B\", \"#00cc96\", \"#ab63fa\", \"#FFA15A\", \"#19d3f3\", \"#FF6692\", \"#B6E880\", \"#FF97FF\", \"#FECB52\"], \"font\": {\"color\": \"#f2f5fa\"}, \"geo\": {\"bgcolor\": \"rgb(17,17,17)\", \"lakecolor\": \"rgb(17,17,17)\", \"landcolor\": \"rgb(17,17,17)\", \"showlakes\": true, \"showland\": true, \"subunitcolor\": \"#506784\"}, \"hoverlabel\": {\"align\": \"left\"}, \"hovermode\": \"closest\", \"mapbox\": {\"style\": \"dark\"}, \"paper_bgcolor\": \"rgb(17,17,17)\", \"plot_bgcolor\": \"rgb(17,17,17)\", \"polar\": {\"angularaxis\": {\"gridcolor\": \"#506784\", \"linecolor\": \"#506784\", \"ticks\": \"\"}, \"bgcolor\": \"rgb(17,17,17)\", \"radialaxis\": {\"gridcolor\": \"#506784\", \"linecolor\": \"#506784\", \"ticks\": \"\"}}, \"scene\": {\"xaxis\": {\"backgroundcolor\": \"rgb(17,17,17)\", \"gridcolor\": \"#506784\", \"gridwidth\": 2, \"linecolor\": \"#506784\", \"showbackground\": true, \"ticks\": \"\", \"zerolinecolor\": \"#C8D4E3\"}, \"yaxis\": {\"backgroundcolor\": \"rgb(17,17,17)\", \"gridcolor\": \"#506784\", \"gridwidth\": 2, \"linecolor\": \"#506784\", \"showbackground\": true, \"ticks\": \"\", \"zerolinecolor\": \"#C8D4E3\"}, \"zaxis\": {\"backgroundcolor\": \"rgb(17,17,17)\", \"gridcolor\": \"#506784\", \"gridwidth\": 2, \"linecolor\": \"#506784\", \"showbackground\": true, \"ticks\": \"\", \"zerolinecolor\": \"#C8D4E3\"}}, \"shapedefaults\": {\"line\": {\"color\": \"#f2f5fa\"}}, \"sliderdefaults\": {\"bgcolor\": \"#C8D4E3\", \"bordercolor\": \"rgb(17,17,17)\", \"borderwidth\": 1, \"tickwidth\": 0}, \"ternary\": {\"aaxis\": {\"gridcolor\": \"#506784\", \"linecolor\": \"#506784\", \"ticks\": \"\"}, \"baxis\": {\"gridcolor\": \"#506784\", \"linecolor\": \"#506784\", \"ticks\": \"\"}, \"bgcolor\": \"rgb(17,17,17)\", \"caxis\": {\"gridcolor\": \"#506784\", \"linecolor\": \"#506784\", \"ticks\": \"\"}}, \"title\": {\"x\": 0.05}, \"updatemenudefaults\": {\"bgcolor\": \"#506784\", \"borderwidth\": 0}, \"xaxis\": {\"automargin\": true, \"gridcolor\": \"#283442\", \"linecolor\": \"#506784\", \"ticks\": \"\", \"title\": {\"standoff\": 15}, \"zerolinecolor\": \"#283442\", \"zerolinewidth\": 2}, \"yaxis\": {\"automargin\": true, \"gridcolor\": \"#283442\", \"linecolor\": \"#506784\", \"ticks\": \"\", \"title\": {\"standoff\": 15}, \"zerolinecolor\": \"#283442\", \"zerolinewidth\": 2}}}, \"title\": {\"text\": \"Recovered timeseries in china\"}, \"xaxis\": {\"title\": {\"text\": \"Dates in mm/dd/yy\"}}, \"yaxis\": {\"title\": {\"text\": \"Recovered count\"}}},\n",
       "                        {\"responsive\": true}\n",
       "                    ).then(function(){\n",
       "                            \n",
       "var gd = document.getElementById('15c18f0c-1495-4a53-94a9-96df37ae8d41');\n",
       "var x = new MutationObserver(function (mutations, observer) {{\n",
       "        var display = window.getComputedStyle(gd).display;\n",
       "        if (!display || display === 'none') {{\n",
       "            console.log([gd, 'removed!']);\n",
       "            Plotly.purge(gd);\n",
       "            observer.disconnect();\n",
       "        }}\n",
       "}});\n",
       "\n",
       "// Listen for the removal of the full notebook cells\n",
       "var notebookContainer = gd.closest('#notebook-container');\n",
       "if (notebookContainer) {{\n",
       "    x.observe(notebookContainer, {childList: true});\n",
       "}}\n",
       "\n",
       "// Listen for the clearing of the current output cell\n",
       "var outputEl = gd.closest('.output');\n",
       "if (outputEl) {{\n",
       "    x.observe(outputEl, {childList: true});\n",
       "}}\n",
       "\n",
       "                        })\n",
       "                };\n",
       "                });\n",
       "            </script>\n",
       "        </div>"
      ]
     },
     "metadata": {},
     "output_type": "display_data"
    }
   ],
   "source": [
    "fig_china_recovered = go.Figure()\n",
    "\n",
    "fig_china_recovered.add_trace(go.Scatter(x=CHINA_MAIN_FRAME['Date'], y=CHINA_MAIN_FRAME['Recovered in MainLand China'], name=\"Recovered\",\n",
    "                         line_color='#B8E186',mode='lines+markers'))\n",
    "\n",
    "\n",
    "fig_china_recovered.update_layout(title=\"Recovered timeseries in china\",template=\"plotly_dark\",xaxis_title=\"Dates in mm/dd/yy\",\n",
    "    yaxis_title=\"Recovered count\",showlegend=True)\n",
    "\n",
    "\n",
    "fig_china_recovered.show()"
   ]
  },
  {
   "cell_type": "code",
   "execution_count": 1217,
   "metadata": {},
   "outputs": [
    {
     "data": {
      "application/vnd.plotly.v1+json": {
       "config": {
        "plotlyServerURL": "https://plot.ly"
       },
       "data": [
        {
         "line": {
          "color": "#FECC5C"
         },
         "mode": "lines+markers",
         "name": "Fatality Rate",
         "type": "scatter",
         "x": [
          "1/22/20",
          "1/23/20",
          "1/24/20",
          "1/25/20",
          "1/26/20",
          "1/27/20",
          "1/28/20",
          "1/29/20",
          "1/30/20",
          "1/31/20",
          "2/1/20",
          "2/2/20",
          "2/3/20",
          "2/4/20",
          "2/5/20",
          "2/6/20",
          "2/7/20",
          "2/8/20",
          "2/9/20",
          "2/10/20",
          "2/11/20",
          "2/12/20",
          "2/13/20",
          "2/14/20",
          "2/15/20",
          "2/16/20",
          "2/17/20",
          "2/18/20",
          "2/19/20",
          "2/20/20",
          "2/21/20",
          "2/22/20",
          "2/23/20",
          "2/24/20",
          "2/25/20",
          "2/26/20",
          "2/27/20",
          "2/28/20",
          "2/29/20"
         ],
         "y": [
          3.1078610603290677,
          2.8169014084507045,
          2.8384279475982535,
          3.0021443888491777,
          2.7158098933074686,
          2.8641285365001745,
          2.3844193665817257,
          2.191103789126853,
          2.104874446085672,
          2.177246243483594,
          2.1817875494903545,
          2.17378214006142,
          2.15812725333875,
          2.0692567567567566,
          2.050421394432486,
          2.0685366412463586,
          2.1041819515774027,
          2.186089510033172,
          2.2719276200050267,
          2.38973195291448,
          2.506373090892684,
          2.4967001498914962,
          2.286401925391095,
          2.2928860194291922,
          2.4317087801951804,
          2.5054651790023565,
          2.5744845503288927,
          2.7003331579870244,
          2.8358329085396936,
          2.981373084974466,
          2.9626881492474033,
          3.1733444268219757,
          3.1752839949049885,
          3.360897967648279,
          3.429049703837239,
          3.4778710049317874,
          3.495630461922597,
          3.536993808992185,
          3.577241927546656
         ]
        }
       ],
       "layout": {
        "showlegend": true,
        "template": {
         "data": {
          "bar": [
           {
            "error_x": {
             "color": "#f2f5fa"
            },
            "error_y": {
             "color": "#f2f5fa"
            },
            "marker": {
             "line": {
              "color": "rgb(17,17,17)",
              "width": 0.5
             }
            },
            "type": "bar"
           }
          ],
          "barpolar": [
           {
            "marker": {
             "line": {
              "color": "rgb(17,17,17)",
              "width": 0.5
             }
            },
            "type": "barpolar"
           }
          ],
          "carpet": [
           {
            "aaxis": {
             "endlinecolor": "#A2B1C6",
             "gridcolor": "#506784",
             "linecolor": "#506784",
             "minorgridcolor": "#506784",
             "startlinecolor": "#A2B1C6"
            },
            "baxis": {
             "endlinecolor": "#A2B1C6",
             "gridcolor": "#506784",
             "linecolor": "#506784",
             "minorgridcolor": "#506784",
             "startlinecolor": "#A2B1C6"
            },
            "type": "carpet"
           }
          ],
          "choropleth": [
           {
            "colorbar": {
             "outlinewidth": 0,
             "ticks": ""
            },
            "type": "choropleth"
           }
          ],
          "contour": [
           {
            "colorbar": {
             "outlinewidth": 0,
             "ticks": ""
            },
            "colorscale": [
             [
              0,
              "#0d0887"
             ],
             [
              0.1111111111111111,
              "#46039f"
             ],
             [
              0.2222222222222222,
              "#7201a8"
             ],
             [
              0.3333333333333333,
              "#9c179e"
             ],
             [
              0.4444444444444444,
              "#bd3786"
             ],
             [
              0.5555555555555556,
              "#d8576b"
             ],
             [
              0.6666666666666666,
              "#ed7953"
             ],
             [
              0.7777777777777778,
              "#fb9f3a"
             ],
             [
              0.8888888888888888,
              "#fdca26"
             ],
             [
              1,
              "#f0f921"
             ]
            ],
            "type": "contour"
           }
          ],
          "contourcarpet": [
           {
            "colorbar": {
             "outlinewidth": 0,
             "ticks": ""
            },
            "type": "contourcarpet"
           }
          ],
          "heatmap": [
           {
            "colorbar": {
             "outlinewidth": 0,
             "ticks": ""
            },
            "colorscale": [
             [
              0,
              "#0d0887"
             ],
             [
              0.1111111111111111,
              "#46039f"
             ],
             [
              0.2222222222222222,
              "#7201a8"
             ],
             [
              0.3333333333333333,
              "#9c179e"
             ],
             [
              0.4444444444444444,
              "#bd3786"
             ],
             [
              0.5555555555555556,
              "#d8576b"
             ],
             [
              0.6666666666666666,
              "#ed7953"
             ],
             [
              0.7777777777777778,
              "#fb9f3a"
             ],
             [
              0.8888888888888888,
              "#fdca26"
             ],
             [
              1,
              "#f0f921"
             ]
            ],
            "type": "heatmap"
           }
          ],
          "heatmapgl": [
           {
            "colorbar": {
             "outlinewidth": 0,
             "ticks": ""
            },
            "colorscale": [
             [
              0,
              "#0d0887"
             ],
             [
              0.1111111111111111,
              "#46039f"
             ],
             [
              0.2222222222222222,
              "#7201a8"
             ],
             [
              0.3333333333333333,
              "#9c179e"
             ],
             [
              0.4444444444444444,
              "#bd3786"
             ],
             [
              0.5555555555555556,
              "#d8576b"
             ],
             [
              0.6666666666666666,
              "#ed7953"
             ],
             [
              0.7777777777777778,
              "#fb9f3a"
             ],
             [
              0.8888888888888888,
              "#fdca26"
             ],
             [
              1,
              "#f0f921"
             ]
            ],
            "type": "heatmapgl"
           }
          ],
          "histogram": [
           {
            "marker": {
             "colorbar": {
              "outlinewidth": 0,
              "ticks": ""
             }
            },
            "type": "histogram"
           }
          ],
          "histogram2d": [
           {
            "colorbar": {
             "outlinewidth": 0,
             "ticks": ""
            },
            "colorscale": [
             [
              0,
              "#0d0887"
             ],
             [
              0.1111111111111111,
              "#46039f"
             ],
             [
              0.2222222222222222,
              "#7201a8"
             ],
             [
              0.3333333333333333,
              "#9c179e"
             ],
             [
              0.4444444444444444,
              "#bd3786"
             ],
             [
              0.5555555555555556,
              "#d8576b"
             ],
             [
              0.6666666666666666,
              "#ed7953"
             ],
             [
              0.7777777777777778,
              "#fb9f3a"
             ],
             [
              0.8888888888888888,
              "#fdca26"
             ],
             [
              1,
              "#f0f921"
             ]
            ],
            "type": "histogram2d"
           }
          ],
          "histogram2dcontour": [
           {
            "colorbar": {
             "outlinewidth": 0,
             "ticks": ""
            },
            "colorscale": [
             [
              0,
              "#0d0887"
             ],
             [
              0.1111111111111111,
              "#46039f"
             ],
             [
              0.2222222222222222,
              "#7201a8"
             ],
             [
              0.3333333333333333,
              "#9c179e"
             ],
             [
              0.4444444444444444,
              "#bd3786"
             ],
             [
              0.5555555555555556,
              "#d8576b"
             ],
             [
              0.6666666666666666,
              "#ed7953"
             ],
             [
              0.7777777777777778,
              "#fb9f3a"
             ],
             [
              0.8888888888888888,
              "#fdca26"
             ],
             [
              1,
              "#f0f921"
             ]
            ],
            "type": "histogram2dcontour"
           }
          ],
          "mesh3d": [
           {
            "colorbar": {
             "outlinewidth": 0,
             "ticks": ""
            },
            "type": "mesh3d"
           }
          ],
          "parcoords": [
           {
            "line": {
             "colorbar": {
              "outlinewidth": 0,
              "ticks": ""
             }
            },
            "type": "parcoords"
           }
          ],
          "pie": [
           {
            "automargin": true,
            "type": "pie"
           }
          ],
          "scatter": [
           {
            "marker": {
             "line": {
              "color": "#283442"
             }
            },
            "type": "scatter"
           }
          ],
          "scatter3d": [
           {
            "line": {
             "colorbar": {
              "outlinewidth": 0,
              "ticks": ""
             }
            },
            "marker": {
             "colorbar": {
              "outlinewidth": 0,
              "ticks": ""
             }
            },
            "type": "scatter3d"
           }
          ],
          "scattercarpet": [
           {
            "marker": {
             "colorbar": {
              "outlinewidth": 0,
              "ticks": ""
             }
            },
            "type": "scattercarpet"
           }
          ],
          "scattergeo": [
           {
            "marker": {
             "colorbar": {
              "outlinewidth": 0,
              "ticks": ""
             }
            },
            "type": "scattergeo"
           }
          ],
          "scattergl": [
           {
            "marker": {
             "line": {
              "color": "#283442"
             }
            },
            "type": "scattergl"
           }
          ],
          "scattermapbox": [
           {
            "marker": {
             "colorbar": {
              "outlinewidth": 0,
              "ticks": ""
             }
            },
            "type": "scattermapbox"
           }
          ],
          "scatterpolar": [
           {
            "marker": {
             "colorbar": {
              "outlinewidth": 0,
              "ticks": ""
             }
            },
            "type": "scatterpolar"
           }
          ],
          "scatterpolargl": [
           {
            "marker": {
             "colorbar": {
              "outlinewidth": 0,
              "ticks": ""
             }
            },
            "type": "scatterpolargl"
           }
          ],
          "scatterternary": [
           {
            "marker": {
             "colorbar": {
              "outlinewidth": 0,
              "ticks": ""
             }
            },
            "type": "scatterternary"
           }
          ],
          "surface": [
           {
            "colorbar": {
             "outlinewidth": 0,
             "ticks": ""
            },
            "colorscale": [
             [
              0,
              "#0d0887"
             ],
             [
              0.1111111111111111,
              "#46039f"
             ],
             [
              0.2222222222222222,
              "#7201a8"
             ],
             [
              0.3333333333333333,
              "#9c179e"
             ],
             [
              0.4444444444444444,
              "#bd3786"
             ],
             [
              0.5555555555555556,
              "#d8576b"
             ],
             [
              0.6666666666666666,
              "#ed7953"
             ],
             [
              0.7777777777777778,
              "#fb9f3a"
             ],
             [
              0.8888888888888888,
              "#fdca26"
             ],
             [
              1,
              "#f0f921"
             ]
            ],
            "type": "surface"
           }
          ],
          "table": [
           {
            "cells": {
             "fill": {
              "color": "#506784"
             },
             "line": {
              "color": "rgb(17,17,17)"
             }
            },
            "header": {
             "fill": {
              "color": "#2a3f5f"
             },
             "line": {
              "color": "rgb(17,17,17)"
             }
            },
            "type": "table"
           }
          ]
         },
         "layout": {
          "annotationdefaults": {
           "arrowcolor": "#f2f5fa",
           "arrowhead": 0,
           "arrowwidth": 1
          },
          "coloraxis": {
           "colorbar": {
            "outlinewidth": 0,
            "ticks": ""
           }
          },
          "colorscale": {
           "diverging": [
            [
             0,
             "#8e0152"
            ],
            [
             0.1,
             "#c51b7d"
            ],
            [
             0.2,
             "#de77ae"
            ],
            [
             0.3,
             "#f1b6da"
            ],
            [
             0.4,
             "#fde0ef"
            ],
            [
             0.5,
             "#f7f7f7"
            ],
            [
             0.6,
             "#e6f5d0"
            ],
            [
             0.7,
             "#b8e186"
            ],
            [
             0.8,
             "#7fbc41"
            ],
            [
             0.9,
             "#4d9221"
            ],
            [
             1,
             "#276419"
            ]
           ],
           "sequential": [
            [
             0,
             "#0d0887"
            ],
            [
             0.1111111111111111,
             "#46039f"
            ],
            [
             0.2222222222222222,
             "#7201a8"
            ],
            [
             0.3333333333333333,
             "#9c179e"
            ],
            [
             0.4444444444444444,
             "#bd3786"
            ],
            [
             0.5555555555555556,
             "#d8576b"
            ],
            [
             0.6666666666666666,
             "#ed7953"
            ],
            [
             0.7777777777777778,
             "#fb9f3a"
            ],
            [
             0.8888888888888888,
             "#fdca26"
            ],
            [
             1,
             "#f0f921"
            ]
           ],
           "sequentialminus": [
            [
             0,
             "#0d0887"
            ],
            [
             0.1111111111111111,
             "#46039f"
            ],
            [
             0.2222222222222222,
             "#7201a8"
            ],
            [
             0.3333333333333333,
             "#9c179e"
            ],
            [
             0.4444444444444444,
             "#bd3786"
            ],
            [
             0.5555555555555556,
             "#d8576b"
            ],
            [
             0.6666666666666666,
             "#ed7953"
            ],
            [
             0.7777777777777778,
             "#fb9f3a"
            ],
            [
             0.8888888888888888,
             "#fdca26"
            ],
            [
             1,
             "#f0f921"
            ]
           ]
          },
          "colorway": [
           "#636efa",
           "#EF553B",
           "#00cc96",
           "#ab63fa",
           "#FFA15A",
           "#19d3f3",
           "#FF6692",
           "#B6E880",
           "#FF97FF",
           "#FECB52"
          ],
          "font": {
           "color": "#f2f5fa"
          },
          "geo": {
           "bgcolor": "rgb(17,17,17)",
           "lakecolor": "rgb(17,17,17)",
           "landcolor": "rgb(17,17,17)",
           "showlakes": true,
           "showland": true,
           "subunitcolor": "#506784"
          },
          "hoverlabel": {
           "align": "left"
          },
          "hovermode": "closest",
          "mapbox": {
           "style": "dark"
          },
          "paper_bgcolor": "rgb(17,17,17)",
          "plot_bgcolor": "rgb(17,17,17)",
          "polar": {
           "angularaxis": {
            "gridcolor": "#506784",
            "linecolor": "#506784",
            "ticks": ""
           },
           "bgcolor": "rgb(17,17,17)",
           "radialaxis": {
            "gridcolor": "#506784",
            "linecolor": "#506784",
            "ticks": ""
           }
          },
          "scene": {
           "xaxis": {
            "backgroundcolor": "rgb(17,17,17)",
            "gridcolor": "#506784",
            "gridwidth": 2,
            "linecolor": "#506784",
            "showbackground": true,
            "ticks": "",
            "zerolinecolor": "#C8D4E3"
           },
           "yaxis": {
            "backgroundcolor": "rgb(17,17,17)",
            "gridcolor": "#506784",
            "gridwidth": 2,
            "linecolor": "#506784",
            "showbackground": true,
            "ticks": "",
            "zerolinecolor": "#C8D4E3"
           },
           "zaxis": {
            "backgroundcolor": "rgb(17,17,17)",
            "gridcolor": "#506784",
            "gridwidth": 2,
            "linecolor": "#506784",
            "showbackground": true,
            "ticks": "",
            "zerolinecolor": "#C8D4E3"
           }
          },
          "shapedefaults": {
           "line": {
            "color": "#f2f5fa"
           }
          },
          "sliderdefaults": {
           "bgcolor": "#C8D4E3",
           "bordercolor": "rgb(17,17,17)",
           "borderwidth": 1,
           "tickwidth": 0
          },
          "ternary": {
           "aaxis": {
            "gridcolor": "#506784",
            "linecolor": "#506784",
            "ticks": ""
           },
           "baxis": {
            "gridcolor": "#506784",
            "linecolor": "#506784",
            "ticks": ""
           },
           "bgcolor": "rgb(17,17,17)",
           "caxis": {
            "gridcolor": "#506784",
            "linecolor": "#506784",
            "ticks": ""
           }
          },
          "title": {
           "x": 0.05
          },
          "updatemenudefaults": {
           "bgcolor": "#506784",
           "borderwidth": 0
          },
          "xaxis": {
           "automargin": true,
           "gridcolor": "#283442",
           "linecolor": "#506784",
           "ticks": "",
           "title": {
            "standoff": 15
           },
           "zerolinecolor": "#283442",
           "zerolinewidth": 2
          },
          "yaxis": {
           "automargin": true,
           "gridcolor": "#283442",
           "linecolor": "#506784",
           "ticks": "",
           "title": {
            "standoff": 15
           },
           "zerolinecolor": "#283442",
           "zerolinewidth": 2
          }
         }
        },
        "title": {
         "text": "Fatality Rate timeseries in china"
        },
        "xaxis": {
         "title": {
          "text": "Dates in mm/dd/yy"
         }
        },
        "yaxis": {
         "title": {
          "text": "Rate in Percentage"
         }
        }
       }
      },
      "text/html": [
       "<div>\n",
       "        \n",
       "        \n",
       "            <div id=\"f72c9012-9306-42ba-987a-fddc679d410c\" class=\"plotly-graph-div\" style=\"height:525px; width:100%;\"></div>\n",
       "            <script type=\"text/javascript\">\n",
       "                require([\"plotly\"], function(Plotly) {\n",
       "                    window.PLOTLYENV=window.PLOTLYENV || {};\n",
       "                    \n",
       "                if (document.getElementById(\"f72c9012-9306-42ba-987a-fddc679d410c\")) {\n",
       "                    Plotly.newPlot(\n",
       "                        'f72c9012-9306-42ba-987a-fddc679d410c',\n",
       "                        [{\"line\": {\"color\": \"#FECC5C\"}, \"mode\": \"lines+markers\", \"name\": \"Fatality Rate\", \"type\": \"scatter\", \"x\": [\"1/22/20\", \"1/23/20\", \"1/24/20\", \"1/25/20\", \"1/26/20\", \"1/27/20\", \"1/28/20\", \"1/29/20\", \"1/30/20\", \"1/31/20\", \"2/1/20\", \"2/2/20\", \"2/3/20\", \"2/4/20\", \"2/5/20\", \"2/6/20\", \"2/7/20\", \"2/8/20\", \"2/9/20\", \"2/10/20\", \"2/11/20\", \"2/12/20\", \"2/13/20\", \"2/14/20\", \"2/15/20\", \"2/16/20\", \"2/17/20\", \"2/18/20\", \"2/19/20\", \"2/20/20\", \"2/21/20\", \"2/22/20\", \"2/23/20\", \"2/24/20\", \"2/25/20\", \"2/26/20\", \"2/27/20\", \"2/28/20\", \"2/29/20\"], \"y\": [3.1078610603290677, 2.8169014084507045, 2.8384279475982535, 3.0021443888491777, 2.7158098933074686, 2.8641285365001745, 2.3844193665817257, 2.191103789126853, 2.104874446085672, 2.177246243483594, 2.1817875494903545, 2.17378214006142, 2.15812725333875, 2.0692567567567566, 2.050421394432486, 2.0685366412463586, 2.1041819515774027, 2.186089510033172, 2.2719276200050267, 2.38973195291448, 2.506373090892684, 2.4967001498914962, 2.286401925391095, 2.2928860194291922, 2.4317087801951804, 2.5054651790023565, 2.5744845503288927, 2.7003331579870244, 2.8358329085396936, 2.981373084974466, 2.9626881492474033, 3.1733444268219757, 3.1752839949049885, 3.360897967648279, 3.429049703837239, 3.4778710049317874, 3.495630461922597, 3.536993808992185, 3.577241927546656]}],\n",
       "                        {\"showlegend\": true, \"template\": {\"data\": {\"bar\": [{\"error_x\": {\"color\": \"#f2f5fa\"}, \"error_y\": {\"color\": \"#f2f5fa\"}, \"marker\": {\"line\": {\"color\": \"rgb(17,17,17)\", \"width\": 0.5}}, \"type\": \"bar\"}], \"barpolar\": [{\"marker\": {\"line\": {\"color\": \"rgb(17,17,17)\", \"width\": 0.5}}, \"type\": \"barpolar\"}], \"carpet\": [{\"aaxis\": {\"endlinecolor\": \"#A2B1C6\", \"gridcolor\": \"#506784\", \"linecolor\": \"#506784\", \"minorgridcolor\": \"#506784\", \"startlinecolor\": \"#A2B1C6\"}, \"baxis\": {\"endlinecolor\": \"#A2B1C6\", \"gridcolor\": \"#506784\", \"linecolor\": \"#506784\", \"minorgridcolor\": \"#506784\", \"startlinecolor\": \"#A2B1C6\"}, \"type\": \"carpet\"}], \"choropleth\": [{\"colorbar\": {\"outlinewidth\": 0, \"ticks\": \"\"}, \"type\": \"choropleth\"}], \"contour\": [{\"colorbar\": {\"outlinewidth\": 0, \"ticks\": \"\"}, \"colorscale\": [[0.0, \"#0d0887\"], [0.1111111111111111, \"#46039f\"], [0.2222222222222222, \"#7201a8\"], [0.3333333333333333, \"#9c179e\"], [0.4444444444444444, \"#bd3786\"], [0.5555555555555556, \"#d8576b\"], [0.6666666666666666, \"#ed7953\"], [0.7777777777777778, \"#fb9f3a\"], [0.8888888888888888, \"#fdca26\"], [1.0, \"#f0f921\"]], \"type\": \"contour\"}], \"contourcarpet\": [{\"colorbar\": {\"outlinewidth\": 0, \"ticks\": \"\"}, \"type\": \"contourcarpet\"}], \"heatmap\": [{\"colorbar\": {\"outlinewidth\": 0, \"ticks\": \"\"}, \"colorscale\": [[0.0, \"#0d0887\"], [0.1111111111111111, \"#46039f\"], [0.2222222222222222, \"#7201a8\"], [0.3333333333333333, \"#9c179e\"], [0.4444444444444444, \"#bd3786\"], [0.5555555555555556, \"#d8576b\"], [0.6666666666666666, \"#ed7953\"], [0.7777777777777778, \"#fb9f3a\"], [0.8888888888888888, \"#fdca26\"], [1.0, \"#f0f921\"]], \"type\": \"heatmap\"}], \"heatmapgl\": [{\"colorbar\": {\"outlinewidth\": 0, \"ticks\": \"\"}, \"colorscale\": [[0.0, \"#0d0887\"], [0.1111111111111111, \"#46039f\"], [0.2222222222222222, \"#7201a8\"], [0.3333333333333333, \"#9c179e\"], [0.4444444444444444, \"#bd3786\"], [0.5555555555555556, \"#d8576b\"], [0.6666666666666666, \"#ed7953\"], [0.7777777777777778, \"#fb9f3a\"], [0.8888888888888888, \"#fdca26\"], [1.0, \"#f0f921\"]], \"type\": \"heatmapgl\"}], \"histogram\": [{\"marker\": {\"colorbar\": {\"outlinewidth\": 0, \"ticks\": \"\"}}, \"type\": \"histogram\"}], \"histogram2d\": [{\"colorbar\": {\"outlinewidth\": 0, \"ticks\": \"\"}, \"colorscale\": [[0.0, \"#0d0887\"], [0.1111111111111111, \"#46039f\"], [0.2222222222222222, \"#7201a8\"], [0.3333333333333333, \"#9c179e\"], [0.4444444444444444, \"#bd3786\"], [0.5555555555555556, \"#d8576b\"], [0.6666666666666666, \"#ed7953\"], [0.7777777777777778, \"#fb9f3a\"], [0.8888888888888888, \"#fdca26\"], [1.0, \"#f0f921\"]], \"type\": \"histogram2d\"}], \"histogram2dcontour\": [{\"colorbar\": {\"outlinewidth\": 0, \"ticks\": \"\"}, \"colorscale\": [[0.0, \"#0d0887\"], [0.1111111111111111, \"#46039f\"], [0.2222222222222222, \"#7201a8\"], [0.3333333333333333, \"#9c179e\"], [0.4444444444444444, \"#bd3786\"], [0.5555555555555556, \"#d8576b\"], [0.6666666666666666, \"#ed7953\"], [0.7777777777777778, \"#fb9f3a\"], [0.8888888888888888, \"#fdca26\"], [1.0, \"#f0f921\"]], \"type\": \"histogram2dcontour\"}], \"mesh3d\": [{\"colorbar\": {\"outlinewidth\": 0, \"ticks\": \"\"}, \"type\": \"mesh3d\"}], \"parcoords\": [{\"line\": {\"colorbar\": {\"outlinewidth\": 0, \"ticks\": \"\"}}, \"type\": \"parcoords\"}], \"pie\": [{\"automargin\": true, \"type\": \"pie\"}], \"scatter\": [{\"marker\": {\"line\": {\"color\": \"#283442\"}}, \"type\": \"scatter\"}], \"scatter3d\": [{\"line\": {\"colorbar\": {\"outlinewidth\": 0, \"ticks\": \"\"}}, \"marker\": {\"colorbar\": {\"outlinewidth\": 0, \"ticks\": \"\"}}, \"type\": \"scatter3d\"}], \"scattercarpet\": [{\"marker\": {\"colorbar\": {\"outlinewidth\": 0, \"ticks\": \"\"}}, \"type\": \"scattercarpet\"}], \"scattergeo\": [{\"marker\": {\"colorbar\": {\"outlinewidth\": 0, \"ticks\": \"\"}}, \"type\": \"scattergeo\"}], \"scattergl\": [{\"marker\": {\"line\": {\"color\": \"#283442\"}}, \"type\": \"scattergl\"}], \"scattermapbox\": [{\"marker\": {\"colorbar\": {\"outlinewidth\": 0, \"ticks\": \"\"}}, \"type\": \"scattermapbox\"}], \"scatterpolar\": [{\"marker\": {\"colorbar\": {\"outlinewidth\": 0, \"ticks\": \"\"}}, \"type\": \"scatterpolar\"}], \"scatterpolargl\": [{\"marker\": {\"colorbar\": {\"outlinewidth\": 0, \"ticks\": \"\"}}, \"type\": \"scatterpolargl\"}], \"scatterternary\": [{\"marker\": {\"colorbar\": {\"outlinewidth\": 0, \"ticks\": \"\"}}, \"type\": \"scatterternary\"}], \"surface\": [{\"colorbar\": {\"outlinewidth\": 0, \"ticks\": \"\"}, \"colorscale\": [[0.0, \"#0d0887\"], [0.1111111111111111, \"#46039f\"], [0.2222222222222222, \"#7201a8\"], [0.3333333333333333, \"#9c179e\"], [0.4444444444444444, \"#bd3786\"], [0.5555555555555556, \"#d8576b\"], [0.6666666666666666, \"#ed7953\"], [0.7777777777777778, \"#fb9f3a\"], [0.8888888888888888, \"#fdca26\"], [1.0, \"#f0f921\"]], \"type\": \"surface\"}], \"table\": [{\"cells\": {\"fill\": {\"color\": \"#506784\"}, \"line\": {\"color\": \"rgb(17,17,17)\"}}, \"header\": {\"fill\": {\"color\": \"#2a3f5f\"}, \"line\": {\"color\": \"rgb(17,17,17)\"}}, \"type\": \"table\"}]}, \"layout\": {\"annotationdefaults\": {\"arrowcolor\": \"#f2f5fa\", \"arrowhead\": 0, \"arrowwidth\": 1}, \"coloraxis\": {\"colorbar\": {\"outlinewidth\": 0, \"ticks\": \"\"}}, \"colorscale\": {\"diverging\": [[0, \"#8e0152\"], [0.1, \"#c51b7d\"], [0.2, \"#de77ae\"], [0.3, \"#f1b6da\"], [0.4, \"#fde0ef\"], [0.5, \"#f7f7f7\"], [0.6, \"#e6f5d0\"], [0.7, \"#b8e186\"], [0.8, \"#7fbc41\"], [0.9, \"#4d9221\"], [1, \"#276419\"]], \"sequential\": [[0.0, \"#0d0887\"], [0.1111111111111111, \"#46039f\"], [0.2222222222222222, \"#7201a8\"], [0.3333333333333333, \"#9c179e\"], [0.4444444444444444, \"#bd3786\"], [0.5555555555555556, \"#d8576b\"], [0.6666666666666666, \"#ed7953\"], [0.7777777777777778, \"#fb9f3a\"], [0.8888888888888888, \"#fdca26\"], [1.0, \"#f0f921\"]], \"sequentialminus\": [[0.0, \"#0d0887\"], [0.1111111111111111, \"#46039f\"], [0.2222222222222222, \"#7201a8\"], [0.3333333333333333, \"#9c179e\"], [0.4444444444444444, \"#bd3786\"], [0.5555555555555556, \"#d8576b\"], [0.6666666666666666, \"#ed7953\"], [0.7777777777777778, \"#fb9f3a\"], [0.8888888888888888, \"#fdca26\"], [1.0, \"#f0f921\"]]}, \"colorway\": [\"#636efa\", \"#EF553B\", \"#00cc96\", \"#ab63fa\", \"#FFA15A\", \"#19d3f3\", \"#FF6692\", \"#B6E880\", \"#FF97FF\", \"#FECB52\"], \"font\": {\"color\": \"#f2f5fa\"}, \"geo\": {\"bgcolor\": \"rgb(17,17,17)\", \"lakecolor\": \"rgb(17,17,17)\", \"landcolor\": \"rgb(17,17,17)\", \"showlakes\": true, \"showland\": true, \"subunitcolor\": \"#506784\"}, \"hoverlabel\": {\"align\": \"left\"}, \"hovermode\": \"closest\", \"mapbox\": {\"style\": \"dark\"}, \"paper_bgcolor\": \"rgb(17,17,17)\", \"plot_bgcolor\": \"rgb(17,17,17)\", \"polar\": {\"angularaxis\": {\"gridcolor\": \"#506784\", \"linecolor\": \"#506784\", \"ticks\": \"\"}, \"bgcolor\": \"rgb(17,17,17)\", \"radialaxis\": {\"gridcolor\": \"#506784\", \"linecolor\": \"#506784\", \"ticks\": \"\"}}, \"scene\": {\"xaxis\": {\"backgroundcolor\": \"rgb(17,17,17)\", \"gridcolor\": \"#506784\", \"gridwidth\": 2, \"linecolor\": \"#506784\", \"showbackground\": true, \"ticks\": \"\", \"zerolinecolor\": \"#C8D4E3\"}, \"yaxis\": {\"backgroundcolor\": \"rgb(17,17,17)\", \"gridcolor\": \"#506784\", \"gridwidth\": 2, \"linecolor\": \"#506784\", \"showbackground\": true, \"ticks\": \"\", \"zerolinecolor\": \"#C8D4E3\"}, \"zaxis\": {\"backgroundcolor\": \"rgb(17,17,17)\", \"gridcolor\": \"#506784\", \"gridwidth\": 2, \"linecolor\": \"#506784\", \"showbackground\": true, \"ticks\": \"\", \"zerolinecolor\": \"#C8D4E3\"}}, \"shapedefaults\": {\"line\": {\"color\": \"#f2f5fa\"}}, \"sliderdefaults\": {\"bgcolor\": \"#C8D4E3\", \"bordercolor\": \"rgb(17,17,17)\", \"borderwidth\": 1, \"tickwidth\": 0}, \"ternary\": {\"aaxis\": {\"gridcolor\": \"#506784\", \"linecolor\": \"#506784\", \"ticks\": \"\"}, \"baxis\": {\"gridcolor\": \"#506784\", \"linecolor\": \"#506784\", \"ticks\": \"\"}, \"bgcolor\": \"rgb(17,17,17)\", \"caxis\": {\"gridcolor\": \"#506784\", \"linecolor\": \"#506784\", \"ticks\": \"\"}}, \"title\": {\"x\": 0.05}, \"updatemenudefaults\": {\"bgcolor\": \"#506784\", \"borderwidth\": 0}, \"xaxis\": {\"automargin\": true, \"gridcolor\": \"#283442\", \"linecolor\": \"#506784\", \"ticks\": \"\", \"title\": {\"standoff\": 15}, \"zerolinecolor\": \"#283442\", \"zerolinewidth\": 2}, \"yaxis\": {\"automargin\": true, \"gridcolor\": \"#283442\", \"linecolor\": \"#506784\", \"ticks\": \"\", \"title\": {\"standoff\": 15}, \"zerolinecolor\": \"#283442\", \"zerolinewidth\": 2}}}, \"title\": {\"text\": \"Fatality Rate timeseries in china\"}, \"xaxis\": {\"title\": {\"text\": \"Dates in mm/dd/yy\"}}, \"yaxis\": {\"title\": {\"text\": \"Rate in Percentage\"}}},\n",
       "                        {\"responsive\": true}\n",
       "                    ).then(function(){\n",
       "                            \n",
       "var gd = document.getElementById('f72c9012-9306-42ba-987a-fddc679d410c');\n",
       "var x = new MutationObserver(function (mutations, observer) {{\n",
       "        var display = window.getComputedStyle(gd).display;\n",
       "        if (!display || display === 'none') {{\n",
       "            console.log([gd, 'removed!']);\n",
       "            Plotly.purge(gd);\n",
       "            observer.disconnect();\n",
       "        }}\n",
       "}});\n",
       "\n",
       "// Listen for the removal of the full notebook cells\n",
       "var notebookContainer = gd.closest('#notebook-container');\n",
       "if (notebookContainer) {{\n",
       "    x.observe(notebookContainer, {childList: true});\n",
       "}}\n",
       "\n",
       "// Listen for the clearing of the current output cell\n",
       "var outputEl = gd.closest('.output');\n",
       "if (outputEl) {{\n",
       "    x.observe(outputEl, {childList: true});\n",
       "}}\n",
       "\n",
       "                        })\n",
       "                };\n",
       "                });\n",
       "            </script>\n",
       "        </div>"
      ]
     },
     "metadata": {},
     "output_type": "display_data"
    }
   ],
   "source": [
    "#CHINA FATALITY RATE\n",
    "fig_china_confirmed = go.Figure()\n",
    "fig_china_confirmed.add_trace(go.Scatter(x=CHINA_MAIN_FRAME['Date'], y=CHINA_MAIN_FRAME['Fatality Rate'], name=\"Fatality Rate\",\n",
    "                         line_color='#FECC5C',mode='lines+markers'))\n",
    "fig_china_confirmed.update_layout(title=\"Fatality Rate timeseries in china\",template=\"plotly_dark\",xaxis_title=\"Dates in mm/dd/yy\",\n",
    "    yaxis_title=\"Rate in Percentage\",showlegend=True)\n",
    "\n",
    "fig_china_confirmed.show()"
   ]
  },
  {
   "cell_type": "code",
   "execution_count": 1204,
   "metadata": {
    "scrolled": true
   },
   "outputs": [
    {
     "data": {
      "application/vnd.plotly.v1+json": {
       "config": {
        "plotlyServerURL": "https://plot.ly"
       },
       "data": [
        {
         "line": {
          "color": "#9970AB"
         },
         "mode": "lines+markers",
         "name": "Confirmed",
         "type": "scatter",
         "x": [
          "1/22/20",
          "1/23/20",
          "1/24/20",
          "1/25/20",
          "1/26/20",
          "1/27/20",
          "1/28/20",
          "1/29/20",
          "1/30/20",
          "1/31/20",
          "2/1/20",
          "2/2/20",
          "2/3/20",
          "2/4/20",
          "2/5/20",
          "2/6/20",
          "2/7/20",
          "2/8/20",
          "2/9/20",
          "2/10/20",
          "2/11/20",
          "2/12/20",
          "2/13/20",
          "2/14/20",
          "2/15/20",
          "2/16/20",
          "2/17/20",
          "2/18/20",
          "2/19/20",
          "2/20/20",
          "2/21/20",
          "2/22/20",
          "2/23/20",
          "2/24/20",
          "2/25/20",
          "2/26/20",
          "2/27/20",
          "2/28/20",
          "2/29/20"
         ],
         "y": [
          547,
          639,
          916,
          1399,
          2062,
          2863,
          5494,
          6070,
          8124,
          9783,
          11871,
          16607,
          19693,
          23680,
          27409,
          30553,
          34075,
          36778,
          39790,
          42306,
          44327,
          44699,
          59832,
          66292,
          68347,
          70446,
          72364,
          74139,
          74546,
          74999,
          75472,
          76922,
          76938,
          77152,
          77660,
          78065,
          78498,
          78824,
          79251
         ]
        },
        {
         "line": {
          "color": "#FC4E2A"
         },
         "mode": "lines+markers",
         "name": "Deaths",
         "type": "scatter",
         "x": [
          "1/22/20",
          "1/23/20",
          "1/24/20",
          "1/25/20",
          "1/26/20",
          "1/27/20",
          "1/28/20",
          "1/29/20",
          "1/30/20",
          "1/31/20",
          "2/1/20",
          "2/2/20",
          "2/3/20",
          "2/4/20",
          "2/5/20",
          "2/6/20",
          "2/7/20",
          "2/8/20",
          "2/9/20",
          "2/10/20",
          "2/11/20",
          "2/12/20",
          "2/13/20",
          "2/14/20",
          "2/15/20",
          "2/16/20",
          "2/17/20",
          "2/18/20",
          "2/19/20",
          "2/20/20",
          "2/21/20",
          "2/22/20",
          "2/23/20",
          "2/24/20",
          "2/25/20",
          "2/26/20",
          "2/27/20",
          "2/28/20",
          "2/29/20"
         ],
         "y": [
          17,
          18,
          26,
          42,
          56,
          82,
          131,
          133,
          171,
          213,
          259,
          361,
          425,
          490,
          562,
          632,
          717,
          804,
          904,
          1011,
          1111,
          1116,
          1368,
          1520,
          1662,
          1765,
          1863,
          2002,
          2114,
          2236,
          2236,
          2441,
          2443,
          2593,
          2663,
          2715,
          2744,
          2788,
          2835
         ]
        },
        {
         "line": {
          "color": "#B8E186"
         },
         "mode": "lines+markers",
         "name": "Recovered",
         "type": "scatter",
         "x": [
          "1/22/20",
          "1/23/20",
          "1/24/20",
          "1/25/20",
          "1/26/20",
          "1/27/20",
          "1/28/20",
          "1/29/20",
          "1/30/20",
          "1/31/20",
          "2/1/20",
          "2/2/20",
          "2/3/20",
          "2/4/20",
          "2/5/20",
          "2/6/20",
          "2/7/20",
          "2/8/20",
          "2/9/20",
          "2/10/20",
          "2/11/20",
          "2/12/20",
          "2/13/20",
          "2/14/20",
          "2/15/20",
          "2/16/20",
          "2/17/20",
          "2/18/20",
          "2/19/20",
          "2/20/20",
          "2/21/20",
          "2/22/20",
          "2/23/20",
          "2/24/20",
          "2/25/20",
          "2/26/20",
          "2/27/20",
          "2/28/20",
          "2/29/20"
         ],
         "y": [
          28,
          30,
          36,
          39,
          49,
          58,
          101,
          120,
          135,
          214,
          275,
          463,
          614,
          843,
          1115,
          1476,
          1998,
          2595,
          3218,
          3917,
          4635,
          5079,
          6213,
          7973,
          9294,
          10748,
          12455,
          14199,
          15952,
          18002,
          18693,
          22687,
          23170,
          24990,
          27650,
          30053,
          32898,
          36291,
          39279
         ]
        }
       ],
       "layout": {
        "showlegend": true,
        "template": {
         "data": {
          "bar": [
           {
            "error_x": {
             "color": "#f2f5fa"
            },
            "error_y": {
             "color": "#f2f5fa"
            },
            "marker": {
             "line": {
              "color": "rgb(17,17,17)",
              "width": 0.5
             }
            },
            "type": "bar"
           }
          ],
          "barpolar": [
           {
            "marker": {
             "line": {
              "color": "rgb(17,17,17)",
              "width": 0.5
             }
            },
            "type": "barpolar"
           }
          ],
          "carpet": [
           {
            "aaxis": {
             "endlinecolor": "#A2B1C6",
             "gridcolor": "#506784",
             "linecolor": "#506784",
             "minorgridcolor": "#506784",
             "startlinecolor": "#A2B1C6"
            },
            "baxis": {
             "endlinecolor": "#A2B1C6",
             "gridcolor": "#506784",
             "linecolor": "#506784",
             "minorgridcolor": "#506784",
             "startlinecolor": "#A2B1C6"
            },
            "type": "carpet"
           }
          ],
          "choropleth": [
           {
            "colorbar": {
             "outlinewidth": 0,
             "ticks": ""
            },
            "type": "choropleth"
           }
          ],
          "contour": [
           {
            "colorbar": {
             "outlinewidth": 0,
             "ticks": ""
            },
            "colorscale": [
             [
              0,
              "#0d0887"
             ],
             [
              0.1111111111111111,
              "#46039f"
             ],
             [
              0.2222222222222222,
              "#7201a8"
             ],
             [
              0.3333333333333333,
              "#9c179e"
             ],
             [
              0.4444444444444444,
              "#bd3786"
             ],
             [
              0.5555555555555556,
              "#d8576b"
             ],
             [
              0.6666666666666666,
              "#ed7953"
             ],
             [
              0.7777777777777778,
              "#fb9f3a"
             ],
             [
              0.8888888888888888,
              "#fdca26"
             ],
             [
              1,
              "#f0f921"
             ]
            ],
            "type": "contour"
           }
          ],
          "contourcarpet": [
           {
            "colorbar": {
             "outlinewidth": 0,
             "ticks": ""
            },
            "type": "contourcarpet"
           }
          ],
          "heatmap": [
           {
            "colorbar": {
             "outlinewidth": 0,
             "ticks": ""
            },
            "colorscale": [
             [
              0,
              "#0d0887"
             ],
             [
              0.1111111111111111,
              "#46039f"
             ],
             [
              0.2222222222222222,
              "#7201a8"
             ],
             [
              0.3333333333333333,
              "#9c179e"
             ],
             [
              0.4444444444444444,
              "#bd3786"
             ],
             [
              0.5555555555555556,
              "#d8576b"
             ],
             [
              0.6666666666666666,
              "#ed7953"
             ],
             [
              0.7777777777777778,
              "#fb9f3a"
             ],
             [
              0.8888888888888888,
              "#fdca26"
             ],
             [
              1,
              "#f0f921"
             ]
            ],
            "type": "heatmap"
           }
          ],
          "heatmapgl": [
           {
            "colorbar": {
             "outlinewidth": 0,
             "ticks": ""
            },
            "colorscale": [
             [
              0,
              "#0d0887"
             ],
             [
              0.1111111111111111,
              "#46039f"
             ],
             [
              0.2222222222222222,
              "#7201a8"
             ],
             [
              0.3333333333333333,
              "#9c179e"
             ],
             [
              0.4444444444444444,
              "#bd3786"
             ],
             [
              0.5555555555555556,
              "#d8576b"
             ],
             [
              0.6666666666666666,
              "#ed7953"
             ],
             [
              0.7777777777777778,
              "#fb9f3a"
             ],
             [
              0.8888888888888888,
              "#fdca26"
             ],
             [
              1,
              "#f0f921"
             ]
            ],
            "type": "heatmapgl"
           }
          ],
          "histogram": [
           {
            "marker": {
             "colorbar": {
              "outlinewidth": 0,
              "ticks": ""
             }
            },
            "type": "histogram"
           }
          ],
          "histogram2d": [
           {
            "colorbar": {
             "outlinewidth": 0,
             "ticks": ""
            },
            "colorscale": [
             [
              0,
              "#0d0887"
             ],
             [
              0.1111111111111111,
              "#46039f"
             ],
             [
              0.2222222222222222,
              "#7201a8"
             ],
             [
              0.3333333333333333,
              "#9c179e"
             ],
             [
              0.4444444444444444,
              "#bd3786"
             ],
             [
              0.5555555555555556,
              "#d8576b"
             ],
             [
              0.6666666666666666,
              "#ed7953"
             ],
             [
              0.7777777777777778,
              "#fb9f3a"
             ],
             [
              0.8888888888888888,
              "#fdca26"
             ],
             [
              1,
              "#f0f921"
             ]
            ],
            "type": "histogram2d"
           }
          ],
          "histogram2dcontour": [
           {
            "colorbar": {
             "outlinewidth": 0,
             "ticks": ""
            },
            "colorscale": [
             [
              0,
              "#0d0887"
             ],
             [
              0.1111111111111111,
              "#46039f"
             ],
             [
              0.2222222222222222,
              "#7201a8"
             ],
             [
              0.3333333333333333,
              "#9c179e"
             ],
             [
              0.4444444444444444,
              "#bd3786"
             ],
             [
              0.5555555555555556,
              "#d8576b"
             ],
             [
              0.6666666666666666,
              "#ed7953"
             ],
             [
              0.7777777777777778,
              "#fb9f3a"
             ],
             [
              0.8888888888888888,
              "#fdca26"
             ],
             [
              1,
              "#f0f921"
             ]
            ],
            "type": "histogram2dcontour"
           }
          ],
          "mesh3d": [
           {
            "colorbar": {
             "outlinewidth": 0,
             "ticks": ""
            },
            "type": "mesh3d"
           }
          ],
          "parcoords": [
           {
            "line": {
             "colorbar": {
              "outlinewidth": 0,
              "ticks": ""
             }
            },
            "type": "parcoords"
           }
          ],
          "pie": [
           {
            "automargin": true,
            "type": "pie"
           }
          ],
          "scatter": [
           {
            "marker": {
             "line": {
              "color": "#283442"
             }
            },
            "type": "scatter"
           }
          ],
          "scatter3d": [
           {
            "line": {
             "colorbar": {
              "outlinewidth": 0,
              "ticks": ""
             }
            },
            "marker": {
             "colorbar": {
              "outlinewidth": 0,
              "ticks": ""
             }
            },
            "type": "scatter3d"
           }
          ],
          "scattercarpet": [
           {
            "marker": {
             "colorbar": {
              "outlinewidth": 0,
              "ticks": ""
             }
            },
            "type": "scattercarpet"
           }
          ],
          "scattergeo": [
           {
            "marker": {
             "colorbar": {
              "outlinewidth": 0,
              "ticks": ""
             }
            },
            "type": "scattergeo"
           }
          ],
          "scattergl": [
           {
            "marker": {
             "line": {
              "color": "#283442"
             }
            },
            "type": "scattergl"
           }
          ],
          "scattermapbox": [
           {
            "marker": {
             "colorbar": {
              "outlinewidth": 0,
              "ticks": ""
             }
            },
            "type": "scattermapbox"
           }
          ],
          "scatterpolar": [
           {
            "marker": {
             "colorbar": {
              "outlinewidth": 0,
              "ticks": ""
             }
            },
            "type": "scatterpolar"
           }
          ],
          "scatterpolargl": [
           {
            "marker": {
             "colorbar": {
              "outlinewidth": 0,
              "ticks": ""
             }
            },
            "type": "scatterpolargl"
           }
          ],
          "scatterternary": [
           {
            "marker": {
             "colorbar": {
              "outlinewidth": 0,
              "ticks": ""
             }
            },
            "type": "scatterternary"
           }
          ],
          "surface": [
           {
            "colorbar": {
             "outlinewidth": 0,
             "ticks": ""
            },
            "colorscale": [
             [
              0,
              "#0d0887"
             ],
             [
              0.1111111111111111,
              "#46039f"
             ],
             [
              0.2222222222222222,
              "#7201a8"
             ],
             [
              0.3333333333333333,
              "#9c179e"
             ],
             [
              0.4444444444444444,
              "#bd3786"
             ],
             [
              0.5555555555555556,
              "#d8576b"
             ],
             [
              0.6666666666666666,
              "#ed7953"
             ],
             [
              0.7777777777777778,
              "#fb9f3a"
             ],
             [
              0.8888888888888888,
              "#fdca26"
             ],
             [
              1,
              "#f0f921"
             ]
            ],
            "type": "surface"
           }
          ],
          "table": [
           {
            "cells": {
             "fill": {
              "color": "#506784"
             },
             "line": {
              "color": "rgb(17,17,17)"
             }
            },
            "header": {
             "fill": {
              "color": "#2a3f5f"
             },
             "line": {
              "color": "rgb(17,17,17)"
             }
            },
            "type": "table"
           }
          ]
         },
         "layout": {
          "annotationdefaults": {
           "arrowcolor": "#f2f5fa",
           "arrowhead": 0,
           "arrowwidth": 1
          },
          "coloraxis": {
           "colorbar": {
            "outlinewidth": 0,
            "ticks": ""
           }
          },
          "colorscale": {
           "diverging": [
            [
             0,
             "#8e0152"
            ],
            [
             0.1,
             "#c51b7d"
            ],
            [
             0.2,
             "#de77ae"
            ],
            [
             0.3,
             "#f1b6da"
            ],
            [
             0.4,
             "#fde0ef"
            ],
            [
             0.5,
             "#f7f7f7"
            ],
            [
             0.6,
             "#e6f5d0"
            ],
            [
             0.7,
             "#b8e186"
            ],
            [
             0.8,
             "#7fbc41"
            ],
            [
             0.9,
             "#4d9221"
            ],
            [
             1,
             "#276419"
            ]
           ],
           "sequential": [
            [
             0,
             "#0d0887"
            ],
            [
             0.1111111111111111,
             "#46039f"
            ],
            [
             0.2222222222222222,
             "#7201a8"
            ],
            [
             0.3333333333333333,
             "#9c179e"
            ],
            [
             0.4444444444444444,
             "#bd3786"
            ],
            [
             0.5555555555555556,
             "#d8576b"
            ],
            [
             0.6666666666666666,
             "#ed7953"
            ],
            [
             0.7777777777777778,
             "#fb9f3a"
            ],
            [
             0.8888888888888888,
             "#fdca26"
            ],
            [
             1,
             "#f0f921"
            ]
           ],
           "sequentialminus": [
            [
             0,
             "#0d0887"
            ],
            [
             0.1111111111111111,
             "#46039f"
            ],
            [
             0.2222222222222222,
             "#7201a8"
            ],
            [
             0.3333333333333333,
             "#9c179e"
            ],
            [
             0.4444444444444444,
             "#bd3786"
            ],
            [
             0.5555555555555556,
             "#d8576b"
            ],
            [
             0.6666666666666666,
             "#ed7953"
            ],
            [
             0.7777777777777778,
             "#fb9f3a"
            ],
            [
             0.8888888888888888,
             "#fdca26"
            ],
            [
             1,
             "#f0f921"
            ]
           ]
          },
          "colorway": [
           "#636efa",
           "#EF553B",
           "#00cc96",
           "#ab63fa",
           "#FFA15A",
           "#19d3f3",
           "#FF6692",
           "#B6E880",
           "#FF97FF",
           "#FECB52"
          ],
          "font": {
           "color": "#f2f5fa"
          },
          "geo": {
           "bgcolor": "rgb(17,17,17)",
           "lakecolor": "rgb(17,17,17)",
           "landcolor": "rgb(17,17,17)",
           "showlakes": true,
           "showland": true,
           "subunitcolor": "#506784"
          },
          "hoverlabel": {
           "align": "left"
          },
          "hovermode": "closest",
          "mapbox": {
           "style": "dark"
          },
          "paper_bgcolor": "rgb(17,17,17)",
          "plot_bgcolor": "rgb(17,17,17)",
          "polar": {
           "angularaxis": {
            "gridcolor": "#506784",
            "linecolor": "#506784",
            "ticks": ""
           },
           "bgcolor": "rgb(17,17,17)",
           "radialaxis": {
            "gridcolor": "#506784",
            "linecolor": "#506784",
            "ticks": ""
           }
          },
          "scene": {
           "xaxis": {
            "backgroundcolor": "rgb(17,17,17)",
            "gridcolor": "#506784",
            "gridwidth": 2,
            "linecolor": "#506784",
            "showbackground": true,
            "ticks": "",
            "zerolinecolor": "#C8D4E3"
           },
           "yaxis": {
            "backgroundcolor": "rgb(17,17,17)",
            "gridcolor": "#506784",
            "gridwidth": 2,
            "linecolor": "#506784",
            "showbackground": true,
            "ticks": "",
            "zerolinecolor": "#C8D4E3"
           },
           "zaxis": {
            "backgroundcolor": "rgb(17,17,17)",
            "gridcolor": "#506784",
            "gridwidth": 2,
            "linecolor": "#506784",
            "showbackground": true,
            "ticks": "",
            "zerolinecolor": "#C8D4E3"
           }
          },
          "shapedefaults": {
           "line": {
            "color": "#f2f5fa"
           }
          },
          "sliderdefaults": {
           "bgcolor": "#C8D4E3",
           "bordercolor": "rgb(17,17,17)",
           "borderwidth": 1,
           "tickwidth": 0
          },
          "ternary": {
           "aaxis": {
            "gridcolor": "#506784",
            "linecolor": "#506784",
            "ticks": ""
           },
           "baxis": {
            "gridcolor": "#506784",
            "linecolor": "#506784",
            "ticks": ""
           },
           "bgcolor": "rgb(17,17,17)",
           "caxis": {
            "gridcolor": "#506784",
            "linecolor": "#506784",
            "ticks": ""
           }
          },
          "title": {
           "x": 0.05
          },
          "updatemenudefaults": {
           "bgcolor": "#506784",
           "borderwidth": 0
          },
          "xaxis": {
           "automargin": true,
           "gridcolor": "#283442",
           "linecolor": "#506784",
           "ticks": "",
           "title": {
            "standoff": 15
           },
           "zerolinecolor": "#283442",
           "zerolinewidth": 2
          },
          "yaxis": {
           "automargin": true,
           "gridcolor": "#283442",
           "linecolor": "#506784",
           "ticks": "",
           "title": {
            "standoff": 15
           },
           "zerolinecolor": "#283442",
           "zerolinewidth": 2
          }
         }
        },
        "title": {
         "text": "Plot for corona virus cases in china"
        },
        "xaxis": {
         "title": {
          "text": "Dates in mm/dd/yy"
         }
        },
        "yaxis": {
         "title": {
          "text": "Count"
         }
        }
       }
      },
      "text/html": [
       "<div>\n",
       "        \n",
       "        \n",
       "            <div id=\"0c684039-6f67-46fb-a0b9-e091fb8c0977\" class=\"plotly-graph-div\" style=\"height:525px; width:100%;\"></div>\n",
       "            <script type=\"text/javascript\">\n",
       "                require([\"plotly\"], function(Plotly) {\n",
       "                    window.PLOTLYENV=window.PLOTLYENV || {};\n",
       "                    \n",
       "                if (document.getElementById(\"0c684039-6f67-46fb-a0b9-e091fb8c0977\")) {\n",
       "                    Plotly.newPlot(\n",
       "                        '0c684039-6f67-46fb-a0b9-e091fb8c0977',\n",
       "                        [{\"line\": {\"color\": \"#9970AB\"}, \"mode\": \"lines+markers\", \"name\": \"Confirmed\", \"type\": \"scatter\", \"x\": [\"1/22/20\", \"1/23/20\", \"1/24/20\", \"1/25/20\", \"1/26/20\", \"1/27/20\", \"1/28/20\", \"1/29/20\", \"1/30/20\", \"1/31/20\", \"2/1/20\", \"2/2/20\", \"2/3/20\", \"2/4/20\", \"2/5/20\", \"2/6/20\", \"2/7/20\", \"2/8/20\", \"2/9/20\", \"2/10/20\", \"2/11/20\", \"2/12/20\", \"2/13/20\", \"2/14/20\", \"2/15/20\", \"2/16/20\", \"2/17/20\", \"2/18/20\", \"2/19/20\", \"2/20/20\", \"2/21/20\", \"2/22/20\", \"2/23/20\", \"2/24/20\", \"2/25/20\", \"2/26/20\", \"2/27/20\", \"2/28/20\", \"2/29/20\"], \"y\": [547, 639, 916, 1399, 2062, 2863, 5494, 6070, 8124, 9783, 11871, 16607, 19693, 23680, 27409, 30553, 34075, 36778, 39790, 42306, 44327, 44699, 59832, 66292, 68347, 70446, 72364, 74139, 74546, 74999, 75472, 76922, 76938, 77152, 77660, 78065, 78498, 78824, 79251]}, {\"line\": {\"color\": \"#FC4E2A\"}, \"mode\": \"lines+markers\", \"name\": \"Deaths\", \"type\": \"scatter\", \"x\": [\"1/22/20\", \"1/23/20\", \"1/24/20\", \"1/25/20\", \"1/26/20\", \"1/27/20\", \"1/28/20\", \"1/29/20\", \"1/30/20\", \"1/31/20\", \"2/1/20\", \"2/2/20\", \"2/3/20\", \"2/4/20\", \"2/5/20\", \"2/6/20\", \"2/7/20\", \"2/8/20\", \"2/9/20\", \"2/10/20\", \"2/11/20\", \"2/12/20\", \"2/13/20\", \"2/14/20\", \"2/15/20\", \"2/16/20\", \"2/17/20\", \"2/18/20\", \"2/19/20\", \"2/20/20\", \"2/21/20\", \"2/22/20\", \"2/23/20\", \"2/24/20\", \"2/25/20\", \"2/26/20\", \"2/27/20\", \"2/28/20\", \"2/29/20\"], \"y\": [17, 18, 26, 42, 56, 82, 131, 133, 171, 213, 259, 361, 425, 490, 562, 632, 717, 804, 904, 1011, 1111, 1116, 1368, 1520, 1662, 1765, 1863, 2002, 2114, 2236, 2236, 2441, 2443, 2593, 2663, 2715, 2744, 2788, 2835]}, {\"line\": {\"color\": \"#B8E186\"}, \"mode\": \"lines+markers\", \"name\": \"Recovered\", \"type\": \"scatter\", \"x\": [\"1/22/20\", \"1/23/20\", \"1/24/20\", \"1/25/20\", \"1/26/20\", \"1/27/20\", \"1/28/20\", \"1/29/20\", \"1/30/20\", \"1/31/20\", \"2/1/20\", \"2/2/20\", \"2/3/20\", \"2/4/20\", \"2/5/20\", \"2/6/20\", \"2/7/20\", \"2/8/20\", \"2/9/20\", \"2/10/20\", \"2/11/20\", \"2/12/20\", \"2/13/20\", \"2/14/20\", \"2/15/20\", \"2/16/20\", \"2/17/20\", \"2/18/20\", \"2/19/20\", \"2/20/20\", \"2/21/20\", \"2/22/20\", \"2/23/20\", \"2/24/20\", \"2/25/20\", \"2/26/20\", \"2/27/20\", \"2/28/20\", \"2/29/20\"], \"y\": [28, 30, 36, 39, 49, 58, 101, 120, 135, 214, 275, 463, 614, 843, 1115, 1476, 1998, 2595, 3218, 3917, 4635, 5079, 6213, 7973, 9294, 10748, 12455, 14199, 15952, 18002, 18693, 22687, 23170, 24990, 27650, 30053, 32898, 36291, 39279]}],\n",
       "                        {\"showlegend\": true, \"template\": {\"data\": {\"bar\": [{\"error_x\": {\"color\": \"#f2f5fa\"}, \"error_y\": {\"color\": \"#f2f5fa\"}, \"marker\": {\"line\": {\"color\": \"rgb(17,17,17)\", \"width\": 0.5}}, \"type\": \"bar\"}], \"barpolar\": [{\"marker\": {\"line\": {\"color\": \"rgb(17,17,17)\", \"width\": 0.5}}, \"type\": \"barpolar\"}], \"carpet\": [{\"aaxis\": {\"endlinecolor\": \"#A2B1C6\", \"gridcolor\": \"#506784\", \"linecolor\": \"#506784\", \"minorgridcolor\": \"#506784\", \"startlinecolor\": \"#A2B1C6\"}, \"baxis\": {\"endlinecolor\": \"#A2B1C6\", \"gridcolor\": \"#506784\", \"linecolor\": \"#506784\", \"minorgridcolor\": \"#506784\", \"startlinecolor\": \"#A2B1C6\"}, \"type\": \"carpet\"}], \"choropleth\": [{\"colorbar\": {\"outlinewidth\": 0, \"ticks\": \"\"}, \"type\": \"choropleth\"}], \"contour\": [{\"colorbar\": {\"outlinewidth\": 0, \"ticks\": \"\"}, \"colorscale\": [[0.0, \"#0d0887\"], [0.1111111111111111, \"#46039f\"], [0.2222222222222222, \"#7201a8\"], [0.3333333333333333, \"#9c179e\"], [0.4444444444444444, \"#bd3786\"], [0.5555555555555556, \"#d8576b\"], [0.6666666666666666, \"#ed7953\"], [0.7777777777777778, \"#fb9f3a\"], [0.8888888888888888, \"#fdca26\"], [1.0, \"#f0f921\"]], \"type\": \"contour\"}], \"contourcarpet\": [{\"colorbar\": {\"outlinewidth\": 0, \"ticks\": \"\"}, \"type\": \"contourcarpet\"}], \"heatmap\": [{\"colorbar\": {\"outlinewidth\": 0, \"ticks\": \"\"}, \"colorscale\": [[0.0, \"#0d0887\"], [0.1111111111111111, \"#46039f\"], [0.2222222222222222, \"#7201a8\"], [0.3333333333333333, \"#9c179e\"], [0.4444444444444444, \"#bd3786\"], [0.5555555555555556, \"#d8576b\"], [0.6666666666666666, \"#ed7953\"], [0.7777777777777778, \"#fb9f3a\"], [0.8888888888888888, \"#fdca26\"], [1.0, \"#f0f921\"]], \"type\": \"heatmap\"}], \"heatmapgl\": [{\"colorbar\": {\"outlinewidth\": 0, \"ticks\": \"\"}, \"colorscale\": [[0.0, \"#0d0887\"], [0.1111111111111111, \"#46039f\"], [0.2222222222222222, \"#7201a8\"], [0.3333333333333333, \"#9c179e\"], [0.4444444444444444, \"#bd3786\"], [0.5555555555555556, \"#d8576b\"], [0.6666666666666666, \"#ed7953\"], [0.7777777777777778, \"#fb9f3a\"], [0.8888888888888888, \"#fdca26\"], [1.0, \"#f0f921\"]], \"type\": \"heatmapgl\"}], \"histogram\": [{\"marker\": {\"colorbar\": {\"outlinewidth\": 0, \"ticks\": \"\"}}, \"type\": \"histogram\"}], \"histogram2d\": [{\"colorbar\": {\"outlinewidth\": 0, \"ticks\": \"\"}, \"colorscale\": [[0.0, \"#0d0887\"], [0.1111111111111111, \"#46039f\"], [0.2222222222222222, \"#7201a8\"], [0.3333333333333333, \"#9c179e\"], [0.4444444444444444, \"#bd3786\"], [0.5555555555555556, \"#d8576b\"], [0.6666666666666666, \"#ed7953\"], [0.7777777777777778, \"#fb9f3a\"], [0.8888888888888888, \"#fdca26\"], [1.0, \"#f0f921\"]], \"type\": \"histogram2d\"}], \"histogram2dcontour\": [{\"colorbar\": {\"outlinewidth\": 0, \"ticks\": \"\"}, \"colorscale\": [[0.0, \"#0d0887\"], [0.1111111111111111, \"#46039f\"], [0.2222222222222222, \"#7201a8\"], [0.3333333333333333, \"#9c179e\"], [0.4444444444444444, \"#bd3786\"], [0.5555555555555556, \"#d8576b\"], [0.6666666666666666, \"#ed7953\"], [0.7777777777777778, \"#fb9f3a\"], [0.8888888888888888, \"#fdca26\"], [1.0, \"#f0f921\"]], \"type\": \"histogram2dcontour\"}], \"mesh3d\": [{\"colorbar\": {\"outlinewidth\": 0, \"ticks\": \"\"}, \"type\": \"mesh3d\"}], \"parcoords\": [{\"line\": {\"colorbar\": {\"outlinewidth\": 0, \"ticks\": \"\"}}, \"type\": \"parcoords\"}], \"pie\": [{\"automargin\": true, \"type\": \"pie\"}], \"scatter\": [{\"marker\": {\"line\": {\"color\": \"#283442\"}}, \"type\": \"scatter\"}], \"scatter3d\": [{\"line\": {\"colorbar\": {\"outlinewidth\": 0, \"ticks\": \"\"}}, \"marker\": {\"colorbar\": {\"outlinewidth\": 0, \"ticks\": \"\"}}, \"type\": \"scatter3d\"}], \"scattercarpet\": [{\"marker\": {\"colorbar\": {\"outlinewidth\": 0, \"ticks\": \"\"}}, \"type\": \"scattercarpet\"}], \"scattergeo\": [{\"marker\": {\"colorbar\": {\"outlinewidth\": 0, \"ticks\": \"\"}}, \"type\": \"scattergeo\"}], \"scattergl\": [{\"marker\": {\"line\": {\"color\": \"#283442\"}}, \"type\": \"scattergl\"}], \"scattermapbox\": [{\"marker\": {\"colorbar\": {\"outlinewidth\": 0, \"ticks\": \"\"}}, \"type\": \"scattermapbox\"}], \"scatterpolar\": [{\"marker\": {\"colorbar\": {\"outlinewidth\": 0, \"ticks\": \"\"}}, \"type\": \"scatterpolar\"}], \"scatterpolargl\": [{\"marker\": {\"colorbar\": {\"outlinewidth\": 0, \"ticks\": \"\"}}, \"type\": \"scatterpolargl\"}], \"scatterternary\": [{\"marker\": {\"colorbar\": {\"outlinewidth\": 0, \"ticks\": \"\"}}, \"type\": \"scatterternary\"}], \"surface\": [{\"colorbar\": {\"outlinewidth\": 0, \"ticks\": \"\"}, \"colorscale\": [[0.0, \"#0d0887\"], [0.1111111111111111, \"#46039f\"], [0.2222222222222222, \"#7201a8\"], [0.3333333333333333, \"#9c179e\"], [0.4444444444444444, \"#bd3786\"], [0.5555555555555556, \"#d8576b\"], [0.6666666666666666, \"#ed7953\"], [0.7777777777777778, \"#fb9f3a\"], [0.8888888888888888, \"#fdca26\"], [1.0, \"#f0f921\"]], \"type\": \"surface\"}], \"table\": [{\"cells\": {\"fill\": {\"color\": \"#506784\"}, \"line\": {\"color\": \"rgb(17,17,17)\"}}, \"header\": {\"fill\": {\"color\": \"#2a3f5f\"}, \"line\": {\"color\": \"rgb(17,17,17)\"}}, \"type\": \"table\"}]}, \"layout\": {\"annotationdefaults\": {\"arrowcolor\": \"#f2f5fa\", \"arrowhead\": 0, \"arrowwidth\": 1}, \"coloraxis\": {\"colorbar\": {\"outlinewidth\": 0, \"ticks\": \"\"}}, \"colorscale\": {\"diverging\": [[0, \"#8e0152\"], [0.1, \"#c51b7d\"], [0.2, \"#de77ae\"], [0.3, \"#f1b6da\"], [0.4, \"#fde0ef\"], [0.5, \"#f7f7f7\"], [0.6, \"#e6f5d0\"], [0.7, \"#b8e186\"], [0.8, \"#7fbc41\"], [0.9, \"#4d9221\"], [1, \"#276419\"]], \"sequential\": [[0.0, \"#0d0887\"], [0.1111111111111111, \"#46039f\"], [0.2222222222222222, \"#7201a8\"], [0.3333333333333333, \"#9c179e\"], [0.4444444444444444, \"#bd3786\"], [0.5555555555555556, \"#d8576b\"], [0.6666666666666666, \"#ed7953\"], [0.7777777777777778, \"#fb9f3a\"], [0.8888888888888888, \"#fdca26\"], [1.0, \"#f0f921\"]], \"sequentialminus\": [[0.0, \"#0d0887\"], [0.1111111111111111, \"#46039f\"], [0.2222222222222222, \"#7201a8\"], [0.3333333333333333, \"#9c179e\"], [0.4444444444444444, \"#bd3786\"], [0.5555555555555556, \"#d8576b\"], [0.6666666666666666, \"#ed7953\"], [0.7777777777777778, \"#fb9f3a\"], [0.8888888888888888, \"#fdca26\"], [1.0, \"#f0f921\"]]}, \"colorway\": [\"#636efa\", \"#EF553B\", \"#00cc96\", \"#ab63fa\", \"#FFA15A\", \"#19d3f3\", \"#FF6692\", \"#B6E880\", \"#FF97FF\", \"#FECB52\"], \"font\": {\"color\": \"#f2f5fa\"}, \"geo\": {\"bgcolor\": \"rgb(17,17,17)\", \"lakecolor\": \"rgb(17,17,17)\", \"landcolor\": \"rgb(17,17,17)\", \"showlakes\": true, \"showland\": true, \"subunitcolor\": \"#506784\"}, \"hoverlabel\": {\"align\": \"left\"}, \"hovermode\": \"closest\", \"mapbox\": {\"style\": \"dark\"}, \"paper_bgcolor\": \"rgb(17,17,17)\", \"plot_bgcolor\": \"rgb(17,17,17)\", \"polar\": {\"angularaxis\": {\"gridcolor\": \"#506784\", \"linecolor\": \"#506784\", \"ticks\": \"\"}, \"bgcolor\": \"rgb(17,17,17)\", \"radialaxis\": {\"gridcolor\": \"#506784\", \"linecolor\": \"#506784\", \"ticks\": \"\"}}, \"scene\": {\"xaxis\": {\"backgroundcolor\": \"rgb(17,17,17)\", \"gridcolor\": \"#506784\", \"gridwidth\": 2, \"linecolor\": \"#506784\", \"showbackground\": true, \"ticks\": \"\", \"zerolinecolor\": \"#C8D4E3\"}, \"yaxis\": {\"backgroundcolor\": \"rgb(17,17,17)\", \"gridcolor\": \"#506784\", \"gridwidth\": 2, \"linecolor\": \"#506784\", \"showbackground\": true, \"ticks\": \"\", \"zerolinecolor\": \"#C8D4E3\"}, \"zaxis\": {\"backgroundcolor\": \"rgb(17,17,17)\", \"gridcolor\": \"#506784\", \"gridwidth\": 2, \"linecolor\": \"#506784\", \"showbackground\": true, \"ticks\": \"\", \"zerolinecolor\": \"#C8D4E3\"}}, \"shapedefaults\": {\"line\": {\"color\": \"#f2f5fa\"}}, \"sliderdefaults\": {\"bgcolor\": \"#C8D4E3\", \"bordercolor\": \"rgb(17,17,17)\", \"borderwidth\": 1, \"tickwidth\": 0}, \"ternary\": {\"aaxis\": {\"gridcolor\": \"#506784\", \"linecolor\": \"#506784\", \"ticks\": \"\"}, \"baxis\": {\"gridcolor\": \"#506784\", \"linecolor\": \"#506784\", \"ticks\": \"\"}, \"bgcolor\": \"rgb(17,17,17)\", \"caxis\": {\"gridcolor\": \"#506784\", \"linecolor\": \"#506784\", \"ticks\": \"\"}}, \"title\": {\"x\": 0.05}, \"updatemenudefaults\": {\"bgcolor\": \"#506784\", \"borderwidth\": 0}, \"xaxis\": {\"automargin\": true, \"gridcolor\": \"#283442\", \"linecolor\": \"#506784\", \"ticks\": \"\", \"title\": {\"standoff\": 15}, \"zerolinecolor\": \"#283442\", \"zerolinewidth\": 2}, \"yaxis\": {\"automargin\": true, \"gridcolor\": \"#283442\", \"linecolor\": \"#506784\", \"ticks\": \"\", \"title\": {\"standoff\": 15}, \"zerolinecolor\": \"#283442\", \"zerolinewidth\": 2}}}, \"title\": {\"text\": \"Plot for corona virus cases in china\"}, \"xaxis\": {\"title\": {\"text\": \"Dates in mm/dd/yy\"}}, \"yaxis\": {\"title\": {\"text\": \"Count\"}}},\n",
       "                        {\"responsive\": true}\n",
       "                    ).then(function(){\n",
       "                            \n",
       "var gd = document.getElementById('0c684039-6f67-46fb-a0b9-e091fb8c0977');\n",
       "var x = new MutationObserver(function (mutations, observer) {{\n",
       "        var display = window.getComputedStyle(gd).display;\n",
       "        if (!display || display === 'none') {{\n",
       "            console.log([gd, 'removed!']);\n",
       "            Plotly.purge(gd);\n",
       "            observer.disconnect();\n",
       "        }}\n",
       "}});\n",
       "\n",
       "// Listen for the removal of the full notebook cells\n",
       "var notebookContainer = gd.closest('#notebook-container');\n",
       "if (notebookContainer) {{\n",
       "    x.observe(notebookContainer, {childList: true});\n",
       "}}\n",
       "\n",
       "// Listen for the clearing of the current output cell\n",
       "var outputEl = gd.closest('.output');\n",
       "if (outputEl) {{\n",
       "    x.observe(outputEl, {childList: true});\n",
       "}}\n",
       "\n",
       "                        })\n",
       "                };\n",
       "                });\n",
       "            </script>\n",
       "        </div>"
      ]
     },
     "metadata": {},
     "output_type": "display_data"
    }
   ],
   "source": [
    "#SCATTER PLOT FOR CHINA CONTAINS ALL\n",
    "import plotly.graph_objects as go\n",
    "import pandas as pd\n",
    "\n",
    "fig = go.Figure()\n",
    "fig.add_trace(go.Scatter(x=CHINA_MAIN_FRAME['Date'], y=CHINA_MAIN_FRAME['Confirmed cases in Main Land China'], name=\"Confirmed\",\n",
    "                         line_color='#9970AB',\n",
    "                        mode='lines+markers'))\n",
    "\n",
    "fig.add_trace(go.Scatter(x=CHINA_MAIN_FRAME['Date'], y=CHINA_MAIN_FRAME['Deaths in MainLand China'], name=\"Deaths\",\n",
    "                         line_color='#FC4E2A',\n",
    "                        mode='lines+markers'))\n",
    "fig.add_trace(go.Scatter(x=CHINA_MAIN_FRAME['Date'], y=CHINA_MAIN_FRAME['Recovered in MainLand China'], name=\"Recovered\",\n",
    "                         line_color='#B8E186',\n",
    "                        mode='lines+markers'))\n",
    "fig.update_layout(title=\"Plot for corona virus cases in china\",template=\"plotly_dark\",xaxis_title=\"Dates in mm/dd/yy\",\n",
    "    yaxis_title=\"Count\",showlegend=True)\n",
    "\n",
    "fig.show()\n"
   ]
  },
  {
   "cell_type": "code",
   "execution_count": null,
   "metadata": {},
   "outputs": [],
   "source": []
  },
  {
   "cell_type": "code",
   "execution_count": 888,
   "metadata": {},
   "outputs": [],
   "source": [
    "timeseries_confirmed_df.head()\n",
    "timeseries_confirmed_df = timeseries_confirmed_df[timeseries_confirmed_df['Country/Region'] == 'Mainland China']\n",
    "mainlandchina=timeseries_confirmed_df\n"
   ]
  },
  {
   "cell_type": "code",
   "execution_count": 889,
   "metadata": {},
   "outputs": [
    {
     "data": {
      "text/plain": [
       "39279"
      ]
     },
     "execution_count": 889,
     "metadata": {},
     "output_type": "execute_result"
    }
   ],
   "source": [
    "mainland_china['total confirmed'] =timeseries_confirmed_df.iloc[:,-1:].sum(axis=1)\n",
    "mainland_china['total deaths']=timeseries_deaths_df.iloc[:,-1:].sum(axis=1)\n",
    "mainland_china['total recovered']=timeseries_recovered_df.iloc[:,-1:].sum(axis=1)\n",
    "allconfirmed_china=mainland_china['total confirmed'].sum()\n",
    "alldeaths_china=mainland_china['total deaths'].sum()\n",
    "allrecovered_china=mainland_china['total recovered'].sum()\n",
    "allrecovered_china"
   ]
  },
  {
   "cell_type": "code",
   "execution_count": 1058,
   "metadata": {},
   "outputs": [],
   "source": [
    "import numpy as np\n",
    "Big_picture=timeseries_confirmed_df\n",
    "Big_picture=Big_picture.iloc[:,np.r_[0:4]]\n",
    "Big_picture['total confirmed']=timeseries_confirmed_df.iloc[:,-1:]\n",
    "Big_picture['total deaths']=timeseries_deaths_df.iloc[:,-1:]\n",
    "Big_picture['total recovered']=timeseries_recovered_df.iloc[:,-1:]"
   ]
  },
  {
   "cell_type": "code",
   "execution_count": 1063,
   "metadata": {},
   "outputs": [
    {
     "data": {
      "text/plain": [
       "3.4030738233595836"
      ]
     },
     "execution_count": 1063,
     "metadata": {},
     "output_type": "execute_result"
    }
   ],
   "source": [
    "\n",
    "Fatality_rate_japan=y['total deaths']/y['total confirmed']*100\n",
    "fatality_rate\n"
   ]
  },
  {
   "cell_type": "code",
   "execution_count": 867,
   "metadata": {},
   "outputs": [
    {
     "name": "stdout",
     "output_type": "stream",
     "text": [
      "Collecting folium\n",
      "  Using cached folium-0.10.1-py2.py3-none-any.whl (91 kB)\n",
      "Requirement already satisfied: requests in c:\\users\\trive\\appdata\\local\\conda\\conda\\envs\\tensorflowenv\\lib\\site-packages (from folium) (2.22.0)\n",
      "Requirement already satisfied: numpy in c:\\users\\trive\\appdata\\local\\conda\\conda\\envs\\tensorflowenv\\lib\\site-packages (from folium) (1.18.1)\n",
      "Collecting branca>=0.3.0\n",
      "  Using cached branca-0.4.0-py3-none-any.whl (25 kB)\n",
      "Requirement already satisfied: jinja2>=2.9 in c:\\users\\trive\\appdata\\local\\conda\\conda\\envs\\tensorflowenv\\lib\\site-packages (from folium) (2.11.1)\n",
      "Requirement already satisfied: chardet<3.1.0,>=3.0.2 in c:\\users\\trive\\appdata\\local\\conda\\conda\\envs\\tensorflowenv\\lib\\site-packages (from requests->folium) (3.0.4)\n",
      "Requirement already satisfied: urllib3!=1.25.0,!=1.25.1,<1.26,>=1.21.1 in c:\\users\\trive\\appdata\\local\\conda\\conda\\envs\\tensorflowenv\\lib\\site-packages (from requests->folium) (1.25.8)\n",
      "Requirement already satisfied: certifi>=2017.4.17 in c:\\users\\trive\\appdata\\local\\conda\\conda\\envs\\tensorflowenv\\lib\\site-packages (from requests->folium) (2019.11.28)\n",
      "Requirement already satisfied: idna<2.9,>=2.5 in c:\\users\\trive\\appdata\\local\\conda\\conda\\envs\\tensorflowenv\\lib\\site-packages (from requests->folium) (2.8)\n",
      "Requirement already satisfied: six in c:\\users\\trive\\appdata\\local\\conda\\conda\\envs\\tensorflowenv\\lib\\site-packages (from branca>=0.3.0->folium) (1.14.0)\n",
      "Requirement already satisfied: MarkupSafe>=0.23 in c:\\users\\trive\\appdata\\local\\conda\\conda\\envs\\tensorflowenv\\lib\\site-packages (from jinja2>=2.9->folium) (1.1.1)\n",
      "Installing collected packages: branca, folium\n",
      "Successfully installed branca-0.4.0 folium-0.10.1\n"
     ]
    }
   ],
   "source": [
    "!pip install folium"
   ]
  },
  {
   "cell_type": "code",
   "execution_count": 1195,
   "metadata": {
    "scrolled": true
   },
   "outputs": [
    {
     "data": {
      "text/html": [
       "<div style=\"width:100%;\"><div style=\"position:relative;width:100%;height:0;padding-bottom:60%;\"><iframe src=\"about:blank\" style=\"position:absolute;width:100%;height:100%;left:0;top:0;border:none !important;\" data-html=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 onload=\"this.contentDocument.open();this.contentDocument.write(atob(this.getAttribute('data-html')));this.contentDocument.close();\" allowfullscreen webkitallowfullscreen mozallowfullscreen></iframe></div></div>"
      ],
      "text/plain": [
       "<folium.folium.Map at 0x1de78784588>"
      ]
     },
     "execution_count": 1195,
     "metadata": {},
     "output_type": "execute_result"
    }
   ],
   "source": [
    "import folium\n",
    "\n",
    "\n",
    "world_map = folium.Map(location=[10,20 ], zoom_start=2,tiles='Stamen Toner')\n",
    "\n",
    "for lat, lon, value1,value2,value3, name, province in zip(Big_picture['Lat'], Big_picture['Long'], Big_picture['total confirmed'],Big_picture['total deaths'],Big_picture['total recovered'], Big_picture['Country/Region'],Big_picture['Province/State']):\n",
    "    folium.CircleMarker([lat, lon],\n",
    "                        radius=9,\n",
    "                        popup = ('<strong>Province/State</strong>: ' + str(province).capitalize() + '<br>'\n",
    "                            '<strong>Country</strong>: ' + str(name).capitalize() + '<br>'\n",
    "                                '<strong>Confirmed Cases</strong>: ' + str(value1) + '<br>'\n",
    "                                 '<strong>Deaths</strong>: ' + str(value2) + '<br>'\n",
    "                                 '<strong>Recovered</strong>: ' + str(value3) + '<br>'\n",
    "                                ),\n",
    "                        color='#D73027',\n",
    "                        \n",
    "                        fill_color='#D73027',\n",
    "                        fill_opacity=0.8 ).add_to(world_map)\n",
    "\n",
    "\n",
    "\n",
    "'''\n",
    "OpenStreetMap”\n",
    "\n",
    "”Stamen Terrain”, “Stamen Toner”, “Stamen Watercolor”\n",
    "\n",
    "”CartoDB positron”, “CartoDB dark_matter”\n",
    "\n",
    "”Mapbox Bright”, “Mapbox Control Room” (Limited zoom)\n",
    "\n",
    "”Cloudmade” (Must pass API key)\n",
    "\n",
    "”Mapbox” (Must pass API key)'''\n",
    "world_map"
   ]
  },
  {
   "cell_type": "code",
   "execution_count": 1196,
   "metadata": {
    "scrolled": true
   },
   "outputs": [
    {
     "data": {
      "application/vnd.plotly.v1+json": {
       "config": {
        "plotlyServerURL": "https://plot.ly"
       },
       "data": [
        {
         "coloraxis": "coloraxis",
         "customdata": [
          [
           "Anhui",
           990,
           6,
           868
          ],
          [
           "Beijing",
           411,
           8,
           271
          ],
          [
           "Chongqing",
           576,
           6,
           438
          ],
          [
           "Fujian",
           296,
           1,
           243
          ],
          [
           "Gansu",
           91,
           2,
           82
          ],
          [
           "Guangdong",
           1349,
           7,
           983
          ],
          [
           "Guangxi",
           252,
           2,
           176
          ],
          [
           "Guizhou",
           146,
           2,
           112
          ],
          [
           "Hainan",
           168,
           5,
           148
          ],
          [
           "Hebei",
           318,
           6,
           282
          ],
          [
           "Heilongjiang",
           480,
           13,
           301
          ],
          [
           "Henan",
           1272,
           21,
           1170
          ],
          [
           "Hubei",
           66337,
           2727,
           28993
          ],
          [
           "Hunan",
           1018,
           4,
           846
          ],
          [
           "Inner Mongolia",
           75,
           0,
           49
          ],
          [
           "Jiangsu",
           631,
           0,
           523
          ],
          [
           "Jiangxi",
           935,
           1,
           811
          ],
          [
           "Jilin",
           93,
           1,
           75
          ],
          [
           "Liaoning",
           121,
           1,
           96
          ],
          [
           "Ningxia",
           73,
           0,
           69
          ],
          [
           "Qinghai",
           18,
           0,
           18
          ],
          [
           "Shaanxi",
           245,
           1,
           207
          ],
          [
           "Shandong",
           756,
           6,
           421
          ],
          [
           "Shanghai",
           337,
           3,
           287
          ],
          [
           "Shanxi",
           133,
           0,
           114
          ],
          [
           "Sichuan",
           538,
           3,
           351
          ],
          [
           "Tianjin",
           136,
           3,
           109
          ],
          [
           "Tibet",
           1,
           0,
           1
          ],
          [
           "Xinjiang",
           76,
           3,
           62
          ],
          [
           "Yunnan",
           174,
           2,
           157
          ],
          [
           "Zhejiang",
           1205,
           1,
           1016
          ],
          [
           null,
           42,
           0,
           28
          ],
          [
           null,
           241,
           5,
           32
          ],
          [
           null,
           3150,
           16,
           27
          ],
          [
           "Taiwan",
           39,
           1,
           9
          ],
          [
           "Seattle, WA",
           6,
           1,
           1
          ],
          [
           "Chicago, IL",
           2,
           0,
           2
          ],
          [
           "Tempe, AZ",
           1,
           0,
           1
          ],
          [
           "Macau",
           10,
           0,
           8
          ],
          [
           "Hong Kong",
           95,
           2,
           33
          ],
          [
           null,
           102,
           0,
           72
          ],
          [
           null,
           16,
           0,
           16
          ],
          [
           null,
           100,
           2,
           12
          ],
          [
           null,
           1,
           0,
           1
          ],
          [
           null,
           25,
           0,
           18
          ],
          [
           "Toronto, ON",
           10,
           0,
           2
          ],
          [
           "British Columbia",
           8,
           0,
           3
          ],
          [
           "Orange, CA",
           1,
           0,
           0
          ],
          [
           "Los Angeles, CA",
           1,
           0,
           0
          ],
          [
           "New South Wales",
           4,
           0,
           4
          ],
          [
           "Victoria",
           7,
           0,
           4
          ],
          [
           "Queensland",
           9,
           0,
           1
          ],
          [
           null,
           1,
           0,
           1
          ],
          [
           null,
           1,
           0,
           1
          ],
          [
           null,
           79,
           0,
           16
          ],
          [
           null,
           3,
           0,
           1
          ],
          [
           null,
           21,
           0,
           5
          ],
          [
           null,
           3,
           1,
           1
          ],
          [
           null,
           3,
           0,
           3
          ],
          [
           "London, ON",
           1,
           0,
           1
          ],
          [
           null,
           1128,
           29,
           46
          ],
          [
           null,
           23,
           0,
           8
          ],
          [
           null,
           2,
           0,
           2
          ],
          [
           null,
           12,
           0,
           0
          ],
          [
           "Santa Clara, CA",
           3,
           0,
           1
          ],
          [
           null,
           45,
           0,
           2
          ],
          [
           "South Australia",
           3,
           0,
           2
          ],
          [
           "Boston, MA",
           1,
           0,
           1
          ],
          [
           "San Benito, CA",
           2,
           0,
           0
          ],
          [
           null,
           1,
           0,
           1
          ],
          [
           "Madison, WI",
           1,
           0,
           0
          ],
          [
           "Diamond Princess cruise ship",
           705,
           6,
           10
          ],
          [
           "San Diego County, CA",
           2,
           0,
           1
          ],
          [
           "San Antonio, TX",
           1,
           0,
           0
          ],
          [
           null,
           1,
           0,
           1
          ],
          [
           null,
           593,
           43,
           123
          ],
          [
           "Omaha, NE (From Diamond Princess)",
           0,
           0,
           0
          ],
          [
           "Travis, CA (From Diamond Princess)",
           0,
           0,
           0
          ],
          [
           "From Diamond Princess",
           0,
           0,
           0
          ],
          [
           "Lackland, TX (From Diamond Princess)",
           0,
           0,
           0
          ],
          [
           null,
           4,
           0,
           0
          ],
          [
           "Humboldt County, CA",
           1,
           0,
           0
          ],
          [
           "Sacramento County, CA",
           2,
           0,
           0
          ],
          [
           null,
           13,
           0,
           0
          ],
          [
           "Unassigned Location (From Diamond Princess)",
           44,
           0,
           0
          ],
          [
           null,
           6,
           0,
           1
          ],
          [
           null,
           1,
           0,
           0
          ],
          [
           null,
           41,
           0,
           0
          ],
          [
           null,
           45,
           0,
           0
          ],
          [
           null,
           1,
           0,
           0
          ],
          [
           null,
           6,
           0,
           0
          ],
          [
           null,
           18,
           0,
           0
          ],
          [
           null,
           9,
           0,
           0
          ],
          [
           null,
           7,
           0,
           1
          ],
          [
           null,
           4,
           0,
           0
          ],
          [
           null,
           2,
           0,
           0
          ],
          [
           null,
           1,
           0,
           0
          ],
          [
           null,
           4,
           0,
           0
          ],
          [
           null,
           1,
           0,
           0
          ],
          [
           null,
           15,
           0,
           0
          ],
          [
           null,
           3,
           0,
           0
          ],
          [
           null,
           3,
           0,
           0
          ],
          [
           null,
           1,
           0,
           0
          ],
          [
           null,
           6,
           0,
           0
          ],
          [
           null,
           1,
           0,
           0
          ],
          [
           null,
           1,
           0,
           0
          ],
          [
           " Montreal, QC",
           1,
           0,
           0
          ],
          [
           null,
           1,
           0,
           0
          ],
          [
           null,
           1,
           0,
           0
          ],
          [
           null,
           4,
           0,
           0
          ],
          [
           null,
           1,
           0,
           0
          ],
          [
           null,
           1,
           0,
           0
          ],
          [
           "Western Australia",
           2,
           0,
           0
          ],
          [
           null,
           1,
           0,
           0
          ],
          [
           null,
           1,
           0,
           0
          ],
          [
           null,
           1,
           0,
           0
          ],
          [
           null,
           1,
           0,
           0
          ],
          [
           "Portland, OR",
           1,
           0,
           0
          ],
          [
           "Snohomish County, WA",
           1,
           0,
           0
          ]
         ],
         "hoverlabel": {
          "namelength": 0
         },
         "hovertemplate": "<b>%{hovertext}</b><br><br>Province/State=%{customdata[0]}<br>total confirmed=%{customdata[1]}<br>total deaths=%{customdata[2]}<br>total recovered=%{customdata[3]}<br>Lat=%{lat}<br>Long=%{lon}",
         "hovertext": [
          "Mainland China",
          "Mainland China",
          "Mainland China",
          "Mainland China",
          "Mainland China",
          "Mainland China",
          "Mainland China",
          "Mainland China",
          "Mainland China",
          "Mainland China",
          "Mainland China",
          "Mainland China",
          "Mainland China",
          "Mainland China",
          "Mainland China",
          "Mainland China",
          "Mainland China",
          "Mainland China",
          "Mainland China",
          "Mainland China",
          "Mainland China",
          "Mainland China",
          "Mainland China",
          "Mainland China",
          "Mainland China",
          "Mainland China",
          "Mainland China",
          "Mainland China",
          "Mainland China",
          "Mainland China",
          "Mainland China",
          "Thailand",
          "Japan",
          "South Korea",
          "Taiwan",
          "US",
          "US",
          "US",
          "Macau",
          "Hong Kong",
          "Singapore",
          "Vietnam",
          "France",
          "Nepal",
          "Malaysia",
          "Canada",
          "Canada",
          "US",
          "US",
          "Australia",
          "Australia",
          "Australia",
          "Cambodia",
          "Sri Lanka",
          "Germany",
          "Finland",
          "United Arab Emirates",
          "Philippines",
          "India",
          "Canada",
          "Italy",
          "UK",
          "Russia",
          "Sweden",
          "US",
          "Spain",
          "Australia",
          "US",
          "US",
          "Belgium",
          "US",
          "Others",
          "US",
          "US",
          "Egypt",
          "Iran",
          "US",
          "US",
          "Australia",
          "US",
          "Lebanon",
          "US",
          "US",
          "Iraq",
          "US",
          "Oman",
          "Afghanistan",
          "Bahrain",
          "Kuwait",
          "Algeria",
          "Croatia",
          "Switzerland",
          "Austria",
          "Israel",
          "Pakistan",
          "Brazil",
          "Georgia",
          "Greece",
          "North Macedonia",
          "Norway",
          "Romania",
          "Denmark",
          "Estonia",
          "Netherlands",
          "San Marino",
          "Belarus",
          "Canada",
          "Iceland",
          "Lithuania",
          "Mexico",
          "New Zealand",
          "Nigeria",
          "Australia",
          "Ireland",
          "Luxembourg",
          "Monaco",
          "Qatar",
          "US",
          "US"
         ],
         "lat": [
          31.8257,
          40.1824,
          30.0572,
          26.0789,
          36.0611,
          23.3417,
          23.8298,
          26.8154,
          19.1959,
          38.0428,
          47.861999999999995,
          33.882020000000004,
          30.9756,
          27.6104,
          44.0935,
          32.9711,
          27.614,
          43.6661,
          41.2956,
          37.2692,
          35.7452,
          35.1917,
          36.3427,
          31.201999999999998,
          37.5777,
          30.6171,
          39.3054,
          31.6927,
          41.1129,
          24.974,
          29.1832,
          15,
          36,
          36,
          23.7,
          47.6062,
          41.8781,
          33.4255,
          22.1667,
          22.3,
          1.2833,
          16,
          47,
          28.1667,
          2.5,
          43.6532,
          49.2827,
          33.7879,
          34.0522,
          -33.8688,
          -37.8136,
          -28.0167,
          11.55,
          7,
          51,
          64,
          24,
          13,
          21,
          42.9849,
          43,
          55,
          60,
          63,
          37.3541,
          40,
          -34.9285,
          42.3601,
          36.5761,
          50.8333,
          43.0731,
          35.4437,
          32.7157,
          29.4241,
          26,
          32,
          41.2545,
          38.2721,
          35.4437,
          29.3829,
          33.8547,
          40.745,
          38.4747,
          33,
          35.4437,
          21,
          33,
          26.0275,
          29.5,
          28.0339,
          45.1,
          46.8182,
          47.5162,
          31,
          30.3753,
          -14.235,
          42.3154,
          39.0742,
          41.6086,
          60.472,
          45.9432,
          56.2639,
          58.5953,
          52.1326,
          43.9424,
          53.7098,
          45.5017,
          64.9631,
          55.1694,
          23.6345,
          -40.9006,
          9.082,
          -31.9505,
          53.1424,
          49.8153,
          43.7333,
          25.3548,
          45.5051,
          48.033
         ],
         "lon": [
          117.2264,
          116.4142,
          107.874,
          117.9874,
          103.8343,
          113.4244,
          108.7881,
          106.8748,
          109.7453,
          114.5149,
          127.7615,
          113.61399999999999,
          112.2707,
          111.7088,
          113.9448,
          119.455,
          115.7221,
          126.1923,
          122.6085,
          106.1655,
          95.9956,
          108.8701,
          118.1498,
          121.4491,
          112.2922,
          102.7103,
          117.323,
          88.0924,
          85.2401,
          101.48700000000001,
          120.0934,
          101,
          138,
          128,
          121,
          -122.3321,
          -87.6298,
          -111.94,
          113.55,
          114.2,
          103.8333,
          108,
          2,
          84.25,
          112.5,
          -79.3832,
          -123.1207,
          -117.8531,
          -118.2437,
          151.2093,
          144.9631,
          153.4,
          104.9167,
          81,
          9,
          26,
          54,
          122,
          78,
          -81.2453,
          12,
          -3,
          90,
          16,
          -121.9552,
          -4,
          138.6007,
          -71.0589,
          -120.9876,
          4,
          -89.4012,
          139.638,
          -117.1611,
          -98.4936,
          30,
          53,
          -95.9758,
          -121.9399,
          139.638,
          -98.6134,
          35.8623,
          -123.8695,
          -121.3542,
          44,
          139.638,
          57,
          65,
          50.55,
          47.75,
          1.6596,
          15.2,
          8.2275,
          14.5501,
          35,
          69.3451,
          -51.9253,
          43.3569,
          21.8243,
          21.7453,
          8.4689,
          24.9668,
          9.5018,
          25.0136,
          5.2913,
          12.4578,
          27.9534,
          -73.5673,
          -19.0208,
          23.8813,
          -102.5528,
          174.886,
          8.6753,
          115.8605,
          -7.6921,
          6.1296,
          7.4167,
          51.1839,
          -122.675,
          -121.8339
         ],
         "name": "",
         "subplot": "mapbox",
         "type": "densitymapbox"
        }
       ],
       "layout": {
        "autosize": true,
        "coloraxis": {
         "colorbar": {
          "title": {}
         },
         "colorscale": [
          [
           0,
           "red"
          ],
          [
           0.25,
           "red"
          ],
          [
           0.5,
           "red"
          ],
          [
           0.75,
           "red"
          ],
          [
           1,
           "red"
          ]
         ],
         "showscale": false
        },
        "legend": {
         "tracegroupgap": 0
        },
        "mapbox": {
         "accesstoken": "pk.eyJ1IjoicG9pbnRlZG5pYmJsZXM2OTk2IiwiYSI6ImNrNzltYTVkYzBxenQzbHBiN2kxZmk5Y3MifQ.glsDlEuwlMLR3SBYqhF0hw",
         "center": {
          "lat": 32.19540605042017,
          "lon": 40.12688739495798
         },
         "domain": {
          "x": [
           0,
           1
          ],
          "y": [
           0,
           1
          ]
         },
         "style": "dark",
         "zoom": 3
        },
        "margin": {
         "b": 0,
         "l": 0,
         "r": 0,
         "t": 0
        },
        "template": {
         "data": {
          "bar": [
           {
            "error_x": {
             "color": "#2a3f5f"
            },
            "error_y": {
             "color": "#2a3f5f"
            },
            "marker": {
             "line": {
              "color": "#E5ECF6",
              "width": 0.5
             }
            },
            "type": "bar"
           }
          ],
          "barpolar": [
           {
            "marker": {
             "line": {
              "color": "#E5ECF6",
              "width": 0.5
             }
            },
            "type": "barpolar"
           }
          ],
          "carpet": [
           {
            "aaxis": {
             "endlinecolor": "#2a3f5f",
             "gridcolor": "white",
             "linecolor": "white",
             "minorgridcolor": "white",
             "startlinecolor": "#2a3f5f"
            },
            "baxis": {
             "endlinecolor": "#2a3f5f",
             "gridcolor": "white",
             "linecolor": "white",
             "minorgridcolor": "white",
             "startlinecolor": "#2a3f5f"
            },
            "type": "carpet"
           }
          ],
          "choropleth": [
           {
            "colorbar": {
             "outlinewidth": 0,
             "ticks": ""
            },
            "type": "choropleth"
           }
          ],
          "contour": [
           {
            "colorbar": {
             "outlinewidth": 0,
             "ticks": ""
            },
            "colorscale": [
             [
              0,
              "#0d0887"
             ],
             [
              0.1111111111111111,
              "#46039f"
             ],
             [
              0.2222222222222222,
              "#7201a8"
             ],
             [
              0.3333333333333333,
              "#9c179e"
             ],
             [
              0.4444444444444444,
              "#bd3786"
             ],
             [
              0.5555555555555556,
              "#d8576b"
             ],
             [
              0.6666666666666666,
              "#ed7953"
             ],
             [
              0.7777777777777778,
              "#fb9f3a"
             ],
             [
              0.8888888888888888,
              "#fdca26"
             ],
             [
              1,
              "#f0f921"
             ]
            ],
            "type": "contour"
           }
          ],
          "contourcarpet": [
           {
            "colorbar": {
             "outlinewidth": 0,
             "ticks": ""
            },
            "type": "contourcarpet"
           }
          ],
          "heatmap": [
           {
            "colorbar": {
             "outlinewidth": 0,
             "ticks": ""
            },
            "colorscale": [
             [
              0,
              "#0d0887"
             ],
             [
              0.1111111111111111,
              "#46039f"
             ],
             [
              0.2222222222222222,
              "#7201a8"
             ],
             [
              0.3333333333333333,
              "#9c179e"
             ],
             [
              0.4444444444444444,
              "#bd3786"
             ],
             [
              0.5555555555555556,
              "#d8576b"
             ],
             [
              0.6666666666666666,
              "#ed7953"
             ],
             [
              0.7777777777777778,
              "#fb9f3a"
             ],
             [
              0.8888888888888888,
              "#fdca26"
             ],
             [
              1,
              "#f0f921"
             ]
            ],
            "type": "heatmap"
           }
          ],
          "heatmapgl": [
           {
            "colorbar": {
             "outlinewidth": 0,
             "ticks": ""
            },
            "colorscale": [
             [
              0,
              "#0d0887"
             ],
             [
              0.1111111111111111,
              "#46039f"
             ],
             [
              0.2222222222222222,
              "#7201a8"
             ],
             [
              0.3333333333333333,
              "#9c179e"
             ],
             [
              0.4444444444444444,
              "#bd3786"
             ],
             [
              0.5555555555555556,
              "#d8576b"
             ],
             [
              0.6666666666666666,
              "#ed7953"
             ],
             [
              0.7777777777777778,
              "#fb9f3a"
             ],
             [
              0.8888888888888888,
              "#fdca26"
             ],
             [
              1,
              "#f0f921"
             ]
            ],
            "type": "heatmapgl"
           }
          ],
          "histogram": [
           {
            "marker": {
             "colorbar": {
              "outlinewidth": 0,
              "ticks": ""
             }
            },
            "type": "histogram"
           }
          ],
          "histogram2d": [
           {
            "colorbar": {
             "outlinewidth": 0,
             "ticks": ""
            },
            "colorscale": [
             [
              0,
              "#0d0887"
             ],
             [
              0.1111111111111111,
              "#46039f"
             ],
             [
              0.2222222222222222,
              "#7201a8"
             ],
             [
              0.3333333333333333,
              "#9c179e"
             ],
             [
              0.4444444444444444,
              "#bd3786"
             ],
             [
              0.5555555555555556,
              "#d8576b"
             ],
             [
              0.6666666666666666,
              "#ed7953"
             ],
             [
              0.7777777777777778,
              "#fb9f3a"
             ],
             [
              0.8888888888888888,
              "#fdca26"
             ],
             [
              1,
              "#f0f921"
             ]
            ],
            "type": "histogram2d"
           }
          ],
          "histogram2dcontour": [
           {
            "colorbar": {
             "outlinewidth": 0,
             "ticks": ""
            },
            "colorscale": [
             [
              0,
              "#0d0887"
             ],
             [
              0.1111111111111111,
              "#46039f"
             ],
             [
              0.2222222222222222,
              "#7201a8"
             ],
             [
              0.3333333333333333,
              "#9c179e"
             ],
             [
              0.4444444444444444,
              "#bd3786"
             ],
             [
              0.5555555555555556,
              "#d8576b"
             ],
             [
              0.6666666666666666,
              "#ed7953"
             ],
             [
              0.7777777777777778,
              "#fb9f3a"
             ],
             [
              0.8888888888888888,
              "#fdca26"
             ],
             [
              1,
              "#f0f921"
             ]
            ],
            "type": "histogram2dcontour"
           }
          ],
          "mesh3d": [
           {
            "colorbar": {
             "outlinewidth": 0,
             "ticks": ""
            },
            "type": "mesh3d"
           }
          ],
          "parcoords": [
           {
            "line": {
             "colorbar": {
              "outlinewidth": 0,
              "ticks": ""
             }
            },
            "type": "parcoords"
           }
          ],
          "pie": [
           {
            "automargin": true,
            "type": "pie"
           }
          ],
          "scatter": [
           {
            "marker": {
             "colorbar": {
              "outlinewidth": 0,
              "ticks": ""
             }
            },
            "type": "scatter"
           }
          ],
          "scatter3d": [
           {
            "line": {
             "colorbar": {
              "outlinewidth": 0,
              "ticks": ""
             }
            },
            "marker": {
             "colorbar": {
              "outlinewidth": 0,
              "ticks": ""
             }
            },
            "type": "scatter3d"
           }
          ],
          "scattercarpet": [
           {
            "marker": {
             "colorbar": {
              "outlinewidth": 0,
              "ticks": ""
             }
            },
            "type": "scattercarpet"
           }
          ],
          "scattergeo": [
           {
            "marker": {
             "colorbar": {
              "outlinewidth": 0,
              "ticks": ""
             }
            },
            "type": "scattergeo"
           }
          ],
          "scattergl": [
           {
            "marker": {
             "colorbar": {
              "outlinewidth": 0,
              "ticks": ""
             }
            },
            "type": "scattergl"
           }
          ],
          "scattermapbox": [
           {
            "marker": {
             "colorbar": {
              "outlinewidth": 0,
              "ticks": ""
             }
            },
            "type": "scattermapbox"
           }
          ],
          "scatterpolar": [
           {
            "marker": {
             "colorbar": {
              "outlinewidth": 0,
              "ticks": ""
             }
            },
            "type": "scatterpolar"
           }
          ],
          "scatterpolargl": [
           {
            "marker": {
             "colorbar": {
              "outlinewidth": 0,
              "ticks": ""
             }
            },
            "type": "scatterpolargl"
           }
          ],
          "scatterternary": [
           {
            "marker": {
             "colorbar": {
              "outlinewidth": 0,
              "ticks": ""
             }
            },
            "type": "scatterternary"
           }
          ],
          "surface": [
           {
            "colorbar": {
             "outlinewidth": 0,
             "ticks": ""
            },
            "colorscale": [
             [
              0,
              "#0d0887"
             ],
             [
              0.1111111111111111,
              "#46039f"
             ],
             [
              0.2222222222222222,
              "#7201a8"
             ],
             [
              0.3333333333333333,
              "#9c179e"
             ],
             [
              0.4444444444444444,
              "#bd3786"
             ],
             [
              0.5555555555555556,
              "#d8576b"
             ],
             [
              0.6666666666666666,
              "#ed7953"
             ],
             [
              0.7777777777777778,
              "#fb9f3a"
             ],
             [
              0.8888888888888888,
              "#fdca26"
             ],
             [
              1,
              "#f0f921"
             ]
            ],
            "type": "surface"
           }
          ],
          "table": [
           {
            "cells": {
             "fill": {
              "color": "#EBF0F8"
             },
             "line": {
              "color": "white"
             }
            },
            "header": {
             "fill": {
              "color": "#C8D4E3"
             },
             "line": {
              "color": "white"
             }
            },
            "type": "table"
           }
          ]
         },
         "layout": {
          "annotationdefaults": {
           "arrowcolor": "#2a3f5f",
           "arrowhead": 0,
           "arrowwidth": 1
          },
          "coloraxis": {
           "colorbar": {
            "outlinewidth": 0,
            "ticks": ""
           }
          },
          "colorscale": {
           "diverging": [
            [
             0,
             "#8e0152"
            ],
            [
             0.1,
             "#c51b7d"
            ],
            [
             0.2,
             "#de77ae"
            ],
            [
             0.3,
             "#f1b6da"
            ],
            [
             0.4,
             "#fde0ef"
            ],
            [
             0.5,
             "#f7f7f7"
            ],
            [
             0.6,
             "#e6f5d0"
            ],
            [
             0.7,
             "#b8e186"
            ],
            [
             0.8,
             "#7fbc41"
            ],
            [
             0.9,
             "#4d9221"
            ],
            [
             1,
             "#276419"
            ]
           ],
           "sequential": [
            [
             0,
             "#0d0887"
            ],
            [
             0.1111111111111111,
             "#46039f"
            ],
            [
             0.2222222222222222,
             "#7201a8"
            ],
            [
             0.3333333333333333,
             "#9c179e"
            ],
            [
             0.4444444444444444,
             "#bd3786"
            ],
            [
             0.5555555555555556,
             "#d8576b"
            ],
            [
             0.6666666666666666,
             "#ed7953"
            ],
            [
             0.7777777777777778,
             "#fb9f3a"
            ],
            [
             0.8888888888888888,
             "#fdca26"
            ],
            [
             1,
             "#f0f921"
            ]
           ],
           "sequentialminus": [
            [
             0,
             "#0d0887"
            ],
            [
             0.1111111111111111,
             "#46039f"
            ],
            [
             0.2222222222222222,
             "#7201a8"
            ],
            [
             0.3333333333333333,
             "#9c179e"
            ],
            [
             0.4444444444444444,
             "#bd3786"
            ],
            [
             0.5555555555555556,
             "#d8576b"
            ],
            [
             0.6666666666666666,
             "#ed7953"
            ],
            [
             0.7777777777777778,
             "#fb9f3a"
            ],
            [
             0.8888888888888888,
             "#fdca26"
            ],
            [
             1,
             "#f0f921"
            ]
           ]
          },
          "colorway": [
           "#636efa",
           "#EF553B",
           "#00cc96",
           "#ab63fa",
           "#FFA15A",
           "#19d3f3",
           "#FF6692",
           "#B6E880",
           "#FF97FF",
           "#FECB52"
          ],
          "font": {
           "color": "#2a3f5f"
          },
          "geo": {
           "bgcolor": "white",
           "lakecolor": "white",
           "landcolor": "#E5ECF6",
           "showlakes": true,
           "showland": true,
           "subunitcolor": "white"
          },
          "hoverlabel": {
           "align": "left"
          },
          "hovermode": "closest",
          "mapbox": {
           "style": "light"
          },
          "paper_bgcolor": "white",
          "plot_bgcolor": "#E5ECF6",
          "polar": {
           "angularaxis": {
            "gridcolor": "white",
            "linecolor": "white",
            "ticks": ""
           },
           "bgcolor": "#E5ECF6",
           "radialaxis": {
            "gridcolor": "white",
            "linecolor": "white",
            "ticks": ""
           }
          },
          "scene": {
           "xaxis": {
            "backgroundcolor": "#E5ECF6",
            "gridcolor": "white",
            "gridwidth": 2,
            "linecolor": "white",
            "showbackground": true,
            "ticks": "",
            "zerolinecolor": "white"
           },
           "yaxis": {
            "backgroundcolor": "#E5ECF6",
            "gridcolor": "white",
            "gridwidth": 2,
            "linecolor": "white",
            "showbackground": true,
            "ticks": "",
            "zerolinecolor": "white"
           },
           "zaxis": {
            "backgroundcolor": "#E5ECF6",
            "gridcolor": "white",
            "gridwidth": 2,
            "linecolor": "white",
            "showbackground": true,
            "ticks": "",
            "zerolinecolor": "white"
           }
          },
          "shapedefaults": {
           "line": {
            "color": "#2a3f5f"
           }
          },
          "ternary": {
           "aaxis": {
            "gridcolor": "white",
            "linecolor": "white",
            "ticks": ""
           },
           "baxis": {
            "gridcolor": "white",
            "linecolor": "white",
            "ticks": ""
           },
           "bgcolor": "#E5ECF6",
           "caxis": {
            "gridcolor": "white",
            "linecolor": "white",
            "ticks": ""
           }
          },
          "title": {
           "x": 0.05
          },
          "xaxis": {
           "automargin": true,
           "gridcolor": "white",
           "linecolor": "white",
           "ticks": "",
           "title": {
            "standoff": 15
           },
           "zerolinecolor": "white",
           "zerolinewidth": 2
          },
          "yaxis": {
           "automargin": true,
           "gridcolor": "white",
           "linecolor": "white",
           "ticks": "",
           "title": {
            "standoff": 15
           },
           "zerolinecolor": "white",
           "zerolinewidth": 2
          }
         }
        }
       }
      },
      "text/html": [
       "<div>\n",
       "        \n",
       "        \n",
       "            <div id=\"d86e84cf-c0e8-420c-b11a-cca264dbecce\" class=\"plotly-graph-div\" style=\"height:525px; width:100%;\"></div>\n",
       "            <script type=\"text/javascript\">\n",
       "                require([\"plotly\"], function(Plotly) {\n",
       "                    window.PLOTLYENV=window.PLOTLYENV || {};\n",
       "                    \n",
       "                if (document.getElementById(\"d86e84cf-c0e8-420c-b11a-cca264dbecce\")) {\n",
       "                    Plotly.newPlot(\n",
       "                        'd86e84cf-c0e8-420c-b11a-cca264dbecce',\n",
       "                        [{\"coloraxis\": \"coloraxis\", \"customdata\": [[\"Anhui\", 990, 6, 868], [\"Beijing\", 411, 8, 271], [\"Chongqing\", 576, 6, 438], [\"Fujian\", 296, 1, 243], [\"Gansu\", 91, 2, 82], [\"Guangdong\", 1349, 7, 983], [\"Guangxi\", 252, 2, 176], [\"Guizhou\", 146, 2, 112], [\"Hainan\", 168, 5, 148], [\"Hebei\", 318, 6, 282], [\"Heilongjiang\", 480, 13, 301], [\"Henan\", 1272, 21, 1170], [\"Hubei\", 66337, 2727, 28993], [\"Hunan\", 1018, 4, 846], [\"Inner Mongolia\", 75, 0, 49], [\"Jiangsu\", 631, 0, 523], [\"Jiangxi\", 935, 1, 811], [\"Jilin\", 93, 1, 75], [\"Liaoning\", 121, 1, 96], [\"Ningxia\", 73, 0, 69], [\"Qinghai\", 18, 0, 18], [\"Shaanxi\", 245, 1, 207], [\"Shandong\", 756, 6, 421], [\"Shanghai\", 337, 3, 287], [\"Shanxi\", 133, 0, 114], [\"Sichuan\", 538, 3, 351], [\"Tianjin\", 136, 3, 109], [\"Tibet\", 1, 0, 1], [\"Xinjiang\", 76, 3, 62], [\"Yunnan\", 174, 2, 157], [\"Zhejiang\", 1205, 1, 1016], [null, 42, 0, 28], [null, 241, 5, 32], [null, 3150, 16, 27], [\"Taiwan\", 39, 1, 9], [\"Seattle, WA\", 6, 1, 1], [\"Chicago, IL\", 2, 0, 2], [\"Tempe, AZ\", 1, 0, 1], [\"Macau\", 10, 0, 8], [\"Hong Kong\", 95, 2, 33], [null, 102, 0, 72], [null, 16, 0, 16], [null, 100, 2, 12], [null, 1, 0, 1], [null, 25, 0, 18], [\"Toronto, ON\", 10, 0, 2], [\"British Columbia\", 8, 0, 3], [\"Orange, CA\", 1, 0, 0], [\"Los Angeles, CA\", 1, 0, 0], [\"New South Wales\", 4, 0, 4], [\"Victoria\", 7, 0, 4], [\"Queensland\", 9, 0, 1], [null, 1, 0, 1], [null, 1, 0, 1], [null, 79, 0, 16], [null, 3, 0, 1], [null, 21, 0, 5], [null, 3, 1, 1], [null, 3, 0, 3], [\"London, ON\", 1, 0, 1], [null, 1128, 29, 46], [null, 23, 0, 8], [null, 2, 0, 2], [null, 12, 0, 0], [\"Santa Clara, CA\", 3, 0, 1], [null, 45, 0, 2], [\"South Australia\", 3, 0, 2], [\"Boston, MA\", 1, 0, 1], [\"San Benito, CA\", 2, 0, 0], [null, 1, 0, 1], [\"Madison, WI\", 1, 0, 0], [\"Diamond Princess cruise ship\", 705, 6, 10], [\"San Diego County, CA\", 2, 0, 1], [\"San Antonio, TX\", 1, 0, 0], [null, 1, 0, 1], [null, 593, 43, 123], [\"Omaha, NE (From Diamond Princess)\", 0, 0, 0], [\"Travis, CA (From Diamond Princess)\", 0, 0, 0], [\"From Diamond Princess\", 0, 0, 0], [\"Lackland, TX (From Diamond Princess)\", 0, 0, 0], [null, 4, 0, 0], [\"Humboldt County, CA\", 1, 0, 0], [\"Sacramento County, CA\", 2, 0, 0], [null, 13, 0, 0], [\"Unassigned Location (From Diamond Princess)\", 44, 0, 0], [null, 6, 0, 1], [null, 1, 0, 0], [null, 41, 0, 0], [null, 45, 0, 0], [null, 1, 0, 0], [null, 6, 0, 0], [null, 18, 0, 0], [null, 9, 0, 0], [null, 7, 0, 1], [null, 4, 0, 0], [null, 2, 0, 0], [null, 1, 0, 0], [null, 4, 0, 0], [null, 1, 0, 0], [null, 15, 0, 0], [null, 3, 0, 0], [null, 3, 0, 0], [null, 1, 0, 0], [null, 6, 0, 0], [null, 1, 0, 0], [null, 1, 0, 0], [\" Montreal, QC\", 1, 0, 0], [null, 1, 0, 0], [null, 1, 0, 0], [null, 4, 0, 0], [null, 1, 0, 0], [null, 1, 0, 0], [\"Western Australia\", 2, 0, 0], [null, 1, 0, 0], [null, 1, 0, 0], [null, 1, 0, 0], [null, 1, 0, 0], [\"Portland, OR\", 1, 0, 0], [\"Snohomish County, WA\", 1, 0, 0]], \"hoverlabel\": {\"namelength\": 0}, \"hovertemplate\": \"<b>%{hovertext}</b><br><br>Province/State=%{customdata[0]}<br>total confirmed=%{customdata[1]}<br>total deaths=%{customdata[2]}<br>total recovered=%{customdata[3]}<br>Lat=%{lat}<br>Long=%{lon}\", \"hovertext\": [\"Mainland China\", \"Mainland China\", \"Mainland China\", \"Mainland China\", \"Mainland China\", \"Mainland China\", \"Mainland China\", \"Mainland China\", \"Mainland China\", \"Mainland China\", \"Mainland China\", \"Mainland China\", \"Mainland China\", \"Mainland China\", \"Mainland China\", \"Mainland China\", \"Mainland China\", \"Mainland China\", \"Mainland China\", \"Mainland China\", \"Mainland China\", \"Mainland China\", \"Mainland China\", \"Mainland China\", \"Mainland China\", \"Mainland China\", \"Mainland China\", \"Mainland China\", \"Mainland China\", \"Mainland China\", \"Mainland China\", \"Thailand\", \"Japan\", \"South Korea\", \"Taiwan\", \"US\", \"US\", \"US\", \"Macau\", \"Hong Kong\", \"Singapore\", \"Vietnam\", \"France\", \"Nepal\", \"Malaysia\", \"Canada\", \"Canada\", \"US\", \"US\", \"Australia\", \"Australia\", \"Australia\", \"Cambodia\", \"Sri Lanka\", \"Germany\", \"Finland\", \"United Arab Emirates\", \"Philippines\", \"India\", \"Canada\", \"Italy\", \"UK\", \"Russia\", \"Sweden\", \"US\", \"Spain\", \"Australia\", \"US\", \"US\", \"Belgium\", \"US\", \"Others\", \"US\", \"US\", \"Egypt\", \"Iran\", \"US\", \"US\", \"Australia\", \"US\", \"Lebanon\", \"US\", \"US\", \"Iraq\", \"US\", \"Oman\", \"Afghanistan\", \"Bahrain\", \"Kuwait\", \"Algeria\", \"Croatia\", \"Switzerland\", \"Austria\", \"Israel\", \"Pakistan\", \"Brazil\", \"Georgia\", \"Greece\", \"North Macedonia\", \"Norway\", \"Romania\", \"Denmark\", \"Estonia\", \"Netherlands\", \"San Marino\", \"Belarus\", \"Canada\", \"Iceland\", \"Lithuania\", \"Mexico\", \"New Zealand\", \"Nigeria\", \"Australia\", \"Ireland\", \"Luxembourg\", \"Monaco\", \"Qatar\", \"US\", \"US\"], \"lat\": [31.8257, 40.1824, 30.0572, 26.0789, 36.0611, 23.3417, 23.8298, 26.8154, 19.1959, 38.0428, 47.861999999999995, 33.882020000000004, 30.9756, 27.6104, 44.0935, 32.9711, 27.614, 43.6661, 41.2956, 37.2692, 35.7452, 35.1917, 36.3427, 31.201999999999998, 37.5777, 30.6171, 39.3054, 31.6927, 41.1129, 24.974, 29.1832, 15.0, 36.0, 36.0, 23.7, 47.6062, 41.8781, 33.4255, 22.1667, 22.3, 1.2833, 16.0, 47.0, 28.1667, 2.5, 43.6532, 49.2827, 33.7879, 34.0522, -33.8688, -37.8136, -28.0167, 11.55, 7.0, 51.0, 64.0, 24.0, 13.0, 21.0, 42.9849, 43.0, 55.0, 60.0, 63.0, 37.3541, 40.0, -34.9285, 42.3601, 36.5761, 50.8333, 43.0731, 35.4437, 32.7157, 29.4241, 26.0, 32.0, 41.2545, 38.2721, 35.4437, 29.3829, 33.8547, 40.745, 38.4747, 33.0, 35.4437, 21.0, 33.0, 26.0275, 29.5, 28.0339, 45.1, 46.8182, 47.5162, 31.0, 30.3753, -14.235, 42.3154, 39.0742, 41.6086, 60.472, 45.9432, 56.2639, 58.5953, 52.1326, 43.9424, 53.7098, 45.5017, 64.9631, 55.1694, 23.6345, -40.9006, 9.082, -31.9505, 53.1424, 49.8153, 43.7333, 25.3548, 45.5051, 48.033], \"lon\": [117.2264, 116.4142, 107.874, 117.9874, 103.8343, 113.4244, 108.7881, 106.8748, 109.7453, 114.5149, 127.7615, 113.61399999999999, 112.2707, 111.7088, 113.9448, 119.455, 115.7221, 126.1923, 122.6085, 106.1655, 95.9956, 108.8701, 118.1498, 121.4491, 112.2922, 102.7103, 117.323, 88.0924, 85.2401, 101.48700000000001, 120.0934, 101.0, 138.0, 128.0, 121.0, -122.3321, -87.6298, -111.94, 113.55, 114.2, 103.8333, 108.0, 2.0, 84.25, 112.5, -79.3832, -123.1207, -117.8531, -118.2437, 151.2093, 144.9631, 153.4, 104.9167, 81.0, 9.0, 26.0, 54.0, 122.0, 78.0, -81.2453, 12.0, -3.0, 90.0, 16.0, -121.9552, -4.0, 138.6007, -71.0589, -120.9876, 4.0, -89.4012, 139.638, -117.1611, -98.4936, 30.0, 53.0, -95.9758, -121.9399, 139.638, -98.6134, 35.8623, -123.8695, -121.3542, 44.0, 139.638, 57.0, 65.0, 50.55, 47.75, 1.6596, 15.2, 8.2275, 14.5501, 35.0, 69.3451, -51.9253, 43.3569, 21.8243, 21.7453, 8.4689, 24.9668, 9.5018, 25.0136, 5.2913, 12.4578, 27.9534, -73.5673, -19.0208, 23.8813, -102.5528, 174.886, 8.6753, 115.8605, -7.6921, 6.1296, 7.4167, 51.1839, -122.675, -121.8339], \"name\": \"\", \"subplot\": \"mapbox\", \"type\": \"densitymapbox\"}],\n",
       "                        {\"autosize\": true, \"coloraxis\": {\"colorbar\": {\"title\": {}}, \"colorscale\": [[0.0, \"red\"], [0.25, \"red\"], [0.5, \"red\"], [0.75, \"red\"], [1.0, \"red\"]], \"showscale\": false}, \"legend\": {\"tracegroupgap\": 0}, \"mapbox\": {\"accesstoken\": \"pk.eyJ1IjoicG9pbnRlZG5pYmJsZXM2OTk2IiwiYSI6ImNrNzltYTVkYzBxenQzbHBiN2kxZmk5Y3MifQ.glsDlEuwlMLR3SBYqhF0hw\", \"center\": {\"lat\": 32.19540605042017, \"lon\": 40.12688739495798}, \"domain\": {\"x\": [0.0, 1.0], \"y\": [0.0, 1.0]}, \"style\": \"dark\", \"zoom\": 3}, \"margin\": {\"b\": 0, \"l\": 0, \"r\": 0, \"t\": 0}, \"template\": {\"data\": {\"bar\": [{\"error_x\": {\"color\": \"#2a3f5f\"}, \"error_y\": {\"color\": \"#2a3f5f\"}, \"marker\": {\"line\": {\"color\": \"#E5ECF6\", \"width\": 0.5}}, \"type\": \"bar\"}], \"barpolar\": [{\"marker\": {\"line\": {\"color\": \"#E5ECF6\", \"width\": 0.5}}, \"type\": \"barpolar\"}], \"carpet\": [{\"aaxis\": {\"endlinecolor\": \"#2a3f5f\", \"gridcolor\": \"white\", \"linecolor\": \"white\", \"minorgridcolor\": \"white\", \"startlinecolor\": \"#2a3f5f\"}, \"baxis\": {\"endlinecolor\": \"#2a3f5f\", \"gridcolor\": \"white\", \"linecolor\": \"white\", \"minorgridcolor\": \"white\", \"startlinecolor\": \"#2a3f5f\"}, \"type\": \"carpet\"}], \"choropleth\": [{\"colorbar\": {\"outlinewidth\": 0, \"ticks\": \"\"}, \"type\": \"choropleth\"}], \"contour\": [{\"colorbar\": {\"outlinewidth\": 0, \"ticks\": \"\"}, \"colorscale\": [[0.0, \"#0d0887\"], [0.1111111111111111, \"#46039f\"], [0.2222222222222222, \"#7201a8\"], [0.3333333333333333, \"#9c179e\"], [0.4444444444444444, \"#bd3786\"], [0.5555555555555556, \"#d8576b\"], [0.6666666666666666, \"#ed7953\"], [0.7777777777777778, \"#fb9f3a\"], [0.8888888888888888, \"#fdca26\"], [1.0, \"#f0f921\"]], \"type\": \"contour\"}], \"contourcarpet\": [{\"colorbar\": {\"outlinewidth\": 0, \"ticks\": \"\"}, \"type\": \"contourcarpet\"}], \"heatmap\": [{\"colorbar\": {\"outlinewidth\": 0, \"ticks\": \"\"}, \"colorscale\": [[0.0, \"#0d0887\"], [0.1111111111111111, \"#46039f\"], [0.2222222222222222, \"#7201a8\"], [0.3333333333333333, \"#9c179e\"], [0.4444444444444444, \"#bd3786\"], [0.5555555555555556, \"#d8576b\"], [0.6666666666666666, \"#ed7953\"], [0.7777777777777778, \"#fb9f3a\"], [0.8888888888888888, \"#fdca26\"], [1.0, \"#f0f921\"]], \"type\": \"heatmap\"}], \"heatmapgl\": [{\"colorbar\": {\"outlinewidth\": 0, \"ticks\": \"\"}, \"colorscale\": [[0.0, \"#0d0887\"], [0.1111111111111111, \"#46039f\"], [0.2222222222222222, \"#7201a8\"], [0.3333333333333333, \"#9c179e\"], [0.4444444444444444, \"#bd3786\"], [0.5555555555555556, \"#d8576b\"], [0.6666666666666666, \"#ed7953\"], [0.7777777777777778, \"#fb9f3a\"], [0.8888888888888888, \"#fdca26\"], [1.0, \"#f0f921\"]], \"type\": \"heatmapgl\"}], \"histogram\": [{\"marker\": {\"colorbar\": {\"outlinewidth\": 0, \"ticks\": \"\"}}, \"type\": \"histogram\"}], \"histogram2d\": [{\"colorbar\": {\"outlinewidth\": 0, \"ticks\": \"\"}, \"colorscale\": [[0.0, \"#0d0887\"], [0.1111111111111111, \"#46039f\"], [0.2222222222222222, \"#7201a8\"], [0.3333333333333333, \"#9c179e\"], [0.4444444444444444, \"#bd3786\"], [0.5555555555555556, \"#d8576b\"], [0.6666666666666666, \"#ed7953\"], [0.7777777777777778, \"#fb9f3a\"], [0.8888888888888888, \"#fdca26\"], [1.0, \"#f0f921\"]], \"type\": \"histogram2d\"}], \"histogram2dcontour\": [{\"colorbar\": {\"outlinewidth\": 0, \"ticks\": \"\"}, \"colorscale\": [[0.0, \"#0d0887\"], [0.1111111111111111, \"#46039f\"], [0.2222222222222222, \"#7201a8\"], [0.3333333333333333, \"#9c179e\"], [0.4444444444444444, \"#bd3786\"], [0.5555555555555556, \"#d8576b\"], [0.6666666666666666, \"#ed7953\"], [0.7777777777777778, \"#fb9f3a\"], [0.8888888888888888, \"#fdca26\"], [1.0, \"#f0f921\"]], \"type\": \"histogram2dcontour\"}], \"mesh3d\": [{\"colorbar\": {\"outlinewidth\": 0, \"ticks\": \"\"}, \"type\": \"mesh3d\"}], \"parcoords\": [{\"line\": {\"colorbar\": {\"outlinewidth\": 0, \"ticks\": \"\"}}, \"type\": \"parcoords\"}], \"pie\": [{\"automargin\": true, \"type\": \"pie\"}], \"scatter\": [{\"marker\": {\"colorbar\": {\"outlinewidth\": 0, \"ticks\": \"\"}}, \"type\": \"scatter\"}], \"scatter3d\": [{\"line\": {\"colorbar\": {\"outlinewidth\": 0, \"ticks\": \"\"}}, \"marker\": {\"colorbar\": {\"outlinewidth\": 0, \"ticks\": \"\"}}, \"type\": \"scatter3d\"}], \"scattercarpet\": [{\"marker\": {\"colorbar\": {\"outlinewidth\": 0, \"ticks\": \"\"}}, \"type\": \"scattercarpet\"}], \"scattergeo\": [{\"marker\": {\"colorbar\": {\"outlinewidth\": 0, \"ticks\": \"\"}}, \"type\": \"scattergeo\"}], \"scattergl\": [{\"marker\": {\"colorbar\": {\"outlinewidth\": 0, \"ticks\": \"\"}}, \"type\": \"scattergl\"}], \"scattermapbox\": [{\"marker\": {\"colorbar\": {\"outlinewidth\": 0, \"ticks\": \"\"}}, \"type\": \"scattermapbox\"}], \"scatterpolar\": [{\"marker\": {\"colorbar\": {\"outlinewidth\": 0, \"ticks\": \"\"}}, \"type\": \"scatterpolar\"}], \"scatterpolargl\": [{\"marker\": {\"colorbar\": {\"outlinewidth\": 0, \"ticks\": \"\"}}, \"type\": \"scatterpolargl\"}], \"scatterternary\": [{\"marker\": {\"colorbar\": {\"outlinewidth\": 0, \"ticks\": \"\"}}, \"type\": \"scatterternary\"}], \"surface\": [{\"colorbar\": {\"outlinewidth\": 0, \"ticks\": \"\"}, \"colorscale\": [[0.0, \"#0d0887\"], [0.1111111111111111, \"#46039f\"], [0.2222222222222222, \"#7201a8\"], [0.3333333333333333, \"#9c179e\"], [0.4444444444444444, \"#bd3786\"], [0.5555555555555556, \"#d8576b\"], [0.6666666666666666, \"#ed7953\"], [0.7777777777777778, \"#fb9f3a\"], [0.8888888888888888, \"#fdca26\"], [1.0, \"#f0f921\"]], \"type\": \"surface\"}], \"table\": [{\"cells\": {\"fill\": {\"color\": \"#EBF0F8\"}, \"line\": {\"color\": \"white\"}}, \"header\": {\"fill\": {\"color\": \"#C8D4E3\"}, \"line\": {\"color\": \"white\"}}, \"type\": \"table\"}]}, \"layout\": {\"annotationdefaults\": {\"arrowcolor\": \"#2a3f5f\", \"arrowhead\": 0, \"arrowwidth\": 1}, \"coloraxis\": {\"colorbar\": {\"outlinewidth\": 0, \"ticks\": \"\"}}, \"colorscale\": {\"diverging\": [[0, \"#8e0152\"], [0.1, \"#c51b7d\"], [0.2, \"#de77ae\"], [0.3, \"#f1b6da\"], [0.4, \"#fde0ef\"], [0.5, \"#f7f7f7\"], [0.6, \"#e6f5d0\"], [0.7, \"#b8e186\"], [0.8, \"#7fbc41\"], [0.9, \"#4d9221\"], [1, \"#276419\"]], \"sequential\": [[0.0, \"#0d0887\"], [0.1111111111111111, \"#46039f\"], [0.2222222222222222, \"#7201a8\"], [0.3333333333333333, \"#9c179e\"], [0.4444444444444444, \"#bd3786\"], [0.5555555555555556, \"#d8576b\"], [0.6666666666666666, \"#ed7953\"], [0.7777777777777778, \"#fb9f3a\"], [0.8888888888888888, \"#fdca26\"], [1.0, \"#f0f921\"]], \"sequentialminus\": [[0.0, \"#0d0887\"], [0.1111111111111111, \"#46039f\"], [0.2222222222222222, \"#7201a8\"], [0.3333333333333333, \"#9c179e\"], [0.4444444444444444, \"#bd3786\"], [0.5555555555555556, \"#d8576b\"], [0.6666666666666666, \"#ed7953\"], [0.7777777777777778, \"#fb9f3a\"], [0.8888888888888888, \"#fdca26\"], [1.0, \"#f0f921\"]]}, \"colorway\": [\"#636efa\", \"#EF553B\", \"#00cc96\", \"#ab63fa\", \"#FFA15A\", \"#19d3f3\", \"#FF6692\", \"#B6E880\", \"#FF97FF\", \"#FECB52\"], \"font\": {\"color\": \"#2a3f5f\"}, \"geo\": {\"bgcolor\": \"white\", \"lakecolor\": \"white\", \"landcolor\": \"#E5ECF6\", \"showlakes\": true, \"showland\": true, \"subunitcolor\": \"white\"}, \"hoverlabel\": {\"align\": \"left\"}, \"hovermode\": \"closest\", \"mapbox\": {\"style\": \"light\"}, \"paper_bgcolor\": \"white\", \"plot_bgcolor\": \"#E5ECF6\", \"polar\": {\"angularaxis\": {\"gridcolor\": \"white\", \"linecolor\": \"white\", \"ticks\": \"\"}, \"bgcolor\": \"#E5ECF6\", \"radialaxis\": {\"gridcolor\": \"white\", \"linecolor\": \"white\", \"ticks\": \"\"}}, \"scene\": {\"xaxis\": {\"backgroundcolor\": \"#E5ECF6\", \"gridcolor\": \"white\", \"gridwidth\": 2, \"linecolor\": \"white\", \"showbackground\": true, \"ticks\": \"\", \"zerolinecolor\": \"white\"}, \"yaxis\": {\"backgroundcolor\": \"#E5ECF6\", \"gridcolor\": \"white\", \"gridwidth\": 2, \"linecolor\": \"white\", \"showbackground\": true, \"ticks\": \"\", \"zerolinecolor\": \"white\"}, \"zaxis\": {\"backgroundcolor\": \"#E5ECF6\", \"gridcolor\": \"white\", \"gridwidth\": 2, \"linecolor\": \"white\", \"showbackground\": true, \"ticks\": \"\", \"zerolinecolor\": \"white\"}}, \"shapedefaults\": {\"line\": {\"color\": \"#2a3f5f\"}}, \"ternary\": {\"aaxis\": {\"gridcolor\": \"white\", \"linecolor\": \"white\", \"ticks\": \"\"}, \"baxis\": {\"gridcolor\": \"white\", \"linecolor\": \"white\", \"ticks\": \"\"}, \"bgcolor\": \"#E5ECF6\", \"caxis\": {\"gridcolor\": \"white\", \"linecolor\": \"white\", \"ticks\": \"\"}}, \"title\": {\"x\": 0.05}, \"xaxis\": {\"automargin\": true, \"gridcolor\": \"white\", \"linecolor\": \"white\", \"ticks\": \"\", \"title\": {\"standoff\": 15}, \"zerolinecolor\": \"white\", \"zerolinewidth\": 2}, \"yaxis\": {\"automargin\": true, \"gridcolor\": \"white\", \"linecolor\": \"white\", \"ticks\": \"\", \"title\": {\"standoff\": 15}, \"zerolinecolor\": \"white\", \"zerolinewidth\": 2}}}},\n",
       "                        {\"responsive\": true}\n",
       "                    ).then(function(){\n",
       "                            \n",
       "var gd = document.getElementById('d86e84cf-c0e8-420c-b11a-cca264dbecce');\n",
       "var x = new MutationObserver(function (mutations, observer) {{\n",
       "        var display = window.getComputedStyle(gd).display;\n",
       "        if (!display || display === 'none') {{\n",
       "            console.log([gd, 'removed!']);\n",
       "            Plotly.purge(gd);\n",
       "            observer.disconnect();\n",
       "        }}\n",
       "}});\n",
       "\n",
       "// Listen for the removal of the full notebook cells\n",
       "var notebookContainer = gd.closest('#notebook-container');\n",
       "if (notebookContainer) {{\n",
       "    x.observe(notebookContainer, {childList: true});\n",
       "}}\n",
       "\n",
       "// Listen for the clearing of the current output cell\n",
       "var outputEl = gd.closest('.output');\n",
       "if (outputEl) {{\n",
       "    x.observe(outputEl, {childList: true});\n",
       "}}\n",
       "\n",
       "                        })\n",
       "                };\n",
       "                });\n",
       "            </script>\n",
       "        </div>"
      ]
     },
     "metadata": {},
     "output_type": "display_data"
    }
   ],
   "source": [
    "'''\n",
    "Templates configuration\n",
    "-----------------------\n",
    "    Default template: 'plotly'\n",
    "    Available templates:\n",
    "        ['ggplot2', 'seaborn', 'simple_white', 'plotly',\n",
    "         'plotly_white', 'plotly_dark', 'presentation', 'xgridoff',\n",
    "         'ygridoff', 'gridon', 'none']'''\n",
    "import plotly.express as px\n",
    "\n",
    "access_token=\"pk.eyJ1IjoicG9pbnRlZG5pYmJsZXM2OTk2IiwiYSI6ImNrNzltYTVkYzBxenQzbHBiN2kxZmk5Y3MifQ.glsDlEuwlMLR3SBYqhF0hw\"\n",
    "\n",
    "fig = px.density_mapbox(Big_picture, lat=\"Lat\", lon=\"Long\", hover_name=\"Country/Region\", hover_data=[\"Province/State\",\"total confirmed\", \"total deaths\",\"total recovered\"],\n",
    "                        color_continuous_scale=[\"red\",\"red\",\"red\",\"red\",\"red\"],zoom=3)\n",
    "fig.update_layout(mapbox_accesstoken=access_token,autosize=True,coloraxis_showscale=False,mapbox_style=\"dark\")\n",
    "fig.update_layout(margin={\"r\":0,\"t\":0,\"l\":0,\"b\":0})\n",
    "fig.show()"
   ]
  },
  {
   "cell_type": "code",
   "execution_count": 1108,
   "metadata": {},
   "outputs": [
    {
     "data": {
      "application/vnd.plotly.v1+json": {
       "config": {
        "plotlyServerURL": "https://plot.ly"
       },
       "data": [],
       "layout": {
        "legend": {
         "tracegroupgap": 0
        },
        "mapbox": {
         "center": {
          "lat": 45.5517,
          "lon": -73.7073
         },
         "style": "carto-positron",
         "zoom": 9
        },
        "margin": {
         "b": 0,
         "l": 0,
         "r": 0,
         "t": 0
        },
        "template": {
         "data": {
          "bar": [
           {
            "error_x": {
             "color": "#2a3f5f"
            },
            "error_y": {
             "color": "#2a3f5f"
            },
            "marker": {
             "line": {
              "color": "#E5ECF6",
              "width": 0.5
             }
            },
            "type": "bar"
           }
          ],
          "barpolar": [
           {
            "marker": {
             "line": {
              "color": "#E5ECF6",
              "width": 0.5
             }
            },
            "type": "barpolar"
           }
          ],
          "carpet": [
           {
            "aaxis": {
             "endlinecolor": "#2a3f5f",
             "gridcolor": "white",
             "linecolor": "white",
             "minorgridcolor": "white",
             "startlinecolor": "#2a3f5f"
            },
            "baxis": {
             "endlinecolor": "#2a3f5f",
             "gridcolor": "white",
             "linecolor": "white",
             "minorgridcolor": "white",
             "startlinecolor": "#2a3f5f"
            },
            "type": "carpet"
           }
          ],
          "choropleth": [
           {
            "colorbar": {
             "outlinewidth": 0,
             "ticks": ""
            },
            "type": "choropleth"
           }
          ],
          "contour": [
           {
            "colorbar": {
             "outlinewidth": 0,
             "ticks": ""
            },
            "colorscale": [
             [
              0,
              "#0d0887"
             ],
             [
              0.1111111111111111,
              "#46039f"
             ],
             [
              0.2222222222222222,
              "#7201a8"
             ],
             [
              0.3333333333333333,
              "#9c179e"
             ],
             [
              0.4444444444444444,
              "#bd3786"
             ],
             [
              0.5555555555555556,
              "#d8576b"
             ],
             [
              0.6666666666666666,
              "#ed7953"
             ],
             [
              0.7777777777777778,
              "#fb9f3a"
             ],
             [
              0.8888888888888888,
              "#fdca26"
             ],
             [
              1,
              "#f0f921"
             ]
            ],
            "type": "contour"
           }
          ],
          "contourcarpet": [
           {
            "colorbar": {
             "outlinewidth": 0,
             "ticks": ""
            },
            "type": "contourcarpet"
           }
          ],
          "heatmap": [
           {
            "colorbar": {
             "outlinewidth": 0,
             "ticks": ""
            },
            "colorscale": [
             [
              0,
              "#0d0887"
             ],
             [
              0.1111111111111111,
              "#46039f"
             ],
             [
              0.2222222222222222,
              "#7201a8"
             ],
             [
              0.3333333333333333,
              "#9c179e"
             ],
             [
              0.4444444444444444,
              "#bd3786"
             ],
             [
              0.5555555555555556,
              "#d8576b"
             ],
             [
              0.6666666666666666,
              "#ed7953"
             ],
             [
              0.7777777777777778,
              "#fb9f3a"
             ],
             [
              0.8888888888888888,
              "#fdca26"
             ],
             [
              1,
              "#f0f921"
             ]
            ],
            "type": "heatmap"
           }
          ],
          "heatmapgl": [
           {
            "colorbar": {
             "outlinewidth": 0,
             "ticks": ""
            },
            "colorscale": [
             [
              0,
              "#0d0887"
             ],
             [
              0.1111111111111111,
              "#46039f"
             ],
             [
              0.2222222222222222,
              "#7201a8"
             ],
             [
              0.3333333333333333,
              "#9c179e"
             ],
             [
              0.4444444444444444,
              "#bd3786"
             ],
             [
              0.5555555555555556,
              "#d8576b"
             ],
             [
              0.6666666666666666,
              "#ed7953"
             ],
             [
              0.7777777777777778,
              "#fb9f3a"
             ],
             [
              0.8888888888888888,
              "#fdca26"
             ],
             [
              1,
              "#f0f921"
             ]
            ],
            "type": "heatmapgl"
           }
          ],
          "histogram": [
           {
            "marker": {
             "colorbar": {
              "outlinewidth": 0,
              "ticks": ""
             }
            },
            "type": "histogram"
           }
          ],
          "histogram2d": [
           {
            "colorbar": {
             "outlinewidth": 0,
             "ticks": ""
            },
            "colorscale": [
             [
              0,
              "#0d0887"
             ],
             [
              0.1111111111111111,
              "#46039f"
             ],
             [
              0.2222222222222222,
              "#7201a8"
             ],
             [
              0.3333333333333333,
              "#9c179e"
             ],
             [
              0.4444444444444444,
              "#bd3786"
             ],
             [
              0.5555555555555556,
              "#d8576b"
             ],
             [
              0.6666666666666666,
              "#ed7953"
             ],
             [
              0.7777777777777778,
              "#fb9f3a"
             ],
             [
              0.8888888888888888,
              "#fdca26"
             ],
             [
              1,
              "#f0f921"
             ]
            ],
            "type": "histogram2d"
           }
          ],
          "histogram2dcontour": [
           {
            "colorbar": {
             "outlinewidth": 0,
             "ticks": ""
            },
            "colorscale": [
             [
              0,
              "#0d0887"
             ],
             [
              0.1111111111111111,
              "#46039f"
             ],
             [
              0.2222222222222222,
              "#7201a8"
             ],
             [
              0.3333333333333333,
              "#9c179e"
             ],
             [
              0.4444444444444444,
              "#bd3786"
             ],
             [
              0.5555555555555556,
              "#d8576b"
             ],
             [
              0.6666666666666666,
              "#ed7953"
             ],
             [
              0.7777777777777778,
              "#fb9f3a"
             ],
             [
              0.8888888888888888,
              "#fdca26"
             ],
             [
              1,
              "#f0f921"
             ]
            ],
            "type": "histogram2dcontour"
           }
          ],
          "mesh3d": [
           {
            "colorbar": {
             "outlinewidth": 0,
             "ticks": ""
            },
            "type": "mesh3d"
           }
          ],
          "parcoords": [
           {
            "line": {
             "colorbar": {
              "outlinewidth": 0,
              "ticks": ""
             }
            },
            "type": "parcoords"
           }
          ],
          "pie": [
           {
            "automargin": true,
            "type": "pie"
           }
          ],
          "scatter": [
           {
            "marker": {
             "colorbar": {
              "outlinewidth": 0,
              "ticks": ""
             }
            },
            "type": "scatter"
           }
          ],
          "scatter3d": [
           {
            "line": {
             "colorbar": {
              "outlinewidth": 0,
              "ticks": ""
             }
            },
            "marker": {
             "colorbar": {
              "outlinewidth": 0,
              "ticks": ""
             }
            },
            "type": "scatter3d"
           }
          ],
          "scattercarpet": [
           {
            "marker": {
             "colorbar": {
              "outlinewidth": 0,
              "ticks": ""
             }
            },
            "type": "scattercarpet"
           }
          ],
          "scattergeo": [
           {
            "marker": {
             "colorbar": {
              "outlinewidth": 0,
              "ticks": ""
             }
            },
            "type": "scattergeo"
           }
          ],
          "scattergl": [
           {
            "marker": {
             "colorbar": {
              "outlinewidth": 0,
              "ticks": ""
             }
            },
            "type": "scattergl"
           }
          ],
          "scattermapbox": [
           {
            "marker": {
             "colorbar": {
              "outlinewidth": 0,
              "ticks": ""
             }
            },
            "type": "scattermapbox"
           }
          ],
          "scatterpolar": [
           {
            "marker": {
             "colorbar": {
              "outlinewidth": 0,
              "ticks": ""
             }
            },
            "type": "scatterpolar"
           }
          ],
          "scatterpolargl": [
           {
            "marker": {
             "colorbar": {
              "outlinewidth": 0,
              "ticks": ""
             }
            },
            "type": "scatterpolargl"
           }
          ],
          "scatterternary": [
           {
            "marker": {
             "colorbar": {
              "outlinewidth": 0,
              "ticks": ""
             }
            },
            "type": "scatterternary"
           }
          ],
          "surface": [
           {
            "colorbar": {
             "outlinewidth": 0,
             "ticks": ""
            },
            "colorscale": [
             [
              0,
              "#0d0887"
             ],
             [
              0.1111111111111111,
              "#46039f"
             ],
             [
              0.2222222222222222,
              "#7201a8"
             ],
             [
              0.3333333333333333,
              "#9c179e"
             ],
             [
              0.4444444444444444,
              "#bd3786"
             ],
             [
              0.5555555555555556,
              "#d8576b"
             ],
             [
              0.6666666666666666,
              "#ed7953"
             ],
             [
              0.7777777777777778,
              "#fb9f3a"
             ],
             [
              0.8888888888888888,
              "#fdca26"
             ],
             [
              1,
              "#f0f921"
             ]
            ],
            "type": "surface"
           }
          ],
          "table": [
           {
            "cells": {
             "fill": {
              "color": "#EBF0F8"
             },
             "line": {
              "color": "white"
             }
            },
            "header": {
             "fill": {
              "color": "#C8D4E3"
             },
             "line": {
              "color": "white"
             }
            },
            "type": "table"
           }
          ]
         },
         "layout": {
          "annotationdefaults": {
           "arrowcolor": "#2a3f5f",
           "arrowhead": 0,
           "arrowwidth": 1
          },
          "coloraxis": {
           "colorbar": {
            "outlinewidth": 0,
            "ticks": ""
           }
          },
          "colorscale": {
           "diverging": [
            [
             0,
             "#8e0152"
            ],
            [
             0.1,
             "#c51b7d"
            ],
            [
             0.2,
             "#de77ae"
            ],
            [
             0.3,
             "#f1b6da"
            ],
            [
             0.4,
             "#fde0ef"
            ],
            [
             0.5,
             "#f7f7f7"
            ],
            [
             0.6,
             "#e6f5d0"
            ],
            [
             0.7,
             "#b8e186"
            ],
            [
             0.8,
             "#7fbc41"
            ],
            [
             0.9,
             "#4d9221"
            ],
            [
             1,
             "#276419"
            ]
           ],
           "sequential": [
            [
             0,
             "#0d0887"
            ],
            [
             0.1111111111111111,
             "#46039f"
            ],
            [
             0.2222222222222222,
             "#7201a8"
            ],
            [
             0.3333333333333333,
             "#9c179e"
            ],
            [
             0.4444444444444444,
             "#bd3786"
            ],
            [
             0.5555555555555556,
             "#d8576b"
            ],
            [
             0.6666666666666666,
             "#ed7953"
            ],
            [
             0.7777777777777778,
             "#fb9f3a"
            ],
            [
             0.8888888888888888,
             "#fdca26"
            ],
            [
             1,
             "#f0f921"
            ]
           ],
           "sequentialminus": [
            [
             0,
             "#0d0887"
            ],
            [
             0.1111111111111111,
             "#46039f"
            ],
            [
             0.2222222222222222,
             "#7201a8"
            ],
            [
             0.3333333333333333,
             "#9c179e"
            ],
            [
             0.4444444444444444,
             "#bd3786"
            ],
            [
             0.5555555555555556,
             "#d8576b"
            ],
            [
             0.6666666666666666,
             "#ed7953"
            ],
            [
             0.7777777777777778,
             "#fb9f3a"
            ],
            [
             0.8888888888888888,
             "#fdca26"
            ],
            [
             1,
             "#f0f921"
            ]
           ]
          },
          "colorway": [
           "#636efa",
           "#EF553B",
           "#00cc96",
           "#ab63fa",
           "#FFA15A",
           "#19d3f3",
           "#FF6692",
           "#B6E880",
           "#FF97FF",
           "#FECB52"
          ],
          "font": {
           "color": "#2a3f5f"
          },
          "geo": {
           "bgcolor": "white",
           "lakecolor": "white",
           "landcolor": "#E5ECF6",
           "showlakes": true,
           "showland": true,
           "subunitcolor": "white"
          },
          "hoverlabel": {
           "align": "left"
          },
          "hovermode": "closest",
          "mapbox": {
           "style": "light"
          },
          "paper_bgcolor": "white",
          "plot_bgcolor": "#E5ECF6",
          "polar": {
           "angularaxis": {
            "gridcolor": "white",
            "linecolor": "white",
            "ticks": ""
           },
           "bgcolor": "#E5ECF6",
           "radialaxis": {
            "gridcolor": "white",
            "linecolor": "white",
            "ticks": ""
           }
          },
          "scene": {
           "xaxis": {
            "backgroundcolor": "#E5ECF6",
            "gridcolor": "white",
            "gridwidth": 2,
            "linecolor": "white",
            "showbackground": true,
            "ticks": "",
            "zerolinecolor": "white"
           },
           "yaxis": {
            "backgroundcolor": "#E5ECF6",
            "gridcolor": "white",
            "gridwidth": 2,
            "linecolor": "white",
            "showbackground": true,
            "ticks": "",
            "zerolinecolor": "white"
           },
           "zaxis": {
            "backgroundcolor": "#E5ECF6",
            "gridcolor": "white",
            "gridwidth": 2,
            "linecolor": "white",
            "showbackground": true,
            "ticks": "",
            "zerolinecolor": "white"
           }
          },
          "shapedefaults": {
           "line": {
            "color": "#2a3f5f"
           }
          },
          "ternary": {
           "aaxis": {
            "gridcolor": "white",
            "linecolor": "white",
            "ticks": ""
           },
           "baxis": {
            "gridcolor": "white",
            "linecolor": "white",
            "ticks": ""
           },
           "bgcolor": "#E5ECF6",
           "caxis": {
            "gridcolor": "white",
            "linecolor": "white",
            "ticks": ""
           }
          },
          "title": {
           "x": 0.05
          },
          "xaxis": {
           "automargin": true,
           "gridcolor": "white",
           "linecolor": "white",
           "ticks": "",
           "title": {
            "standoff": 15
           },
           "zerolinecolor": "white",
           "zerolinewidth": 2
          },
          "yaxis": {
           "automargin": true,
           "gridcolor": "white",
           "linecolor": "white",
           "ticks": "",
           "title": {
            "standoff": 15
           },
           "zerolinecolor": "white",
           "zerolinewidth": 2
          }
         }
        },
        "xaxis": {
         "anchor": "y",
         "domain": [
          0,
          1
         ]
        },
        "yaxis": {
         "anchor": "x",
         "domain": [
          0,
          1
         ]
        }
       }
      },
      "text/html": [
       "<div>\n",
       "        \n",
       "        \n",
       "            <div id=\"b782d419-23d7-49f4-afec-e35d03c443df\" class=\"plotly-graph-div\" style=\"height:525px; width:100%;\"></div>\n",
       "            <script type=\"text/javascript\">\n",
       "                require([\"plotly\"], function(Plotly) {\n",
       "                    window.PLOTLYENV=window.PLOTLYENV || {};\n",
       "                    \n",
       "                if (document.getElementById(\"b782d419-23d7-49f4-afec-e35d03c443df\")) {\n",
       "                    Plotly.newPlot(\n",
       "                        'b782d419-23d7-49f4-afec-e35d03c443df',\n",
       "                        [],\n",
       "                        {\"legend\": {\"tracegroupgap\": 0}, \"mapbox\": {\"center\": {\"lat\": 45.5517, \"lon\": -73.7073}, \"style\": \"carto-positron\", \"zoom\": 9}, \"margin\": {\"b\": 0, \"l\": 0, \"r\": 0, \"t\": 0}, \"template\": {\"data\": {\"bar\": [{\"error_x\": {\"color\": \"#2a3f5f\"}, \"error_y\": {\"color\": \"#2a3f5f\"}, \"marker\": {\"line\": {\"color\": \"#E5ECF6\", \"width\": 0.5}}, \"type\": \"bar\"}], \"barpolar\": [{\"marker\": {\"line\": {\"color\": \"#E5ECF6\", \"width\": 0.5}}, \"type\": \"barpolar\"}], \"carpet\": [{\"aaxis\": {\"endlinecolor\": \"#2a3f5f\", \"gridcolor\": \"white\", \"linecolor\": \"white\", \"minorgridcolor\": \"white\", \"startlinecolor\": \"#2a3f5f\"}, \"baxis\": {\"endlinecolor\": \"#2a3f5f\", \"gridcolor\": \"white\", \"linecolor\": \"white\", \"minorgridcolor\": \"white\", \"startlinecolor\": \"#2a3f5f\"}, \"type\": \"carpet\"}], \"choropleth\": [{\"colorbar\": {\"outlinewidth\": 0, \"ticks\": \"\"}, \"type\": \"choropleth\"}], \"contour\": [{\"colorbar\": {\"outlinewidth\": 0, \"ticks\": \"\"}, \"colorscale\": [[0.0, \"#0d0887\"], [0.1111111111111111, \"#46039f\"], [0.2222222222222222, \"#7201a8\"], [0.3333333333333333, \"#9c179e\"], [0.4444444444444444, \"#bd3786\"], [0.5555555555555556, \"#d8576b\"], [0.6666666666666666, \"#ed7953\"], [0.7777777777777778, \"#fb9f3a\"], [0.8888888888888888, \"#fdca26\"], [1.0, \"#f0f921\"]], \"type\": \"contour\"}], \"contourcarpet\": [{\"colorbar\": {\"outlinewidth\": 0, \"ticks\": \"\"}, \"type\": \"contourcarpet\"}], \"heatmap\": [{\"colorbar\": {\"outlinewidth\": 0, \"ticks\": \"\"}, \"colorscale\": [[0.0, \"#0d0887\"], [0.1111111111111111, \"#46039f\"], [0.2222222222222222, \"#7201a8\"], [0.3333333333333333, \"#9c179e\"], [0.4444444444444444, \"#bd3786\"], [0.5555555555555556, \"#d8576b\"], [0.6666666666666666, \"#ed7953\"], [0.7777777777777778, \"#fb9f3a\"], [0.8888888888888888, \"#fdca26\"], [1.0, \"#f0f921\"]], \"type\": \"heatmap\"}], \"heatmapgl\": [{\"colorbar\": {\"outlinewidth\": 0, \"ticks\": \"\"}, \"colorscale\": [[0.0, \"#0d0887\"], [0.1111111111111111, \"#46039f\"], [0.2222222222222222, \"#7201a8\"], [0.3333333333333333, \"#9c179e\"], [0.4444444444444444, \"#bd3786\"], [0.5555555555555556, \"#d8576b\"], [0.6666666666666666, \"#ed7953\"], [0.7777777777777778, \"#fb9f3a\"], [0.8888888888888888, \"#fdca26\"], [1.0, \"#f0f921\"]], \"type\": \"heatmapgl\"}], \"histogram\": [{\"marker\": {\"colorbar\": {\"outlinewidth\": 0, \"ticks\": \"\"}}, \"type\": \"histogram\"}], \"histogram2d\": [{\"colorbar\": {\"outlinewidth\": 0, \"ticks\": \"\"}, \"colorscale\": [[0.0, \"#0d0887\"], [0.1111111111111111, \"#46039f\"], [0.2222222222222222, \"#7201a8\"], [0.3333333333333333, \"#9c179e\"], [0.4444444444444444, \"#bd3786\"], [0.5555555555555556, \"#d8576b\"], [0.6666666666666666, \"#ed7953\"], [0.7777777777777778, \"#fb9f3a\"], [0.8888888888888888, \"#fdca26\"], [1.0, \"#f0f921\"]], \"type\": \"histogram2d\"}], \"histogram2dcontour\": [{\"colorbar\": {\"outlinewidth\": 0, \"ticks\": \"\"}, \"colorscale\": [[0.0, \"#0d0887\"], [0.1111111111111111, \"#46039f\"], [0.2222222222222222, \"#7201a8\"], [0.3333333333333333, \"#9c179e\"], [0.4444444444444444, \"#bd3786\"], [0.5555555555555556, \"#d8576b\"], [0.6666666666666666, \"#ed7953\"], [0.7777777777777778, \"#fb9f3a\"], [0.8888888888888888, \"#fdca26\"], [1.0, \"#f0f921\"]], \"type\": \"histogram2dcontour\"}], \"mesh3d\": [{\"colorbar\": {\"outlinewidth\": 0, \"ticks\": \"\"}, \"type\": \"mesh3d\"}], \"parcoords\": [{\"line\": {\"colorbar\": {\"outlinewidth\": 0, \"ticks\": \"\"}}, \"type\": \"parcoords\"}], \"pie\": [{\"automargin\": true, \"type\": \"pie\"}], \"scatter\": [{\"marker\": {\"colorbar\": {\"outlinewidth\": 0, \"ticks\": \"\"}}, \"type\": \"scatter\"}], \"scatter3d\": [{\"line\": {\"colorbar\": {\"outlinewidth\": 0, \"ticks\": \"\"}}, \"marker\": {\"colorbar\": {\"outlinewidth\": 0, \"ticks\": \"\"}}, \"type\": \"scatter3d\"}], \"scattercarpet\": [{\"marker\": {\"colorbar\": {\"outlinewidth\": 0, \"ticks\": \"\"}}, \"type\": \"scattercarpet\"}], \"scattergeo\": [{\"marker\": {\"colorbar\": {\"outlinewidth\": 0, \"ticks\": \"\"}}, \"type\": \"scattergeo\"}], \"scattergl\": [{\"marker\": {\"colorbar\": {\"outlinewidth\": 0, \"ticks\": \"\"}}, \"type\": \"scattergl\"}], \"scattermapbox\": [{\"marker\": {\"colorbar\": {\"outlinewidth\": 0, \"ticks\": \"\"}}, \"type\": \"scattermapbox\"}], \"scatterpolar\": [{\"marker\": {\"colorbar\": {\"outlinewidth\": 0, \"ticks\": \"\"}}, \"type\": \"scatterpolar\"}], \"scatterpolargl\": [{\"marker\": {\"colorbar\": {\"outlinewidth\": 0, \"ticks\": \"\"}}, \"type\": \"scatterpolargl\"}], \"scatterternary\": [{\"marker\": {\"colorbar\": {\"outlinewidth\": 0, \"ticks\": \"\"}}, \"type\": \"scatterternary\"}], \"surface\": [{\"colorbar\": {\"outlinewidth\": 0, \"ticks\": \"\"}, \"colorscale\": [[0.0, \"#0d0887\"], [0.1111111111111111, \"#46039f\"], [0.2222222222222222, \"#7201a8\"], [0.3333333333333333, \"#9c179e\"], [0.4444444444444444, \"#bd3786\"], [0.5555555555555556, \"#d8576b\"], [0.6666666666666666, \"#ed7953\"], [0.7777777777777778, \"#fb9f3a\"], [0.8888888888888888, \"#fdca26\"], [1.0, \"#f0f921\"]], \"type\": \"surface\"}], \"table\": [{\"cells\": {\"fill\": {\"color\": \"#EBF0F8\"}, \"line\": {\"color\": \"white\"}}, \"header\": {\"fill\": {\"color\": \"#C8D4E3\"}, \"line\": {\"color\": \"white\"}}, \"type\": \"table\"}]}, \"layout\": {\"annotationdefaults\": {\"arrowcolor\": \"#2a3f5f\", \"arrowhead\": 0, \"arrowwidth\": 1}, \"coloraxis\": {\"colorbar\": {\"outlinewidth\": 0, \"ticks\": \"\"}}, \"colorscale\": {\"diverging\": [[0, \"#8e0152\"], [0.1, \"#c51b7d\"], [0.2, \"#de77ae\"], [0.3, \"#f1b6da\"], [0.4, \"#fde0ef\"], [0.5, \"#f7f7f7\"], [0.6, \"#e6f5d0\"], [0.7, \"#b8e186\"], [0.8, \"#7fbc41\"], [0.9, \"#4d9221\"], [1, \"#276419\"]], \"sequential\": [[0.0, \"#0d0887\"], [0.1111111111111111, \"#46039f\"], [0.2222222222222222, \"#7201a8\"], [0.3333333333333333, \"#9c179e\"], [0.4444444444444444, \"#bd3786\"], [0.5555555555555556, \"#d8576b\"], [0.6666666666666666, \"#ed7953\"], [0.7777777777777778, \"#fb9f3a\"], [0.8888888888888888, \"#fdca26\"], [1.0, \"#f0f921\"]], \"sequentialminus\": [[0.0, \"#0d0887\"], [0.1111111111111111, \"#46039f\"], [0.2222222222222222, \"#7201a8\"], [0.3333333333333333, \"#9c179e\"], [0.4444444444444444, \"#bd3786\"], [0.5555555555555556, \"#d8576b\"], [0.6666666666666666, \"#ed7953\"], [0.7777777777777778, \"#fb9f3a\"], [0.8888888888888888, \"#fdca26\"], [1.0, \"#f0f921\"]]}, \"colorway\": [\"#636efa\", \"#EF553B\", \"#00cc96\", \"#ab63fa\", \"#FFA15A\", \"#19d3f3\", \"#FF6692\", \"#B6E880\", \"#FF97FF\", \"#FECB52\"], \"font\": {\"color\": \"#2a3f5f\"}, \"geo\": {\"bgcolor\": \"white\", \"lakecolor\": \"white\", \"landcolor\": \"#E5ECF6\", \"showlakes\": true, \"showland\": true, \"subunitcolor\": \"white\"}, \"hoverlabel\": {\"align\": \"left\"}, \"hovermode\": \"closest\", \"mapbox\": {\"style\": \"light\"}, \"paper_bgcolor\": \"white\", \"plot_bgcolor\": \"#E5ECF6\", \"polar\": {\"angularaxis\": {\"gridcolor\": \"white\", \"linecolor\": \"white\", \"ticks\": \"\"}, \"bgcolor\": \"#E5ECF6\", \"radialaxis\": {\"gridcolor\": \"white\", \"linecolor\": \"white\", \"ticks\": \"\"}}, \"scene\": {\"xaxis\": {\"backgroundcolor\": \"#E5ECF6\", \"gridcolor\": \"white\", \"gridwidth\": 2, \"linecolor\": \"white\", \"showbackground\": true, \"ticks\": \"\", \"zerolinecolor\": \"white\"}, \"yaxis\": {\"backgroundcolor\": \"#E5ECF6\", \"gridcolor\": \"white\", \"gridwidth\": 2, \"linecolor\": \"white\", \"showbackground\": true, \"ticks\": \"\", \"zerolinecolor\": \"white\"}, \"zaxis\": {\"backgroundcolor\": \"#E5ECF6\", \"gridcolor\": \"white\", \"gridwidth\": 2, \"linecolor\": \"white\", \"showbackground\": true, \"ticks\": \"\", \"zerolinecolor\": \"white\"}}, \"shapedefaults\": {\"line\": {\"color\": \"#2a3f5f\"}}, \"ternary\": {\"aaxis\": {\"gridcolor\": \"white\", \"linecolor\": \"white\", \"ticks\": \"\"}, \"baxis\": {\"gridcolor\": \"white\", \"linecolor\": \"white\", \"ticks\": \"\"}, \"bgcolor\": \"#E5ECF6\", \"caxis\": {\"gridcolor\": \"white\", \"linecolor\": \"white\", \"ticks\": \"\"}}, \"title\": {\"x\": 0.05}, \"xaxis\": {\"automargin\": true, \"gridcolor\": \"white\", \"linecolor\": \"white\", \"ticks\": \"\", \"title\": {\"standoff\": 15}, \"zerolinecolor\": \"white\", \"zerolinewidth\": 2}, \"yaxis\": {\"automargin\": true, \"gridcolor\": \"white\", \"linecolor\": \"white\", \"ticks\": \"\", \"title\": {\"standoff\": 15}, \"zerolinecolor\": \"white\", \"zerolinewidth\": 2}}}, \"xaxis\": {\"anchor\": \"y\", \"domain\": [0.0, 1.0]}, \"yaxis\": {\"anchor\": \"x\", \"domain\": [0.0, 1.0]}},\n",
       "                        {\"responsive\": true}\n",
       "                    ).then(function(){\n",
       "                            \n",
       "var gd = document.getElementById('b782d419-23d7-49f4-afec-e35d03c443df');\n",
       "var x = new MutationObserver(function (mutations, observer) {{\n",
       "        var display = window.getComputedStyle(gd).display;\n",
       "        if (!display || display === 'none') {{\n",
       "            console.log([gd, 'removed!']);\n",
       "            Plotly.purge(gd);\n",
       "            observer.disconnect();\n",
       "        }}\n",
       "}});\n",
       "\n",
       "// Listen for the removal of the full notebook cells\n",
       "var notebookContainer = gd.closest('#notebook-container');\n",
       "if (notebookContainer) {{\n",
       "    x.observe(notebookContainer, {childList: true});\n",
       "}}\n",
       "\n",
       "// Listen for the clearing of the current output cell\n",
       "var outputEl = gd.closest('.output');\n",
       "if (outputEl) {{\n",
       "    x.observe(outputEl, {childList: true});\n",
       "}}\n",
       "\n",
       "                        })\n",
       "                };\n",
       "                });\n",
       "            </script>\n",
       "        </div>"
      ]
     },
     "metadata": {},
     "output_type": "display_data"
    }
   ],
   "source": [
    "import plotly.express as px\n",
    "\n",
    "\n",
    "geojson = px.data.election_geojson()\n",
    "\n",
    "fig = px.choropleth_mapbox(Big_picture, geojson=geojson,\n",
    "                           center={\"lat\": 45.5517, \"lon\": -73.7073},\n",
    "                           mapbox_style=\"carto-positron\", zoom=9)\n",
    "fig.update_layout(margin={\"r\":0,\"t\":0,\"l\":0,\"b\":0})\n",
    "fig.show()"
   ]
  },
  {
   "cell_type": "code",
   "execution_count": 909,
   "metadata": {},
   "outputs": [],
   "source": [
    "world_map.save('index.html')"
   ]
  },
  {
   "cell_type": "code",
   "execution_count": null,
   "metadata": {},
   "outputs": [
    {
     "name": "stdout",
     "output_type": "stream",
     "text": [
      " * Serving Flask app \"__main__\" (lazy loading)\n",
      " * Environment: production\n",
      "   WARNING: This is a development server. Do not use it in a production deployment.\n",
      "   Use a production WSGI server instead.\n",
      " * Debug mode: off\n"
     ]
    },
    {
     "name": "stderr",
     "output_type": "stream",
     "text": [
      " * Running on http://127.0.0.1:8050/ (Press CTRL+C to quit)\n"
     ]
    }
   ],
   "source": [
    "app=dash.Dash()\n",
    "app.layout=html.Div(children=[\n",
    "    html.H1('Dash test Pakka wala'),\n",
    "    dcc.Graph(id='test',figure={\n",
    "        'data':[\n",
    "            {'x':labels,'y':myarray,'type':'bar'}]\n",
    "    })\n",
    "])\n",
    "\n",
    "if __name__=='__main__':\n",
    "    app.run_server()"
   ]
  },
  {
   "cell_type": "code",
   "execution_count": 1040,
   "metadata": {},
   "outputs": [
    {
     "name": "stdout",
     "output_type": "stream",
     "text": [
      "Requirement already satisfied: colorlover in c:\\users\\trive\\appdata\\local\\conda\\conda\\envs\\tensorflowenv\\lib\\site-packages (0.3.0)\n"
     ]
    },
    {
     "data": {
      "text/html": [
       "<hr><h3>10 colors</h3><h4>Diverging</h4><div style=\"display:inline-block;padding:10px;\"><div>BrBG</div><div style=\"background-color:rgb(84,48,5);height:20px;width:20px;margin-bottom:0px;display:inline-block;\"></div><div style=\"background-color:rgb(140,81,10);height:20px;width:20px;margin-bottom:0px;display:inline-block;\"></div><div style=\"background-color:rgb(191,129,45);height:20px;width:20px;margin-bottom:0px;display:inline-block;\"></div><div style=\"background-color:rgb(223,194,125);height:20px;width:20px;margin-bottom:0px;display:inline-block;\"></div><div style=\"background-color:rgb(246,232,195);height:20px;width:20px;margin-bottom:0px;display:inline-block;\"></div><div style=\"background-color:rgb(199,234,229);height:20px;width:20px;margin-bottom:0px;display:inline-block;\"></div><div style=\"background-color:rgb(128,205,193);height:20px;width:20px;margin-bottom:0px;display:inline-block;\"></div><div style=\"background-color:rgb(53,151,143);height:20px;width:20px;margin-bottom:0px;display:inline-block;\"></div><div style=\"background-color:rgb(1,102,94);height:20px;width:20px;margin-bottom:0px;display:inline-block;\"></div><div style=\"background-color:rgb(0,60,48);height:20px;width:20px;margin-bottom:0px;display:inline-block;\"></div></div><div style=\"display:inline-block;padding:10px;\"><div>PRGn</div><div style=\"background-color:rgb(64,0,75);height:20px;width:20px;margin-bottom:0px;display:inline-block;\"></div><div style=\"background-color:rgb(118,42,131);height:20px;width:20px;margin-bottom:0px;display:inline-block;\"></div><div style=\"background-color:rgb(153,112,171);height:20px;width:20px;margin-bottom:0px;display:inline-block;\"></div><div style=\"background-color:rgb(194,165,207);height:20px;width:20px;margin-bottom:0px;display:inline-block;\"></div><div style=\"background-color:rgb(231,212,232);height:20px;width:20px;margin-bottom:0px;display:inline-block;\"></div><div style=\"background-color:rgb(217,240,211);height:20px;width:20px;margin-bottom:0px;display:inline-block;\"></div><div style=\"background-color:rgb(166,219,160);height:20px;width:20px;margin-bottom:0px;display:inline-block;\"></div><div style=\"background-color:rgb(90,174,97);height:20px;width:20px;margin-bottom:0px;display:inline-block;\"></div><div style=\"background-color:rgb(27,120,55);height:20px;width:20px;margin-bottom:0px;display:inline-block;\"></div><div style=\"background-color:rgb(0,68,27);height:20px;width:20px;margin-bottom:0px;display:inline-block;\"></div></div><div style=\"display:inline-block;padding:10px;\"><div>PiYG</div><div style=\"background-color:rgb(142,1,82);height:20px;width:20px;margin-bottom:0px;display:inline-block;\"></div><div style=\"background-color:rgb(197,27,125);height:20px;width:20px;margin-bottom:0px;display:inline-block;\"></div><div style=\"background-color:rgb(222,119,174);height:20px;width:20px;margin-bottom:0px;display:inline-block;\"></div><div style=\"background-color:rgb(241,182,218);height:20px;width:20px;margin-bottom:0px;display:inline-block;\"></div><div style=\"background-color:rgb(253,224,239);height:20px;width:20px;margin-bottom:0px;display:inline-block;\"></div><div style=\"background-color:rgb(230,245,208);height:20px;width:20px;margin-bottom:0px;display:inline-block;\"></div><div style=\"background-color:rgb(184,225,134);height:20px;width:20px;margin-bottom:0px;display:inline-block;\"></div><div style=\"background-color:rgb(127,188,65);height:20px;width:20px;margin-bottom:0px;display:inline-block;\"></div><div style=\"background-color:rgb(77,146,33);height:20px;width:20px;margin-bottom:0px;display:inline-block;\"></div><div style=\"background-color:rgb(39,100,25);height:20px;width:20px;margin-bottom:0px;display:inline-block;\"></div></div><div style=\"display:inline-block;padding:10px;\"><div>PuOr</div><div style=\"background-color:rgb(127,59,8);height:20px;width:20px;margin-bottom:0px;display:inline-block;\"></div><div style=\"background-color:rgb(179,88,6);height:20px;width:20px;margin-bottom:0px;display:inline-block;\"></div><div style=\"background-color:rgb(224,130,20);height:20px;width:20px;margin-bottom:0px;display:inline-block;\"></div><div style=\"background-color:rgb(253,184,99);height:20px;width:20px;margin-bottom:0px;display:inline-block;\"></div><div style=\"background-color:rgb(254,224,182);height:20px;width:20px;margin-bottom:0px;display:inline-block;\"></div><div style=\"background-color:rgb(216,218,235);height:20px;width:20px;margin-bottom:0px;display:inline-block;\"></div><div style=\"background-color:rgb(178,171,210);height:20px;width:20px;margin-bottom:0px;display:inline-block;\"></div><div style=\"background-color:rgb(128,115,172);height:20px;width:20px;margin-bottom:0px;display:inline-block;\"></div><div style=\"background-color:rgb(84,39,136);height:20px;width:20px;margin-bottom:0px;display:inline-block;\"></div><div style=\"background-color:rgb(45,0,75);height:20px;width:20px;margin-bottom:0px;display:inline-block;\"></div></div><div style=\"display:inline-block;padding:10px;\"><div>RdBu</div><div style=\"background-color:rgb(103,0,31);height:20px;width:20px;margin-bottom:0px;display:inline-block;\"></div><div style=\"background-color:rgb(178,24,43);height:20px;width:20px;margin-bottom:0px;display:inline-block;\"></div><div style=\"background-color:rgb(214,96,77);height:20px;width:20px;margin-bottom:0px;display:inline-block;\"></div><div style=\"background-color:rgb(244,165,130);height:20px;width:20px;margin-bottom:0px;display:inline-block;\"></div><div style=\"background-color:rgb(253,219,199);height:20px;width:20px;margin-bottom:0px;display:inline-block;\"></div><div style=\"background-color:rgb(209,229,240);height:20px;width:20px;margin-bottom:0px;display:inline-block;\"></div><div style=\"background-color:rgb(146,197,222);height:20px;width:20px;margin-bottom:0px;display:inline-block;\"></div><div style=\"background-color:rgb(67,147,195);height:20px;width:20px;margin-bottom:0px;display:inline-block;\"></div><div style=\"background-color:rgb(33,102,172);height:20px;width:20px;margin-bottom:0px;display:inline-block;\"></div><div style=\"background-color:rgb(5,48,97);height:20px;width:20px;margin-bottom:0px;display:inline-block;\"></div></div><div style=\"display:inline-block;padding:10px;\"><div>RdGy</div><div style=\"background-color:rgb(103,0,31);height:20px;width:20px;margin-bottom:0px;display:inline-block;\"></div><div style=\"background-color:rgb(178,24,43);height:20px;width:20px;margin-bottom:0px;display:inline-block;\"></div><div style=\"background-color:rgb(214,96,77);height:20px;width:20px;margin-bottom:0px;display:inline-block;\"></div><div style=\"background-color:rgb(244,165,130);height:20px;width:20px;margin-bottom:0px;display:inline-block;\"></div><div style=\"background-color:rgb(253,219,199);height:20px;width:20px;margin-bottom:0px;display:inline-block;\"></div><div style=\"background-color:rgb(224,224,224);height:20px;width:20px;margin-bottom:0px;display:inline-block;\"></div><div style=\"background-color:rgb(186,186,186);height:20px;width:20px;margin-bottom:0px;display:inline-block;\"></div><div style=\"background-color:rgb(135,135,135);height:20px;width:20px;margin-bottom:0px;display:inline-block;\"></div><div style=\"background-color:rgb(77,77,77);height:20px;width:20px;margin-bottom:0px;display:inline-block;\"></div><div style=\"background-color:rgb(26,26,26);height:20px;width:20px;margin-bottom:0px;display:inline-block;\"></div></div><div style=\"display:inline-block;padding:10px;\"><div>RdYlBu</div><div style=\"background-color:rgb(165,0,38);height:20px;width:20px;margin-bottom:0px;display:inline-block;\"></div><div style=\"background-color:rgb(215,48,39);height:20px;width:20px;margin-bottom:0px;display:inline-block;\"></div><div style=\"background-color:rgb(244,109,67);height:20px;width:20px;margin-bottom:0px;display:inline-block;\"></div><div style=\"background-color:rgb(253,174,97);height:20px;width:20px;margin-bottom:0px;display:inline-block;\"></div><div style=\"background-color:rgb(254,224,144);height:20px;width:20px;margin-bottom:0px;display:inline-block;\"></div><div style=\"background-color:rgb(224,243,248);height:20px;width:20px;margin-bottom:0px;display:inline-block;\"></div><div style=\"background-color:rgb(171,217,233);height:20px;width:20px;margin-bottom:0px;display:inline-block;\"></div><div style=\"background-color:rgb(116,173,209);height:20px;width:20px;margin-bottom:0px;display:inline-block;\"></div><div style=\"background-color:rgb(69,117,180);height:20px;width:20px;margin-bottom:0px;display:inline-block;\"></div><div style=\"background-color:rgb(49,54,149);height:20px;width:20px;margin-bottom:0px;display:inline-block;\"></div></div><div style=\"display:inline-block;padding:10px;\"><div>RdYlGn</div><div style=\"background-color:rgb(165,0,38);height:20px;width:20px;margin-bottom:0px;display:inline-block;\"></div><div style=\"background-color:rgb(215,48,39);height:20px;width:20px;margin-bottom:0px;display:inline-block;\"></div><div style=\"background-color:rgb(244,109,67);height:20px;width:20px;margin-bottom:0px;display:inline-block;\"></div><div style=\"background-color:rgb(253,174,97);height:20px;width:20px;margin-bottom:0px;display:inline-block;\"></div><div style=\"background-color:rgb(254,224,139);height:20px;width:20px;margin-bottom:0px;display:inline-block;\"></div><div style=\"background-color:rgb(217,239,139);height:20px;width:20px;margin-bottom:0px;display:inline-block;\"></div><div style=\"background-color:rgb(166,217,106);height:20px;width:20px;margin-bottom:0px;display:inline-block;\"></div><div style=\"background-color:rgb(102,189,99);height:20px;width:20px;margin-bottom:0px;display:inline-block;\"></div><div style=\"background-color:rgb(26,152,80);height:20px;width:20px;margin-bottom:0px;display:inline-block;\"></div><div style=\"background-color:rgb(0,104,55);height:20px;width:20px;margin-bottom:0px;display:inline-block;\"></div></div><div style=\"display:inline-block;padding:10px;\"><div>Spectral</div><div style=\"background-color:rgb(158,1,66);height:20px;width:20px;margin-bottom:0px;display:inline-block;\"></div><div style=\"background-color:rgb(213,62,79);height:20px;width:20px;margin-bottom:0px;display:inline-block;\"></div><div style=\"background-color:rgb(244,109,67);height:20px;width:20px;margin-bottom:0px;display:inline-block;\"></div><div style=\"background-color:rgb(253,174,97);height:20px;width:20px;margin-bottom:0px;display:inline-block;\"></div><div style=\"background-color:rgb(254,224,139);height:20px;width:20px;margin-bottom:0px;display:inline-block;\"></div><div style=\"background-color:rgb(230,245,152);height:20px;width:20px;margin-bottom:0px;display:inline-block;\"></div><div style=\"background-color:rgb(171,221,164);height:20px;width:20px;margin-bottom:0px;display:inline-block;\"></div><div style=\"background-color:rgb(102,194,165);height:20px;width:20px;margin-bottom:0px;display:inline-block;\"></div><div style=\"background-color:rgb(50,136,189);height:20px;width:20px;margin-bottom:0px;display:inline-block;\"></div><div style=\"background-color:rgb(94,79,162);height:20px;width:20px;margin-bottom:0px;display:inline-block;\"></div></div><h4>Qualitative</h4><div style=\"display:inline-block;padding:10px;\"><div>Paired</div><div style=\"background-color:rgb(166,206,227);height:20px;width:20px;margin-bottom:0px;display:inline-block;\"></div><div style=\"background-color:rgb(31,120,180);height:20px;width:20px;margin-bottom:0px;display:inline-block;\"></div><div style=\"background-color:rgb(178,223,138);height:20px;width:20px;margin-bottom:0px;display:inline-block;\"></div><div style=\"background-color:rgb(51,160,44);height:20px;width:20px;margin-bottom:0px;display:inline-block;\"></div><div style=\"background-color:rgb(251,154,153);height:20px;width:20px;margin-bottom:0px;display:inline-block;\"></div><div style=\"background-color:rgb(227,26,28);height:20px;width:20px;margin-bottom:0px;display:inline-block;\"></div><div style=\"background-color:rgb(253,191,111);height:20px;width:20px;margin-bottom:0px;display:inline-block;\"></div><div style=\"background-color:rgb(255,127,0);height:20px;width:20px;margin-bottom:0px;display:inline-block;\"></div><div style=\"background-color:rgb(202,178,214);height:20px;width:20px;margin-bottom:0px;display:inline-block;\"></div><div style=\"background-color:rgb(106,61,154);height:20px;width:20px;margin-bottom:0px;display:inline-block;\"></div></div><div style=\"display:inline-block;padding:10px;\"><div>Set3</div><div style=\"background-color:rgb(141,211,199);height:20px;width:20px;margin-bottom:0px;display:inline-block;\"></div><div style=\"background-color:rgb(255,255,179);height:20px;width:20px;margin-bottom:0px;display:inline-block;\"></div><div style=\"background-color:rgb(190,186,218);height:20px;width:20px;margin-bottom:0px;display:inline-block;\"></div><div style=\"background-color:rgb(251,128,114);height:20px;width:20px;margin-bottom:0px;display:inline-block;\"></div><div style=\"background-color:rgb(128,177,211);height:20px;width:20px;margin-bottom:0px;display:inline-block;\"></div><div style=\"background-color:rgb(253,180,98);height:20px;width:20px;margin-bottom:0px;display:inline-block;\"></div><div style=\"background-color:rgb(179,222,105);height:20px;width:20px;margin-bottom:0px;display:inline-block;\"></div><div style=\"background-color:rgb(252,205,229);height:20px;width:20px;margin-bottom:0px;display:inline-block;\"></div><div style=\"background-color:rgb(217,217,217);height:20px;width:20px;margin-bottom:0px;display:inline-block;\"></div><div style=\"background-color:rgb(188,128,189);height:20px;width:20px;margin-bottom:0px;display:inline-block;\"></div></div><hr><h3>11 colors</h3><h4>Diverging</h4><div style=\"display:inline-block;padding:10px;\"><div>BrBG</div><div style=\"background-color:rgb(84,48,5);height:20px;width:20px;margin-bottom:0px;display:inline-block;\"></div><div style=\"background-color:rgb(140,81,10);height:20px;width:20px;margin-bottom:0px;display:inline-block;\"></div><div style=\"background-color:rgb(191,129,45);height:20px;width:20px;margin-bottom:0px;display:inline-block;\"></div><div style=\"background-color:rgb(223,194,125);height:20px;width:20px;margin-bottom:0px;display:inline-block;\"></div><div style=\"background-color:rgb(246,232,195);height:20px;width:20px;margin-bottom:0px;display:inline-block;\"></div><div style=\"background-color:rgb(245,245,245);height:20px;width:20px;margin-bottom:0px;display:inline-block;\"></div><div style=\"background-color:rgb(199,234,229);height:20px;width:20px;margin-bottom:0px;display:inline-block;\"></div><div style=\"background-color:rgb(128,205,193);height:20px;width:20px;margin-bottom:0px;display:inline-block;\"></div><div style=\"background-color:rgb(53,151,143);height:20px;width:20px;margin-bottom:0px;display:inline-block;\"></div><div style=\"background-color:rgb(1,102,94);height:20px;width:20px;margin-bottom:0px;display:inline-block;\"></div><div style=\"background-color:rgb(0,60,48);height:20px;width:20px;margin-bottom:0px;display:inline-block;\"></div></div><div style=\"display:inline-block;padding:10px;\"><div>PRGn</div><div style=\"background-color:rgb(64,0,75);height:20px;width:20px;margin-bottom:0px;display:inline-block;\"></div><div style=\"background-color:rgb(118,42,131);height:20px;width:20px;margin-bottom:0px;display:inline-block;\"></div><div style=\"background-color:rgb(153,112,171);height:20px;width:20px;margin-bottom:0px;display:inline-block;\"></div><div style=\"background-color:rgb(194,165,207);height:20px;width:20px;margin-bottom:0px;display:inline-block;\"></div><div style=\"background-color:rgb(231,212,232);height:20px;width:20px;margin-bottom:0px;display:inline-block;\"></div><div style=\"background-color:rgb(247,247,247);height:20px;width:20px;margin-bottom:0px;display:inline-block;\"></div><div style=\"background-color:rgb(217,240,211);height:20px;width:20px;margin-bottom:0px;display:inline-block;\"></div><div style=\"background-color:rgb(166,219,160);height:20px;width:20px;margin-bottom:0px;display:inline-block;\"></div><div style=\"background-color:rgb(90,174,97);height:20px;width:20px;margin-bottom:0px;display:inline-block;\"></div><div style=\"background-color:rgb(27,120,55);height:20px;width:20px;margin-bottom:0px;display:inline-block;\"></div><div style=\"background-color:rgb(0,68,27);height:20px;width:20px;margin-bottom:0px;display:inline-block;\"></div></div><div style=\"display:inline-block;padding:10px;\"><div>PiYG</div><div style=\"background-color:rgb(142,1,82);height:20px;width:20px;margin-bottom:0px;display:inline-block;\"></div><div style=\"background-color:rgb(197,27,125);height:20px;width:20px;margin-bottom:0px;display:inline-block;\"></div><div style=\"background-color:rgb(222,119,174);height:20px;width:20px;margin-bottom:0px;display:inline-block;\"></div><div style=\"background-color:rgb(241,182,218);height:20px;width:20px;margin-bottom:0px;display:inline-block;\"></div><div style=\"background-color:rgb(253,224,239);height:20px;width:20px;margin-bottom:0px;display:inline-block;\"></div><div style=\"background-color:rgb(247,247,247);height:20px;width:20px;margin-bottom:0px;display:inline-block;\"></div><div style=\"background-color:rgb(230,245,208);height:20px;width:20px;margin-bottom:0px;display:inline-block;\"></div><div style=\"background-color:rgb(184,225,134);height:20px;width:20px;margin-bottom:0px;display:inline-block;\"></div><div style=\"background-color:rgb(127,188,65);height:20px;width:20px;margin-bottom:0px;display:inline-block;\"></div><div style=\"background-color:rgb(77,146,33);height:20px;width:20px;margin-bottom:0px;display:inline-block;\"></div><div style=\"background-color:rgb(39,100,25);height:20px;width:20px;margin-bottom:0px;display:inline-block;\"></div></div><div style=\"display:inline-block;padding:10px;\"><div>PuOr</div><div style=\"background-color:rgb(127,59,8);height:20px;width:20px;margin-bottom:0px;display:inline-block;\"></div><div style=\"background-color:rgb(179,88,6);height:20px;width:20px;margin-bottom:0px;display:inline-block;\"></div><div style=\"background-color:rgb(224,130,20);height:20px;width:20px;margin-bottom:0px;display:inline-block;\"></div><div style=\"background-color:rgb(253,184,99);height:20px;width:20px;margin-bottom:0px;display:inline-block;\"></div><div style=\"background-color:rgb(254,224,182);height:20px;width:20px;margin-bottom:0px;display:inline-block;\"></div><div style=\"background-color:rgb(247,247,247);height:20px;width:20px;margin-bottom:0px;display:inline-block;\"></div><div style=\"background-color:rgb(216,218,235);height:20px;width:20px;margin-bottom:0px;display:inline-block;\"></div><div style=\"background-color:rgb(178,171,210);height:20px;width:20px;margin-bottom:0px;display:inline-block;\"></div><div style=\"background-color:rgb(128,115,172);height:20px;width:20px;margin-bottom:0px;display:inline-block;\"></div><div style=\"background-color:rgb(84,39,136);height:20px;width:20px;margin-bottom:0px;display:inline-block;\"></div><div style=\"background-color:rgb(45,0,75);height:20px;width:20px;margin-bottom:0px;display:inline-block;\"></div></div><div style=\"display:inline-block;padding:10px;\"><div>RdBu</div><div style=\"background-color:rgb(103,0,31);height:20px;width:20px;margin-bottom:0px;display:inline-block;\"></div><div style=\"background-color:rgb(178,24,43);height:20px;width:20px;margin-bottom:0px;display:inline-block;\"></div><div style=\"background-color:rgb(214,96,77);height:20px;width:20px;margin-bottom:0px;display:inline-block;\"></div><div style=\"background-color:rgb(244,165,130);height:20px;width:20px;margin-bottom:0px;display:inline-block;\"></div><div style=\"background-color:rgb(253,219,199);height:20px;width:20px;margin-bottom:0px;display:inline-block;\"></div><div style=\"background-color:rgb(247,247,247);height:20px;width:20px;margin-bottom:0px;display:inline-block;\"></div><div style=\"background-color:rgb(209,229,240);height:20px;width:20px;margin-bottom:0px;display:inline-block;\"></div><div style=\"background-color:rgb(146,197,222);height:20px;width:20px;margin-bottom:0px;display:inline-block;\"></div><div style=\"background-color:rgb(67,147,195);height:20px;width:20px;margin-bottom:0px;display:inline-block;\"></div><div style=\"background-color:rgb(33,102,172);height:20px;width:20px;margin-bottom:0px;display:inline-block;\"></div><div style=\"background-color:rgb(5,48,97);height:20px;width:20px;margin-bottom:0px;display:inline-block;\"></div></div><div style=\"display:inline-block;padding:10px;\"><div>RdGy</div><div style=\"background-color:rgb(103,0,31);height:20px;width:20px;margin-bottom:0px;display:inline-block;\"></div><div style=\"background-color:rgb(178,24,43);height:20px;width:20px;margin-bottom:0px;display:inline-block;\"></div><div style=\"background-color:rgb(214,96,77);height:20px;width:20px;margin-bottom:0px;display:inline-block;\"></div><div style=\"background-color:rgb(244,165,130);height:20px;width:20px;margin-bottom:0px;display:inline-block;\"></div><div style=\"background-color:rgb(253,219,199);height:20px;width:20px;margin-bottom:0px;display:inline-block;\"></div><div style=\"background-color:rgb(255,255,255);height:20px;width:20px;margin-bottom:0px;display:inline-block;\"></div><div style=\"background-color:rgb(224,224,224);height:20px;width:20px;margin-bottom:0px;display:inline-block;\"></div><div style=\"background-color:rgb(186,186,186);height:20px;width:20px;margin-bottom:0px;display:inline-block;\"></div><div style=\"background-color:rgb(135,135,135);height:20px;width:20px;margin-bottom:0px;display:inline-block;\"></div><div style=\"background-color:rgb(77,77,77);height:20px;width:20px;margin-bottom:0px;display:inline-block;\"></div><div style=\"background-color:rgb(26,26,26);height:20px;width:20px;margin-bottom:0px;display:inline-block;\"></div></div><div style=\"display:inline-block;padding:10px;\"><div>RdYlBu</div><div style=\"background-color:rgb(165,0,38);height:20px;width:20px;margin-bottom:0px;display:inline-block;\"></div><div style=\"background-color:rgb(215,48,39);height:20px;width:20px;margin-bottom:0px;display:inline-block;\"></div><div style=\"background-color:rgb(244,109,67);height:20px;width:20px;margin-bottom:0px;display:inline-block;\"></div><div style=\"background-color:rgb(253,174,97);height:20px;width:20px;margin-bottom:0px;display:inline-block;\"></div><div style=\"background-color:rgb(254,224,144);height:20px;width:20px;margin-bottom:0px;display:inline-block;\"></div><div style=\"background-color:rgb(255,255,191);height:20px;width:20px;margin-bottom:0px;display:inline-block;\"></div><div style=\"background-color:rgb(224,243,248);height:20px;width:20px;margin-bottom:0px;display:inline-block;\"></div><div style=\"background-color:rgb(171,217,233);height:20px;width:20px;margin-bottom:0px;display:inline-block;\"></div><div style=\"background-color:rgb(116,173,209);height:20px;width:20px;margin-bottom:0px;display:inline-block;\"></div><div style=\"background-color:rgb(69,117,180);height:20px;width:20px;margin-bottom:0px;display:inline-block;\"></div><div style=\"background-color:rgb(49,54,149);height:20px;width:20px;margin-bottom:0px;display:inline-block;\"></div></div><div style=\"display:inline-block;padding:10px;\"><div>RdYlGn</div><div style=\"background-color:rgb(165,0,38);height:20px;width:20px;margin-bottom:0px;display:inline-block;\"></div><div style=\"background-color:rgb(215,48,39);height:20px;width:20px;margin-bottom:0px;display:inline-block;\"></div><div style=\"background-color:rgb(244,109,67);height:20px;width:20px;margin-bottom:0px;display:inline-block;\"></div><div style=\"background-color:rgb(253,174,97);height:20px;width:20px;margin-bottom:0px;display:inline-block;\"></div><div style=\"background-color:rgb(254,224,139);height:20px;width:20px;margin-bottom:0px;display:inline-block;\"></div><div style=\"background-color:rgb(255,255,191);height:20px;width:20px;margin-bottom:0px;display:inline-block;\"></div><div style=\"background-color:rgb(217,239,139);height:20px;width:20px;margin-bottom:0px;display:inline-block;\"></div><div style=\"background-color:rgb(166,217,106);height:20px;width:20px;margin-bottom:0px;display:inline-block;\"></div><div style=\"background-color:rgb(102,189,99);height:20px;width:20px;margin-bottom:0px;display:inline-block;\"></div><div style=\"background-color:rgb(26,152,80);height:20px;width:20px;margin-bottom:0px;display:inline-block;\"></div><div style=\"background-color:rgb(0,104,55);height:20px;width:20px;margin-bottom:0px;display:inline-block;\"></div></div><div style=\"display:inline-block;padding:10px;\"><div>Spectral</div><div style=\"background-color:rgb(158,1,66);height:20px;width:20px;margin-bottom:0px;display:inline-block;\"></div><div style=\"background-color:rgb(213,62,79);height:20px;width:20px;margin-bottom:0px;display:inline-block;\"></div><div style=\"background-color:rgb(244,109,67);height:20px;width:20px;margin-bottom:0px;display:inline-block;\"></div><div style=\"background-color:rgb(253,174,97);height:20px;width:20px;margin-bottom:0px;display:inline-block;\"></div><div style=\"background-color:rgb(254,224,139);height:20px;width:20px;margin-bottom:0px;display:inline-block;\"></div><div style=\"background-color:rgb(255,255,191);height:20px;width:20px;margin-bottom:0px;display:inline-block;\"></div><div style=\"background-color:rgb(230,245,152);height:20px;width:20px;margin-bottom:0px;display:inline-block;\"></div><div style=\"background-color:rgb(171,221,164);height:20px;width:20px;margin-bottom:0px;display:inline-block;\"></div><div style=\"background-color:rgb(102,194,165);height:20px;width:20px;margin-bottom:0px;display:inline-block;\"></div><div style=\"background-color:rgb(50,136,189);height:20px;width:20px;margin-bottom:0px;display:inline-block;\"></div><div style=\"background-color:rgb(94,79,162);height:20px;width:20px;margin-bottom:0px;display:inline-block;\"></div></div><h4>Qualitative</h4><div style=\"display:inline-block;padding:10px;\"><div>Paired</div><div style=\"background-color:rgb(166,206,227);height:20px;width:20px;margin-bottom:0px;display:inline-block;\"></div><div style=\"background-color:rgb(31,120,180);height:20px;width:20px;margin-bottom:0px;display:inline-block;\"></div><div style=\"background-color:rgb(178,223,138);height:20px;width:20px;margin-bottom:0px;display:inline-block;\"></div><div style=\"background-color:rgb(51,160,44);height:20px;width:20px;margin-bottom:0px;display:inline-block;\"></div><div style=\"background-color:rgb(251,154,153);height:20px;width:20px;margin-bottom:0px;display:inline-block;\"></div><div style=\"background-color:rgb(227,26,28);height:20px;width:20px;margin-bottom:0px;display:inline-block;\"></div><div style=\"background-color:rgb(253,191,111);height:20px;width:20px;margin-bottom:0px;display:inline-block;\"></div><div style=\"background-color:rgb(255,127,0);height:20px;width:20px;margin-bottom:0px;display:inline-block;\"></div><div style=\"background-color:rgb(202,178,214);height:20px;width:20px;margin-bottom:0px;display:inline-block;\"></div><div style=\"background-color:rgb(106,61,154);height:20px;width:20px;margin-bottom:0px;display:inline-block;\"></div><div style=\"background-color:rgb(255,255,153);height:20px;width:20px;margin-bottom:0px;display:inline-block;\"></div></div><div style=\"display:inline-block;padding:10px;\"><div>Set3</div><div style=\"background-color:rgb(141,211,199);height:20px;width:20px;margin-bottom:0px;display:inline-block;\"></div><div style=\"background-color:rgb(255,255,179);height:20px;width:20px;margin-bottom:0px;display:inline-block;\"></div><div style=\"background-color:rgb(190,186,218);height:20px;width:20px;margin-bottom:0px;display:inline-block;\"></div><div style=\"background-color:rgb(251,128,114);height:20px;width:20px;margin-bottom:0px;display:inline-block;\"></div><div style=\"background-color:rgb(128,177,211);height:20px;width:20px;margin-bottom:0px;display:inline-block;\"></div><div style=\"background-color:rgb(253,180,98);height:20px;width:20px;margin-bottom:0px;display:inline-block;\"></div><div style=\"background-color:rgb(179,222,105);height:20px;width:20px;margin-bottom:0px;display:inline-block;\"></div><div style=\"background-color:rgb(252,205,229);height:20px;width:20px;margin-bottom:0px;display:inline-block;\"></div><div style=\"background-color:rgb(217,217,217);height:20px;width:20px;margin-bottom:0px;display:inline-block;\"></div><div style=\"background-color:rgb(188,128,189);height:20px;width:20px;margin-bottom:0px;display:inline-block;\"></div><div style=\"background-color:rgb(204,235,197);height:20px;width:20px;margin-bottom:0px;display:inline-block;\"></div></div><hr><h3>12 colors</h3><h4>Qualitative</h4><div style=\"display:inline-block;padding:10px;\"><div>Paired</div><div style=\"background-color:rgb(166,206,227);height:20px;width:20px;margin-bottom:0px;display:inline-block;\"></div><div style=\"background-color:rgb(31,120,180);height:20px;width:20px;margin-bottom:0px;display:inline-block;\"></div><div style=\"background-color:rgb(178,223,138);height:20px;width:20px;margin-bottom:0px;display:inline-block;\"></div><div style=\"background-color:rgb(51,160,44);height:20px;width:20px;margin-bottom:0px;display:inline-block;\"></div><div style=\"background-color:rgb(251,154,153);height:20px;width:20px;margin-bottom:0px;display:inline-block;\"></div><div style=\"background-color:rgb(227,26,28);height:20px;width:20px;margin-bottom:0px;display:inline-block;\"></div><div style=\"background-color:rgb(253,191,111);height:20px;width:20px;margin-bottom:0px;display:inline-block;\"></div><div style=\"background-color:rgb(255,127,0);height:20px;width:20px;margin-bottom:0px;display:inline-block;\"></div><div style=\"background-color:rgb(202,178,214);height:20px;width:20px;margin-bottom:0px;display:inline-block;\"></div><div style=\"background-color:rgb(106,61,154);height:20px;width:20px;margin-bottom:0px;display:inline-block;\"></div><div style=\"background-color:rgb(255,255,153);height:20px;width:20px;margin-bottom:0px;display:inline-block;\"></div><div style=\"background-color:rgb(177,89,40);height:20px;width:20px;margin-bottom:0px;display:inline-block;\"></div></div><div style=\"display:inline-block;padding:10px;\"><div>Set3</div><div style=\"background-color:rgb(141,211,199);height:20px;width:20px;margin-bottom:0px;display:inline-block;\"></div><div style=\"background-color:rgb(255,255,179);height:20px;width:20px;margin-bottom:0px;display:inline-block;\"></div><div style=\"background-color:rgb(190,186,218);height:20px;width:20px;margin-bottom:0px;display:inline-block;\"></div><div style=\"background-color:rgb(251,128,114);height:20px;width:20px;margin-bottom:0px;display:inline-block;\"></div><div style=\"background-color:rgb(128,177,211);height:20px;width:20px;margin-bottom:0px;display:inline-block;\"></div><div style=\"background-color:rgb(253,180,98);height:20px;width:20px;margin-bottom:0px;display:inline-block;\"></div><div style=\"background-color:rgb(179,222,105);height:20px;width:20px;margin-bottom:0px;display:inline-block;\"></div><div style=\"background-color:rgb(252,205,229);height:20px;width:20px;margin-bottom:0px;display:inline-block;\"></div><div style=\"background-color:rgb(217,217,217);height:20px;width:20px;margin-bottom:0px;display:inline-block;\"></div><div style=\"background-color:rgb(188,128,189);height:20px;width:20px;margin-bottom:0px;display:inline-block;\"></div><div style=\"background-color:rgb(204,235,197);height:20px;width:20px;margin-bottom:0px;display:inline-block;\"></div><div style=\"background-color:rgb(255,237,111);height:20px;width:20px;margin-bottom:0px;display:inline-block;\"></div></div><hr><h3>3 colors</h3><h4>Diverging</h4><div style=\"display:inline-block;padding:10px;\"><div>BrBG</div><div style=\"background-color:rgb(216,179,101);height:20px;width:20px;margin-bottom:0px;display:inline-block;\"></div><div style=\"background-color:rgb(245,245,245);height:20px;width:20px;margin-bottom:0px;display:inline-block;\"></div><div style=\"background-color:rgb(90,180,172);height:20px;width:20px;margin-bottom:0px;display:inline-block;\"></div></div><div style=\"display:inline-block;padding:10px;\"><div>PRGn</div><div style=\"background-color:rgb(175,141,195);height:20px;width:20px;margin-bottom:0px;display:inline-block;\"></div><div style=\"background-color:rgb(247,247,247);height:20px;width:20px;margin-bottom:0px;display:inline-block;\"></div><div style=\"background-color:rgb(127,191,123);height:20px;width:20px;margin-bottom:0px;display:inline-block;\"></div></div><div style=\"display:inline-block;padding:10px;\"><div>PiYG</div><div style=\"background-color:rgb(233,163,201);height:20px;width:20px;margin-bottom:0px;display:inline-block;\"></div><div style=\"background-color:rgb(247,247,247);height:20px;width:20px;margin-bottom:0px;display:inline-block;\"></div><div style=\"background-color:rgb(161,215,106);height:20px;width:20px;margin-bottom:0px;display:inline-block;\"></div></div><div style=\"display:inline-block;padding:10px;\"><div>PuOr</div><div style=\"background-color:rgb(241,163,64);height:20px;width:20px;margin-bottom:0px;display:inline-block;\"></div><div style=\"background-color:rgb(247,247,247);height:20px;width:20px;margin-bottom:0px;display:inline-block;\"></div><div style=\"background-color:rgb(153,142,195);height:20px;width:20px;margin-bottom:0px;display:inline-block;\"></div></div><div style=\"display:inline-block;padding:10px;\"><div>RdBu</div><div style=\"background-color:rgb(239,138,98);height:20px;width:20px;margin-bottom:0px;display:inline-block;\"></div><div style=\"background-color:rgb(247,247,247);height:20px;width:20px;margin-bottom:0px;display:inline-block;\"></div><div style=\"background-color:rgb(103,169,207);height:20px;width:20px;margin-bottom:0px;display:inline-block;\"></div></div><div style=\"display:inline-block;padding:10px;\"><div>RdGy</div><div style=\"background-color:rgb(239,138,98);height:20px;width:20px;margin-bottom:0px;display:inline-block;\"></div><div style=\"background-color:rgb(255,255,255);height:20px;width:20px;margin-bottom:0px;display:inline-block;\"></div><div style=\"background-color:rgb(153,153,153);height:20px;width:20px;margin-bottom:0px;display:inline-block;\"></div></div><div style=\"display:inline-block;padding:10px;\"><div>RdYlBu</div><div style=\"background-color:rgb(252,141,89);height:20px;width:20px;margin-bottom:0px;display:inline-block;\"></div><div style=\"background-color:rgb(255,255,191);height:20px;width:20px;margin-bottom:0px;display:inline-block;\"></div><div style=\"background-color:rgb(145,191,219);height:20px;width:20px;margin-bottom:0px;display:inline-block;\"></div></div><div style=\"display:inline-block;padding:10px;\"><div>RdYlGn</div><div style=\"background-color:rgb(252,141,89);height:20px;width:20px;margin-bottom:0px;display:inline-block;\"></div><div style=\"background-color:rgb(255,255,191);height:20px;width:20px;margin-bottom:0px;display:inline-block;\"></div><div style=\"background-color:rgb(145,207,96);height:20px;width:20px;margin-bottom:0px;display:inline-block;\"></div></div><div style=\"display:inline-block;padding:10px;\"><div>Spectral</div><div style=\"background-color:rgb(252,141,89);height:20px;width:20px;margin-bottom:0px;display:inline-block;\"></div><div style=\"background-color:rgb(255,255,191);height:20px;width:20px;margin-bottom:0px;display:inline-block;\"></div><div style=\"background-color:rgb(153,213,148);height:20px;width:20px;margin-bottom:0px;display:inline-block;\"></div></div><h4>Qualitative</h4><div style=\"display:inline-block;padding:10px;\"><div>Accent</div><div style=\"background-color:rgb(127,201,127);height:20px;width:20px;margin-bottom:0px;display:inline-block;\"></div><div style=\"background-color:rgb(190,174,212);height:20px;width:20px;margin-bottom:0px;display:inline-block;\"></div><div style=\"background-color:rgb(253,192,134);height:20px;width:20px;margin-bottom:0px;display:inline-block;\"></div></div><div style=\"display:inline-block;padding:10px;\"><div>Dark2</div><div style=\"background-color:rgb(27,158,119);height:20px;width:20px;margin-bottom:0px;display:inline-block;\"></div><div style=\"background-color:rgb(217,95,2);height:20px;width:20px;margin-bottom:0px;display:inline-block;\"></div><div style=\"background-color:rgb(117,112,179);height:20px;width:20px;margin-bottom:0px;display:inline-block;\"></div></div><div style=\"display:inline-block;padding:10px;\"><div>Paired</div><div style=\"background-color:rgb(166,206,227);height:20px;width:20px;margin-bottom:0px;display:inline-block;\"></div><div style=\"background-color:rgb(31,120,180);height:20px;width:20px;margin-bottom:0px;display:inline-block;\"></div><div style=\"background-color:rgb(178,223,138);height:20px;width:20px;margin-bottom:0px;display:inline-block;\"></div></div><div style=\"display:inline-block;padding:10px;\"><div>Pastel1</div><div style=\"background-color:rgb(251,180,174);height:20px;width:20px;margin-bottom:0px;display:inline-block;\"></div><div style=\"background-color:rgb(179,205,227);height:20px;width:20px;margin-bottom:0px;display:inline-block;\"></div><div style=\"background-color:rgb(204,235,197);height:20px;width:20px;margin-bottom:0px;display:inline-block;\"></div></div><div style=\"display:inline-block;padding:10px;\"><div>Pastel2</div><div style=\"background-color:rgb(179,226,205);height:20px;width:20px;margin-bottom:0px;display:inline-block;\"></div><div style=\"background-color:rgb(253,205,172);height:20px;width:20px;margin-bottom:0px;display:inline-block;\"></div><div style=\"background-color:rgb(203,213,232);height:20px;width:20px;margin-bottom:0px;display:inline-block;\"></div></div><div style=\"display:inline-block;padding:10px;\"><div>Set1</div><div style=\"background-color:rgb(228,26,28);height:20px;width:20px;margin-bottom:0px;display:inline-block;\"></div><div style=\"background-color:rgb(55,126,184);height:20px;width:20px;margin-bottom:0px;display:inline-block;\"></div><div style=\"background-color:rgb(77,175,74);height:20px;width:20px;margin-bottom:0px;display:inline-block;\"></div></div><div style=\"display:inline-block;padding:10px;\"><div>Set2</div><div style=\"background-color:rgb(102,194,165);height:20px;width:20px;margin-bottom:0px;display:inline-block;\"></div><div style=\"background-color:rgb(252,141,98);height:20px;width:20px;margin-bottom:0px;display:inline-block;\"></div><div style=\"background-color:rgb(141,160,203);height:20px;width:20px;margin-bottom:0px;display:inline-block;\"></div></div><div style=\"display:inline-block;padding:10px;\"><div>Set3</div><div style=\"background-color:rgb(141,211,199);height:20px;width:20px;margin-bottom:0px;display:inline-block;\"></div><div style=\"background-color:rgb(255,255,179);height:20px;width:20px;margin-bottom:0px;display:inline-block;\"></div><div style=\"background-color:rgb(190,186,218);height:20px;width:20px;margin-bottom:0px;display:inline-block;\"></div></div><h4>Sequential</h4><div style=\"display:inline-block;padding:10px;\"><div>Blues</div><div style=\"background-color:rgb(222,235,247);height:20px;width:20px;margin-bottom:0px;display:inline-block;\"></div><div style=\"background-color:rgb(158,202,225);height:20px;width:20px;margin-bottom:0px;display:inline-block;\"></div><div style=\"background-color:rgb(49,130,189);height:20px;width:20px;margin-bottom:0px;display:inline-block;\"></div></div><div style=\"display:inline-block;padding:10px;\"><div>BuGn</div><div style=\"background-color:rgb(229,245,249);height:20px;width:20px;margin-bottom:0px;display:inline-block;\"></div><div style=\"background-color:rgb(153,216,201);height:20px;width:20px;margin-bottom:0px;display:inline-block;\"></div><div style=\"background-color:rgb(44,162,95);height:20px;width:20px;margin-bottom:0px;display:inline-block;\"></div></div><div style=\"display:inline-block;padding:10px;\"><div>BuPu</div><div style=\"background-color:rgb(224,236,244);height:20px;width:20px;margin-bottom:0px;display:inline-block;\"></div><div style=\"background-color:rgb(158,188,218);height:20px;width:20px;margin-bottom:0px;display:inline-block;\"></div><div style=\"background-color:rgb(136,86,167);height:20px;width:20px;margin-bottom:0px;display:inline-block;\"></div></div><div style=\"display:inline-block;padding:10px;\"><div>GnBu</div><div style=\"background-color:rgb(224,243,219);height:20px;width:20px;margin-bottom:0px;display:inline-block;\"></div><div style=\"background-color:rgb(168,221,181);height:20px;width:20px;margin-bottom:0px;display:inline-block;\"></div><div style=\"background-color:rgb(67,162,202);height:20px;width:20px;margin-bottom:0px;display:inline-block;\"></div></div><div style=\"display:inline-block;padding:10px;\"><div>Greens</div><div style=\"background-color:rgb(229,245,224);height:20px;width:20px;margin-bottom:0px;display:inline-block;\"></div><div style=\"background-color:rgb(161,217,155);height:20px;width:20px;margin-bottom:0px;display:inline-block;\"></div><div style=\"background-color:rgb(49,163,84);height:20px;width:20px;margin-bottom:0px;display:inline-block;\"></div></div><div style=\"display:inline-block;padding:10px;\"><div>Greys</div><div style=\"background-color:rgb(240,240,240);height:20px;width:20px;margin-bottom:0px;display:inline-block;\"></div><div style=\"background-color:rgb(189,189,189);height:20px;width:20px;margin-bottom:0px;display:inline-block;\"></div><div style=\"background-color:rgb(99,99,99);height:20px;width:20px;margin-bottom:0px;display:inline-block;\"></div></div><div style=\"display:inline-block;padding:10px;\"><div>OrRd</div><div style=\"background-color:rgb(254,232,200);height:20px;width:20px;margin-bottom:0px;display:inline-block;\"></div><div style=\"background-color:rgb(253,187,132);height:20px;width:20px;margin-bottom:0px;display:inline-block;\"></div><div style=\"background-color:rgb(227,74,51);height:20px;width:20px;margin-bottom:0px;display:inline-block;\"></div></div><div style=\"display:inline-block;padding:10px;\"><div>Oranges</div><div style=\"background-color:rgb(254,230,206);height:20px;width:20px;margin-bottom:0px;display:inline-block;\"></div><div style=\"background-color:rgb(253,174,107);height:20px;width:20px;margin-bottom:0px;display:inline-block;\"></div><div style=\"background-color:rgb(230,85,13);height:20px;width:20px;margin-bottom:0px;display:inline-block;\"></div></div><div style=\"display:inline-block;padding:10px;\"><div>PuBu</div><div style=\"background-color:rgb(236,231,242);height:20px;width:20px;margin-bottom:0px;display:inline-block;\"></div><div style=\"background-color:rgb(166,189,219);height:20px;width:20px;margin-bottom:0px;display:inline-block;\"></div><div style=\"background-color:rgb(43,140,190);height:20px;width:20px;margin-bottom:0px;display:inline-block;\"></div></div><div style=\"display:inline-block;padding:10px;\"><div>PuBuGn</div><div style=\"background-color:rgb(236,226,240);height:20px;width:20px;margin-bottom:0px;display:inline-block;\"></div><div style=\"background-color:rgb(166,189,219);height:20px;width:20px;margin-bottom:0px;display:inline-block;\"></div><div style=\"background-color:rgb(28,144,153);height:20px;width:20px;margin-bottom:0px;display:inline-block;\"></div></div><div style=\"display:inline-block;padding:10px;\"><div>PuRd</div><div style=\"background-color:rgb(231,225,239);height:20px;width:20px;margin-bottom:0px;display:inline-block;\"></div><div style=\"background-color:rgb(201,148,199);height:20px;width:20px;margin-bottom:0px;display:inline-block;\"></div><div style=\"background-color:rgb(221,28,119);height:20px;width:20px;margin-bottom:0px;display:inline-block;\"></div></div><div style=\"display:inline-block;padding:10px;\"><div>Purples</div><div style=\"background-color:rgb(239,237,245);height:20px;width:20px;margin-bottom:0px;display:inline-block;\"></div><div style=\"background-color:rgb(188,189,220);height:20px;width:20px;margin-bottom:0px;display:inline-block;\"></div><div style=\"background-color:rgb(117,107,177);height:20px;width:20px;margin-bottom:0px;display:inline-block;\"></div></div><div style=\"display:inline-block;padding:10px;\"><div>RdPu</div><div style=\"background-color:rgb(253,224,221);height:20px;width:20px;margin-bottom:0px;display:inline-block;\"></div><div style=\"background-color:rgb(250,159,181);height:20px;width:20px;margin-bottom:0px;display:inline-block;\"></div><div style=\"background-color:rgb(197,27,138);height:20px;width:20px;margin-bottom:0px;display:inline-block;\"></div></div><div style=\"display:inline-block;padding:10px;\"><div>Reds</div><div style=\"background-color:rgb(254,224,210);height:20px;width:20px;margin-bottom:0px;display:inline-block;\"></div><div style=\"background-color:rgb(252,146,114);height:20px;width:20px;margin-bottom:0px;display:inline-block;\"></div><div style=\"background-color:rgb(222,45,38);height:20px;width:20px;margin-bottom:0px;display:inline-block;\"></div></div><div style=\"display:inline-block;padding:10px;\"><div>YlGn</div><div style=\"background-color:rgb(247,252,185);height:20px;width:20px;margin-bottom:0px;display:inline-block;\"></div><div style=\"background-color:rgb(173,221,142);height:20px;width:20px;margin-bottom:0px;display:inline-block;\"></div><div style=\"background-color:rgb(49,163,84);height:20px;width:20px;margin-bottom:0px;display:inline-block;\"></div></div><div style=\"display:inline-block;padding:10px;\"><div>YlGnBu</div><div style=\"background-color:rgb(237,248,177);height:20px;width:20px;margin-bottom:0px;display:inline-block;\"></div><div style=\"background-color:rgb(127,205,187);height:20px;width:20px;margin-bottom:0px;display:inline-block;\"></div><div style=\"background-color:rgb(44,127,184);height:20px;width:20px;margin-bottom:0px;display:inline-block;\"></div></div><div style=\"display:inline-block;padding:10px;\"><div>YlOrBr</div><div style=\"background-color:rgb(255,247,188);height:20px;width:20px;margin-bottom:0px;display:inline-block;\"></div><div style=\"background-color:rgb(254,196,79);height:20px;width:20px;margin-bottom:0px;display:inline-block;\"></div><div style=\"background-color:rgb(217,95,14);height:20px;width:20px;margin-bottom:0px;display:inline-block;\"></div></div><div style=\"display:inline-block;padding:10px;\"><div>YlOrRd</div><div style=\"background-color:rgb(255,237,160);height:20px;width:20px;margin-bottom:0px;display:inline-block;\"></div><div style=\"background-color:rgb(254,178,76);height:20px;width:20px;margin-bottom:0px;display:inline-block;\"></div><div style=\"background-color:rgb(240,59,32);height:20px;width:20px;margin-bottom:0px;display:inline-block;\"></div></div><hr><h3>4 colors</h3><h4>Diverging</h4><div style=\"display:inline-block;padding:10px;\"><div>BrBG</div><div style=\"background-color:rgb(166,97,26);height:20px;width:20px;margin-bottom:0px;display:inline-block;\"></div><div style=\"background-color:rgb(223,194,125);height:20px;width:20px;margin-bottom:0px;display:inline-block;\"></div><div style=\"background-color:rgb(128,205,193);height:20px;width:20px;margin-bottom:0px;display:inline-block;\"></div><div style=\"background-color:rgb(1,133,113);height:20px;width:20px;margin-bottom:0px;display:inline-block;\"></div></div><div style=\"display:inline-block;padding:10px;\"><div>PRGn</div><div style=\"background-color:rgb(123,50,148);height:20px;width:20px;margin-bottom:0px;display:inline-block;\"></div><div style=\"background-color:rgb(194,165,207);height:20px;width:20px;margin-bottom:0px;display:inline-block;\"></div><div style=\"background-color:rgb(166,219,160);height:20px;width:20px;margin-bottom:0px;display:inline-block;\"></div><div style=\"background-color:rgb(0,136,55);height:20px;width:20px;margin-bottom:0px;display:inline-block;\"></div></div><div style=\"display:inline-block;padding:10px;\"><div>PiYG</div><div style=\"background-color:rgb(208,28,139);height:20px;width:20px;margin-bottom:0px;display:inline-block;\"></div><div style=\"background-color:rgb(241,182,218);height:20px;width:20px;margin-bottom:0px;display:inline-block;\"></div><div style=\"background-color:rgb(184,225,134);height:20px;width:20px;margin-bottom:0px;display:inline-block;\"></div><div style=\"background-color:rgb(77,172,38);height:20px;width:20px;margin-bottom:0px;display:inline-block;\"></div></div><div style=\"display:inline-block;padding:10px;\"><div>PuOr</div><div style=\"background-color:rgb(230,97,1);height:20px;width:20px;margin-bottom:0px;display:inline-block;\"></div><div style=\"background-color:rgb(253,184,99);height:20px;width:20px;margin-bottom:0px;display:inline-block;\"></div><div style=\"background-color:rgb(178,171,210);height:20px;width:20px;margin-bottom:0px;display:inline-block;\"></div><div style=\"background-color:rgb(94,60,153);height:20px;width:20px;margin-bottom:0px;display:inline-block;\"></div></div><div style=\"display:inline-block;padding:10px;\"><div>RdBu</div><div style=\"background-color:rgb(202,0,32);height:20px;width:20px;margin-bottom:0px;display:inline-block;\"></div><div style=\"background-color:rgb(244,165,130);height:20px;width:20px;margin-bottom:0px;display:inline-block;\"></div><div style=\"background-color:rgb(146,197,222);height:20px;width:20px;margin-bottom:0px;display:inline-block;\"></div><div style=\"background-color:rgb(5,113,176);height:20px;width:20px;margin-bottom:0px;display:inline-block;\"></div></div><div style=\"display:inline-block;padding:10px;\"><div>RdGy</div><div style=\"background-color:rgb(202,0,32);height:20px;width:20px;margin-bottom:0px;display:inline-block;\"></div><div style=\"background-color:rgb(244,165,130);height:20px;width:20px;margin-bottom:0px;display:inline-block;\"></div><div style=\"background-color:rgb(186,186,186);height:20px;width:20px;margin-bottom:0px;display:inline-block;\"></div><div style=\"background-color:rgb(64,64,64);height:20px;width:20px;margin-bottom:0px;display:inline-block;\"></div></div><div style=\"display:inline-block;padding:10px;\"><div>RdYlBu</div><div style=\"background-color:rgb(215,25,28);height:20px;width:20px;margin-bottom:0px;display:inline-block;\"></div><div style=\"background-color:rgb(253,174,97);height:20px;width:20px;margin-bottom:0px;display:inline-block;\"></div><div style=\"background-color:rgb(171,217,233);height:20px;width:20px;margin-bottom:0px;display:inline-block;\"></div><div style=\"background-color:rgb(44,123,182);height:20px;width:20px;margin-bottom:0px;display:inline-block;\"></div></div><div style=\"display:inline-block;padding:10px;\"><div>RdYlGn</div><div style=\"background-color:rgb(215,25,28);height:20px;width:20px;margin-bottom:0px;display:inline-block;\"></div><div style=\"background-color:rgb(253,174,97);height:20px;width:20px;margin-bottom:0px;display:inline-block;\"></div><div style=\"background-color:rgb(166,217,106);height:20px;width:20px;margin-bottom:0px;display:inline-block;\"></div><div style=\"background-color:rgb(26,150,65);height:20px;width:20px;margin-bottom:0px;display:inline-block;\"></div></div><div style=\"display:inline-block;padding:10px;\"><div>Spectral</div><div style=\"background-color:rgb(215,25,28);height:20px;width:20px;margin-bottom:0px;display:inline-block;\"></div><div style=\"background-color:rgb(253,174,97);height:20px;width:20px;margin-bottom:0px;display:inline-block;\"></div><div style=\"background-color:rgb(171,221,164);height:20px;width:20px;margin-bottom:0px;display:inline-block;\"></div><div style=\"background-color:rgb(43,131,186);height:20px;width:20px;margin-bottom:0px;display:inline-block;\"></div></div><h4>Qualitative</h4><div style=\"display:inline-block;padding:10px;\"><div>Accent</div><div style=\"background-color:rgb(127,201,127);height:20px;width:20px;margin-bottom:0px;display:inline-block;\"></div><div style=\"background-color:rgb(190,174,212);height:20px;width:20px;margin-bottom:0px;display:inline-block;\"></div><div style=\"background-color:rgb(253,192,134);height:20px;width:20px;margin-bottom:0px;display:inline-block;\"></div><div style=\"background-color:rgb(255,255,153);height:20px;width:20px;margin-bottom:0px;display:inline-block;\"></div></div><div style=\"display:inline-block;padding:10px;\"><div>Dark2</div><div style=\"background-color:rgb(27,158,119);height:20px;width:20px;margin-bottom:0px;display:inline-block;\"></div><div style=\"background-color:rgb(217,95,2);height:20px;width:20px;margin-bottom:0px;display:inline-block;\"></div><div style=\"background-color:rgb(117,112,179);height:20px;width:20px;margin-bottom:0px;display:inline-block;\"></div><div style=\"background-color:rgb(231,41,138);height:20px;width:20px;margin-bottom:0px;display:inline-block;\"></div></div><div style=\"display:inline-block;padding:10px;\"><div>Paired</div><div style=\"background-color:rgb(166,206,227);height:20px;width:20px;margin-bottom:0px;display:inline-block;\"></div><div style=\"background-color:rgb(31,120,180);height:20px;width:20px;margin-bottom:0px;display:inline-block;\"></div><div style=\"background-color:rgb(178,223,138);height:20px;width:20px;margin-bottom:0px;display:inline-block;\"></div><div style=\"background-color:rgb(51,160,44);height:20px;width:20px;margin-bottom:0px;display:inline-block;\"></div></div><div style=\"display:inline-block;padding:10px;\"><div>Pastel1</div><div style=\"background-color:rgb(251,180,174);height:20px;width:20px;margin-bottom:0px;display:inline-block;\"></div><div style=\"background-color:rgb(179,205,227);height:20px;width:20px;margin-bottom:0px;display:inline-block;\"></div><div style=\"background-color:rgb(204,235,197);height:20px;width:20px;margin-bottom:0px;display:inline-block;\"></div><div style=\"background-color:rgb(222,203,228);height:20px;width:20px;margin-bottom:0px;display:inline-block;\"></div></div><div style=\"display:inline-block;padding:10px;\"><div>Pastel2</div><div style=\"background-color:rgb(179,226,205);height:20px;width:20px;margin-bottom:0px;display:inline-block;\"></div><div style=\"background-color:rgb(253,205,172);height:20px;width:20px;margin-bottom:0px;display:inline-block;\"></div><div style=\"background-color:rgb(203,213,232);height:20px;width:20px;margin-bottom:0px;display:inline-block;\"></div><div style=\"background-color:rgb(244,202,228);height:20px;width:20px;margin-bottom:0px;display:inline-block;\"></div></div><div style=\"display:inline-block;padding:10px;\"><div>Set1</div><div style=\"background-color:rgb(228,26,28);height:20px;width:20px;margin-bottom:0px;display:inline-block;\"></div><div style=\"background-color:rgb(55,126,184);height:20px;width:20px;margin-bottom:0px;display:inline-block;\"></div><div style=\"background-color:rgb(77,175,74);height:20px;width:20px;margin-bottom:0px;display:inline-block;\"></div><div style=\"background-color:rgb(152,78,163);height:20px;width:20px;margin-bottom:0px;display:inline-block;\"></div></div><div style=\"display:inline-block;padding:10px;\"><div>Set2</div><div style=\"background-color:rgb(102,194,165);height:20px;width:20px;margin-bottom:0px;display:inline-block;\"></div><div style=\"background-color:rgb(252,141,98);height:20px;width:20px;margin-bottom:0px;display:inline-block;\"></div><div style=\"background-color:rgb(141,160,203);height:20px;width:20px;margin-bottom:0px;display:inline-block;\"></div><div style=\"background-color:rgb(231,138,195);height:20px;width:20px;margin-bottom:0px;display:inline-block;\"></div></div><div style=\"display:inline-block;padding:10px;\"><div>Set3</div><div style=\"background-color:rgb(141,211,199);height:20px;width:20px;margin-bottom:0px;display:inline-block;\"></div><div style=\"background-color:rgb(255,255,179);height:20px;width:20px;margin-bottom:0px;display:inline-block;\"></div><div style=\"background-color:rgb(190,186,218);height:20px;width:20px;margin-bottom:0px;display:inline-block;\"></div><div style=\"background-color:rgb(251,128,114);height:20px;width:20px;margin-bottom:0px;display:inline-block;\"></div></div><h4>Sequential</h4><div style=\"display:inline-block;padding:10px;\"><div>Blues</div><div style=\"background-color:rgb(239,243,255);height:20px;width:20px;margin-bottom:0px;display:inline-block;\"></div><div style=\"background-color:rgb(189,215,231);height:20px;width:20px;margin-bottom:0px;display:inline-block;\"></div><div style=\"background-color:rgb(107,174,214);height:20px;width:20px;margin-bottom:0px;display:inline-block;\"></div><div style=\"background-color:rgb(33,113,181);height:20px;width:20px;margin-bottom:0px;display:inline-block;\"></div></div><div style=\"display:inline-block;padding:10px;\"><div>BuGn</div><div style=\"background-color:rgb(237,248,251);height:20px;width:20px;margin-bottom:0px;display:inline-block;\"></div><div style=\"background-color:rgb(178,226,226);height:20px;width:20px;margin-bottom:0px;display:inline-block;\"></div><div style=\"background-color:rgb(102,194,164);height:20px;width:20px;margin-bottom:0px;display:inline-block;\"></div><div style=\"background-color:rgb(35,139,69);height:20px;width:20px;margin-bottom:0px;display:inline-block;\"></div></div><div style=\"display:inline-block;padding:10px;\"><div>BuPu</div><div style=\"background-color:rgb(237,248,251);height:20px;width:20px;margin-bottom:0px;display:inline-block;\"></div><div style=\"background-color:rgb(179,205,227);height:20px;width:20px;margin-bottom:0px;display:inline-block;\"></div><div style=\"background-color:rgb(140,150,198);height:20px;width:20px;margin-bottom:0px;display:inline-block;\"></div><div style=\"background-color:rgb(136,65,157);height:20px;width:20px;margin-bottom:0px;display:inline-block;\"></div></div><div style=\"display:inline-block;padding:10px;\"><div>GnBu</div><div style=\"background-color:rgb(240,249,232);height:20px;width:20px;margin-bottom:0px;display:inline-block;\"></div><div style=\"background-color:rgb(186,228,188);height:20px;width:20px;margin-bottom:0px;display:inline-block;\"></div><div style=\"background-color:rgb(123,204,196);height:20px;width:20px;margin-bottom:0px;display:inline-block;\"></div><div style=\"background-color:rgb(43,140,190);height:20px;width:20px;margin-bottom:0px;display:inline-block;\"></div></div><div style=\"display:inline-block;padding:10px;\"><div>Greens</div><div style=\"background-color:rgb(237,248,233);height:20px;width:20px;margin-bottom:0px;display:inline-block;\"></div><div style=\"background-color:rgb(186,228,179);height:20px;width:20px;margin-bottom:0px;display:inline-block;\"></div><div style=\"background-color:rgb(116,196,118);height:20px;width:20px;margin-bottom:0px;display:inline-block;\"></div><div style=\"background-color:rgb(35,139,69);height:20px;width:20px;margin-bottom:0px;display:inline-block;\"></div></div><div style=\"display:inline-block;padding:10px;\"><div>Greys</div><div style=\"background-color:rgb(247,247,247);height:20px;width:20px;margin-bottom:0px;display:inline-block;\"></div><div style=\"background-color:rgb(204,204,204);height:20px;width:20px;margin-bottom:0px;display:inline-block;\"></div><div style=\"background-color:rgb(150,150,150);height:20px;width:20px;margin-bottom:0px;display:inline-block;\"></div><div style=\"background-color:rgb(82,82,82);height:20px;width:20px;margin-bottom:0px;display:inline-block;\"></div></div><div style=\"display:inline-block;padding:10px;\"><div>OrRd</div><div style=\"background-color:rgb(254,240,217);height:20px;width:20px;margin-bottom:0px;display:inline-block;\"></div><div style=\"background-color:rgb(253,204,138);height:20px;width:20px;margin-bottom:0px;display:inline-block;\"></div><div style=\"background-color:rgb(252,141,89);height:20px;width:20px;margin-bottom:0px;display:inline-block;\"></div><div style=\"background-color:rgb(215,48,31);height:20px;width:20px;margin-bottom:0px;display:inline-block;\"></div></div><div style=\"display:inline-block;padding:10px;\"><div>Oranges</div><div style=\"background-color:rgb(254,237,222);height:20px;width:20px;margin-bottom:0px;display:inline-block;\"></div><div style=\"background-color:rgb(253,190,133);height:20px;width:20px;margin-bottom:0px;display:inline-block;\"></div><div style=\"background-color:rgb(253,141,60);height:20px;width:20px;margin-bottom:0px;display:inline-block;\"></div><div style=\"background-color:rgb(217,71,1);height:20px;width:20px;margin-bottom:0px;display:inline-block;\"></div></div><div style=\"display:inline-block;padding:10px;\"><div>PuBu</div><div style=\"background-color:rgb(241,238,246);height:20px;width:20px;margin-bottom:0px;display:inline-block;\"></div><div style=\"background-color:rgb(189,201,225);height:20px;width:20px;margin-bottom:0px;display:inline-block;\"></div><div style=\"background-color:rgb(116,169,207);height:20px;width:20px;margin-bottom:0px;display:inline-block;\"></div><div style=\"background-color:rgb(5,112,176);height:20px;width:20px;margin-bottom:0px;display:inline-block;\"></div></div><div style=\"display:inline-block;padding:10px;\"><div>PuBuGn</div><div style=\"background-color:rgb(246,239,247);height:20px;width:20px;margin-bottom:0px;display:inline-block;\"></div><div style=\"background-color:rgb(189,201,225);height:20px;width:20px;margin-bottom:0px;display:inline-block;\"></div><div style=\"background-color:rgb(103,169,207);height:20px;width:20px;margin-bottom:0px;display:inline-block;\"></div><div style=\"background-color:rgb(2,129,138);height:20px;width:20px;margin-bottom:0px;display:inline-block;\"></div></div><div style=\"display:inline-block;padding:10px;\"><div>PuRd</div><div style=\"background-color:rgb(241,238,246);height:20px;width:20px;margin-bottom:0px;display:inline-block;\"></div><div style=\"background-color:rgb(215,181,216);height:20px;width:20px;margin-bottom:0px;display:inline-block;\"></div><div style=\"background-color:rgb(223,101,176);height:20px;width:20px;margin-bottom:0px;display:inline-block;\"></div><div style=\"background-color:rgb(206,18,86);height:20px;width:20px;margin-bottom:0px;display:inline-block;\"></div></div><div style=\"display:inline-block;padding:10px;\"><div>Purples</div><div style=\"background-color:rgb(242,240,247);height:20px;width:20px;margin-bottom:0px;display:inline-block;\"></div><div style=\"background-color:rgb(203,201,226);height:20px;width:20px;margin-bottom:0px;display:inline-block;\"></div><div style=\"background-color:rgb(158,154,200);height:20px;width:20px;margin-bottom:0px;display:inline-block;\"></div><div style=\"background-color:rgb(106,81,163);height:20px;width:20px;margin-bottom:0px;display:inline-block;\"></div></div><div style=\"display:inline-block;padding:10px;\"><div>RdPu</div><div style=\"background-color:rgb(254,235,226);height:20px;width:20px;margin-bottom:0px;display:inline-block;\"></div><div style=\"background-color:rgb(251,180,185);height:20px;width:20px;margin-bottom:0px;display:inline-block;\"></div><div style=\"background-color:rgb(247,104,161);height:20px;width:20px;margin-bottom:0px;display:inline-block;\"></div><div style=\"background-color:rgb(174,1,126);height:20px;width:20px;margin-bottom:0px;display:inline-block;\"></div></div><div style=\"display:inline-block;padding:10px;\"><div>Reds</div><div style=\"background-color:rgb(254,229,217);height:20px;width:20px;margin-bottom:0px;display:inline-block;\"></div><div style=\"background-color:rgb(252,174,145);height:20px;width:20px;margin-bottom:0px;display:inline-block;\"></div><div style=\"background-color:rgb(251,106,74);height:20px;width:20px;margin-bottom:0px;display:inline-block;\"></div><div style=\"background-color:rgb(203,24,29);height:20px;width:20px;margin-bottom:0px;display:inline-block;\"></div></div><div style=\"display:inline-block;padding:10px;\"><div>YlGn</div><div style=\"background-color:rgb(255,255,204);height:20px;width:20px;margin-bottom:0px;display:inline-block;\"></div><div style=\"background-color:rgb(194,230,153);height:20px;width:20px;margin-bottom:0px;display:inline-block;\"></div><div style=\"background-color:rgb(120,198,121);height:20px;width:20px;margin-bottom:0px;display:inline-block;\"></div><div style=\"background-color:rgb(35,132,67);height:20px;width:20px;margin-bottom:0px;display:inline-block;\"></div></div><div style=\"display:inline-block;padding:10px;\"><div>YlGnBu</div><div style=\"background-color:rgb(255,255,204);height:20px;width:20px;margin-bottom:0px;display:inline-block;\"></div><div style=\"background-color:rgb(161,218,180);height:20px;width:20px;margin-bottom:0px;display:inline-block;\"></div><div style=\"background-color:rgb(65,182,196);height:20px;width:20px;margin-bottom:0px;display:inline-block;\"></div><div style=\"background-color:rgb(34,94,168);height:20px;width:20px;margin-bottom:0px;display:inline-block;\"></div></div><div style=\"display:inline-block;padding:10px;\"><div>YlOrBr</div><div style=\"background-color:rgb(255,255,212);height:20px;width:20px;margin-bottom:0px;display:inline-block;\"></div><div style=\"background-color:rgb(254,217,142);height:20px;width:20px;margin-bottom:0px;display:inline-block;\"></div><div style=\"background-color:rgb(254,153,41);height:20px;width:20px;margin-bottom:0px;display:inline-block;\"></div><div style=\"background-color:rgb(204,76,2);height:20px;width:20px;margin-bottom:0px;display:inline-block;\"></div></div><div style=\"display:inline-block;padding:10px;\"><div>YlOrRd</div><div style=\"background-color:rgb(255,255,178);height:20px;width:20px;margin-bottom:0px;display:inline-block;\"></div><div style=\"background-color:rgb(254,204,92);height:20px;width:20px;margin-bottom:0px;display:inline-block;\"></div><div style=\"background-color:rgb(253,141,60);height:20px;width:20px;margin-bottom:0px;display:inline-block;\"></div><div style=\"background-color:rgb(227,26,28);height:20px;width:20px;margin-bottom:0px;display:inline-block;\"></div></div><hr><h3>5 colors</h3><h4>Diverging</h4><div style=\"display:inline-block;padding:10px;\"><div>BrBG</div><div style=\"background-color:rgb(166,97,26);height:20px;width:20px;margin-bottom:0px;display:inline-block;\"></div><div style=\"background-color:rgb(223,194,125);height:20px;width:20px;margin-bottom:0px;display:inline-block;\"></div><div style=\"background-color:rgb(245,245,245);height:20px;width:20px;margin-bottom:0px;display:inline-block;\"></div><div style=\"background-color:rgb(128,205,193);height:20px;width:20px;margin-bottom:0px;display:inline-block;\"></div><div style=\"background-color:rgb(1,133,113);height:20px;width:20px;margin-bottom:0px;display:inline-block;\"></div></div><div style=\"display:inline-block;padding:10px;\"><div>PRGn</div><div style=\"background-color:rgb(123,50,148);height:20px;width:20px;margin-bottom:0px;display:inline-block;\"></div><div style=\"background-color:rgb(194,165,207);height:20px;width:20px;margin-bottom:0px;display:inline-block;\"></div><div style=\"background-color:rgb(247,247,247);height:20px;width:20px;margin-bottom:0px;display:inline-block;\"></div><div style=\"background-color:rgb(166,219,160);height:20px;width:20px;margin-bottom:0px;display:inline-block;\"></div><div style=\"background-color:rgb(0,136,55);height:20px;width:20px;margin-bottom:0px;display:inline-block;\"></div></div><div style=\"display:inline-block;padding:10px;\"><div>PiYG</div><div style=\"background-color:rgb(208,28,139);height:20px;width:20px;margin-bottom:0px;display:inline-block;\"></div><div style=\"background-color:rgb(241,182,218);height:20px;width:20px;margin-bottom:0px;display:inline-block;\"></div><div style=\"background-color:rgb(247,247,247);height:20px;width:20px;margin-bottom:0px;display:inline-block;\"></div><div style=\"background-color:rgb(184,225,134);height:20px;width:20px;margin-bottom:0px;display:inline-block;\"></div><div style=\"background-color:rgb(77,172,38);height:20px;width:20px;margin-bottom:0px;display:inline-block;\"></div></div><div style=\"display:inline-block;padding:10px;\"><div>PuOr</div><div style=\"background-color:rgb(230,97,1);height:20px;width:20px;margin-bottom:0px;display:inline-block;\"></div><div style=\"background-color:rgb(253,184,99);height:20px;width:20px;margin-bottom:0px;display:inline-block;\"></div><div style=\"background-color:rgb(247,247,247);height:20px;width:20px;margin-bottom:0px;display:inline-block;\"></div><div style=\"background-color:rgb(178,171,210);height:20px;width:20px;margin-bottom:0px;display:inline-block;\"></div><div style=\"background-color:rgb(94,60,153);height:20px;width:20px;margin-bottom:0px;display:inline-block;\"></div></div><div style=\"display:inline-block;padding:10px;\"><div>RdBu</div><div style=\"background-color:rgb(202,0,32);height:20px;width:20px;margin-bottom:0px;display:inline-block;\"></div><div style=\"background-color:rgb(244,165,130);height:20px;width:20px;margin-bottom:0px;display:inline-block;\"></div><div style=\"background-color:rgb(247,247,247);height:20px;width:20px;margin-bottom:0px;display:inline-block;\"></div><div style=\"background-color:rgb(146,197,222);height:20px;width:20px;margin-bottom:0px;display:inline-block;\"></div><div style=\"background-color:rgb(5,113,176);height:20px;width:20px;margin-bottom:0px;display:inline-block;\"></div></div><div style=\"display:inline-block;padding:10px;\"><div>RdGy</div><div style=\"background-color:rgb(202,0,32);height:20px;width:20px;margin-bottom:0px;display:inline-block;\"></div><div style=\"background-color:rgb(244,165,130);height:20px;width:20px;margin-bottom:0px;display:inline-block;\"></div><div style=\"background-color:rgb(255,255,255);height:20px;width:20px;margin-bottom:0px;display:inline-block;\"></div><div style=\"background-color:rgb(186,186,186);height:20px;width:20px;margin-bottom:0px;display:inline-block;\"></div><div style=\"background-color:rgb(64,64,64);height:20px;width:20px;margin-bottom:0px;display:inline-block;\"></div></div><div style=\"display:inline-block;padding:10px;\"><div>RdYlBu</div><div style=\"background-color:rgb(215,25,28);height:20px;width:20px;margin-bottom:0px;display:inline-block;\"></div><div style=\"background-color:rgb(253,174,97);height:20px;width:20px;margin-bottom:0px;display:inline-block;\"></div><div style=\"background-color:rgb(255,255,191);height:20px;width:20px;margin-bottom:0px;display:inline-block;\"></div><div style=\"background-color:rgb(171,217,233);height:20px;width:20px;margin-bottom:0px;display:inline-block;\"></div><div style=\"background-color:rgb(44,123,182);height:20px;width:20px;margin-bottom:0px;display:inline-block;\"></div></div><div style=\"display:inline-block;padding:10px;\"><div>RdYlGn</div><div style=\"background-color:rgb(215,25,28);height:20px;width:20px;margin-bottom:0px;display:inline-block;\"></div><div style=\"background-color:rgb(253,174,97);height:20px;width:20px;margin-bottom:0px;display:inline-block;\"></div><div style=\"background-color:rgb(255,255,191);height:20px;width:20px;margin-bottom:0px;display:inline-block;\"></div><div style=\"background-color:rgb(166,217,106);height:20px;width:20px;margin-bottom:0px;display:inline-block;\"></div><div style=\"background-color:rgb(26,150,65);height:20px;width:20px;margin-bottom:0px;display:inline-block;\"></div></div><div style=\"display:inline-block;padding:10px;\"><div>Spectral</div><div style=\"background-color:rgb(215,25,28);height:20px;width:20px;margin-bottom:0px;display:inline-block;\"></div><div style=\"background-color:rgb(253,174,97);height:20px;width:20px;margin-bottom:0px;display:inline-block;\"></div><div style=\"background-color:rgb(255,255,191);height:20px;width:20px;margin-bottom:0px;display:inline-block;\"></div><div style=\"background-color:rgb(171,221,164);height:20px;width:20px;margin-bottom:0px;display:inline-block;\"></div><div style=\"background-color:rgb(43,131,186);height:20px;width:20px;margin-bottom:0px;display:inline-block;\"></div></div><h4>Qualitative</h4><div style=\"display:inline-block;padding:10px;\"><div>Accent</div><div style=\"background-color:rgb(127,201,127);height:20px;width:20px;margin-bottom:0px;display:inline-block;\"></div><div style=\"background-color:rgb(190,174,212);height:20px;width:20px;margin-bottom:0px;display:inline-block;\"></div><div style=\"background-color:rgb(253,192,134);height:20px;width:20px;margin-bottom:0px;display:inline-block;\"></div><div style=\"background-color:rgb(255,255,153);height:20px;width:20px;margin-bottom:0px;display:inline-block;\"></div><div style=\"background-color:rgb(56,108,176);height:20px;width:20px;margin-bottom:0px;display:inline-block;\"></div></div><div style=\"display:inline-block;padding:10px;\"><div>Dark2</div><div style=\"background-color:rgb(27,158,119);height:20px;width:20px;margin-bottom:0px;display:inline-block;\"></div><div style=\"background-color:rgb(217,95,2);height:20px;width:20px;margin-bottom:0px;display:inline-block;\"></div><div style=\"background-color:rgb(117,112,179);height:20px;width:20px;margin-bottom:0px;display:inline-block;\"></div><div style=\"background-color:rgb(231,41,138);height:20px;width:20px;margin-bottom:0px;display:inline-block;\"></div><div style=\"background-color:rgb(102,166,30);height:20px;width:20px;margin-bottom:0px;display:inline-block;\"></div></div><div style=\"display:inline-block;padding:10px;\"><div>Paired</div><div style=\"background-color:rgb(166,206,227);height:20px;width:20px;margin-bottom:0px;display:inline-block;\"></div><div style=\"background-color:rgb(31,120,180);height:20px;width:20px;margin-bottom:0px;display:inline-block;\"></div><div style=\"background-color:rgb(178,223,138);height:20px;width:20px;margin-bottom:0px;display:inline-block;\"></div><div style=\"background-color:rgb(51,160,44);height:20px;width:20px;margin-bottom:0px;display:inline-block;\"></div><div style=\"background-color:rgb(251,154,153);height:20px;width:20px;margin-bottom:0px;display:inline-block;\"></div></div><div style=\"display:inline-block;padding:10px;\"><div>Pastel1</div><div style=\"background-color:rgb(251,180,174);height:20px;width:20px;margin-bottom:0px;display:inline-block;\"></div><div style=\"background-color:rgb(179,205,227);height:20px;width:20px;margin-bottom:0px;display:inline-block;\"></div><div style=\"background-color:rgb(204,235,197);height:20px;width:20px;margin-bottom:0px;display:inline-block;\"></div><div style=\"background-color:rgb(222,203,228);height:20px;width:20px;margin-bottom:0px;display:inline-block;\"></div><div style=\"background-color:rgb(254,217,166);height:20px;width:20px;margin-bottom:0px;display:inline-block;\"></div></div><div style=\"display:inline-block;padding:10px;\"><div>Pastel2</div><div style=\"background-color:rgb(179,226,205);height:20px;width:20px;margin-bottom:0px;display:inline-block;\"></div><div style=\"background-color:rgb(253,205,172);height:20px;width:20px;margin-bottom:0px;display:inline-block;\"></div><div style=\"background-color:rgb(203,213,232);height:20px;width:20px;margin-bottom:0px;display:inline-block;\"></div><div style=\"background-color:rgb(244,202,228);height:20px;width:20px;margin-bottom:0px;display:inline-block;\"></div><div style=\"background-color:rgb(230,245,201);height:20px;width:20px;margin-bottom:0px;display:inline-block;\"></div></div><div style=\"display:inline-block;padding:10px;\"><div>Set1</div><div style=\"background-color:rgb(228,26,28);height:20px;width:20px;margin-bottom:0px;display:inline-block;\"></div><div style=\"background-color:rgb(55,126,184);height:20px;width:20px;margin-bottom:0px;display:inline-block;\"></div><div style=\"background-color:rgb(77,175,74);height:20px;width:20px;margin-bottom:0px;display:inline-block;\"></div><div style=\"background-color:rgb(152,78,163);height:20px;width:20px;margin-bottom:0px;display:inline-block;\"></div><div style=\"background-color:rgb(255,127,0);height:20px;width:20px;margin-bottom:0px;display:inline-block;\"></div></div><div style=\"display:inline-block;padding:10px;\"><div>Set2</div><div style=\"background-color:rgb(102,194,165);height:20px;width:20px;margin-bottom:0px;display:inline-block;\"></div><div style=\"background-color:rgb(252,141,98);height:20px;width:20px;margin-bottom:0px;display:inline-block;\"></div><div style=\"background-color:rgb(141,160,203);height:20px;width:20px;margin-bottom:0px;display:inline-block;\"></div><div style=\"background-color:rgb(231,138,195);height:20px;width:20px;margin-bottom:0px;display:inline-block;\"></div><div style=\"background-color:rgb(166,216,84);height:20px;width:20px;margin-bottom:0px;display:inline-block;\"></div></div><div style=\"display:inline-block;padding:10px;\"><div>Set3</div><div style=\"background-color:rgb(141,211,199);height:20px;width:20px;margin-bottom:0px;display:inline-block;\"></div><div style=\"background-color:rgb(255,255,179);height:20px;width:20px;margin-bottom:0px;display:inline-block;\"></div><div style=\"background-color:rgb(190,186,218);height:20px;width:20px;margin-bottom:0px;display:inline-block;\"></div><div style=\"background-color:rgb(251,128,114);height:20px;width:20px;margin-bottom:0px;display:inline-block;\"></div><div style=\"background-color:rgb(128,177,211);height:20px;width:20px;margin-bottom:0px;display:inline-block;\"></div></div><h4>Sequential</h4><div style=\"display:inline-block;padding:10px;\"><div>Blues</div><div style=\"background-color:rgb(239,243,255);height:20px;width:20px;margin-bottom:0px;display:inline-block;\"></div><div style=\"background-color:rgb(189,215,231);height:20px;width:20px;margin-bottom:0px;display:inline-block;\"></div><div style=\"background-color:rgb(107,174,214);height:20px;width:20px;margin-bottom:0px;display:inline-block;\"></div><div style=\"background-color:rgb(49,130,189);height:20px;width:20px;margin-bottom:0px;display:inline-block;\"></div><div style=\"background-color:rgb(8,81,156);height:20px;width:20px;margin-bottom:0px;display:inline-block;\"></div></div><div style=\"display:inline-block;padding:10px;\"><div>BuGn</div><div style=\"background-color:rgb(237,248,251);height:20px;width:20px;margin-bottom:0px;display:inline-block;\"></div><div style=\"background-color:rgb(178,226,226);height:20px;width:20px;margin-bottom:0px;display:inline-block;\"></div><div style=\"background-color:rgb(102,194,164);height:20px;width:20px;margin-bottom:0px;display:inline-block;\"></div><div style=\"background-color:rgb(44,162,95);height:20px;width:20px;margin-bottom:0px;display:inline-block;\"></div><div style=\"background-color:rgb(0,109,44);height:20px;width:20px;margin-bottom:0px;display:inline-block;\"></div></div><div style=\"display:inline-block;padding:10px;\"><div>BuPu</div><div style=\"background-color:rgb(237,248,251);height:20px;width:20px;margin-bottom:0px;display:inline-block;\"></div><div style=\"background-color:rgb(179,205,227);height:20px;width:20px;margin-bottom:0px;display:inline-block;\"></div><div style=\"background-color:rgb(140,150,198);height:20px;width:20px;margin-bottom:0px;display:inline-block;\"></div><div style=\"background-color:rgb(136,86,167);height:20px;width:20px;margin-bottom:0px;display:inline-block;\"></div><div style=\"background-color:rgb(129,15,124);height:20px;width:20px;margin-bottom:0px;display:inline-block;\"></div></div><div style=\"display:inline-block;padding:10px;\"><div>GnBu</div><div style=\"background-color:rgb(240,249,232);height:20px;width:20px;margin-bottom:0px;display:inline-block;\"></div><div style=\"background-color:rgb(186,228,188);height:20px;width:20px;margin-bottom:0px;display:inline-block;\"></div><div style=\"background-color:rgb(123,204,196);height:20px;width:20px;margin-bottom:0px;display:inline-block;\"></div><div style=\"background-color:rgb(67,162,202);height:20px;width:20px;margin-bottom:0px;display:inline-block;\"></div><div style=\"background-color:rgb(8,104,172);height:20px;width:20px;margin-bottom:0px;display:inline-block;\"></div></div><div style=\"display:inline-block;padding:10px;\"><div>Greens</div><div style=\"background-color:rgb(237,248,233);height:20px;width:20px;margin-bottom:0px;display:inline-block;\"></div><div style=\"background-color:rgb(186,228,179);height:20px;width:20px;margin-bottom:0px;display:inline-block;\"></div><div style=\"background-color:rgb(116,196,118);height:20px;width:20px;margin-bottom:0px;display:inline-block;\"></div><div style=\"background-color:rgb(49,163,84);height:20px;width:20px;margin-bottom:0px;display:inline-block;\"></div><div style=\"background-color:rgb(0,109,44);height:20px;width:20px;margin-bottom:0px;display:inline-block;\"></div></div><div style=\"display:inline-block;padding:10px;\"><div>Greys</div><div style=\"background-color:rgb(247,247,247);height:20px;width:20px;margin-bottom:0px;display:inline-block;\"></div><div style=\"background-color:rgb(204,204,204);height:20px;width:20px;margin-bottom:0px;display:inline-block;\"></div><div style=\"background-color:rgb(150,150,150);height:20px;width:20px;margin-bottom:0px;display:inline-block;\"></div><div style=\"background-color:rgb(99,99,99);height:20px;width:20px;margin-bottom:0px;display:inline-block;\"></div><div style=\"background-color:rgb(37,37,37);height:20px;width:20px;margin-bottom:0px;display:inline-block;\"></div></div><div style=\"display:inline-block;padding:10px;\"><div>OrRd</div><div style=\"background-color:rgb(254,240,217);height:20px;width:20px;margin-bottom:0px;display:inline-block;\"></div><div style=\"background-color:rgb(253,204,138);height:20px;width:20px;margin-bottom:0px;display:inline-block;\"></div><div style=\"background-color:rgb(252,141,89);height:20px;width:20px;margin-bottom:0px;display:inline-block;\"></div><div style=\"background-color:rgb(227,74,51);height:20px;width:20px;margin-bottom:0px;display:inline-block;\"></div><div style=\"background-color:rgb(179,0,0);height:20px;width:20px;margin-bottom:0px;display:inline-block;\"></div></div><div style=\"display:inline-block;padding:10px;\"><div>Oranges</div><div style=\"background-color:rgb(254,237,222);height:20px;width:20px;margin-bottom:0px;display:inline-block;\"></div><div style=\"background-color:rgb(253,190,133);height:20px;width:20px;margin-bottom:0px;display:inline-block;\"></div><div style=\"background-color:rgb(253,141,60);height:20px;width:20px;margin-bottom:0px;display:inline-block;\"></div><div style=\"background-color:rgb(230,85,13);height:20px;width:20px;margin-bottom:0px;display:inline-block;\"></div><div style=\"background-color:rgb(166,54,3);height:20px;width:20px;margin-bottom:0px;display:inline-block;\"></div></div><div style=\"display:inline-block;padding:10px;\"><div>PuBu</div><div style=\"background-color:rgb(241,238,246);height:20px;width:20px;margin-bottom:0px;display:inline-block;\"></div><div style=\"background-color:rgb(189,201,225);height:20px;width:20px;margin-bottom:0px;display:inline-block;\"></div><div style=\"background-color:rgb(116,169,207);height:20px;width:20px;margin-bottom:0px;display:inline-block;\"></div><div style=\"background-color:rgb(43,140,190);height:20px;width:20px;margin-bottom:0px;display:inline-block;\"></div><div style=\"background-color:rgb(4,90,141);height:20px;width:20px;margin-bottom:0px;display:inline-block;\"></div></div><div style=\"display:inline-block;padding:10px;\"><div>PuBuGn</div><div style=\"background-color:rgb(246,239,247);height:20px;width:20px;margin-bottom:0px;display:inline-block;\"></div><div style=\"background-color:rgb(189,201,225);height:20px;width:20px;margin-bottom:0px;display:inline-block;\"></div><div style=\"background-color:rgb(103,169,207);height:20px;width:20px;margin-bottom:0px;display:inline-block;\"></div><div style=\"background-color:rgb(28,144,153);height:20px;width:20px;margin-bottom:0px;display:inline-block;\"></div><div style=\"background-color:rgb(1,108,89);height:20px;width:20px;margin-bottom:0px;display:inline-block;\"></div></div><div style=\"display:inline-block;padding:10px;\"><div>PuRd</div><div style=\"background-color:rgb(241,238,246);height:20px;width:20px;margin-bottom:0px;display:inline-block;\"></div><div style=\"background-color:rgb(215,181,216);height:20px;width:20px;margin-bottom:0px;display:inline-block;\"></div><div style=\"background-color:rgb(223,101,176);height:20px;width:20px;margin-bottom:0px;display:inline-block;\"></div><div style=\"background-color:rgb(221,28,119);height:20px;width:20px;margin-bottom:0px;display:inline-block;\"></div><div style=\"background-color:rgb(152,0,67);height:20px;width:20px;margin-bottom:0px;display:inline-block;\"></div></div><div style=\"display:inline-block;padding:10px;\"><div>Purples</div><div style=\"background-color:rgb(242,240,247);height:20px;width:20px;margin-bottom:0px;display:inline-block;\"></div><div style=\"background-color:rgb(203,201,226);height:20px;width:20px;margin-bottom:0px;display:inline-block;\"></div><div style=\"background-color:rgb(158,154,200);height:20px;width:20px;margin-bottom:0px;display:inline-block;\"></div><div style=\"background-color:rgb(117,107,177);height:20px;width:20px;margin-bottom:0px;display:inline-block;\"></div><div style=\"background-color:rgb(84,39,143);height:20px;width:20px;margin-bottom:0px;display:inline-block;\"></div></div><div style=\"display:inline-block;padding:10px;\"><div>RdPu</div><div style=\"background-color:rgb(254,235,226);height:20px;width:20px;margin-bottom:0px;display:inline-block;\"></div><div style=\"background-color:rgb(251,180,185);height:20px;width:20px;margin-bottom:0px;display:inline-block;\"></div><div style=\"background-color:rgb(247,104,161);height:20px;width:20px;margin-bottom:0px;display:inline-block;\"></div><div style=\"background-color:rgb(197,27,138);height:20px;width:20px;margin-bottom:0px;display:inline-block;\"></div><div style=\"background-color:rgb(122,1,119);height:20px;width:20px;margin-bottom:0px;display:inline-block;\"></div></div><div style=\"display:inline-block;padding:10px;\"><div>Reds</div><div style=\"background-color:rgb(254,229,217);height:20px;width:20px;margin-bottom:0px;display:inline-block;\"></div><div style=\"background-color:rgb(252,174,145);height:20px;width:20px;margin-bottom:0px;display:inline-block;\"></div><div style=\"background-color:rgb(251,106,74);height:20px;width:20px;margin-bottom:0px;display:inline-block;\"></div><div style=\"background-color:rgb(222,45,38);height:20px;width:20px;margin-bottom:0px;display:inline-block;\"></div><div style=\"background-color:rgb(165,15,21);height:20px;width:20px;margin-bottom:0px;display:inline-block;\"></div></div><div style=\"display:inline-block;padding:10px;\"><div>YlGn</div><div style=\"background-color:rgb(255,255,204);height:20px;width:20px;margin-bottom:0px;display:inline-block;\"></div><div style=\"background-color:rgb(194,230,153);height:20px;width:20px;margin-bottom:0px;display:inline-block;\"></div><div style=\"background-color:rgb(120,198,121);height:20px;width:20px;margin-bottom:0px;display:inline-block;\"></div><div style=\"background-color:rgb(49,163,84);height:20px;width:20px;margin-bottom:0px;display:inline-block;\"></div><div style=\"background-color:rgb(0,104,55);height:20px;width:20px;margin-bottom:0px;display:inline-block;\"></div></div><div style=\"display:inline-block;padding:10px;\"><div>YlGnBu</div><div style=\"background-color:rgb(255,255,204);height:20px;width:20px;margin-bottom:0px;display:inline-block;\"></div><div style=\"background-color:rgb(161,218,180);height:20px;width:20px;margin-bottom:0px;display:inline-block;\"></div><div style=\"background-color:rgb(65,182,196);height:20px;width:20px;margin-bottom:0px;display:inline-block;\"></div><div style=\"background-color:rgb(44,127,184);height:20px;width:20px;margin-bottom:0px;display:inline-block;\"></div><div style=\"background-color:rgb(37,52,148);height:20px;width:20px;margin-bottom:0px;display:inline-block;\"></div></div><div style=\"display:inline-block;padding:10px;\"><div>YlOrBr</div><div style=\"background-color:rgb(255,255,212);height:20px;width:20px;margin-bottom:0px;display:inline-block;\"></div><div style=\"background-color:rgb(254,217,142);height:20px;width:20px;margin-bottom:0px;display:inline-block;\"></div><div style=\"background-color:rgb(254,153,41);height:20px;width:20px;margin-bottom:0px;display:inline-block;\"></div><div style=\"background-color:rgb(217,95,14);height:20px;width:20px;margin-bottom:0px;display:inline-block;\"></div><div style=\"background-color:rgb(153,52,4);height:20px;width:20px;margin-bottom:0px;display:inline-block;\"></div></div><div style=\"display:inline-block;padding:10px;\"><div>YlOrRd</div><div style=\"background-color:rgb(255,255,178);height:20px;width:20px;margin-bottom:0px;display:inline-block;\"></div><div style=\"background-color:rgb(254,204,92);height:20px;width:20px;margin-bottom:0px;display:inline-block;\"></div><div style=\"background-color:rgb(253,141,60);height:20px;width:20px;margin-bottom:0px;display:inline-block;\"></div><div style=\"background-color:rgb(240,59,32);height:20px;width:20px;margin-bottom:0px;display:inline-block;\"></div><div style=\"background-color:rgb(189,0,38);height:20px;width:20px;margin-bottom:0px;display:inline-block;\"></div></div><hr><h3>6 colors</h3><h4>Diverging</h4><div style=\"display:inline-block;padding:10px;\"><div>BrBG</div><div style=\"background-color:rgb(140,81,10);height:20px;width:20px;margin-bottom:0px;display:inline-block;\"></div><div style=\"background-color:rgb(216,179,101);height:20px;width:20px;margin-bottom:0px;display:inline-block;\"></div><div style=\"background-color:rgb(246,232,195);height:20px;width:20px;margin-bottom:0px;display:inline-block;\"></div><div style=\"background-color:rgb(199,234,229);height:20px;width:20px;margin-bottom:0px;display:inline-block;\"></div><div style=\"background-color:rgb(90,180,172);height:20px;width:20px;margin-bottom:0px;display:inline-block;\"></div><div style=\"background-color:rgb(1,102,94);height:20px;width:20px;margin-bottom:0px;display:inline-block;\"></div></div><div style=\"display:inline-block;padding:10px;\"><div>PRGn</div><div style=\"background-color:rgb(118,42,131);height:20px;width:20px;margin-bottom:0px;display:inline-block;\"></div><div style=\"background-color:rgb(175,141,195);height:20px;width:20px;margin-bottom:0px;display:inline-block;\"></div><div style=\"background-color:rgb(231,212,232);height:20px;width:20px;margin-bottom:0px;display:inline-block;\"></div><div style=\"background-color:rgb(217,240,211);height:20px;width:20px;margin-bottom:0px;display:inline-block;\"></div><div style=\"background-color:rgb(127,191,123);height:20px;width:20px;margin-bottom:0px;display:inline-block;\"></div><div style=\"background-color:rgb(27,120,55);height:20px;width:20px;margin-bottom:0px;display:inline-block;\"></div></div><div style=\"display:inline-block;padding:10px;\"><div>PiYG</div><div style=\"background-color:rgb(197,27,125);height:20px;width:20px;margin-bottom:0px;display:inline-block;\"></div><div style=\"background-color:rgb(233,163,201);height:20px;width:20px;margin-bottom:0px;display:inline-block;\"></div><div style=\"background-color:rgb(253,224,239);height:20px;width:20px;margin-bottom:0px;display:inline-block;\"></div><div style=\"background-color:rgb(230,245,208);height:20px;width:20px;margin-bottom:0px;display:inline-block;\"></div><div style=\"background-color:rgb(161,215,106);height:20px;width:20px;margin-bottom:0px;display:inline-block;\"></div><div style=\"background-color:rgb(77,146,33);height:20px;width:20px;margin-bottom:0px;display:inline-block;\"></div></div><div style=\"display:inline-block;padding:10px;\"><div>PuOr</div><div style=\"background-color:rgb(179,88,6);height:20px;width:20px;margin-bottom:0px;display:inline-block;\"></div><div style=\"background-color:rgb(241,163,64);height:20px;width:20px;margin-bottom:0px;display:inline-block;\"></div><div style=\"background-color:rgb(254,224,182);height:20px;width:20px;margin-bottom:0px;display:inline-block;\"></div><div style=\"background-color:rgb(216,218,235);height:20px;width:20px;margin-bottom:0px;display:inline-block;\"></div><div style=\"background-color:rgb(153,142,195);height:20px;width:20px;margin-bottom:0px;display:inline-block;\"></div><div style=\"background-color:rgb(84,39,136);height:20px;width:20px;margin-bottom:0px;display:inline-block;\"></div></div><div style=\"display:inline-block;padding:10px;\"><div>RdBu</div><div style=\"background-color:rgb(178,24,43);height:20px;width:20px;margin-bottom:0px;display:inline-block;\"></div><div style=\"background-color:rgb(239,138,98);height:20px;width:20px;margin-bottom:0px;display:inline-block;\"></div><div style=\"background-color:rgb(253,219,199);height:20px;width:20px;margin-bottom:0px;display:inline-block;\"></div><div style=\"background-color:rgb(209,229,240);height:20px;width:20px;margin-bottom:0px;display:inline-block;\"></div><div style=\"background-color:rgb(103,169,207);height:20px;width:20px;margin-bottom:0px;display:inline-block;\"></div><div style=\"background-color:rgb(33,102,172);height:20px;width:20px;margin-bottom:0px;display:inline-block;\"></div></div><div style=\"display:inline-block;padding:10px;\"><div>RdGy</div><div style=\"background-color:rgb(178,24,43);height:20px;width:20px;margin-bottom:0px;display:inline-block;\"></div><div style=\"background-color:rgb(239,138,98);height:20px;width:20px;margin-bottom:0px;display:inline-block;\"></div><div style=\"background-color:rgb(253,219,199);height:20px;width:20px;margin-bottom:0px;display:inline-block;\"></div><div style=\"background-color:rgb(224,224,224);height:20px;width:20px;margin-bottom:0px;display:inline-block;\"></div><div style=\"background-color:rgb(153,153,153);height:20px;width:20px;margin-bottom:0px;display:inline-block;\"></div><div style=\"background-color:rgb(77,77,77);height:20px;width:20px;margin-bottom:0px;display:inline-block;\"></div></div><div style=\"display:inline-block;padding:10px;\"><div>RdYlBu</div><div style=\"background-color:rgb(215,48,39);height:20px;width:20px;margin-bottom:0px;display:inline-block;\"></div><div style=\"background-color:rgb(252,141,89);height:20px;width:20px;margin-bottom:0px;display:inline-block;\"></div><div style=\"background-color:rgb(254,224,144);height:20px;width:20px;margin-bottom:0px;display:inline-block;\"></div><div style=\"background-color:rgb(224,243,248);height:20px;width:20px;margin-bottom:0px;display:inline-block;\"></div><div style=\"background-color:rgb(145,191,219);height:20px;width:20px;margin-bottom:0px;display:inline-block;\"></div><div style=\"background-color:rgb(69,117,180);height:20px;width:20px;margin-bottom:0px;display:inline-block;\"></div></div><div style=\"display:inline-block;padding:10px;\"><div>RdYlGn</div><div style=\"background-color:rgb(215,48,39);height:20px;width:20px;margin-bottom:0px;display:inline-block;\"></div><div style=\"background-color:rgb(252,141,89);height:20px;width:20px;margin-bottom:0px;display:inline-block;\"></div><div style=\"background-color:rgb(254,224,139);height:20px;width:20px;margin-bottom:0px;display:inline-block;\"></div><div style=\"background-color:rgb(217,239,139);height:20px;width:20px;margin-bottom:0px;display:inline-block;\"></div><div style=\"background-color:rgb(145,207,96);height:20px;width:20px;margin-bottom:0px;display:inline-block;\"></div><div style=\"background-color:rgb(26,152,80);height:20px;width:20px;margin-bottom:0px;display:inline-block;\"></div></div><div style=\"display:inline-block;padding:10px;\"><div>Spectral</div><div style=\"background-color:rgb(213,62,79);height:20px;width:20px;margin-bottom:0px;display:inline-block;\"></div><div style=\"background-color:rgb(252,141,89);height:20px;width:20px;margin-bottom:0px;display:inline-block;\"></div><div style=\"background-color:rgb(254,224,139);height:20px;width:20px;margin-bottom:0px;display:inline-block;\"></div><div style=\"background-color:rgb(230,245,152);height:20px;width:20px;margin-bottom:0px;display:inline-block;\"></div><div style=\"background-color:rgb(153,213,148);height:20px;width:20px;margin-bottom:0px;display:inline-block;\"></div><div style=\"background-color:rgb(50,136,189);height:20px;width:20px;margin-bottom:0px;display:inline-block;\"></div></div><h4>Qualitative</h4><div style=\"display:inline-block;padding:10px;\"><div>Accent</div><div style=\"background-color:rgb(127,201,127);height:20px;width:20px;margin-bottom:0px;display:inline-block;\"></div><div style=\"background-color:rgb(190,174,212);height:20px;width:20px;margin-bottom:0px;display:inline-block;\"></div><div style=\"background-color:rgb(253,192,134);height:20px;width:20px;margin-bottom:0px;display:inline-block;\"></div><div style=\"background-color:rgb(255,255,153);height:20px;width:20px;margin-bottom:0px;display:inline-block;\"></div><div style=\"background-color:rgb(56,108,176);height:20px;width:20px;margin-bottom:0px;display:inline-block;\"></div><div style=\"background-color:rgb(240,2,127);height:20px;width:20px;margin-bottom:0px;display:inline-block;\"></div></div><div style=\"display:inline-block;padding:10px;\"><div>Dark2</div><div style=\"background-color:rgb(27,158,119);height:20px;width:20px;margin-bottom:0px;display:inline-block;\"></div><div style=\"background-color:rgb(217,95,2);height:20px;width:20px;margin-bottom:0px;display:inline-block;\"></div><div style=\"background-color:rgb(117,112,179);height:20px;width:20px;margin-bottom:0px;display:inline-block;\"></div><div style=\"background-color:rgb(231,41,138);height:20px;width:20px;margin-bottom:0px;display:inline-block;\"></div><div style=\"background-color:rgb(102,166,30);height:20px;width:20px;margin-bottom:0px;display:inline-block;\"></div><div style=\"background-color:rgb(230,171,2);height:20px;width:20px;margin-bottom:0px;display:inline-block;\"></div></div><div style=\"display:inline-block;padding:10px;\"><div>Paired</div><div style=\"background-color:rgb(166,206,227);height:20px;width:20px;margin-bottom:0px;display:inline-block;\"></div><div style=\"background-color:rgb(31,120,180);height:20px;width:20px;margin-bottom:0px;display:inline-block;\"></div><div style=\"background-color:rgb(178,223,138);height:20px;width:20px;margin-bottom:0px;display:inline-block;\"></div><div style=\"background-color:rgb(51,160,44);height:20px;width:20px;margin-bottom:0px;display:inline-block;\"></div><div style=\"background-color:rgb(251,154,153);height:20px;width:20px;margin-bottom:0px;display:inline-block;\"></div><div style=\"background-color:rgb(227,26,28);height:20px;width:20px;margin-bottom:0px;display:inline-block;\"></div></div><div style=\"display:inline-block;padding:10px;\"><div>Pastel1</div><div style=\"background-color:rgb(251,180,174);height:20px;width:20px;margin-bottom:0px;display:inline-block;\"></div><div style=\"background-color:rgb(179,205,227);height:20px;width:20px;margin-bottom:0px;display:inline-block;\"></div><div style=\"background-color:rgb(204,235,197);height:20px;width:20px;margin-bottom:0px;display:inline-block;\"></div><div style=\"background-color:rgb(222,203,228);height:20px;width:20px;margin-bottom:0px;display:inline-block;\"></div><div style=\"background-color:rgb(254,217,166);height:20px;width:20px;margin-bottom:0px;display:inline-block;\"></div><div style=\"background-color:rgb(255,255,204);height:20px;width:20px;margin-bottom:0px;display:inline-block;\"></div></div><div style=\"display:inline-block;padding:10px;\"><div>Pastel2</div><div style=\"background-color:rgb(179,226,205);height:20px;width:20px;margin-bottom:0px;display:inline-block;\"></div><div style=\"background-color:rgb(253,205,172);height:20px;width:20px;margin-bottom:0px;display:inline-block;\"></div><div style=\"background-color:rgb(203,213,232);height:20px;width:20px;margin-bottom:0px;display:inline-block;\"></div><div style=\"background-color:rgb(244,202,228);height:20px;width:20px;margin-bottom:0px;display:inline-block;\"></div><div style=\"background-color:rgb(230,245,201);height:20px;width:20px;margin-bottom:0px;display:inline-block;\"></div><div style=\"background-color:rgb(255,242,174);height:20px;width:20px;margin-bottom:0px;display:inline-block;\"></div></div><div style=\"display:inline-block;padding:10px;\"><div>Set1</div><div style=\"background-color:rgb(228,26,28);height:20px;width:20px;margin-bottom:0px;display:inline-block;\"></div><div style=\"background-color:rgb(55,126,184);height:20px;width:20px;margin-bottom:0px;display:inline-block;\"></div><div style=\"background-color:rgb(77,175,74);height:20px;width:20px;margin-bottom:0px;display:inline-block;\"></div><div style=\"background-color:rgb(152,78,163);height:20px;width:20px;margin-bottom:0px;display:inline-block;\"></div><div style=\"background-color:rgb(255,127,0);height:20px;width:20px;margin-bottom:0px;display:inline-block;\"></div><div style=\"background-color:rgb(255,255,51);height:20px;width:20px;margin-bottom:0px;display:inline-block;\"></div></div><div style=\"display:inline-block;padding:10px;\"><div>Set2</div><div style=\"background-color:rgb(102,194,165);height:20px;width:20px;margin-bottom:0px;display:inline-block;\"></div><div style=\"background-color:rgb(252,141,98);height:20px;width:20px;margin-bottom:0px;display:inline-block;\"></div><div style=\"background-color:rgb(141,160,203);height:20px;width:20px;margin-bottom:0px;display:inline-block;\"></div><div style=\"background-color:rgb(231,138,195);height:20px;width:20px;margin-bottom:0px;display:inline-block;\"></div><div style=\"background-color:rgb(166,216,84);height:20px;width:20px;margin-bottom:0px;display:inline-block;\"></div><div style=\"background-color:rgb(255,217,47);height:20px;width:20px;margin-bottom:0px;display:inline-block;\"></div></div><div style=\"display:inline-block;padding:10px;\"><div>Set3</div><div style=\"background-color:rgb(141,211,199);height:20px;width:20px;margin-bottom:0px;display:inline-block;\"></div><div style=\"background-color:rgb(255,255,179);height:20px;width:20px;margin-bottom:0px;display:inline-block;\"></div><div style=\"background-color:rgb(190,186,218);height:20px;width:20px;margin-bottom:0px;display:inline-block;\"></div><div style=\"background-color:rgb(251,128,114);height:20px;width:20px;margin-bottom:0px;display:inline-block;\"></div><div style=\"background-color:rgb(128,177,211);height:20px;width:20px;margin-bottom:0px;display:inline-block;\"></div><div style=\"background-color:rgb(253,180,98);height:20px;width:20px;margin-bottom:0px;display:inline-block;\"></div></div><h4>Sequential</h4><div style=\"display:inline-block;padding:10px;\"><div>Blues</div><div style=\"background-color:rgb(239,243,255);height:20px;width:20px;margin-bottom:0px;display:inline-block;\"></div><div style=\"background-color:rgb(198,219,239);height:20px;width:20px;margin-bottom:0px;display:inline-block;\"></div><div style=\"background-color:rgb(158,202,225);height:20px;width:20px;margin-bottom:0px;display:inline-block;\"></div><div style=\"background-color:rgb(107,174,214);height:20px;width:20px;margin-bottom:0px;display:inline-block;\"></div><div style=\"background-color:rgb(49,130,189);height:20px;width:20px;margin-bottom:0px;display:inline-block;\"></div><div style=\"background-color:rgb(8,81,156);height:20px;width:20px;margin-bottom:0px;display:inline-block;\"></div></div><div style=\"display:inline-block;padding:10px;\"><div>BuGn</div><div style=\"background-color:rgb(237,248,251);height:20px;width:20px;margin-bottom:0px;display:inline-block;\"></div><div style=\"background-color:rgb(204,236,230);height:20px;width:20px;margin-bottom:0px;display:inline-block;\"></div><div style=\"background-color:rgb(153,216,201);height:20px;width:20px;margin-bottom:0px;display:inline-block;\"></div><div style=\"background-color:rgb(102,194,164);height:20px;width:20px;margin-bottom:0px;display:inline-block;\"></div><div style=\"background-color:rgb(44,162,95);height:20px;width:20px;margin-bottom:0px;display:inline-block;\"></div><div style=\"background-color:rgb(0,109,44);height:20px;width:20px;margin-bottom:0px;display:inline-block;\"></div></div><div style=\"display:inline-block;padding:10px;\"><div>BuPu</div><div style=\"background-color:rgb(237,248,251);height:20px;width:20px;margin-bottom:0px;display:inline-block;\"></div><div style=\"background-color:rgb(191,211,230);height:20px;width:20px;margin-bottom:0px;display:inline-block;\"></div><div style=\"background-color:rgb(158,188,218);height:20px;width:20px;margin-bottom:0px;display:inline-block;\"></div><div style=\"background-color:rgb(140,150,198);height:20px;width:20px;margin-bottom:0px;display:inline-block;\"></div><div style=\"background-color:rgb(136,86,167);height:20px;width:20px;margin-bottom:0px;display:inline-block;\"></div><div style=\"background-color:rgb(129,15,124);height:20px;width:20px;margin-bottom:0px;display:inline-block;\"></div></div><div style=\"display:inline-block;padding:10px;\"><div>GnBu</div><div style=\"background-color:rgb(240,249,232);height:20px;width:20px;margin-bottom:0px;display:inline-block;\"></div><div style=\"background-color:rgb(204,235,197);height:20px;width:20px;margin-bottom:0px;display:inline-block;\"></div><div style=\"background-color:rgb(168,221,181);height:20px;width:20px;margin-bottom:0px;display:inline-block;\"></div><div style=\"background-color:rgb(123,204,196);height:20px;width:20px;margin-bottom:0px;display:inline-block;\"></div><div style=\"background-color:rgb(67,162,202);height:20px;width:20px;margin-bottom:0px;display:inline-block;\"></div><div style=\"background-color:rgb(8,104,172);height:20px;width:20px;margin-bottom:0px;display:inline-block;\"></div></div><div style=\"display:inline-block;padding:10px;\"><div>Greens</div><div style=\"background-color:rgb(237,248,233);height:20px;width:20px;margin-bottom:0px;display:inline-block;\"></div><div style=\"background-color:rgb(199,233,192);height:20px;width:20px;margin-bottom:0px;display:inline-block;\"></div><div style=\"background-color:rgb(161,217,155);height:20px;width:20px;margin-bottom:0px;display:inline-block;\"></div><div style=\"background-color:rgb(116,196,118);height:20px;width:20px;margin-bottom:0px;display:inline-block;\"></div><div style=\"background-color:rgb(49,163,84);height:20px;width:20px;margin-bottom:0px;display:inline-block;\"></div><div style=\"background-color:rgb(0,109,44);height:20px;width:20px;margin-bottom:0px;display:inline-block;\"></div></div><div style=\"display:inline-block;padding:10px;\"><div>Greys</div><div style=\"background-color:rgb(247,247,247);height:20px;width:20px;margin-bottom:0px;display:inline-block;\"></div><div style=\"background-color:rgb(217,217,217);height:20px;width:20px;margin-bottom:0px;display:inline-block;\"></div><div style=\"background-color:rgb(189,189,189);height:20px;width:20px;margin-bottom:0px;display:inline-block;\"></div><div style=\"background-color:rgb(150,150,150);height:20px;width:20px;margin-bottom:0px;display:inline-block;\"></div><div style=\"background-color:rgb(99,99,99);height:20px;width:20px;margin-bottom:0px;display:inline-block;\"></div><div style=\"background-color:rgb(37,37,37);height:20px;width:20px;margin-bottom:0px;display:inline-block;\"></div></div><div style=\"display:inline-block;padding:10px;\"><div>OrRd</div><div style=\"background-color:rgb(254,240,217);height:20px;width:20px;margin-bottom:0px;display:inline-block;\"></div><div style=\"background-color:rgb(253,212,158);height:20px;width:20px;margin-bottom:0px;display:inline-block;\"></div><div style=\"background-color:rgb(253,187,132);height:20px;width:20px;margin-bottom:0px;display:inline-block;\"></div><div style=\"background-color:rgb(252,141,89);height:20px;width:20px;margin-bottom:0px;display:inline-block;\"></div><div style=\"background-color:rgb(227,74,51);height:20px;width:20px;margin-bottom:0px;display:inline-block;\"></div><div style=\"background-color:rgb(179,0,0);height:20px;width:20px;margin-bottom:0px;display:inline-block;\"></div></div><div style=\"display:inline-block;padding:10px;\"><div>Oranges</div><div style=\"background-color:rgb(254,237,222);height:20px;width:20px;margin-bottom:0px;display:inline-block;\"></div><div style=\"background-color:rgb(253,208,162);height:20px;width:20px;margin-bottom:0px;display:inline-block;\"></div><div style=\"background-color:rgb(253,174,107);height:20px;width:20px;margin-bottom:0px;display:inline-block;\"></div><div style=\"background-color:rgb(253,141,60);height:20px;width:20px;margin-bottom:0px;display:inline-block;\"></div><div style=\"background-color:rgb(230,85,13);height:20px;width:20px;margin-bottom:0px;display:inline-block;\"></div><div style=\"background-color:rgb(166,54,3);height:20px;width:20px;margin-bottom:0px;display:inline-block;\"></div></div><div style=\"display:inline-block;padding:10px;\"><div>PuBu</div><div style=\"background-color:rgb(241,238,246);height:20px;width:20px;margin-bottom:0px;display:inline-block;\"></div><div style=\"background-color:rgb(208,209,230);height:20px;width:20px;margin-bottom:0px;display:inline-block;\"></div><div style=\"background-color:rgb(166,189,219);height:20px;width:20px;margin-bottom:0px;display:inline-block;\"></div><div style=\"background-color:rgb(116,169,207);height:20px;width:20px;margin-bottom:0px;display:inline-block;\"></div><div style=\"background-color:rgb(43,140,190);height:20px;width:20px;margin-bottom:0px;display:inline-block;\"></div><div style=\"background-color:rgb(4,90,141);height:20px;width:20px;margin-bottom:0px;display:inline-block;\"></div></div><div style=\"display:inline-block;padding:10px;\"><div>PuBuGn</div><div style=\"background-color:rgb(246,239,247);height:20px;width:20px;margin-bottom:0px;display:inline-block;\"></div><div style=\"background-color:rgb(208,209,230);height:20px;width:20px;margin-bottom:0px;display:inline-block;\"></div><div style=\"background-color:rgb(166,189,219);height:20px;width:20px;margin-bottom:0px;display:inline-block;\"></div><div style=\"background-color:rgb(103,169,207);height:20px;width:20px;margin-bottom:0px;display:inline-block;\"></div><div style=\"background-color:rgb(28,144,153);height:20px;width:20px;margin-bottom:0px;display:inline-block;\"></div><div style=\"background-color:rgb(1,108,89);height:20px;width:20px;margin-bottom:0px;display:inline-block;\"></div></div><div style=\"display:inline-block;padding:10px;\"><div>PuRd</div><div style=\"background-color:rgb(241,238,246);height:20px;width:20px;margin-bottom:0px;display:inline-block;\"></div><div style=\"background-color:rgb(212,185,218);height:20px;width:20px;margin-bottom:0px;display:inline-block;\"></div><div style=\"background-color:rgb(201,148,199);height:20px;width:20px;margin-bottom:0px;display:inline-block;\"></div><div style=\"background-color:rgb(223,101,176);height:20px;width:20px;margin-bottom:0px;display:inline-block;\"></div><div style=\"background-color:rgb(221,28,119);height:20px;width:20px;margin-bottom:0px;display:inline-block;\"></div><div style=\"background-color:rgb(152,0,67);height:20px;width:20px;margin-bottom:0px;display:inline-block;\"></div></div><div style=\"display:inline-block;padding:10px;\"><div>Purples</div><div style=\"background-color:rgb(242,240,247);height:20px;width:20px;margin-bottom:0px;display:inline-block;\"></div><div style=\"background-color:rgb(218,218,235);height:20px;width:20px;margin-bottom:0px;display:inline-block;\"></div><div style=\"background-color:rgb(188,189,220);height:20px;width:20px;margin-bottom:0px;display:inline-block;\"></div><div style=\"background-color:rgb(158,154,200);height:20px;width:20px;margin-bottom:0px;display:inline-block;\"></div><div style=\"background-color:rgb(117,107,177);height:20px;width:20px;margin-bottom:0px;display:inline-block;\"></div><div style=\"background-color:rgb(84,39,143);height:20px;width:20px;margin-bottom:0px;display:inline-block;\"></div></div><div style=\"display:inline-block;padding:10px;\"><div>RdPu</div><div style=\"background-color:rgb(254,235,226);height:20px;width:20px;margin-bottom:0px;display:inline-block;\"></div><div style=\"background-color:rgb(252,197,192);height:20px;width:20px;margin-bottom:0px;display:inline-block;\"></div><div style=\"background-color:rgb(250,159,181);height:20px;width:20px;margin-bottom:0px;display:inline-block;\"></div><div style=\"background-color:rgb(247,104,161);height:20px;width:20px;margin-bottom:0px;display:inline-block;\"></div><div style=\"background-color:rgb(197,27,138);height:20px;width:20px;margin-bottom:0px;display:inline-block;\"></div><div style=\"background-color:rgb(122,1,119);height:20px;width:20px;margin-bottom:0px;display:inline-block;\"></div></div><div style=\"display:inline-block;padding:10px;\"><div>Reds</div><div style=\"background-color:rgb(254,229,217);height:20px;width:20px;margin-bottom:0px;display:inline-block;\"></div><div style=\"background-color:rgb(252,187,161);height:20px;width:20px;margin-bottom:0px;display:inline-block;\"></div><div style=\"background-color:rgb(252,146,114);height:20px;width:20px;margin-bottom:0px;display:inline-block;\"></div><div style=\"background-color:rgb(251,106,74);height:20px;width:20px;margin-bottom:0px;display:inline-block;\"></div><div style=\"background-color:rgb(222,45,38);height:20px;width:20px;margin-bottom:0px;display:inline-block;\"></div><div style=\"background-color:rgb(165,15,21);height:20px;width:20px;margin-bottom:0px;display:inline-block;\"></div></div><div style=\"display:inline-block;padding:10px;\"><div>YlGn</div><div style=\"background-color:rgb(255,255,204);height:20px;width:20px;margin-bottom:0px;display:inline-block;\"></div><div style=\"background-color:rgb(217,240,163);height:20px;width:20px;margin-bottom:0px;display:inline-block;\"></div><div style=\"background-color:rgb(173,221,142);height:20px;width:20px;margin-bottom:0px;display:inline-block;\"></div><div style=\"background-color:rgb(120,198,121);height:20px;width:20px;margin-bottom:0px;display:inline-block;\"></div><div style=\"background-color:rgb(49,163,84);height:20px;width:20px;margin-bottom:0px;display:inline-block;\"></div><div style=\"background-color:rgb(0,104,55);height:20px;width:20px;margin-bottom:0px;display:inline-block;\"></div></div><div style=\"display:inline-block;padding:10px;\"><div>YlGnBu</div><div style=\"background-color:rgb(255,255,204);height:20px;width:20px;margin-bottom:0px;display:inline-block;\"></div><div style=\"background-color:rgb(199,233,180);height:20px;width:20px;margin-bottom:0px;display:inline-block;\"></div><div style=\"background-color:rgb(127,205,187);height:20px;width:20px;margin-bottom:0px;display:inline-block;\"></div><div style=\"background-color:rgb(65,182,196);height:20px;width:20px;margin-bottom:0px;display:inline-block;\"></div><div style=\"background-color:rgb(44,127,184);height:20px;width:20px;margin-bottom:0px;display:inline-block;\"></div><div style=\"background-color:rgb(37,52,148);height:20px;width:20px;margin-bottom:0px;display:inline-block;\"></div></div><div style=\"display:inline-block;padding:10px;\"><div>YlOrBr</div><div style=\"background-color:rgb(255,255,212);height:20px;width:20px;margin-bottom:0px;display:inline-block;\"></div><div style=\"background-color:rgb(254,227,145);height:20px;width:20px;margin-bottom:0px;display:inline-block;\"></div><div style=\"background-color:rgb(254,196,79);height:20px;width:20px;margin-bottom:0px;display:inline-block;\"></div><div style=\"background-color:rgb(254,153,41);height:20px;width:20px;margin-bottom:0px;display:inline-block;\"></div><div style=\"background-color:rgb(217,95,14);height:20px;width:20px;margin-bottom:0px;display:inline-block;\"></div><div style=\"background-color:rgb(153,52,4);height:20px;width:20px;margin-bottom:0px;display:inline-block;\"></div></div><div style=\"display:inline-block;padding:10px;\"><div>YlOrRd</div><div style=\"background-color:rgb(255,255,178);height:20px;width:20px;margin-bottom:0px;display:inline-block;\"></div><div style=\"background-color:rgb(254,217,118);height:20px;width:20px;margin-bottom:0px;display:inline-block;\"></div><div style=\"background-color:rgb(254,178,76);height:20px;width:20px;margin-bottom:0px;display:inline-block;\"></div><div style=\"background-color:rgb(253,141,60);height:20px;width:20px;margin-bottom:0px;display:inline-block;\"></div><div style=\"background-color:rgb(240,59,32);height:20px;width:20px;margin-bottom:0px;display:inline-block;\"></div><div style=\"background-color:rgb(189,0,38);height:20px;width:20px;margin-bottom:0px;display:inline-block;\"></div></div><hr><h3>7 colors</h3><h4>Diverging</h4><div style=\"display:inline-block;padding:10px;\"><div>BrBG</div><div style=\"background-color:rgb(140,81,10);height:20px;width:20px;margin-bottom:0px;display:inline-block;\"></div><div style=\"background-color:rgb(216,179,101);height:20px;width:20px;margin-bottom:0px;display:inline-block;\"></div><div style=\"background-color:rgb(246,232,195);height:20px;width:20px;margin-bottom:0px;display:inline-block;\"></div><div style=\"background-color:rgb(245,245,245);height:20px;width:20px;margin-bottom:0px;display:inline-block;\"></div><div style=\"background-color:rgb(199,234,229);height:20px;width:20px;margin-bottom:0px;display:inline-block;\"></div><div style=\"background-color:rgb(90,180,172);height:20px;width:20px;margin-bottom:0px;display:inline-block;\"></div><div style=\"background-color:rgb(1,102,94);height:20px;width:20px;margin-bottom:0px;display:inline-block;\"></div></div><div style=\"display:inline-block;padding:10px;\"><div>PRGn</div><div style=\"background-color:rgb(118,42,131);height:20px;width:20px;margin-bottom:0px;display:inline-block;\"></div><div style=\"background-color:rgb(175,141,195);height:20px;width:20px;margin-bottom:0px;display:inline-block;\"></div><div style=\"background-color:rgb(231,212,232);height:20px;width:20px;margin-bottom:0px;display:inline-block;\"></div><div style=\"background-color:rgb(247,247,247);height:20px;width:20px;margin-bottom:0px;display:inline-block;\"></div><div style=\"background-color:rgb(217,240,211);height:20px;width:20px;margin-bottom:0px;display:inline-block;\"></div><div style=\"background-color:rgb(127,191,123);height:20px;width:20px;margin-bottom:0px;display:inline-block;\"></div><div style=\"background-color:rgb(27,120,55);height:20px;width:20px;margin-bottom:0px;display:inline-block;\"></div></div><div style=\"display:inline-block;padding:10px;\"><div>PiYG</div><div style=\"background-color:rgb(197,27,125);height:20px;width:20px;margin-bottom:0px;display:inline-block;\"></div><div style=\"background-color:rgb(233,163,201);height:20px;width:20px;margin-bottom:0px;display:inline-block;\"></div><div style=\"background-color:rgb(253,224,239);height:20px;width:20px;margin-bottom:0px;display:inline-block;\"></div><div style=\"background-color:rgb(247,247,247);height:20px;width:20px;margin-bottom:0px;display:inline-block;\"></div><div style=\"background-color:rgb(230,245,208);height:20px;width:20px;margin-bottom:0px;display:inline-block;\"></div><div style=\"background-color:rgb(161,215,106);height:20px;width:20px;margin-bottom:0px;display:inline-block;\"></div><div style=\"background-color:rgb(77,146,33);height:20px;width:20px;margin-bottom:0px;display:inline-block;\"></div></div><div style=\"display:inline-block;padding:10px;\"><div>PuOr</div><div style=\"background-color:rgb(179,88,6);height:20px;width:20px;margin-bottom:0px;display:inline-block;\"></div><div style=\"background-color:rgb(241,163,64);height:20px;width:20px;margin-bottom:0px;display:inline-block;\"></div><div style=\"background-color:rgb(254,224,182);height:20px;width:20px;margin-bottom:0px;display:inline-block;\"></div><div style=\"background-color:rgb(247,247,247);height:20px;width:20px;margin-bottom:0px;display:inline-block;\"></div><div style=\"background-color:rgb(216,218,235);height:20px;width:20px;margin-bottom:0px;display:inline-block;\"></div><div style=\"background-color:rgb(153,142,195);height:20px;width:20px;margin-bottom:0px;display:inline-block;\"></div><div style=\"background-color:rgb(84,39,136);height:20px;width:20px;margin-bottom:0px;display:inline-block;\"></div></div><div style=\"display:inline-block;padding:10px;\"><div>RdBu</div><div style=\"background-color:rgb(178,24,43);height:20px;width:20px;margin-bottom:0px;display:inline-block;\"></div><div style=\"background-color:rgb(239,138,98);height:20px;width:20px;margin-bottom:0px;display:inline-block;\"></div><div style=\"background-color:rgb(253,219,199);height:20px;width:20px;margin-bottom:0px;display:inline-block;\"></div><div style=\"background-color:rgb(247,247,247);height:20px;width:20px;margin-bottom:0px;display:inline-block;\"></div><div style=\"background-color:rgb(209,229,240);height:20px;width:20px;margin-bottom:0px;display:inline-block;\"></div><div style=\"background-color:rgb(103,169,207);height:20px;width:20px;margin-bottom:0px;display:inline-block;\"></div><div style=\"background-color:rgb(33,102,172);height:20px;width:20px;margin-bottom:0px;display:inline-block;\"></div></div><div style=\"display:inline-block;padding:10px;\"><div>RdGy</div><div style=\"background-color:rgb(178,24,43);height:20px;width:20px;margin-bottom:0px;display:inline-block;\"></div><div style=\"background-color:rgb(239,138,98);height:20px;width:20px;margin-bottom:0px;display:inline-block;\"></div><div style=\"background-color:rgb(253,219,199);height:20px;width:20px;margin-bottom:0px;display:inline-block;\"></div><div style=\"background-color:rgb(255,255,255);height:20px;width:20px;margin-bottom:0px;display:inline-block;\"></div><div style=\"background-color:rgb(224,224,224);height:20px;width:20px;margin-bottom:0px;display:inline-block;\"></div><div style=\"background-color:rgb(153,153,153);height:20px;width:20px;margin-bottom:0px;display:inline-block;\"></div><div style=\"background-color:rgb(77,77,77);height:20px;width:20px;margin-bottom:0px;display:inline-block;\"></div></div><div style=\"display:inline-block;padding:10px;\"><div>RdYlBu</div><div style=\"background-color:rgb(215,48,39);height:20px;width:20px;margin-bottom:0px;display:inline-block;\"></div><div style=\"background-color:rgb(252,141,89);height:20px;width:20px;margin-bottom:0px;display:inline-block;\"></div><div style=\"background-color:rgb(254,224,144);height:20px;width:20px;margin-bottom:0px;display:inline-block;\"></div><div style=\"background-color:rgb(255,255,191);height:20px;width:20px;margin-bottom:0px;display:inline-block;\"></div><div style=\"background-color:rgb(224,243,248);height:20px;width:20px;margin-bottom:0px;display:inline-block;\"></div><div style=\"background-color:rgb(145,191,219);height:20px;width:20px;margin-bottom:0px;display:inline-block;\"></div><div style=\"background-color:rgb(69,117,180);height:20px;width:20px;margin-bottom:0px;display:inline-block;\"></div></div><div style=\"display:inline-block;padding:10px;\"><div>RdYlGn</div><div style=\"background-color:rgb(215,48,39);height:20px;width:20px;margin-bottom:0px;display:inline-block;\"></div><div style=\"background-color:rgb(252,141,89);height:20px;width:20px;margin-bottom:0px;display:inline-block;\"></div><div style=\"background-color:rgb(254,224,139);height:20px;width:20px;margin-bottom:0px;display:inline-block;\"></div><div style=\"background-color:rgb(255,255,191);height:20px;width:20px;margin-bottom:0px;display:inline-block;\"></div><div style=\"background-color:rgb(217,239,139);height:20px;width:20px;margin-bottom:0px;display:inline-block;\"></div><div style=\"background-color:rgb(145,207,96);height:20px;width:20px;margin-bottom:0px;display:inline-block;\"></div><div style=\"background-color:rgb(26,152,80);height:20px;width:20px;margin-bottom:0px;display:inline-block;\"></div></div><div style=\"display:inline-block;padding:10px;\"><div>Spectral</div><div style=\"background-color:rgb(213,62,79);height:20px;width:20px;margin-bottom:0px;display:inline-block;\"></div><div style=\"background-color:rgb(252,141,89);height:20px;width:20px;margin-bottom:0px;display:inline-block;\"></div><div style=\"background-color:rgb(254,224,139);height:20px;width:20px;margin-bottom:0px;display:inline-block;\"></div><div style=\"background-color:rgb(255,255,191);height:20px;width:20px;margin-bottom:0px;display:inline-block;\"></div><div style=\"background-color:rgb(230,245,152);height:20px;width:20px;margin-bottom:0px;display:inline-block;\"></div><div style=\"background-color:rgb(153,213,148);height:20px;width:20px;margin-bottom:0px;display:inline-block;\"></div><div style=\"background-color:rgb(50,136,189);height:20px;width:20px;margin-bottom:0px;display:inline-block;\"></div></div><h4>Qualitative</h4><div style=\"display:inline-block;padding:10px;\"><div>Accent</div><div style=\"background-color:rgb(127,201,127);height:20px;width:20px;margin-bottom:0px;display:inline-block;\"></div><div style=\"background-color:rgb(190,174,212);height:20px;width:20px;margin-bottom:0px;display:inline-block;\"></div><div style=\"background-color:rgb(253,192,134);height:20px;width:20px;margin-bottom:0px;display:inline-block;\"></div><div style=\"background-color:rgb(255,255,153);height:20px;width:20px;margin-bottom:0px;display:inline-block;\"></div><div style=\"background-color:rgb(56,108,176);height:20px;width:20px;margin-bottom:0px;display:inline-block;\"></div><div style=\"background-color:rgb(240,2,127);height:20px;width:20px;margin-bottom:0px;display:inline-block;\"></div><div style=\"background-color:rgb(191,91,23);height:20px;width:20px;margin-bottom:0px;display:inline-block;\"></div></div><div style=\"display:inline-block;padding:10px;\"><div>Dark2</div><div style=\"background-color:rgb(27,158,119);height:20px;width:20px;margin-bottom:0px;display:inline-block;\"></div><div style=\"background-color:rgb(217,95,2);height:20px;width:20px;margin-bottom:0px;display:inline-block;\"></div><div style=\"background-color:rgb(117,112,179);height:20px;width:20px;margin-bottom:0px;display:inline-block;\"></div><div style=\"background-color:rgb(231,41,138);height:20px;width:20px;margin-bottom:0px;display:inline-block;\"></div><div style=\"background-color:rgb(102,166,30);height:20px;width:20px;margin-bottom:0px;display:inline-block;\"></div><div style=\"background-color:rgb(230,171,2);height:20px;width:20px;margin-bottom:0px;display:inline-block;\"></div><div style=\"background-color:rgb(166,118,29);height:20px;width:20px;margin-bottom:0px;display:inline-block;\"></div></div><div style=\"display:inline-block;padding:10px;\"><div>Paired</div><div style=\"background-color:rgb(166,206,227);height:20px;width:20px;margin-bottom:0px;display:inline-block;\"></div><div style=\"background-color:rgb(31,120,180);height:20px;width:20px;margin-bottom:0px;display:inline-block;\"></div><div style=\"background-color:rgb(178,223,138);height:20px;width:20px;margin-bottom:0px;display:inline-block;\"></div><div style=\"background-color:rgb(51,160,44);height:20px;width:20px;margin-bottom:0px;display:inline-block;\"></div><div style=\"background-color:rgb(251,154,153);height:20px;width:20px;margin-bottom:0px;display:inline-block;\"></div><div style=\"background-color:rgb(227,26,28);height:20px;width:20px;margin-bottom:0px;display:inline-block;\"></div><div style=\"background-color:rgb(253,191,111);height:20px;width:20px;margin-bottom:0px;display:inline-block;\"></div></div><div style=\"display:inline-block;padding:10px;\"><div>Pastel1</div><div style=\"background-color:rgb(251,180,174);height:20px;width:20px;margin-bottom:0px;display:inline-block;\"></div><div style=\"background-color:rgb(179,205,227);height:20px;width:20px;margin-bottom:0px;display:inline-block;\"></div><div style=\"background-color:rgb(204,235,197);height:20px;width:20px;margin-bottom:0px;display:inline-block;\"></div><div style=\"background-color:rgb(222,203,228);height:20px;width:20px;margin-bottom:0px;display:inline-block;\"></div><div style=\"background-color:rgb(254,217,166);height:20px;width:20px;margin-bottom:0px;display:inline-block;\"></div><div style=\"background-color:rgb(255,255,204);height:20px;width:20px;margin-bottom:0px;display:inline-block;\"></div><div style=\"background-color:rgb(229,216,189);height:20px;width:20px;margin-bottom:0px;display:inline-block;\"></div></div><div style=\"display:inline-block;padding:10px;\"><div>Pastel2</div><div style=\"background-color:rgb(179,226,205);height:20px;width:20px;margin-bottom:0px;display:inline-block;\"></div><div style=\"background-color:rgb(253,205,172);height:20px;width:20px;margin-bottom:0px;display:inline-block;\"></div><div style=\"background-color:rgb(203,213,232);height:20px;width:20px;margin-bottom:0px;display:inline-block;\"></div><div style=\"background-color:rgb(244,202,228);height:20px;width:20px;margin-bottom:0px;display:inline-block;\"></div><div style=\"background-color:rgb(230,245,201);height:20px;width:20px;margin-bottom:0px;display:inline-block;\"></div><div style=\"background-color:rgb(255,242,174);height:20px;width:20px;margin-bottom:0px;display:inline-block;\"></div><div style=\"background-color:rgb(241,226,204);height:20px;width:20px;margin-bottom:0px;display:inline-block;\"></div></div><div style=\"display:inline-block;padding:10px;\"><div>Set1</div><div style=\"background-color:rgb(228,26,28);height:20px;width:20px;margin-bottom:0px;display:inline-block;\"></div><div style=\"background-color:rgb(55,126,184);height:20px;width:20px;margin-bottom:0px;display:inline-block;\"></div><div style=\"background-color:rgb(77,175,74);height:20px;width:20px;margin-bottom:0px;display:inline-block;\"></div><div style=\"background-color:rgb(152,78,163);height:20px;width:20px;margin-bottom:0px;display:inline-block;\"></div><div style=\"background-color:rgb(255,127,0);height:20px;width:20px;margin-bottom:0px;display:inline-block;\"></div><div style=\"background-color:rgb(255,255,51);height:20px;width:20px;margin-bottom:0px;display:inline-block;\"></div><div style=\"background-color:rgb(166,86,40);height:20px;width:20px;margin-bottom:0px;display:inline-block;\"></div></div><div style=\"display:inline-block;padding:10px;\"><div>Set2</div><div style=\"background-color:rgb(102,194,165);height:20px;width:20px;margin-bottom:0px;display:inline-block;\"></div><div style=\"background-color:rgb(252,141,98);height:20px;width:20px;margin-bottom:0px;display:inline-block;\"></div><div style=\"background-color:rgb(141,160,203);height:20px;width:20px;margin-bottom:0px;display:inline-block;\"></div><div style=\"background-color:rgb(231,138,195);height:20px;width:20px;margin-bottom:0px;display:inline-block;\"></div><div style=\"background-color:rgb(166,216,84);height:20px;width:20px;margin-bottom:0px;display:inline-block;\"></div><div style=\"background-color:rgb(255,217,47);height:20px;width:20px;margin-bottom:0px;display:inline-block;\"></div><div style=\"background-color:rgb(229,196,148);height:20px;width:20px;margin-bottom:0px;display:inline-block;\"></div></div><div style=\"display:inline-block;padding:10px;\"><div>Set3</div><div style=\"background-color:rgb(141,211,199);height:20px;width:20px;margin-bottom:0px;display:inline-block;\"></div><div style=\"background-color:rgb(255,255,179);height:20px;width:20px;margin-bottom:0px;display:inline-block;\"></div><div style=\"background-color:rgb(190,186,218);height:20px;width:20px;margin-bottom:0px;display:inline-block;\"></div><div style=\"background-color:rgb(251,128,114);height:20px;width:20px;margin-bottom:0px;display:inline-block;\"></div><div style=\"background-color:rgb(128,177,211);height:20px;width:20px;margin-bottom:0px;display:inline-block;\"></div><div style=\"background-color:rgb(253,180,98);height:20px;width:20px;margin-bottom:0px;display:inline-block;\"></div><div style=\"background-color:rgb(179,222,105);height:20px;width:20px;margin-bottom:0px;display:inline-block;\"></div></div><h4>Sequential</h4><div style=\"display:inline-block;padding:10px;\"><div>Blues</div><div style=\"background-color:rgb(239,243,255);height:20px;width:20px;margin-bottom:0px;display:inline-block;\"></div><div style=\"background-color:rgb(198,219,239);height:20px;width:20px;margin-bottom:0px;display:inline-block;\"></div><div style=\"background-color:rgb(158,202,225);height:20px;width:20px;margin-bottom:0px;display:inline-block;\"></div><div style=\"background-color:rgb(107,174,214);height:20px;width:20px;margin-bottom:0px;display:inline-block;\"></div><div style=\"background-color:rgb(66,146,198);height:20px;width:20px;margin-bottom:0px;display:inline-block;\"></div><div style=\"background-color:rgb(33,113,181);height:20px;width:20px;margin-bottom:0px;display:inline-block;\"></div><div style=\"background-color:rgb(8,69,148);height:20px;width:20px;margin-bottom:0px;display:inline-block;\"></div></div><div style=\"display:inline-block;padding:10px;\"><div>BuGn</div><div style=\"background-color:rgb(237,248,251);height:20px;width:20px;margin-bottom:0px;display:inline-block;\"></div><div style=\"background-color:rgb(204,236,230);height:20px;width:20px;margin-bottom:0px;display:inline-block;\"></div><div style=\"background-color:rgb(153,216,201);height:20px;width:20px;margin-bottom:0px;display:inline-block;\"></div><div style=\"background-color:rgb(102,194,164);height:20px;width:20px;margin-bottom:0px;display:inline-block;\"></div><div style=\"background-color:rgb(65,174,118);height:20px;width:20px;margin-bottom:0px;display:inline-block;\"></div><div style=\"background-color:rgb(35,139,69);height:20px;width:20px;margin-bottom:0px;display:inline-block;\"></div><div style=\"background-color:rgb(0,88,36);height:20px;width:20px;margin-bottom:0px;display:inline-block;\"></div></div><div style=\"display:inline-block;padding:10px;\"><div>BuPu</div><div style=\"background-color:rgb(237,248,251);height:20px;width:20px;margin-bottom:0px;display:inline-block;\"></div><div style=\"background-color:rgb(191,211,230);height:20px;width:20px;margin-bottom:0px;display:inline-block;\"></div><div style=\"background-color:rgb(158,188,218);height:20px;width:20px;margin-bottom:0px;display:inline-block;\"></div><div style=\"background-color:rgb(140,150,198);height:20px;width:20px;margin-bottom:0px;display:inline-block;\"></div><div style=\"background-color:rgb(140,107,177);height:20px;width:20px;margin-bottom:0px;display:inline-block;\"></div><div style=\"background-color:rgb(136,65,157);height:20px;width:20px;margin-bottom:0px;display:inline-block;\"></div><div style=\"background-color:rgb(110,1,107);height:20px;width:20px;margin-bottom:0px;display:inline-block;\"></div></div><div style=\"display:inline-block;padding:10px;\"><div>GnBu</div><div style=\"background-color:rgb(240,249,232);height:20px;width:20px;margin-bottom:0px;display:inline-block;\"></div><div style=\"background-color:rgb(204,235,197);height:20px;width:20px;margin-bottom:0px;display:inline-block;\"></div><div style=\"background-color:rgb(168,221,181);height:20px;width:20px;margin-bottom:0px;display:inline-block;\"></div><div style=\"background-color:rgb(123,204,196);height:20px;width:20px;margin-bottom:0px;display:inline-block;\"></div><div style=\"background-color:rgb(78,179,211);height:20px;width:20px;margin-bottom:0px;display:inline-block;\"></div><div style=\"background-color:rgb(43,140,190);height:20px;width:20px;margin-bottom:0px;display:inline-block;\"></div><div style=\"background-color:rgb(8,88,158);height:20px;width:20px;margin-bottom:0px;display:inline-block;\"></div></div><div style=\"display:inline-block;padding:10px;\"><div>Greens</div><div style=\"background-color:rgb(237,248,233);height:20px;width:20px;margin-bottom:0px;display:inline-block;\"></div><div style=\"background-color:rgb(199,233,192);height:20px;width:20px;margin-bottom:0px;display:inline-block;\"></div><div style=\"background-color:rgb(161,217,155);height:20px;width:20px;margin-bottom:0px;display:inline-block;\"></div><div style=\"background-color:rgb(116,196,118);height:20px;width:20px;margin-bottom:0px;display:inline-block;\"></div><div style=\"background-color:rgb(65,171,93);height:20px;width:20px;margin-bottom:0px;display:inline-block;\"></div><div style=\"background-color:rgb(35,139,69);height:20px;width:20px;margin-bottom:0px;display:inline-block;\"></div><div style=\"background-color:rgb(0,90,50);height:20px;width:20px;margin-bottom:0px;display:inline-block;\"></div></div><div style=\"display:inline-block;padding:10px;\"><div>Greys</div><div style=\"background-color:rgb(247,247,247);height:20px;width:20px;margin-bottom:0px;display:inline-block;\"></div><div style=\"background-color:rgb(217,217,217);height:20px;width:20px;margin-bottom:0px;display:inline-block;\"></div><div style=\"background-color:rgb(189,189,189);height:20px;width:20px;margin-bottom:0px;display:inline-block;\"></div><div style=\"background-color:rgb(150,150,150);height:20px;width:20px;margin-bottom:0px;display:inline-block;\"></div><div style=\"background-color:rgb(115,115,115);height:20px;width:20px;margin-bottom:0px;display:inline-block;\"></div><div style=\"background-color:rgb(82,82,82);height:20px;width:20px;margin-bottom:0px;display:inline-block;\"></div><div style=\"background-color:rgb(37,37,37);height:20px;width:20px;margin-bottom:0px;display:inline-block;\"></div></div><div style=\"display:inline-block;padding:10px;\"><div>OrRd</div><div style=\"background-color:rgb(254,240,217);height:20px;width:20px;margin-bottom:0px;display:inline-block;\"></div><div style=\"background-color:rgb(253,212,158);height:20px;width:20px;margin-bottom:0px;display:inline-block;\"></div><div style=\"background-color:rgb(253,187,132);height:20px;width:20px;margin-bottom:0px;display:inline-block;\"></div><div style=\"background-color:rgb(252,141,89);height:20px;width:20px;margin-bottom:0px;display:inline-block;\"></div><div style=\"background-color:rgb(239,101,72);height:20px;width:20px;margin-bottom:0px;display:inline-block;\"></div><div style=\"background-color:rgb(215,48,31);height:20px;width:20px;margin-bottom:0px;display:inline-block;\"></div><div style=\"background-color:rgb(153,0,0);height:20px;width:20px;margin-bottom:0px;display:inline-block;\"></div></div><div style=\"display:inline-block;padding:10px;\"><div>Oranges</div><div style=\"background-color:rgb(254,237,222);height:20px;width:20px;margin-bottom:0px;display:inline-block;\"></div><div style=\"background-color:rgb(253,208,162);height:20px;width:20px;margin-bottom:0px;display:inline-block;\"></div><div style=\"background-color:rgb(253,174,107);height:20px;width:20px;margin-bottom:0px;display:inline-block;\"></div><div style=\"background-color:rgb(253,141,60);height:20px;width:20px;margin-bottom:0px;display:inline-block;\"></div><div style=\"background-color:rgb(241,105,19);height:20px;width:20px;margin-bottom:0px;display:inline-block;\"></div><div style=\"background-color:rgb(217,72,1);height:20px;width:20px;margin-bottom:0px;display:inline-block;\"></div><div style=\"background-color:rgb(140,45,4);height:20px;width:20px;margin-bottom:0px;display:inline-block;\"></div></div><div style=\"display:inline-block;padding:10px;\"><div>PuBu</div><div style=\"background-color:rgb(241,238,246);height:20px;width:20px;margin-bottom:0px;display:inline-block;\"></div><div style=\"background-color:rgb(208,209,230);height:20px;width:20px;margin-bottom:0px;display:inline-block;\"></div><div style=\"background-color:rgb(166,189,219);height:20px;width:20px;margin-bottom:0px;display:inline-block;\"></div><div style=\"background-color:rgb(116,169,207);height:20px;width:20px;margin-bottom:0px;display:inline-block;\"></div><div style=\"background-color:rgb(54,144,192);height:20px;width:20px;margin-bottom:0px;display:inline-block;\"></div><div style=\"background-color:rgb(5,112,176);height:20px;width:20px;margin-bottom:0px;display:inline-block;\"></div><div style=\"background-color:rgb(3,78,123);height:20px;width:20px;margin-bottom:0px;display:inline-block;\"></div></div><div style=\"display:inline-block;padding:10px;\"><div>PuBuGn</div><div style=\"background-color:rgb(246,239,247);height:20px;width:20px;margin-bottom:0px;display:inline-block;\"></div><div style=\"background-color:rgb(208,209,230);height:20px;width:20px;margin-bottom:0px;display:inline-block;\"></div><div style=\"background-color:rgb(166,189,219);height:20px;width:20px;margin-bottom:0px;display:inline-block;\"></div><div style=\"background-color:rgb(103,169,207);height:20px;width:20px;margin-bottom:0px;display:inline-block;\"></div><div style=\"background-color:rgb(54,144,192);height:20px;width:20px;margin-bottom:0px;display:inline-block;\"></div><div style=\"background-color:rgb(2,129,138);height:20px;width:20px;margin-bottom:0px;display:inline-block;\"></div><div style=\"background-color:rgb(1,100,80);height:20px;width:20px;margin-bottom:0px;display:inline-block;\"></div></div><div style=\"display:inline-block;padding:10px;\"><div>PuRd</div><div style=\"background-color:rgb(241,238,246);height:20px;width:20px;margin-bottom:0px;display:inline-block;\"></div><div style=\"background-color:rgb(212,185,218);height:20px;width:20px;margin-bottom:0px;display:inline-block;\"></div><div style=\"background-color:rgb(201,148,199);height:20px;width:20px;margin-bottom:0px;display:inline-block;\"></div><div style=\"background-color:rgb(223,101,176);height:20px;width:20px;margin-bottom:0px;display:inline-block;\"></div><div style=\"background-color:rgb(231,41,138);height:20px;width:20px;margin-bottom:0px;display:inline-block;\"></div><div style=\"background-color:rgb(206,18,86);height:20px;width:20px;margin-bottom:0px;display:inline-block;\"></div><div style=\"background-color:rgb(145,0,63);height:20px;width:20px;margin-bottom:0px;display:inline-block;\"></div></div><div style=\"display:inline-block;padding:10px;\"><div>Purples</div><div style=\"background-color:rgb(242,240,247);height:20px;width:20px;margin-bottom:0px;display:inline-block;\"></div><div style=\"background-color:rgb(218,218,235);height:20px;width:20px;margin-bottom:0px;display:inline-block;\"></div><div style=\"background-color:rgb(188,189,220);height:20px;width:20px;margin-bottom:0px;display:inline-block;\"></div><div style=\"background-color:rgb(158,154,200);height:20px;width:20px;margin-bottom:0px;display:inline-block;\"></div><div style=\"background-color:rgb(128,125,186);height:20px;width:20px;margin-bottom:0px;display:inline-block;\"></div><div style=\"background-color:rgb(106,81,163);height:20px;width:20px;margin-bottom:0px;display:inline-block;\"></div><div style=\"background-color:rgb(74,20,134);height:20px;width:20px;margin-bottom:0px;display:inline-block;\"></div></div><div style=\"display:inline-block;padding:10px;\"><div>RdPu</div><div style=\"background-color:rgb(254,235,226);height:20px;width:20px;margin-bottom:0px;display:inline-block;\"></div><div style=\"background-color:rgb(252,197,192);height:20px;width:20px;margin-bottom:0px;display:inline-block;\"></div><div style=\"background-color:rgb(250,159,181);height:20px;width:20px;margin-bottom:0px;display:inline-block;\"></div><div style=\"background-color:rgb(247,104,161);height:20px;width:20px;margin-bottom:0px;display:inline-block;\"></div><div style=\"background-color:rgb(221,52,151);height:20px;width:20px;margin-bottom:0px;display:inline-block;\"></div><div style=\"background-color:rgb(174,1,126);height:20px;width:20px;margin-bottom:0px;display:inline-block;\"></div><div style=\"background-color:rgb(122,1,119);height:20px;width:20px;margin-bottom:0px;display:inline-block;\"></div></div><div style=\"display:inline-block;padding:10px;\"><div>Reds</div><div style=\"background-color:rgb(254,229,217);height:20px;width:20px;margin-bottom:0px;display:inline-block;\"></div><div style=\"background-color:rgb(252,187,161);height:20px;width:20px;margin-bottom:0px;display:inline-block;\"></div><div style=\"background-color:rgb(252,146,114);height:20px;width:20px;margin-bottom:0px;display:inline-block;\"></div><div style=\"background-color:rgb(251,106,74);height:20px;width:20px;margin-bottom:0px;display:inline-block;\"></div><div style=\"background-color:rgb(239,59,44);height:20px;width:20px;margin-bottom:0px;display:inline-block;\"></div><div style=\"background-color:rgb(203,24,29);height:20px;width:20px;margin-bottom:0px;display:inline-block;\"></div><div style=\"background-color:rgb(153,0,13);height:20px;width:20px;margin-bottom:0px;display:inline-block;\"></div></div><div style=\"display:inline-block;padding:10px;\"><div>YlGn</div><div style=\"background-color:rgb(255,255,204);height:20px;width:20px;margin-bottom:0px;display:inline-block;\"></div><div style=\"background-color:rgb(217,240,163);height:20px;width:20px;margin-bottom:0px;display:inline-block;\"></div><div style=\"background-color:rgb(173,221,142);height:20px;width:20px;margin-bottom:0px;display:inline-block;\"></div><div style=\"background-color:rgb(120,198,121);height:20px;width:20px;margin-bottom:0px;display:inline-block;\"></div><div style=\"background-color:rgb(65,171,93);height:20px;width:20px;margin-bottom:0px;display:inline-block;\"></div><div style=\"background-color:rgb(35,132,67);height:20px;width:20px;margin-bottom:0px;display:inline-block;\"></div><div style=\"background-color:rgb(0,90,50);height:20px;width:20px;margin-bottom:0px;display:inline-block;\"></div></div><div style=\"display:inline-block;padding:10px;\"><div>YlGnBu</div><div style=\"background-color:rgb(255,255,204);height:20px;width:20px;margin-bottom:0px;display:inline-block;\"></div><div style=\"background-color:rgb(199,233,180);height:20px;width:20px;margin-bottom:0px;display:inline-block;\"></div><div style=\"background-color:rgb(127,205,187);height:20px;width:20px;margin-bottom:0px;display:inline-block;\"></div><div style=\"background-color:rgb(65,182,196);height:20px;width:20px;margin-bottom:0px;display:inline-block;\"></div><div style=\"background-color:rgb(29,145,192);height:20px;width:20px;margin-bottom:0px;display:inline-block;\"></div><div style=\"background-color:rgb(34,94,168);height:20px;width:20px;margin-bottom:0px;display:inline-block;\"></div><div style=\"background-color:rgb(12,44,132);height:20px;width:20px;margin-bottom:0px;display:inline-block;\"></div></div><div style=\"display:inline-block;padding:10px;\"><div>YlOrBr</div><div style=\"background-color:rgb(255,255,212);height:20px;width:20px;margin-bottom:0px;display:inline-block;\"></div><div style=\"background-color:rgb(254,227,145);height:20px;width:20px;margin-bottom:0px;display:inline-block;\"></div><div style=\"background-color:rgb(254,196,79);height:20px;width:20px;margin-bottom:0px;display:inline-block;\"></div><div style=\"background-color:rgb(254,153,41);height:20px;width:20px;margin-bottom:0px;display:inline-block;\"></div><div style=\"background-color:rgb(236,112,20);height:20px;width:20px;margin-bottom:0px;display:inline-block;\"></div><div style=\"background-color:rgb(204,76,2);height:20px;width:20px;margin-bottom:0px;display:inline-block;\"></div><div style=\"background-color:rgb(140,45,4);height:20px;width:20px;margin-bottom:0px;display:inline-block;\"></div></div><div style=\"display:inline-block;padding:10px;\"><div>YlOrRd</div><div style=\"background-color:rgb(255,255,178);height:20px;width:20px;margin-bottom:0px;display:inline-block;\"></div><div style=\"background-color:rgb(254,217,118);height:20px;width:20px;margin-bottom:0px;display:inline-block;\"></div><div style=\"background-color:rgb(254,178,76);height:20px;width:20px;margin-bottom:0px;display:inline-block;\"></div><div style=\"background-color:rgb(253,141,60);height:20px;width:20px;margin-bottom:0px;display:inline-block;\"></div><div style=\"background-color:rgb(252,78,42);height:20px;width:20px;margin-bottom:0px;display:inline-block;\"></div><div style=\"background-color:rgb(227,26,28);height:20px;width:20px;margin-bottom:0px;display:inline-block;\"></div><div style=\"background-color:rgb(177,0,38);height:20px;width:20px;margin-bottom:0px;display:inline-block;\"></div></div><hr><h3>8 colors</h3><h4>Diverging</h4><div style=\"display:inline-block;padding:10px;\"><div>BrBG</div><div style=\"background-color:rgb(140,81,10);height:20px;width:20px;margin-bottom:0px;display:inline-block;\"></div><div style=\"background-color:rgb(191,129,45);height:20px;width:20px;margin-bottom:0px;display:inline-block;\"></div><div style=\"background-color:rgb(223,194,125);height:20px;width:20px;margin-bottom:0px;display:inline-block;\"></div><div style=\"background-color:rgb(246,232,195);height:20px;width:20px;margin-bottom:0px;display:inline-block;\"></div><div style=\"background-color:rgb(199,234,229);height:20px;width:20px;margin-bottom:0px;display:inline-block;\"></div><div style=\"background-color:rgb(128,205,193);height:20px;width:20px;margin-bottom:0px;display:inline-block;\"></div><div style=\"background-color:rgb(53,151,143);height:20px;width:20px;margin-bottom:0px;display:inline-block;\"></div><div style=\"background-color:rgb(1,102,94);height:20px;width:20px;margin-bottom:0px;display:inline-block;\"></div></div><div style=\"display:inline-block;padding:10px;\"><div>PRGn</div><div style=\"background-color:rgb(118,42,131);height:20px;width:20px;margin-bottom:0px;display:inline-block;\"></div><div style=\"background-color:rgb(153,112,171);height:20px;width:20px;margin-bottom:0px;display:inline-block;\"></div><div style=\"background-color:rgb(194,165,207);height:20px;width:20px;margin-bottom:0px;display:inline-block;\"></div><div style=\"background-color:rgb(231,212,232);height:20px;width:20px;margin-bottom:0px;display:inline-block;\"></div><div style=\"background-color:rgb(217,240,211);height:20px;width:20px;margin-bottom:0px;display:inline-block;\"></div><div style=\"background-color:rgb(166,219,160);height:20px;width:20px;margin-bottom:0px;display:inline-block;\"></div><div style=\"background-color:rgb(90,174,97);height:20px;width:20px;margin-bottom:0px;display:inline-block;\"></div><div style=\"background-color:rgb(27,120,55);height:20px;width:20px;margin-bottom:0px;display:inline-block;\"></div></div><div style=\"display:inline-block;padding:10px;\"><div>PiYG</div><div style=\"background-color:rgb(197,27,125);height:20px;width:20px;margin-bottom:0px;display:inline-block;\"></div><div style=\"background-color:rgb(222,119,174);height:20px;width:20px;margin-bottom:0px;display:inline-block;\"></div><div style=\"background-color:rgb(241,182,218);height:20px;width:20px;margin-bottom:0px;display:inline-block;\"></div><div style=\"background-color:rgb(253,224,239);height:20px;width:20px;margin-bottom:0px;display:inline-block;\"></div><div style=\"background-color:rgb(230,245,208);height:20px;width:20px;margin-bottom:0px;display:inline-block;\"></div><div style=\"background-color:rgb(184,225,134);height:20px;width:20px;margin-bottom:0px;display:inline-block;\"></div><div style=\"background-color:rgb(127,188,65);height:20px;width:20px;margin-bottom:0px;display:inline-block;\"></div><div style=\"background-color:rgb(77,146,33);height:20px;width:20px;margin-bottom:0px;display:inline-block;\"></div></div><div style=\"display:inline-block;padding:10px;\"><div>PuOr</div><div style=\"background-color:rgb(179,88,6);height:20px;width:20px;margin-bottom:0px;display:inline-block;\"></div><div style=\"background-color:rgb(224,130,20);height:20px;width:20px;margin-bottom:0px;display:inline-block;\"></div><div style=\"background-color:rgb(253,184,99);height:20px;width:20px;margin-bottom:0px;display:inline-block;\"></div><div style=\"background-color:rgb(254,224,182);height:20px;width:20px;margin-bottom:0px;display:inline-block;\"></div><div style=\"background-color:rgb(216,218,235);height:20px;width:20px;margin-bottom:0px;display:inline-block;\"></div><div style=\"background-color:rgb(178,171,210);height:20px;width:20px;margin-bottom:0px;display:inline-block;\"></div><div style=\"background-color:rgb(128,115,172);height:20px;width:20px;margin-bottom:0px;display:inline-block;\"></div><div style=\"background-color:rgb(84,39,136);height:20px;width:20px;margin-bottom:0px;display:inline-block;\"></div></div><div style=\"display:inline-block;padding:10px;\"><div>RdBu</div><div style=\"background-color:rgb(178,24,43);height:20px;width:20px;margin-bottom:0px;display:inline-block;\"></div><div style=\"background-color:rgb(214,96,77);height:20px;width:20px;margin-bottom:0px;display:inline-block;\"></div><div style=\"background-color:rgb(244,165,130);height:20px;width:20px;margin-bottom:0px;display:inline-block;\"></div><div style=\"background-color:rgb(253,219,199);height:20px;width:20px;margin-bottom:0px;display:inline-block;\"></div><div style=\"background-color:rgb(209,229,240);height:20px;width:20px;margin-bottom:0px;display:inline-block;\"></div><div style=\"background-color:rgb(146,197,222);height:20px;width:20px;margin-bottom:0px;display:inline-block;\"></div><div style=\"background-color:rgb(67,147,195);height:20px;width:20px;margin-bottom:0px;display:inline-block;\"></div><div style=\"background-color:rgb(33,102,172);height:20px;width:20px;margin-bottom:0px;display:inline-block;\"></div></div><div style=\"display:inline-block;padding:10px;\"><div>RdGy</div><div style=\"background-color:rgb(178,24,43);height:20px;width:20px;margin-bottom:0px;display:inline-block;\"></div><div style=\"background-color:rgb(214,96,77);height:20px;width:20px;margin-bottom:0px;display:inline-block;\"></div><div style=\"background-color:rgb(244,165,130);height:20px;width:20px;margin-bottom:0px;display:inline-block;\"></div><div style=\"background-color:rgb(253,219,199);height:20px;width:20px;margin-bottom:0px;display:inline-block;\"></div><div style=\"background-color:rgb(224,224,224);height:20px;width:20px;margin-bottom:0px;display:inline-block;\"></div><div style=\"background-color:rgb(186,186,186);height:20px;width:20px;margin-bottom:0px;display:inline-block;\"></div><div style=\"background-color:rgb(135,135,135);height:20px;width:20px;margin-bottom:0px;display:inline-block;\"></div><div style=\"background-color:rgb(77,77,77);height:20px;width:20px;margin-bottom:0px;display:inline-block;\"></div></div><div style=\"display:inline-block;padding:10px;\"><div>RdYlBu</div><div style=\"background-color:rgb(215,48,39);height:20px;width:20px;margin-bottom:0px;display:inline-block;\"></div><div style=\"background-color:rgb(244,109,67);height:20px;width:20px;margin-bottom:0px;display:inline-block;\"></div><div style=\"background-color:rgb(253,174,97);height:20px;width:20px;margin-bottom:0px;display:inline-block;\"></div><div style=\"background-color:rgb(254,224,144);height:20px;width:20px;margin-bottom:0px;display:inline-block;\"></div><div style=\"background-color:rgb(224,243,248);height:20px;width:20px;margin-bottom:0px;display:inline-block;\"></div><div style=\"background-color:rgb(171,217,233);height:20px;width:20px;margin-bottom:0px;display:inline-block;\"></div><div style=\"background-color:rgb(116,173,209);height:20px;width:20px;margin-bottom:0px;display:inline-block;\"></div><div style=\"background-color:rgb(69,117,180);height:20px;width:20px;margin-bottom:0px;display:inline-block;\"></div></div><div style=\"display:inline-block;padding:10px;\"><div>RdYlGn</div><div style=\"background-color:rgb(215,48,39);height:20px;width:20px;margin-bottom:0px;display:inline-block;\"></div><div style=\"background-color:rgb(244,109,67);height:20px;width:20px;margin-bottom:0px;display:inline-block;\"></div><div style=\"background-color:rgb(253,174,97);height:20px;width:20px;margin-bottom:0px;display:inline-block;\"></div><div style=\"background-color:rgb(254,224,139);height:20px;width:20px;margin-bottom:0px;display:inline-block;\"></div><div style=\"background-color:rgb(217,239,139);height:20px;width:20px;margin-bottom:0px;display:inline-block;\"></div><div style=\"background-color:rgb(166,217,106);height:20px;width:20px;margin-bottom:0px;display:inline-block;\"></div><div style=\"background-color:rgb(102,189,99);height:20px;width:20px;margin-bottom:0px;display:inline-block;\"></div><div style=\"background-color:rgb(26,152,80);height:20px;width:20px;margin-bottom:0px;display:inline-block;\"></div></div><div style=\"display:inline-block;padding:10px;\"><div>Spectral</div><div style=\"background-color:rgb(213,62,79);height:20px;width:20px;margin-bottom:0px;display:inline-block;\"></div><div style=\"background-color:rgb(244,109,67);height:20px;width:20px;margin-bottom:0px;display:inline-block;\"></div><div style=\"background-color:rgb(253,174,97);height:20px;width:20px;margin-bottom:0px;display:inline-block;\"></div><div style=\"background-color:rgb(254,224,139);height:20px;width:20px;margin-bottom:0px;display:inline-block;\"></div><div style=\"background-color:rgb(230,245,152);height:20px;width:20px;margin-bottom:0px;display:inline-block;\"></div><div style=\"background-color:rgb(171,221,164);height:20px;width:20px;margin-bottom:0px;display:inline-block;\"></div><div style=\"background-color:rgb(102,194,165);height:20px;width:20px;margin-bottom:0px;display:inline-block;\"></div><div style=\"background-color:rgb(50,136,189);height:20px;width:20px;margin-bottom:0px;display:inline-block;\"></div></div><h4>Qualitative</h4><div style=\"display:inline-block;padding:10px;\"><div>Accent</div><div style=\"background-color:rgb(127,201,127);height:20px;width:20px;margin-bottom:0px;display:inline-block;\"></div><div style=\"background-color:rgb(190,174,212);height:20px;width:20px;margin-bottom:0px;display:inline-block;\"></div><div style=\"background-color:rgb(253,192,134);height:20px;width:20px;margin-bottom:0px;display:inline-block;\"></div><div style=\"background-color:rgb(255,255,153);height:20px;width:20px;margin-bottom:0px;display:inline-block;\"></div><div style=\"background-color:rgb(56,108,176);height:20px;width:20px;margin-bottom:0px;display:inline-block;\"></div><div style=\"background-color:rgb(240,2,127);height:20px;width:20px;margin-bottom:0px;display:inline-block;\"></div><div style=\"background-color:rgb(191,91,23);height:20px;width:20px;margin-bottom:0px;display:inline-block;\"></div><div style=\"background-color:rgb(102,102,102);height:20px;width:20px;margin-bottom:0px;display:inline-block;\"></div></div><div style=\"display:inline-block;padding:10px;\"><div>Dark2</div><div style=\"background-color:rgb(27,158,119);height:20px;width:20px;margin-bottom:0px;display:inline-block;\"></div><div style=\"background-color:rgb(217,95,2);height:20px;width:20px;margin-bottom:0px;display:inline-block;\"></div><div style=\"background-color:rgb(117,112,179);height:20px;width:20px;margin-bottom:0px;display:inline-block;\"></div><div style=\"background-color:rgb(231,41,138);height:20px;width:20px;margin-bottom:0px;display:inline-block;\"></div><div style=\"background-color:rgb(102,166,30);height:20px;width:20px;margin-bottom:0px;display:inline-block;\"></div><div style=\"background-color:rgb(230,171,2);height:20px;width:20px;margin-bottom:0px;display:inline-block;\"></div><div style=\"background-color:rgb(166,118,29);height:20px;width:20px;margin-bottom:0px;display:inline-block;\"></div><div style=\"background-color:rgb(102,102,102);height:20px;width:20px;margin-bottom:0px;display:inline-block;\"></div></div><div style=\"display:inline-block;padding:10px;\"><div>Paired</div><div style=\"background-color:rgb(166,206,227);height:20px;width:20px;margin-bottom:0px;display:inline-block;\"></div><div style=\"background-color:rgb(31,120,180);height:20px;width:20px;margin-bottom:0px;display:inline-block;\"></div><div style=\"background-color:rgb(178,223,138);height:20px;width:20px;margin-bottom:0px;display:inline-block;\"></div><div style=\"background-color:rgb(51,160,44);height:20px;width:20px;margin-bottom:0px;display:inline-block;\"></div><div style=\"background-color:rgb(251,154,153);height:20px;width:20px;margin-bottom:0px;display:inline-block;\"></div><div style=\"background-color:rgb(227,26,28);height:20px;width:20px;margin-bottom:0px;display:inline-block;\"></div><div style=\"background-color:rgb(253,191,111);height:20px;width:20px;margin-bottom:0px;display:inline-block;\"></div><div style=\"background-color:rgb(255,127,0);height:20px;width:20px;margin-bottom:0px;display:inline-block;\"></div></div><div style=\"display:inline-block;padding:10px;\"><div>Pastel1</div><div style=\"background-color:rgb(251,180,174);height:20px;width:20px;margin-bottom:0px;display:inline-block;\"></div><div style=\"background-color:rgb(179,205,227);height:20px;width:20px;margin-bottom:0px;display:inline-block;\"></div><div style=\"background-color:rgb(204,235,197);height:20px;width:20px;margin-bottom:0px;display:inline-block;\"></div><div style=\"background-color:rgb(222,203,228);height:20px;width:20px;margin-bottom:0px;display:inline-block;\"></div><div style=\"background-color:rgb(254,217,166);height:20px;width:20px;margin-bottom:0px;display:inline-block;\"></div><div style=\"background-color:rgb(255,255,204);height:20px;width:20px;margin-bottom:0px;display:inline-block;\"></div><div style=\"background-color:rgb(229,216,189);height:20px;width:20px;margin-bottom:0px;display:inline-block;\"></div><div style=\"background-color:rgb(253,218,236);height:20px;width:20px;margin-bottom:0px;display:inline-block;\"></div></div><div style=\"display:inline-block;padding:10px;\"><div>Pastel2</div><div style=\"background-color:rgb(179,226,205);height:20px;width:20px;margin-bottom:0px;display:inline-block;\"></div><div style=\"background-color:rgb(253,205,172);height:20px;width:20px;margin-bottom:0px;display:inline-block;\"></div><div style=\"background-color:rgb(203,213,232);height:20px;width:20px;margin-bottom:0px;display:inline-block;\"></div><div style=\"background-color:rgb(244,202,228);height:20px;width:20px;margin-bottom:0px;display:inline-block;\"></div><div style=\"background-color:rgb(230,245,201);height:20px;width:20px;margin-bottom:0px;display:inline-block;\"></div><div style=\"background-color:rgb(255,242,174);height:20px;width:20px;margin-bottom:0px;display:inline-block;\"></div><div style=\"background-color:rgb(241,226,204);height:20px;width:20px;margin-bottom:0px;display:inline-block;\"></div><div style=\"background-color:rgb(204,204,204);height:20px;width:20px;margin-bottom:0px;display:inline-block;\"></div></div><div style=\"display:inline-block;padding:10px;\"><div>Set1</div><div style=\"background-color:rgb(228,26,28);height:20px;width:20px;margin-bottom:0px;display:inline-block;\"></div><div style=\"background-color:rgb(55,126,184);height:20px;width:20px;margin-bottom:0px;display:inline-block;\"></div><div style=\"background-color:rgb(77,175,74);height:20px;width:20px;margin-bottom:0px;display:inline-block;\"></div><div style=\"background-color:rgb(152,78,163);height:20px;width:20px;margin-bottom:0px;display:inline-block;\"></div><div style=\"background-color:rgb(255,127,0);height:20px;width:20px;margin-bottom:0px;display:inline-block;\"></div><div style=\"background-color:rgb(255,255,51);height:20px;width:20px;margin-bottom:0px;display:inline-block;\"></div><div style=\"background-color:rgb(166,86,40);height:20px;width:20px;margin-bottom:0px;display:inline-block;\"></div><div style=\"background-color:rgb(247,129,191);height:20px;width:20px;margin-bottom:0px;display:inline-block;\"></div></div><div style=\"display:inline-block;padding:10px;\"><div>Set2</div><div style=\"background-color:rgb(102,194,165);height:20px;width:20px;margin-bottom:0px;display:inline-block;\"></div><div style=\"background-color:rgb(252,141,98);height:20px;width:20px;margin-bottom:0px;display:inline-block;\"></div><div style=\"background-color:rgb(141,160,203);height:20px;width:20px;margin-bottom:0px;display:inline-block;\"></div><div style=\"background-color:rgb(231,138,195);height:20px;width:20px;margin-bottom:0px;display:inline-block;\"></div><div style=\"background-color:rgb(166,216,84);height:20px;width:20px;margin-bottom:0px;display:inline-block;\"></div><div style=\"background-color:rgb(255,217,47);height:20px;width:20px;margin-bottom:0px;display:inline-block;\"></div><div style=\"background-color:rgb(229,196,148);height:20px;width:20px;margin-bottom:0px;display:inline-block;\"></div><div style=\"background-color:rgb(179,179,179);height:20px;width:20px;margin-bottom:0px;display:inline-block;\"></div></div><div style=\"display:inline-block;padding:10px;\"><div>Set3</div><div style=\"background-color:rgb(141,211,199);height:20px;width:20px;margin-bottom:0px;display:inline-block;\"></div><div style=\"background-color:rgb(255,255,179);height:20px;width:20px;margin-bottom:0px;display:inline-block;\"></div><div style=\"background-color:rgb(190,186,218);height:20px;width:20px;margin-bottom:0px;display:inline-block;\"></div><div style=\"background-color:rgb(251,128,114);height:20px;width:20px;margin-bottom:0px;display:inline-block;\"></div><div style=\"background-color:rgb(128,177,211);height:20px;width:20px;margin-bottom:0px;display:inline-block;\"></div><div style=\"background-color:rgb(253,180,98);height:20px;width:20px;margin-bottom:0px;display:inline-block;\"></div><div style=\"background-color:rgb(179,222,105);height:20px;width:20px;margin-bottom:0px;display:inline-block;\"></div><div style=\"background-color:rgb(252,205,229);height:20px;width:20px;margin-bottom:0px;display:inline-block;\"></div></div><h4>Sequential</h4><div style=\"display:inline-block;padding:10px;\"><div>Blues</div><div style=\"background-color:rgb(247,251,255);height:20px;width:20px;margin-bottom:0px;display:inline-block;\"></div><div style=\"background-color:rgb(222,235,247);height:20px;width:20px;margin-bottom:0px;display:inline-block;\"></div><div style=\"background-color:rgb(198,219,239);height:20px;width:20px;margin-bottom:0px;display:inline-block;\"></div><div style=\"background-color:rgb(158,202,225);height:20px;width:20px;margin-bottom:0px;display:inline-block;\"></div><div style=\"background-color:rgb(107,174,214);height:20px;width:20px;margin-bottom:0px;display:inline-block;\"></div><div style=\"background-color:rgb(66,146,198);height:20px;width:20px;margin-bottom:0px;display:inline-block;\"></div><div style=\"background-color:rgb(33,113,181);height:20px;width:20px;margin-bottom:0px;display:inline-block;\"></div><div style=\"background-color:rgb(8,69,148);height:20px;width:20px;margin-bottom:0px;display:inline-block;\"></div></div><div style=\"display:inline-block;padding:10px;\"><div>BuGn</div><div style=\"background-color:rgb(247,252,253);height:20px;width:20px;margin-bottom:0px;display:inline-block;\"></div><div style=\"background-color:rgb(229,245,249);height:20px;width:20px;margin-bottom:0px;display:inline-block;\"></div><div style=\"background-color:rgb(204,236,230);height:20px;width:20px;margin-bottom:0px;display:inline-block;\"></div><div style=\"background-color:rgb(153,216,201);height:20px;width:20px;margin-bottom:0px;display:inline-block;\"></div><div style=\"background-color:rgb(102,194,164);height:20px;width:20px;margin-bottom:0px;display:inline-block;\"></div><div style=\"background-color:rgb(65,174,118);height:20px;width:20px;margin-bottom:0px;display:inline-block;\"></div><div style=\"background-color:rgb(35,139,69);height:20px;width:20px;margin-bottom:0px;display:inline-block;\"></div><div style=\"background-color:rgb(0,88,36);height:20px;width:20px;margin-bottom:0px;display:inline-block;\"></div></div><div style=\"display:inline-block;padding:10px;\"><div>BuPu</div><div style=\"background-color:rgb(247,252,253);height:20px;width:20px;margin-bottom:0px;display:inline-block;\"></div><div style=\"background-color:rgb(224,236,244);height:20px;width:20px;margin-bottom:0px;display:inline-block;\"></div><div style=\"background-color:rgb(191,211,230);height:20px;width:20px;margin-bottom:0px;display:inline-block;\"></div><div style=\"background-color:rgb(158,188,218);height:20px;width:20px;margin-bottom:0px;display:inline-block;\"></div><div style=\"background-color:rgb(140,150,198);height:20px;width:20px;margin-bottom:0px;display:inline-block;\"></div><div style=\"background-color:rgb(140,107,177);height:20px;width:20px;margin-bottom:0px;display:inline-block;\"></div><div style=\"background-color:rgb(136,65,157);height:20px;width:20px;margin-bottom:0px;display:inline-block;\"></div><div style=\"background-color:rgb(110,1,107);height:20px;width:20px;margin-bottom:0px;display:inline-block;\"></div></div><div style=\"display:inline-block;padding:10px;\"><div>GnBu</div><div style=\"background-color:rgb(247,252,240);height:20px;width:20px;margin-bottom:0px;display:inline-block;\"></div><div style=\"background-color:rgb(224,243,219);height:20px;width:20px;margin-bottom:0px;display:inline-block;\"></div><div style=\"background-color:rgb(204,235,197);height:20px;width:20px;margin-bottom:0px;display:inline-block;\"></div><div style=\"background-color:rgb(168,221,181);height:20px;width:20px;margin-bottom:0px;display:inline-block;\"></div><div style=\"background-color:rgb(123,204,196);height:20px;width:20px;margin-bottom:0px;display:inline-block;\"></div><div style=\"background-color:rgb(78,179,211);height:20px;width:20px;margin-bottom:0px;display:inline-block;\"></div><div style=\"background-color:rgb(43,140,190);height:20px;width:20px;margin-bottom:0px;display:inline-block;\"></div><div style=\"background-color:rgb(8,88,158);height:20px;width:20px;margin-bottom:0px;display:inline-block;\"></div></div><div style=\"display:inline-block;padding:10px;\"><div>Greens</div><div style=\"background-color:rgb(247,252,245);height:20px;width:20px;margin-bottom:0px;display:inline-block;\"></div><div style=\"background-color:rgb(229,245,224);height:20px;width:20px;margin-bottom:0px;display:inline-block;\"></div><div style=\"background-color:rgb(199,233,192);height:20px;width:20px;margin-bottom:0px;display:inline-block;\"></div><div style=\"background-color:rgb(161,217,155);height:20px;width:20px;margin-bottom:0px;display:inline-block;\"></div><div style=\"background-color:rgb(116,196,118);height:20px;width:20px;margin-bottom:0px;display:inline-block;\"></div><div style=\"background-color:rgb(65,171,93);height:20px;width:20px;margin-bottom:0px;display:inline-block;\"></div><div style=\"background-color:rgb(35,139,69);height:20px;width:20px;margin-bottom:0px;display:inline-block;\"></div><div style=\"background-color:rgb(0,90,50);height:20px;width:20px;margin-bottom:0px;display:inline-block;\"></div></div><div style=\"display:inline-block;padding:10px;\"><div>Greys</div><div style=\"background-color:rgb(255,255,255);height:20px;width:20px;margin-bottom:0px;display:inline-block;\"></div><div style=\"background-color:rgb(240,240,240);height:20px;width:20px;margin-bottom:0px;display:inline-block;\"></div><div style=\"background-color:rgb(217,217,217);height:20px;width:20px;margin-bottom:0px;display:inline-block;\"></div><div style=\"background-color:rgb(189,189,189);height:20px;width:20px;margin-bottom:0px;display:inline-block;\"></div><div style=\"background-color:rgb(150,150,150);height:20px;width:20px;margin-bottom:0px;display:inline-block;\"></div><div style=\"background-color:rgb(115,115,115);height:20px;width:20px;margin-bottom:0px;display:inline-block;\"></div><div style=\"background-color:rgb(82,82,82);height:20px;width:20px;margin-bottom:0px;display:inline-block;\"></div><div style=\"background-color:rgb(37,37,37);height:20px;width:20px;margin-bottom:0px;display:inline-block;\"></div></div><div style=\"display:inline-block;padding:10px;\"><div>OrRd</div><div style=\"background-color:rgb(255,247,236);height:20px;width:20px;margin-bottom:0px;display:inline-block;\"></div><div style=\"background-color:rgb(254,232,200);height:20px;width:20px;margin-bottom:0px;display:inline-block;\"></div><div style=\"background-color:rgb(253,212,158);height:20px;width:20px;margin-bottom:0px;display:inline-block;\"></div><div style=\"background-color:rgb(253,187,132);height:20px;width:20px;margin-bottom:0px;display:inline-block;\"></div><div style=\"background-color:rgb(252,141,89);height:20px;width:20px;margin-bottom:0px;display:inline-block;\"></div><div style=\"background-color:rgb(239,101,72);height:20px;width:20px;margin-bottom:0px;display:inline-block;\"></div><div style=\"background-color:rgb(215,48,31);height:20px;width:20px;margin-bottom:0px;display:inline-block;\"></div><div style=\"background-color:rgb(153,0,0);height:20px;width:20px;margin-bottom:0px;display:inline-block;\"></div></div><div style=\"display:inline-block;padding:10px;\"><div>Oranges</div><div style=\"background-color:rgb(255,245,235);height:20px;width:20px;margin-bottom:0px;display:inline-block;\"></div><div style=\"background-color:rgb(254,230,206);height:20px;width:20px;margin-bottom:0px;display:inline-block;\"></div><div style=\"background-color:rgb(253,208,162);height:20px;width:20px;margin-bottom:0px;display:inline-block;\"></div><div style=\"background-color:rgb(253,174,107);height:20px;width:20px;margin-bottom:0px;display:inline-block;\"></div><div style=\"background-color:rgb(253,141,60);height:20px;width:20px;margin-bottom:0px;display:inline-block;\"></div><div style=\"background-color:rgb(241,105,19);height:20px;width:20px;margin-bottom:0px;display:inline-block;\"></div><div style=\"background-color:rgb(217,72,1);height:20px;width:20px;margin-bottom:0px;display:inline-block;\"></div><div style=\"background-color:rgb(140,45,4);height:20px;width:20px;margin-bottom:0px;display:inline-block;\"></div></div><div style=\"display:inline-block;padding:10px;\"><div>PuBu</div><div style=\"background-color:rgb(255,247,251);height:20px;width:20px;margin-bottom:0px;display:inline-block;\"></div><div style=\"background-color:rgb(236,231,242);height:20px;width:20px;margin-bottom:0px;display:inline-block;\"></div><div style=\"background-color:rgb(208,209,230);height:20px;width:20px;margin-bottom:0px;display:inline-block;\"></div><div style=\"background-color:rgb(166,189,219);height:20px;width:20px;margin-bottom:0px;display:inline-block;\"></div><div style=\"background-color:rgb(116,169,207);height:20px;width:20px;margin-bottom:0px;display:inline-block;\"></div><div style=\"background-color:rgb(54,144,192);height:20px;width:20px;margin-bottom:0px;display:inline-block;\"></div><div style=\"background-color:rgb(5,112,176);height:20px;width:20px;margin-bottom:0px;display:inline-block;\"></div><div style=\"background-color:rgb(3,78,123);height:20px;width:20px;margin-bottom:0px;display:inline-block;\"></div></div><div style=\"display:inline-block;padding:10px;\"><div>PuBuGn</div><div style=\"background-color:rgb(255,247,251);height:20px;width:20px;margin-bottom:0px;display:inline-block;\"></div><div style=\"background-color:rgb(236,226,240);height:20px;width:20px;margin-bottom:0px;display:inline-block;\"></div><div style=\"background-color:rgb(208,209,230);height:20px;width:20px;margin-bottom:0px;display:inline-block;\"></div><div style=\"background-color:rgb(166,189,219);height:20px;width:20px;margin-bottom:0px;display:inline-block;\"></div><div style=\"background-color:rgb(103,169,207);height:20px;width:20px;margin-bottom:0px;display:inline-block;\"></div><div style=\"background-color:rgb(54,144,192);height:20px;width:20px;margin-bottom:0px;display:inline-block;\"></div><div style=\"background-color:rgb(2,129,138);height:20px;width:20px;margin-bottom:0px;display:inline-block;\"></div><div style=\"background-color:rgb(1,100,80);height:20px;width:20px;margin-bottom:0px;display:inline-block;\"></div></div><div style=\"display:inline-block;padding:10px;\"><div>PuRd</div><div style=\"background-color:rgb(247,244,249);height:20px;width:20px;margin-bottom:0px;display:inline-block;\"></div><div style=\"background-color:rgb(231,225,239);height:20px;width:20px;margin-bottom:0px;display:inline-block;\"></div><div style=\"background-color:rgb(212,185,218);height:20px;width:20px;margin-bottom:0px;display:inline-block;\"></div><div style=\"background-color:rgb(201,148,199);height:20px;width:20px;margin-bottom:0px;display:inline-block;\"></div><div style=\"background-color:rgb(223,101,176);height:20px;width:20px;margin-bottom:0px;display:inline-block;\"></div><div style=\"background-color:rgb(231,41,138);height:20px;width:20px;margin-bottom:0px;display:inline-block;\"></div><div style=\"background-color:rgb(206,18,86);height:20px;width:20px;margin-bottom:0px;display:inline-block;\"></div><div style=\"background-color:rgb(145,0,63);height:20px;width:20px;margin-bottom:0px;display:inline-block;\"></div></div><div style=\"display:inline-block;padding:10px;\"><div>Purples</div><div style=\"background-color:rgb(252,251,253);height:20px;width:20px;margin-bottom:0px;display:inline-block;\"></div><div style=\"background-color:rgb(239,237,245);height:20px;width:20px;margin-bottom:0px;display:inline-block;\"></div><div style=\"background-color:rgb(218,218,235);height:20px;width:20px;margin-bottom:0px;display:inline-block;\"></div><div style=\"background-color:rgb(188,189,220);height:20px;width:20px;margin-bottom:0px;display:inline-block;\"></div><div style=\"background-color:rgb(158,154,200);height:20px;width:20px;margin-bottom:0px;display:inline-block;\"></div><div style=\"background-color:rgb(128,125,186);height:20px;width:20px;margin-bottom:0px;display:inline-block;\"></div><div style=\"background-color:rgb(106,81,163);height:20px;width:20px;margin-bottom:0px;display:inline-block;\"></div><div style=\"background-color:rgb(74,20,134);height:20px;width:20px;margin-bottom:0px;display:inline-block;\"></div></div><div style=\"display:inline-block;padding:10px;\"><div>RdPu</div><div style=\"background-color:rgb(255,247,243);height:20px;width:20px;margin-bottom:0px;display:inline-block;\"></div><div style=\"background-color:rgb(253,224,221);height:20px;width:20px;margin-bottom:0px;display:inline-block;\"></div><div style=\"background-color:rgb(252,197,192);height:20px;width:20px;margin-bottom:0px;display:inline-block;\"></div><div style=\"background-color:rgb(250,159,181);height:20px;width:20px;margin-bottom:0px;display:inline-block;\"></div><div style=\"background-color:rgb(247,104,161);height:20px;width:20px;margin-bottom:0px;display:inline-block;\"></div><div style=\"background-color:rgb(221,52,151);height:20px;width:20px;margin-bottom:0px;display:inline-block;\"></div><div style=\"background-color:rgb(174,1,126);height:20px;width:20px;margin-bottom:0px;display:inline-block;\"></div><div style=\"background-color:rgb(122,1,119);height:20px;width:20px;margin-bottom:0px;display:inline-block;\"></div></div><div style=\"display:inline-block;padding:10px;\"><div>Reds</div><div style=\"background-color:rgb(255,245,240);height:20px;width:20px;margin-bottom:0px;display:inline-block;\"></div><div style=\"background-color:rgb(254,224,210);height:20px;width:20px;margin-bottom:0px;display:inline-block;\"></div><div style=\"background-color:rgb(252,187,161);height:20px;width:20px;margin-bottom:0px;display:inline-block;\"></div><div style=\"background-color:rgb(252,146,114);height:20px;width:20px;margin-bottom:0px;display:inline-block;\"></div><div style=\"background-color:rgb(251,106,74);height:20px;width:20px;margin-bottom:0px;display:inline-block;\"></div><div style=\"background-color:rgb(239,59,44);height:20px;width:20px;margin-bottom:0px;display:inline-block;\"></div><div style=\"background-color:rgb(203,24,29);height:20px;width:20px;margin-bottom:0px;display:inline-block;\"></div><div style=\"background-color:rgb(153,0,13);height:20px;width:20px;margin-bottom:0px;display:inline-block;\"></div></div><div style=\"display:inline-block;padding:10px;\"><div>YlGn</div><div style=\"background-color:rgb(255,255,229);height:20px;width:20px;margin-bottom:0px;display:inline-block;\"></div><div style=\"background-color:rgb(247,252,185);height:20px;width:20px;margin-bottom:0px;display:inline-block;\"></div><div style=\"background-color:rgb(217,240,163);height:20px;width:20px;margin-bottom:0px;display:inline-block;\"></div><div style=\"background-color:rgb(173,221,142);height:20px;width:20px;margin-bottom:0px;display:inline-block;\"></div><div style=\"background-color:rgb(120,198,121);height:20px;width:20px;margin-bottom:0px;display:inline-block;\"></div><div style=\"background-color:rgb(65,171,93);height:20px;width:20px;margin-bottom:0px;display:inline-block;\"></div><div style=\"background-color:rgb(35,132,67);height:20px;width:20px;margin-bottom:0px;display:inline-block;\"></div><div style=\"background-color:rgb(0,90,50);height:20px;width:20px;margin-bottom:0px;display:inline-block;\"></div></div><div style=\"display:inline-block;padding:10px;\"><div>YlGnBu</div><div style=\"background-color:rgb(255,255,217);height:20px;width:20px;margin-bottom:0px;display:inline-block;\"></div><div style=\"background-color:rgb(237,248,177);height:20px;width:20px;margin-bottom:0px;display:inline-block;\"></div><div style=\"background-color:rgb(199,233,180);height:20px;width:20px;margin-bottom:0px;display:inline-block;\"></div><div style=\"background-color:rgb(127,205,187);height:20px;width:20px;margin-bottom:0px;display:inline-block;\"></div><div style=\"background-color:rgb(65,182,196);height:20px;width:20px;margin-bottom:0px;display:inline-block;\"></div><div style=\"background-color:rgb(29,145,192);height:20px;width:20px;margin-bottom:0px;display:inline-block;\"></div><div style=\"background-color:rgb(34,94,168);height:20px;width:20px;margin-bottom:0px;display:inline-block;\"></div><div style=\"background-color:rgb(12,44,132);height:20px;width:20px;margin-bottom:0px;display:inline-block;\"></div></div><div style=\"display:inline-block;padding:10px;\"><div>YlOrBr</div><div style=\"background-color:rgb(255,255,229);height:20px;width:20px;margin-bottom:0px;display:inline-block;\"></div><div style=\"background-color:rgb(255,247,188);height:20px;width:20px;margin-bottom:0px;display:inline-block;\"></div><div style=\"background-color:rgb(254,227,145);height:20px;width:20px;margin-bottom:0px;display:inline-block;\"></div><div style=\"background-color:rgb(254,196,79);height:20px;width:20px;margin-bottom:0px;display:inline-block;\"></div><div style=\"background-color:rgb(254,153,41);height:20px;width:20px;margin-bottom:0px;display:inline-block;\"></div><div style=\"background-color:rgb(236,112,20);height:20px;width:20px;margin-bottom:0px;display:inline-block;\"></div><div style=\"background-color:rgb(204,76,2);height:20px;width:20px;margin-bottom:0px;display:inline-block;\"></div><div style=\"background-color:rgb(140,45,4);height:20px;width:20px;margin-bottom:0px;display:inline-block;\"></div></div><div style=\"display:inline-block;padding:10px;\"><div>YlOrRd</div><div style=\"background-color:rgb(255,255,204);height:20px;width:20px;margin-bottom:0px;display:inline-block;\"></div><div style=\"background-color:rgb(255,237,160);height:20px;width:20px;margin-bottom:0px;display:inline-block;\"></div><div style=\"background-color:rgb(254,217,118);height:20px;width:20px;margin-bottom:0px;display:inline-block;\"></div><div style=\"background-color:rgb(254,178,76);height:20px;width:20px;margin-bottom:0px;display:inline-block;\"></div><div style=\"background-color:rgb(253,141,60);height:20px;width:20px;margin-bottom:0px;display:inline-block;\"></div><div style=\"background-color:rgb(252,78,42);height:20px;width:20px;margin-bottom:0px;display:inline-block;\"></div><div style=\"background-color:rgb(227,26,28);height:20px;width:20px;margin-bottom:0px;display:inline-block;\"></div><div style=\"background-color:rgb(177,0,38);height:20px;width:20px;margin-bottom:0px;display:inline-block;\"></div></div><hr><h3>9 colors</h3><h4>Diverging</h4><div style=\"display:inline-block;padding:10px;\"><div>BrBG</div><div style=\"background-color:rgb(140,81,10);height:20px;width:20px;margin-bottom:0px;display:inline-block;\"></div><div style=\"background-color:rgb(191,129,45);height:20px;width:20px;margin-bottom:0px;display:inline-block;\"></div><div style=\"background-color:rgb(223,194,125);height:20px;width:20px;margin-bottom:0px;display:inline-block;\"></div><div style=\"background-color:rgb(246,232,195);height:20px;width:20px;margin-bottom:0px;display:inline-block;\"></div><div style=\"background-color:rgb(245,245,245);height:20px;width:20px;margin-bottom:0px;display:inline-block;\"></div><div style=\"background-color:rgb(199,234,229);height:20px;width:20px;margin-bottom:0px;display:inline-block;\"></div><div style=\"background-color:rgb(128,205,193);height:20px;width:20px;margin-bottom:0px;display:inline-block;\"></div><div style=\"background-color:rgb(53,151,143);height:20px;width:20px;margin-bottom:0px;display:inline-block;\"></div><div style=\"background-color:rgb(1,102,94);height:20px;width:20px;margin-bottom:0px;display:inline-block;\"></div></div><div style=\"display:inline-block;padding:10px;\"><div>PRGn</div><div style=\"background-color:rgb(118,42,131);height:20px;width:20px;margin-bottom:0px;display:inline-block;\"></div><div style=\"background-color:rgb(153,112,171);height:20px;width:20px;margin-bottom:0px;display:inline-block;\"></div><div style=\"background-color:rgb(194,165,207);height:20px;width:20px;margin-bottom:0px;display:inline-block;\"></div><div style=\"background-color:rgb(231,212,232);height:20px;width:20px;margin-bottom:0px;display:inline-block;\"></div><div style=\"background-color:rgb(247,247,247);height:20px;width:20px;margin-bottom:0px;display:inline-block;\"></div><div style=\"background-color:rgb(217,240,211);height:20px;width:20px;margin-bottom:0px;display:inline-block;\"></div><div style=\"background-color:rgb(166,219,160);height:20px;width:20px;margin-bottom:0px;display:inline-block;\"></div><div style=\"background-color:rgb(90,174,97);height:20px;width:20px;margin-bottom:0px;display:inline-block;\"></div><div style=\"background-color:rgb(27,120,55);height:20px;width:20px;margin-bottom:0px;display:inline-block;\"></div></div><div style=\"display:inline-block;padding:10px;\"><div>PiYG</div><div style=\"background-color:rgb(197,27,125);height:20px;width:20px;margin-bottom:0px;display:inline-block;\"></div><div style=\"background-color:rgb(222,119,174);height:20px;width:20px;margin-bottom:0px;display:inline-block;\"></div><div style=\"background-color:rgb(241,182,218);height:20px;width:20px;margin-bottom:0px;display:inline-block;\"></div><div style=\"background-color:rgb(253,224,239);height:20px;width:20px;margin-bottom:0px;display:inline-block;\"></div><div style=\"background-color:rgb(247,247,247);height:20px;width:20px;margin-bottom:0px;display:inline-block;\"></div><div style=\"background-color:rgb(230,245,208);height:20px;width:20px;margin-bottom:0px;display:inline-block;\"></div><div style=\"background-color:rgb(184,225,134);height:20px;width:20px;margin-bottom:0px;display:inline-block;\"></div><div style=\"background-color:rgb(127,188,65);height:20px;width:20px;margin-bottom:0px;display:inline-block;\"></div><div style=\"background-color:rgb(77,146,33);height:20px;width:20px;margin-bottom:0px;display:inline-block;\"></div></div><div style=\"display:inline-block;padding:10px;\"><div>PuOr</div><div style=\"background-color:rgb(179,88,6);height:20px;width:20px;margin-bottom:0px;display:inline-block;\"></div><div style=\"background-color:rgb(224,130,20);height:20px;width:20px;margin-bottom:0px;display:inline-block;\"></div><div style=\"background-color:rgb(253,184,99);height:20px;width:20px;margin-bottom:0px;display:inline-block;\"></div><div style=\"background-color:rgb(254,224,182);height:20px;width:20px;margin-bottom:0px;display:inline-block;\"></div><div style=\"background-color:rgb(247,247,247);height:20px;width:20px;margin-bottom:0px;display:inline-block;\"></div><div style=\"background-color:rgb(216,218,235);height:20px;width:20px;margin-bottom:0px;display:inline-block;\"></div><div style=\"background-color:rgb(178,171,210);height:20px;width:20px;margin-bottom:0px;display:inline-block;\"></div><div style=\"background-color:rgb(128,115,172);height:20px;width:20px;margin-bottom:0px;display:inline-block;\"></div><div style=\"background-color:rgb(84,39,136);height:20px;width:20px;margin-bottom:0px;display:inline-block;\"></div></div><div style=\"display:inline-block;padding:10px;\"><div>RdBu</div><div style=\"background-color:rgb(178,24,43);height:20px;width:20px;margin-bottom:0px;display:inline-block;\"></div><div style=\"background-color:rgb(214,96,77);height:20px;width:20px;margin-bottom:0px;display:inline-block;\"></div><div style=\"background-color:rgb(244,165,130);height:20px;width:20px;margin-bottom:0px;display:inline-block;\"></div><div style=\"background-color:rgb(253,219,199);height:20px;width:20px;margin-bottom:0px;display:inline-block;\"></div><div style=\"background-color:rgb(247,247,247);height:20px;width:20px;margin-bottom:0px;display:inline-block;\"></div><div style=\"background-color:rgb(209,229,240);height:20px;width:20px;margin-bottom:0px;display:inline-block;\"></div><div style=\"background-color:rgb(146,197,222);height:20px;width:20px;margin-bottom:0px;display:inline-block;\"></div><div style=\"background-color:rgb(67,147,195);height:20px;width:20px;margin-bottom:0px;display:inline-block;\"></div><div style=\"background-color:rgb(33,102,172);height:20px;width:20px;margin-bottom:0px;display:inline-block;\"></div></div><div style=\"display:inline-block;padding:10px;\"><div>RdGy</div><div style=\"background-color:rgb(178,24,43);height:20px;width:20px;margin-bottom:0px;display:inline-block;\"></div><div style=\"background-color:rgb(214,96,77);height:20px;width:20px;margin-bottom:0px;display:inline-block;\"></div><div style=\"background-color:rgb(244,165,130);height:20px;width:20px;margin-bottom:0px;display:inline-block;\"></div><div style=\"background-color:rgb(253,219,199);height:20px;width:20px;margin-bottom:0px;display:inline-block;\"></div><div style=\"background-color:rgb(255,255,255);height:20px;width:20px;margin-bottom:0px;display:inline-block;\"></div><div style=\"background-color:rgb(224,224,224);height:20px;width:20px;margin-bottom:0px;display:inline-block;\"></div><div style=\"background-color:rgb(186,186,186);height:20px;width:20px;margin-bottom:0px;display:inline-block;\"></div><div style=\"background-color:rgb(135,135,135);height:20px;width:20px;margin-bottom:0px;display:inline-block;\"></div><div style=\"background-color:rgb(77,77,77);height:20px;width:20px;margin-bottom:0px;display:inline-block;\"></div></div><div style=\"display:inline-block;padding:10px;\"><div>RdYlBu</div><div style=\"background-color:rgb(215,48,39);height:20px;width:20px;margin-bottom:0px;display:inline-block;\"></div><div style=\"background-color:rgb(244,109,67);height:20px;width:20px;margin-bottom:0px;display:inline-block;\"></div><div style=\"background-color:rgb(253,174,97);height:20px;width:20px;margin-bottom:0px;display:inline-block;\"></div><div style=\"background-color:rgb(254,224,144);height:20px;width:20px;margin-bottom:0px;display:inline-block;\"></div><div style=\"background-color:rgb(255,255,191);height:20px;width:20px;margin-bottom:0px;display:inline-block;\"></div><div style=\"background-color:rgb(224,243,248);height:20px;width:20px;margin-bottom:0px;display:inline-block;\"></div><div style=\"background-color:rgb(171,217,233);height:20px;width:20px;margin-bottom:0px;display:inline-block;\"></div><div style=\"background-color:rgb(116,173,209);height:20px;width:20px;margin-bottom:0px;display:inline-block;\"></div><div style=\"background-color:rgb(69,117,180);height:20px;width:20px;margin-bottom:0px;display:inline-block;\"></div></div><div style=\"display:inline-block;padding:10px;\"><div>RdYlGn</div><div style=\"background-color:rgb(215,48,39);height:20px;width:20px;margin-bottom:0px;display:inline-block;\"></div><div style=\"background-color:rgb(244,109,67);height:20px;width:20px;margin-bottom:0px;display:inline-block;\"></div><div style=\"background-color:rgb(253,174,97);height:20px;width:20px;margin-bottom:0px;display:inline-block;\"></div><div style=\"background-color:rgb(254,224,139);height:20px;width:20px;margin-bottom:0px;display:inline-block;\"></div><div style=\"background-color:rgb(255,255,191);height:20px;width:20px;margin-bottom:0px;display:inline-block;\"></div><div style=\"background-color:rgb(217,239,139);height:20px;width:20px;margin-bottom:0px;display:inline-block;\"></div><div style=\"background-color:rgb(166,217,106);height:20px;width:20px;margin-bottom:0px;display:inline-block;\"></div><div style=\"background-color:rgb(102,189,99);height:20px;width:20px;margin-bottom:0px;display:inline-block;\"></div><div style=\"background-color:rgb(26,152,80);height:20px;width:20px;margin-bottom:0px;display:inline-block;\"></div></div><div style=\"display:inline-block;padding:10px;\"><div>Spectral</div><div style=\"background-color:rgb(213,62,79);height:20px;width:20px;margin-bottom:0px;display:inline-block;\"></div><div style=\"background-color:rgb(244,109,67);height:20px;width:20px;margin-bottom:0px;display:inline-block;\"></div><div style=\"background-color:rgb(253,174,97);height:20px;width:20px;margin-bottom:0px;display:inline-block;\"></div><div style=\"background-color:rgb(254,224,139);height:20px;width:20px;margin-bottom:0px;display:inline-block;\"></div><div style=\"background-color:rgb(255,255,191);height:20px;width:20px;margin-bottom:0px;display:inline-block;\"></div><div style=\"background-color:rgb(230,245,152);height:20px;width:20px;margin-bottom:0px;display:inline-block;\"></div><div style=\"background-color:rgb(171,221,164);height:20px;width:20px;margin-bottom:0px;display:inline-block;\"></div><div style=\"background-color:rgb(102,194,165);height:20px;width:20px;margin-bottom:0px;display:inline-block;\"></div><div style=\"background-color:rgb(50,136,189);height:20px;width:20px;margin-bottom:0px;display:inline-block;\"></div></div><h4>Qualitative</h4><div style=\"display:inline-block;padding:10px;\"><div>Paired</div><div style=\"background-color:rgb(166,206,227);height:20px;width:20px;margin-bottom:0px;display:inline-block;\"></div><div style=\"background-color:rgb(31,120,180);height:20px;width:20px;margin-bottom:0px;display:inline-block;\"></div><div style=\"background-color:rgb(178,223,138);height:20px;width:20px;margin-bottom:0px;display:inline-block;\"></div><div style=\"background-color:rgb(51,160,44);height:20px;width:20px;margin-bottom:0px;display:inline-block;\"></div><div style=\"background-color:rgb(251,154,153);height:20px;width:20px;margin-bottom:0px;display:inline-block;\"></div><div style=\"background-color:rgb(227,26,28);height:20px;width:20px;margin-bottom:0px;display:inline-block;\"></div><div style=\"background-color:rgb(253,191,111);height:20px;width:20px;margin-bottom:0px;display:inline-block;\"></div><div style=\"background-color:rgb(255,127,0);height:20px;width:20px;margin-bottom:0px;display:inline-block;\"></div><div style=\"background-color:rgb(202,178,214);height:20px;width:20px;margin-bottom:0px;display:inline-block;\"></div></div><div style=\"display:inline-block;padding:10px;\"><div>Pastel1</div><div style=\"background-color:rgb(251,180,174);height:20px;width:20px;margin-bottom:0px;display:inline-block;\"></div><div style=\"background-color:rgb(179,205,227);height:20px;width:20px;margin-bottom:0px;display:inline-block;\"></div><div style=\"background-color:rgb(204,235,197);height:20px;width:20px;margin-bottom:0px;display:inline-block;\"></div><div style=\"background-color:rgb(222,203,228);height:20px;width:20px;margin-bottom:0px;display:inline-block;\"></div><div style=\"background-color:rgb(254,217,166);height:20px;width:20px;margin-bottom:0px;display:inline-block;\"></div><div style=\"background-color:rgb(255,255,204);height:20px;width:20px;margin-bottom:0px;display:inline-block;\"></div><div style=\"background-color:rgb(229,216,189);height:20px;width:20px;margin-bottom:0px;display:inline-block;\"></div><div style=\"background-color:rgb(253,218,236);height:20px;width:20px;margin-bottom:0px;display:inline-block;\"></div><div style=\"background-color:rgb(242,242,242);height:20px;width:20px;margin-bottom:0px;display:inline-block;\"></div></div><div style=\"display:inline-block;padding:10px;\"><div>Set1</div><div style=\"background-color:rgb(228,26,28);height:20px;width:20px;margin-bottom:0px;display:inline-block;\"></div><div style=\"background-color:rgb(55,126,184);height:20px;width:20px;margin-bottom:0px;display:inline-block;\"></div><div style=\"background-color:rgb(77,175,74);height:20px;width:20px;margin-bottom:0px;display:inline-block;\"></div><div style=\"background-color:rgb(152,78,163);height:20px;width:20px;margin-bottom:0px;display:inline-block;\"></div><div style=\"background-color:rgb(255,127,0);height:20px;width:20px;margin-bottom:0px;display:inline-block;\"></div><div style=\"background-color:rgb(255,255,51);height:20px;width:20px;margin-bottom:0px;display:inline-block;\"></div><div style=\"background-color:rgb(166,86,40);height:20px;width:20px;margin-bottom:0px;display:inline-block;\"></div><div style=\"background-color:rgb(247,129,191);height:20px;width:20px;margin-bottom:0px;display:inline-block;\"></div><div style=\"background-color:rgb(153,153,153);height:20px;width:20px;margin-bottom:0px;display:inline-block;\"></div></div><div style=\"display:inline-block;padding:10px;\"><div>Set3</div><div style=\"background-color:rgb(141,211,199);height:20px;width:20px;margin-bottom:0px;display:inline-block;\"></div><div style=\"background-color:rgb(255,255,179);height:20px;width:20px;margin-bottom:0px;display:inline-block;\"></div><div style=\"background-color:rgb(190,186,218);height:20px;width:20px;margin-bottom:0px;display:inline-block;\"></div><div style=\"background-color:rgb(251,128,114);height:20px;width:20px;margin-bottom:0px;display:inline-block;\"></div><div style=\"background-color:rgb(128,177,211);height:20px;width:20px;margin-bottom:0px;display:inline-block;\"></div><div style=\"background-color:rgb(253,180,98);height:20px;width:20px;margin-bottom:0px;display:inline-block;\"></div><div style=\"background-color:rgb(179,222,105);height:20px;width:20px;margin-bottom:0px;display:inline-block;\"></div><div style=\"background-color:rgb(252,205,229);height:20px;width:20px;margin-bottom:0px;display:inline-block;\"></div><div style=\"background-color:rgb(217,217,217);height:20px;width:20px;margin-bottom:0px;display:inline-block;\"></div></div><h4>Sequential</h4><div style=\"display:inline-block;padding:10px;\"><div>Blues</div><div style=\"background-color:rgb(247,251,255);height:20px;width:20px;margin-bottom:0px;display:inline-block;\"></div><div style=\"background-color:rgb(222,235,247);height:20px;width:20px;margin-bottom:0px;display:inline-block;\"></div><div style=\"background-color:rgb(198,219,239);height:20px;width:20px;margin-bottom:0px;display:inline-block;\"></div><div style=\"background-color:rgb(158,202,225);height:20px;width:20px;margin-bottom:0px;display:inline-block;\"></div><div style=\"background-color:rgb(107,174,214);height:20px;width:20px;margin-bottom:0px;display:inline-block;\"></div><div style=\"background-color:rgb(66,146,198);height:20px;width:20px;margin-bottom:0px;display:inline-block;\"></div><div style=\"background-color:rgb(33,113,181);height:20px;width:20px;margin-bottom:0px;display:inline-block;\"></div><div style=\"background-color:rgb(8,81,156);height:20px;width:20px;margin-bottom:0px;display:inline-block;\"></div><div style=\"background-color:rgb(8,48,107);height:20px;width:20px;margin-bottom:0px;display:inline-block;\"></div></div><div style=\"display:inline-block;padding:10px;\"><div>BuGn</div><div style=\"background-color:rgb(247,252,253);height:20px;width:20px;margin-bottom:0px;display:inline-block;\"></div><div style=\"background-color:rgb(229,245,249);height:20px;width:20px;margin-bottom:0px;display:inline-block;\"></div><div style=\"background-color:rgb(204,236,230);height:20px;width:20px;margin-bottom:0px;display:inline-block;\"></div><div style=\"background-color:rgb(153,216,201);height:20px;width:20px;margin-bottom:0px;display:inline-block;\"></div><div style=\"background-color:rgb(102,194,164);height:20px;width:20px;margin-bottom:0px;display:inline-block;\"></div><div style=\"background-color:rgb(65,174,118);height:20px;width:20px;margin-bottom:0px;display:inline-block;\"></div><div style=\"background-color:rgb(35,139,69);height:20px;width:20px;margin-bottom:0px;display:inline-block;\"></div><div style=\"background-color:rgb(0,109,44);height:20px;width:20px;margin-bottom:0px;display:inline-block;\"></div><div style=\"background-color:rgb(0,68,27);height:20px;width:20px;margin-bottom:0px;display:inline-block;\"></div></div><div style=\"display:inline-block;padding:10px;\"><div>BuPu</div><div style=\"background-color:rgb(247,252,253);height:20px;width:20px;margin-bottom:0px;display:inline-block;\"></div><div style=\"background-color:rgb(224,236,244);height:20px;width:20px;margin-bottom:0px;display:inline-block;\"></div><div style=\"background-color:rgb(191,211,230);height:20px;width:20px;margin-bottom:0px;display:inline-block;\"></div><div style=\"background-color:rgb(158,188,218);height:20px;width:20px;margin-bottom:0px;display:inline-block;\"></div><div style=\"background-color:rgb(140,150,198);height:20px;width:20px;margin-bottom:0px;display:inline-block;\"></div><div style=\"background-color:rgb(140,107,177);height:20px;width:20px;margin-bottom:0px;display:inline-block;\"></div><div style=\"background-color:rgb(136,65,157);height:20px;width:20px;margin-bottom:0px;display:inline-block;\"></div><div style=\"background-color:rgb(129,15,124);height:20px;width:20px;margin-bottom:0px;display:inline-block;\"></div><div style=\"background-color:rgb(77,0,75);height:20px;width:20px;margin-bottom:0px;display:inline-block;\"></div></div><div style=\"display:inline-block;padding:10px;\"><div>GnBu</div><div style=\"background-color:rgb(247,252,240);height:20px;width:20px;margin-bottom:0px;display:inline-block;\"></div><div style=\"background-color:rgb(224,243,219);height:20px;width:20px;margin-bottom:0px;display:inline-block;\"></div><div style=\"background-color:rgb(204,235,197);height:20px;width:20px;margin-bottom:0px;display:inline-block;\"></div><div style=\"background-color:rgb(168,221,181);height:20px;width:20px;margin-bottom:0px;display:inline-block;\"></div><div style=\"background-color:rgb(123,204,196);height:20px;width:20px;margin-bottom:0px;display:inline-block;\"></div><div style=\"background-color:rgb(78,179,211);height:20px;width:20px;margin-bottom:0px;display:inline-block;\"></div><div style=\"background-color:rgb(43,140,190);height:20px;width:20px;margin-bottom:0px;display:inline-block;\"></div><div style=\"background-color:rgb(8,104,172);height:20px;width:20px;margin-bottom:0px;display:inline-block;\"></div><div style=\"background-color:rgb(8,64,129);height:20px;width:20px;margin-bottom:0px;display:inline-block;\"></div></div><div style=\"display:inline-block;padding:10px;\"><div>Greens</div><div style=\"background-color:rgb(247,252,245);height:20px;width:20px;margin-bottom:0px;display:inline-block;\"></div><div style=\"background-color:rgb(229,245,224);height:20px;width:20px;margin-bottom:0px;display:inline-block;\"></div><div style=\"background-color:rgb(199,233,192);height:20px;width:20px;margin-bottom:0px;display:inline-block;\"></div><div style=\"background-color:rgb(161,217,155);height:20px;width:20px;margin-bottom:0px;display:inline-block;\"></div><div style=\"background-color:rgb(116,196,118);height:20px;width:20px;margin-bottom:0px;display:inline-block;\"></div><div style=\"background-color:rgb(65,171,93);height:20px;width:20px;margin-bottom:0px;display:inline-block;\"></div><div style=\"background-color:rgb(35,139,69);height:20px;width:20px;margin-bottom:0px;display:inline-block;\"></div><div style=\"background-color:rgb(0,109,44);height:20px;width:20px;margin-bottom:0px;display:inline-block;\"></div><div style=\"background-color:rgb(0,68,27);height:20px;width:20px;margin-bottom:0px;display:inline-block;\"></div></div><div style=\"display:inline-block;padding:10px;\"><div>Greys</div><div style=\"background-color:rgb(255,255,255);height:20px;width:20px;margin-bottom:0px;display:inline-block;\"></div><div style=\"background-color:rgb(240,240,240);height:20px;width:20px;margin-bottom:0px;display:inline-block;\"></div><div style=\"background-color:rgb(217,217,217);height:20px;width:20px;margin-bottom:0px;display:inline-block;\"></div><div style=\"background-color:rgb(189,189,189);height:20px;width:20px;margin-bottom:0px;display:inline-block;\"></div><div style=\"background-color:rgb(150,150,150);height:20px;width:20px;margin-bottom:0px;display:inline-block;\"></div><div style=\"background-color:rgb(115,115,115);height:20px;width:20px;margin-bottom:0px;display:inline-block;\"></div><div style=\"background-color:rgb(82,82,82);height:20px;width:20px;margin-bottom:0px;display:inline-block;\"></div><div style=\"background-color:rgb(37,37,37);height:20px;width:20px;margin-bottom:0px;display:inline-block;\"></div><div style=\"background-color:rgb(0,0,0);height:20px;width:20px;margin-bottom:0px;display:inline-block;\"></div></div><div style=\"display:inline-block;padding:10px;\"><div>OrRd</div><div style=\"background-color:rgb(255,247,236);height:20px;width:20px;margin-bottom:0px;display:inline-block;\"></div><div style=\"background-color:rgb(254,232,200);height:20px;width:20px;margin-bottom:0px;display:inline-block;\"></div><div style=\"background-color:rgb(253,212,158);height:20px;width:20px;margin-bottom:0px;display:inline-block;\"></div><div style=\"background-color:rgb(253,187,132);height:20px;width:20px;margin-bottom:0px;display:inline-block;\"></div><div style=\"background-color:rgb(252,141,89);height:20px;width:20px;margin-bottom:0px;display:inline-block;\"></div><div style=\"background-color:rgb(239,101,72);height:20px;width:20px;margin-bottom:0px;display:inline-block;\"></div><div style=\"background-color:rgb(215,48,31);height:20px;width:20px;margin-bottom:0px;display:inline-block;\"></div><div style=\"background-color:rgb(179,0,0);height:20px;width:20px;margin-bottom:0px;display:inline-block;\"></div><div style=\"background-color:rgb(127,0,0);height:20px;width:20px;margin-bottom:0px;display:inline-block;\"></div></div><div style=\"display:inline-block;padding:10px;\"><div>Oranges</div><div style=\"background-color:rgb(255,245,235);height:20px;width:20px;margin-bottom:0px;display:inline-block;\"></div><div style=\"background-color:rgb(254,230,206);height:20px;width:20px;margin-bottom:0px;display:inline-block;\"></div><div style=\"background-color:rgb(253,208,162);height:20px;width:20px;margin-bottom:0px;display:inline-block;\"></div><div style=\"background-color:rgb(253,174,107);height:20px;width:20px;margin-bottom:0px;display:inline-block;\"></div><div style=\"background-color:rgb(253,141,60);height:20px;width:20px;margin-bottom:0px;display:inline-block;\"></div><div style=\"background-color:rgb(241,105,19);height:20px;width:20px;margin-bottom:0px;display:inline-block;\"></div><div style=\"background-color:rgb(217,72,1);height:20px;width:20px;margin-bottom:0px;display:inline-block;\"></div><div style=\"background-color:rgb(166,54,3);height:20px;width:20px;margin-bottom:0px;display:inline-block;\"></div><div style=\"background-color:rgb(127,39,4);height:20px;width:20px;margin-bottom:0px;display:inline-block;\"></div></div><div style=\"display:inline-block;padding:10px;\"><div>PuBu</div><div style=\"background-color:rgb(255,247,251);height:20px;width:20px;margin-bottom:0px;display:inline-block;\"></div><div style=\"background-color:rgb(236,231,242);height:20px;width:20px;margin-bottom:0px;display:inline-block;\"></div><div style=\"background-color:rgb(208,209,230);height:20px;width:20px;margin-bottom:0px;display:inline-block;\"></div><div style=\"background-color:rgb(166,189,219);height:20px;width:20px;margin-bottom:0px;display:inline-block;\"></div><div style=\"background-color:rgb(116,169,207);height:20px;width:20px;margin-bottom:0px;display:inline-block;\"></div><div style=\"background-color:rgb(54,144,192);height:20px;width:20px;margin-bottom:0px;display:inline-block;\"></div><div style=\"background-color:rgb(5,112,176);height:20px;width:20px;margin-bottom:0px;display:inline-block;\"></div><div style=\"background-color:rgb(4,90,141);height:20px;width:20px;margin-bottom:0px;display:inline-block;\"></div><div style=\"background-color:rgb(2,56,88);height:20px;width:20px;margin-bottom:0px;display:inline-block;\"></div></div><div style=\"display:inline-block;padding:10px;\"><div>PuBuGn</div><div style=\"background-color:rgb(255,247,251);height:20px;width:20px;margin-bottom:0px;display:inline-block;\"></div><div style=\"background-color:rgb(236,226,240);height:20px;width:20px;margin-bottom:0px;display:inline-block;\"></div><div style=\"background-color:rgb(208,209,230);height:20px;width:20px;margin-bottom:0px;display:inline-block;\"></div><div style=\"background-color:rgb(166,189,219);height:20px;width:20px;margin-bottom:0px;display:inline-block;\"></div><div style=\"background-color:rgb(103,169,207);height:20px;width:20px;margin-bottom:0px;display:inline-block;\"></div><div style=\"background-color:rgb(54,144,192);height:20px;width:20px;margin-bottom:0px;display:inline-block;\"></div><div style=\"background-color:rgb(2,129,138);height:20px;width:20px;margin-bottom:0px;display:inline-block;\"></div><div style=\"background-color:rgb(1,108,89);height:20px;width:20px;margin-bottom:0px;display:inline-block;\"></div><div style=\"background-color:rgb(1,70,54);height:20px;width:20px;margin-bottom:0px;display:inline-block;\"></div></div><div style=\"display:inline-block;padding:10px;\"><div>PuRd</div><div style=\"background-color:rgb(247,244,249);height:20px;width:20px;margin-bottom:0px;display:inline-block;\"></div><div style=\"background-color:rgb(231,225,239);height:20px;width:20px;margin-bottom:0px;display:inline-block;\"></div><div style=\"background-color:rgb(212,185,218);height:20px;width:20px;margin-bottom:0px;display:inline-block;\"></div><div style=\"background-color:rgb(201,148,199);height:20px;width:20px;margin-bottom:0px;display:inline-block;\"></div><div style=\"background-color:rgb(223,101,176);height:20px;width:20px;margin-bottom:0px;display:inline-block;\"></div><div style=\"background-color:rgb(231,41,138);height:20px;width:20px;margin-bottom:0px;display:inline-block;\"></div><div style=\"background-color:rgb(206,18,86);height:20px;width:20px;margin-bottom:0px;display:inline-block;\"></div><div style=\"background-color:rgb(152,0,67);height:20px;width:20px;margin-bottom:0px;display:inline-block;\"></div><div style=\"background-color:rgb(103,0,31);height:20px;width:20px;margin-bottom:0px;display:inline-block;\"></div></div><div style=\"display:inline-block;padding:10px;\"><div>Purples</div><div style=\"background-color:rgb(252,251,253);height:20px;width:20px;margin-bottom:0px;display:inline-block;\"></div><div style=\"background-color:rgb(239,237,245);height:20px;width:20px;margin-bottom:0px;display:inline-block;\"></div><div style=\"background-color:rgb(218,218,235);height:20px;width:20px;margin-bottom:0px;display:inline-block;\"></div><div style=\"background-color:rgb(188,189,220);height:20px;width:20px;margin-bottom:0px;display:inline-block;\"></div><div style=\"background-color:rgb(158,154,200);height:20px;width:20px;margin-bottom:0px;display:inline-block;\"></div><div style=\"background-color:rgb(128,125,186);height:20px;width:20px;margin-bottom:0px;display:inline-block;\"></div><div style=\"background-color:rgb(106,81,163);height:20px;width:20px;margin-bottom:0px;display:inline-block;\"></div><div style=\"background-color:rgb(84,39,143);height:20px;width:20px;margin-bottom:0px;display:inline-block;\"></div><div style=\"background-color:rgb(63,0,125);height:20px;width:20px;margin-bottom:0px;display:inline-block;\"></div></div><div style=\"display:inline-block;padding:10px;\"><div>RdPu</div><div style=\"background-color:rgb(255,247,243);height:20px;width:20px;margin-bottom:0px;display:inline-block;\"></div><div style=\"background-color:rgb(253,224,221);height:20px;width:20px;margin-bottom:0px;display:inline-block;\"></div><div style=\"background-color:rgb(252,197,192);height:20px;width:20px;margin-bottom:0px;display:inline-block;\"></div><div style=\"background-color:rgb(250,159,181);height:20px;width:20px;margin-bottom:0px;display:inline-block;\"></div><div style=\"background-color:rgb(247,104,161);height:20px;width:20px;margin-bottom:0px;display:inline-block;\"></div><div style=\"background-color:rgb(221,52,151);height:20px;width:20px;margin-bottom:0px;display:inline-block;\"></div><div style=\"background-color:rgb(174,1,126);height:20px;width:20px;margin-bottom:0px;display:inline-block;\"></div><div style=\"background-color:rgb(122,1,119);height:20px;width:20px;margin-bottom:0px;display:inline-block;\"></div><div style=\"background-color:rgb(73,0,106);height:20px;width:20px;margin-bottom:0px;display:inline-block;\"></div></div><div style=\"display:inline-block;padding:10px;\"><div>Reds</div><div style=\"background-color:rgb(255,245,240);height:20px;width:20px;margin-bottom:0px;display:inline-block;\"></div><div style=\"background-color:rgb(254,224,210);height:20px;width:20px;margin-bottom:0px;display:inline-block;\"></div><div style=\"background-color:rgb(252,187,161);height:20px;width:20px;margin-bottom:0px;display:inline-block;\"></div><div style=\"background-color:rgb(252,146,114);height:20px;width:20px;margin-bottom:0px;display:inline-block;\"></div><div style=\"background-color:rgb(251,106,74);height:20px;width:20px;margin-bottom:0px;display:inline-block;\"></div><div style=\"background-color:rgb(239,59,44);height:20px;width:20px;margin-bottom:0px;display:inline-block;\"></div><div style=\"background-color:rgb(203,24,29);height:20px;width:20px;margin-bottom:0px;display:inline-block;\"></div><div style=\"background-color:rgb(165,15,21);height:20px;width:20px;margin-bottom:0px;display:inline-block;\"></div><div style=\"background-color:rgb(103,0,13);height:20px;width:20px;margin-bottom:0px;display:inline-block;\"></div></div><div style=\"display:inline-block;padding:10px;\"><div>YlGn</div><div style=\"background-color:rgb(255,255,229);height:20px;width:20px;margin-bottom:0px;display:inline-block;\"></div><div style=\"background-color:rgb(247,252,185);height:20px;width:20px;margin-bottom:0px;display:inline-block;\"></div><div style=\"background-color:rgb(217,240,163);height:20px;width:20px;margin-bottom:0px;display:inline-block;\"></div><div style=\"background-color:rgb(173,221,142);height:20px;width:20px;margin-bottom:0px;display:inline-block;\"></div><div style=\"background-color:rgb(120,198,121);height:20px;width:20px;margin-bottom:0px;display:inline-block;\"></div><div style=\"background-color:rgb(65,171,93);height:20px;width:20px;margin-bottom:0px;display:inline-block;\"></div><div style=\"background-color:rgb(35,132,67);height:20px;width:20px;margin-bottom:0px;display:inline-block;\"></div><div style=\"background-color:rgb(0,104,55);height:20px;width:20px;margin-bottom:0px;display:inline-block;\"></div><div style=\"background-color:rgb(0,69,41);height:20px;width:20px;margin-bottom:0px;display:inline-block;\"></div></div><div style=\"display:inline-block;padding:10px;\"><div>YlGnBu</div><div style=\"background-color:rgb(255,255,217);height:20px;width:20px;margin-bottom:0px;display:inline-block;\"></div><div style=\"background-color:rgb(237,248,177);height:20px;width:20px;margin-bottom:0px;display:inline-block;\"></div><div style=\"background-color:rgb(199,233,180);height:20px;width:20px;margin-bottom:0px;display:inline-block;\"></div><div style=\"background-color:rgb(127,205,187);height:20px;width:20px;margin-bottom:0px;display:inline-block;\"></div><div style=\"background-color:rgb(65,182,196);height:20px;width:20px;margin-bottom:0px;display:inline-block;\"></div><div style=\"background-color:rgb(29,145,192);height:20px;width:20px;margin-bottom:0px;display:inline-block;\"></div><div style=\"background-color:rgb(34,94,168);height:20px;width:20px;margin-bottom:0px;display:inline-block;\"></div><div style=\"background-color:rgb(37,52,148);height:20px;width:20px;margin-bottom:0px;display:inline-block;\"></div><div style=\"background-color:rgb(8,29,88);height:20px;width:20px;margin-bottom:0px;display:inline-block;\"></div></div><div style=\"display:inline-block;padding:10px;\"><div>YlOrBr</div><div style=\"background-color:rgb(255,255,229);height:20px;width:20px;margin-bottom:0px;display:inline-block;\"></div><div style=\"background-color:rgb(255,247,188);height:20px;width:20px;margin-bottom:0px;display:inline-block;\"></div><div style=\"background-color:rgb(254,227,145);height:20px;width:20px;margin-bottom:0px;display:inline-block;\"></div><div style=\"background-color:rgb(254,196,79);height:20px;width:20px;margin-bottom:0px;display:inline-block;\"></div><div style=\"background-color:rgb(254,153,41);height:20px;width:20px;margin-bottom:0px;display:inline-block;\"></div><div style=\"background-color:rgb(236,112,20);height:20px;width:20px;margin-bottom:0px;display:inline-block;\"></div><div style=\"background-color:rgb(204,76,2);height:20px;width:20px;margin-bottom:0px;display:inline-block;\"></div><div style=\"background-color:rgb(153,52,4);height:20px;width:20px;margin-bottom:0px;display:inline-block;\"></div><div style=\"background-color:rgb(102,37,6);height:20px;width:20px;margin-bottom:0px;display:inline-block;\"></div></div><div style=\"display:inline-block;padding:10px;\"><div>YlOrRd</div><div style=\"background-color:rgb(255,255,204);height:20px;width:20px;margin-bottom:0px;display:inline-block;\"></div><div style=\"background-color:rgb(255,237,160);height:20px;width:20px;margin-bottom:0px;display:inline-block;\"></div><div style=\"background-color:rgb(254,217,118);height:20px;width:20px;margin-bottom:0px;display:inline-block;\"></div><div style=\"background-color:rgb(254,178,76);height:20px;width:20px;margin-bottom:0px;display:inline-block;\"></div><div style=\"background-color:rgb(253,141,60);height:20px;width:20px;margin-bottom:0px;display:inline-block;\"></div><div style=\"background-color:rgb(252,78,42);height:20px;width:20px;margin-bottom:0px;display:inline-block;\"></div><div style=\"background-color:rgb(227,26,28);height:20px;width:20px;margin-bottom:0px;display:inline-block;\"></div><div style=\"background-color:rgb(189,0,38);height:20px;width:20px;margin-bottom:0px;display:inline-block;\"></div><div style=\"background-color:rgb(128,0,38);height:20px;width:20px;margin-bottom:0px;display:inline-block;\"></div></div>"
      ],
      "text/plain": [
       "<IPython.core.display.HTML object>"
      ]
     },
     "execution_count": 1040,
     "metadata": {},
     "output_type": "execute_result"
    }
   ],
   "source": [
    "!pip install colorlover\n",
    "import colorlover as cl\n",
    "from IPython.display import HTML\n",
    "HTML(cl.to_html( cl.scales ))"
   ]
  }
 ],
 "metadata": {
  "kernelspec": {
   "display_name": "Python 3",
   "language": "python",
   "name": "python3"
  },
  "language_info": {
   "codemirror_mode": {
    "name": "ipython",
    "version": 3
   },
   "file_extension": ".py",
   "mimetype": "text/x-python",
   "name": "python",
   "nbconvert_exporter": "python",
   "pygments_lexer": "ipython3",
   "version": "3.7.6"
  }
 },
 "nbformat": 4,
 "nbformat_minor": 4
}
